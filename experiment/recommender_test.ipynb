{
 "cells": [
  {
   "cell_type": "code",
   "execution_count": 1,
   "id": "5cf25a7a",
   "metadata": {
    "id": "5cf25a7a"
   },
   "outputs": [],
   "source": [
    "import numpy as np\n",
    "import random\n",
    "import pickle\n"
   ]
  },
  {
   "cell_type": "code",
   "execution_count": 2,
   "id": "0uOhNfj-5bqJ",
   "metadata": {
    "colab": {
     "base_uri": "https://localhost:8080/"
    },
    "id": "0uOhNfj-5bqJ",
    "outputId": "967af87c-5ee7-42ff-eaa8-a9a31f09ff3f"
   },
   "outputs": [],
   "source": [
    "# !pip install pyspark"
   ]
  },
  {
   "cell_type": "code",
   "execution_count": 2,
   "id": "87jhhCqX4vtb",
   "metadata": {
    "id": "87jhhCqX4vtb"
   },
   "outputs": [
    {
     "name": "stdout",
     "output_type": "stream",
     "text": [
      "22/12/18 08:33:43 WARN SparkSession: Using an existing Spark session; only runtime SQL configurations will take effect.\n"
     ]
    }
   ],
   "source": [
    "from pyspark.sql import SparkSession\n",
    "spark = SparkSession\\\n",
    "    .builder\\\n",
    "    .appName(\"recommender\")\\\n",
    "    .getOrCreate()\n",
    "sc = spark.sparkContext"
   ]
  },
  {
   "cell_type": "code",
   "execution_count": 5,
   "id": "c854e0c9",
   "metadata": {
    "id": "c854e0c9"
   },
   "outputs": [
    {
     "name": "stderr",
     "output_type": "stream",
     "text": [
      "                                                                                \r"
     ]
    }
   ],
   "source": [
    "data = sc.textFile(\"../data/ml-latest-small/ratings.csv\")\n",
    "originRDD = data.map(\n",
    "  lambda l: l.split(',')\n",
    ")\n",
    "head = originRDD.first()\n",
    "originRDD = originRDD.filter(lambda x: x!= head)\\\n",
    ".map(\n",
    "  lambda l: (int(l[0]), int(l[1]), float(l[2]))\n",
    ")\n"
   ]
  },
  {
   "cell_type": "code",
   "execution_count": 7,
   "id": "1510f692",
   "metadata": {},
   "outputs": [],
   "source": [
    "trainRDD, testRDD = originRDD.randomSplit([0.8,0.2], 42)"
   ]
  },
  {
   "cell_type": "code",
   "execution_count": 9,
   "id": "5fc114ae",
   "metadata": {},
   "outputs": [],
   "source": [
    "from recommenders.self_recommender import DSGD, ALS"
   ]
  },
  {
   "cell_type": "code",
   "execution_count": 7,
   "id": "158b35dc",
   "metadata": {},
   "outputs": [],
   "source": [
    "# model = ALS(num_factor=10, max_iter=10, lambd=10)\n",
    "# model.train(sc, originRDD, trainRDD, testRDD)\n",
    "# model.plot('ALS nfactor=10, lambda=10')"
   ]
  },
  {
   "cell_type": "code",
   "execution_count": 10,
   "id": "979230f7",
   "metadata": {},
   "outputs": [
    {
     "name": "stderr",
     "output_type": "stream",
     "text": [
      "/home/noing/git/recommender_implement_with_spark/experiment/recommenders/self_recommender.py:51: RuntimeWarning: overflow encountered in add\n",
      "  sse = R.map(lambda x: (x[2] - w.value[x[0]].dot(h.value[x[1]].T))**2 ).reduce(lambda x,y: x+y)\n",
      "[Stage 17:=============================>                            (4 + 4) / 8]\r"
     ]
    },
    {
     "name": "stdout",
     "output_type": "stream",
     "text": [
      "22/12/18 08:47:39 ERROR PythonRunner: Python worker exited unexpectedly (crashed)\n",
      "org.apache.spark.api.python.PythonException: Traceback (most recent call last):\n",
      "  File \"/home/noing/data_framework/spark-3.3.0-bin-hadoop3/python/lib/pyspark.zip/pyspark/worker.py\", line 666, in main\n",
      "    eval_type = read_int(infile)\n",
      "  File \"/home/noing/data_framework/spark-3.3.0-bin-hadoop3/python/lib/pyspark.zip/pyspark/serializers.py\", line 595, in read_int\n",
      "    raise EOFError\n",
      "EOFError\n",
      "\n",
      "\tat org.apache.spark.api.python.BasePythonRunner$ReaderIterator.handlePythonException(PythonRunner.scala:559)\n",
      "\tat org.apache.spark.api.python.PythonRunner$$anon$3.read(PythonRunner.scala:765)\n",
      "\tat org.apache.spark.api.python.PythonRunner$$anon$3.read(PythonRunner.scala:747)\n",
      "\tat org.apache.spark.api.python.BasePythonRunner$ReaderIterator.hasNext(PythonRunner.scala:512)\n",
      "\tat org.apache.spark.InterruptibleIterator.hasNext(InterruptibleIterator.scala:37)\n",
      "\tat scala.collection.Iterator$GroupedIterator.fill(Iterator.scala:1211)\n",
      "\tat scala.collection.Iterator$GroupedIterator.hasNext(Iterator.scala:1217)\n",
      "\tat scala.collection.Iterator$$anon$10.hasNext(Iterator.scala:460)\n",
      "\tat org.apache.spark.shuffle.sort.BypassMergeSortShuffleWriter.write(BypassMergeSortShuffleWriter.java:140)\n",
      "\tat org.apache.spark.shuffle.ShuffleWriteProcessor.write(ShuffleWriteProcessor.scala:59)\n",
      "\tat org.apache.spark.scheduler.ShuffleMapTask.runTask(ShuffleMapTask.scala:99)\n",
      "\tat org.apache.spark.scheduler.ShuffleMapTask.runTask(ShuffleMapTask.scala:52)\n",
      "\tat org.apache.spark.scheduler.Task.run(Task.scala:136)\n",
      "\tat org.apache.spark.executor.Executor$TaskRunner.$anonfun$run$3(Executor.scala:548)\n",
      "\tat org.apache.spark.util.Utils$.tryWithSafeFinally(Utils.scala:1504)\n",
      "\tat org.apache.spark.executor.Executor$TaskRunner.run(Executor.scala:551)\n",
      "\tat java.util.concurrent.ThreadPoolExecutor.runWorker(ThreadPoolExecutor.java:1149)\n",
      "\tat java.util.concurrent.ThreadPoolExecutor$Worker.run(ThreadPoolExecutor.java:624)\n",
      "\tat java.lang.Thread.run(Thread.java:750)\n",
      "Caused by: org.apache.spark.api.python.PythonException: Traceback (most recent call last):\n",
      "  File \"/home/noing/data_framework/spark-3.3.0-bin-hadoop3/python/lib/pyspark.zip/pyspark/worker.py\", line 686, in main\n",
      "    process()\n",
      "  File \"/home/noing/data_framework/spark-3.3.0-bin-hadoop3/python/lib/pyspark.zip/pyspark/worker.py\", line 678, in process\n",
      "    serializer.dump_stream(out_iter, outfile)\n",
      "  File \"/home/noing/data_framework/spark-3.3.0-bin-hadoop3/python/lib/pyspark.zip/pyspark/serializers.py\", line 273, in dump_stream\n",
      "    vs = list(itertools.islice(iterator, batch))\n",
      "  File \"/home/noing/data_framework/spark-3.3.0-bin-hadoop3/python/lib/pyspark.zip/pyspark/util.py\", line 81, in wrapper\n",
      "    return f(*args, **kwargs)\n",
      "  File \"/home/noing/data_framework/spark-3.3.0-bin-hadoop3/python/pyspark/rdd.py\", line 2869, in <lambda>\n",
      "    return self.map(lambda x: (f(x), x))\n",
      "  File \"/home/noing/git/recommender_implement_with_spark/experiment/recommenders/self_recommender.py\", line 102, in <lambda>\n",
      "    Hblocked = H.keyBy(lambda x: rev_perms[self.assignBlockIndex(x[0], numCols, numWorkers)-1])\n",
      "IndexError: list index out of range\n",
      "\n",
      "\tat org.apache.spark.api.python.BasePythonRunner$ReaderIterator.handlePythonException(PythonRunner.scala:559)\n",
      "\tat org.apache.spark.api.python.PythonRunner$$anon$3.read(PythonRunner.scala:765)\n",
      "\tat org.apache.spark.api.python.PythonRunner$$anon$3.read(PythonRunner.scala:747)\n",
      "\tat org.apache.spark.api.python.BasePythonRunner$ReaderIterator.hasNext(PythonRunner.scala:512)\n",
      "\tat org.apache.spark.InterruptibleIterator.hasNext(InterruptibleIterator.scala:37)\n",
      "\tat scala.collection.Iterator.foreach(Iterator.scala:943)\n",
      "\tat scala.collection.Iterator.foreach$(Iterator.scala:943)\n",
      "\tat org.apache.spark.InterruptibleIterator.foreach(InterruptibleIterator.scala:28)\n",
      "\tat org.apache.spark.api.python.PythonRDD$.writeIteratorToStream(PythonRDD.scala:307)\n",
      "\tat org.apache.spark.api.python.PythonRunner$$anon$2.writeIteratorToStream(PythonRunner.scala:732)\n",
      "\tat org.apache.spark.api.python.BasePythonRunner$WriterThread.$anonfun$run$1(PythonRunner.scala:438)\n",
      "\tat org.apache.spark.util.Utils$.logUncaughtExceptions(Utils.scala:2066)\n",
      "\tat org.apache.spark.api.python.BasePythonRunner$WriterThread.run(PythonRunner.scala:272)\n",
      "22/12/18 08:47:39 ERROR PythonRunner: This may have been caused by a prior exception:\n",
      "org.apache.spark.api.python.PythonException: Traceback (most recent call last):\n",
      "  File \"/home/noing/data_framework/spark-3.3.0-bin-hadoop3/python/lib/pyspark.zip/pyspark/worker.py\", line 686, in main\n",
      "    process()\n",
      "  File \"/home/noing/data_framework/spark-3.3.0-bin-hadoop3/python/lib/pyspark.zip/pyspark/worker.py\", line 678, in process\n",
      "    serializer.dump_stream(out_iter, outfile)\n",
      "  File \"/home/noing/data_framework/spark-3.3.0-bin-hadoop3/python/lib/pyspark.zip/pyspark/serializers.py\", line 273, in dump_stream\n",
      "    vs = list(itertools.islice(iterator, batch))\n",
      "  File \"/home/noing/data_framework/spark-3.3.0-bin-hadoop3/python/lib/pyspark.zip/pyspark/util.py\", line 81, in wrapper\n",
      "    return f(*args, **kwargs)\n",
      "  File \"/home/noing/data_framework/spark-3.3.0-bin-hadoop3/python/pyspark/rdd.py\", line 2869, in <lambda>\n",
      "    return self.map(lambda x: (f(x), x))\n",
      "  File \"/home/noing/git/recommender_implement_with_spark/experiment/recommenders/self_recommender.py\", line 102, in <lambda>\n",
      "    Hblocked = H.keyBy(lambda x: rev_perms[self.assignBlockIndex(x[0], numCols, numWorkers)-1])\n",
      "IndexError: list index out of range\n",
      "\n",
      "\tat org.apache.spark.api.python.BasePythonRunner$ReaderIterator.handlePythonException(PythonRunner.scala:559)\n",
      "\tat org.apache.spark.api.python.PythonRunner$$anon$3.read(PythonRunner.scala:765)\n",
      "\tat org.apache.spark.api.python.PythonRunner$$anon$3.read(PythonRunner.scala:747)\n",
      "\tat org.apache.spark.api.python.BasePythonRunner$ReaderIterator.hasNext(PythonRunner.scala:512)\n",
      "\tat org.apache.spark.InterruptibleIterator.hasNext(InterruptibleIterator.scala:37)\n",
      "\tat scala.collection.Iterator.foreach(Iterator.scala:943)\n",
      "\tat scala.collection.Iterator.foreach$(Iterator.scala:943)\n",
      "\tat org.apache.spark.InterruptibleIterator.foreach(InterruptibleIterator.scala:28)\n",
      "\tat org.apache.spark.api.python.PythonRDD$.writeIteratorToStream(PythonRDD.scala:307)\n",
      "\tat org.apache.spark.api.python.PythonRunner$$anon$2.writeIteratorToStream(PythonRunner.scala:732)\n",
      "\tat org.apache.spark.api.python.BasePythonRunner$WriterThread.$anonfun$run$1(PythonRunner.scala:438)\n",
      "\tat org.apache.spark.util.Utils$.logUncaughtExceptions(Utils.scala:2066)\n",
      "\tat org.apache.spark.api.python.BasePythonRunner$WriterThread.run(PythonRunner.scala:272)\n",
      "22/12/18 08:47:39 ERROR Executor: Exception in task 4.0 in stage 17.0 (TID 33)\n",
      "org.apache.spark.api.python.PythonException: Traceback (most recent call last):\n",
      "  File \"/home/noing/data_framework/spark-3.3.0-bin-hadoop3/python/lib/pyspark.zip/pyspark/worker.py\", line 686, in main\n",
      "    process()\n",
      "  File \"/home/noing/data_framework/spark-3.3.0-bin-hadoop3/python/lib/pyspark.zip/pyspark/worker.py\", line 678, in process\n",
      "    serializer.dump_stream(out_iter, outfile)\n",
      "  File \"/home/noing/data_framework/spark-3.3.0-bin-hadoop3/python/lib/pyspark.zip/pyspark/serializers.py\", line 273, in dump_stream\n",
      "    vs = list(itertools.islice(iterator, batch))\n",
      "  File \"/home/noing/data_framework/spark-3.3.0-bin-hadoop3/python/lib/pyspark.zip/pyspark/util.py\", line 81, in wrapper\n",
      "    return f(*args, **kwargs)\n",
      "  File \"/home/noing/data_framework/spark-3.3.0-bin-hadoop3/python/pyspark/rdd.py\", line 2869, in <lambda>\n",
      "    return self.map(lambda x: (f(x), x))\n",
      "  File \"/home/noing/git/recommender_implement_with_spark/experiment/recommenders/self_recommender.py\", line 102, in <lambda>\n",
      "    Hblocked = H.keyBy(lambda x: rev_perms[self.assignBlockIndex(x[0], numCols, numWorkers)-1])\n",
      "IndexError: list index out of range\n",
      "\n",
      "\tat org.apache.spark.api.python.BasePythonRunner$ReaderIterator.handlePythonException(PythonRunner.scala:559)\n",
      "\tat org.apache.spark.api.python.PythonRunner$$anon$3.read(PythonRunner.scala:765)\n",
      "\tat org.apache.spark.api.python.PythonRunner$$anon$3.read(PythonRunner.scala:747)\n",
      "\tat org.apache.spark.api.python.BasePythonRunner$ReaderIterator.hasNext(PythonRunner.scala:512)\n",
      "\tat org.apache.spark.InterruptibleIterator.hasNext(InterruptibleIterator.scala:37)\n",
      "\tat scala.collection.Iterator.foreach(Iterator.scala:943)\n",
      "\tat scala.collection.Iterator.foreach$(Iterator.scala:943)\n",
      "\tat org.apache.spark.InterruptibleIterator.foreach(InterruptibleIterator.scala:28)\n",
      "\tat org.apache.spark.api.python.PythonRDD$.writeIteratorToStream(PythonRDD.scala:307)\n",
      "\tat org.apache.spark.api.python.PythonRunner$$anon$2.writeIteratorToStream(PythonRunner.scala:732)\n",
      "\tat org.apache.spark.api.python.BasePythonRunner$WriterThread.$anonfun$run$1(PythonRunner.scala:438)\n",
      "\tat org.apache.spark.util.Utils$.logUncaughtExceptions(Utils.scala:2066)\n",
      "\tat org.apache.spark.api.python.BasePythonRunner$WriterThread.run(PythonRunner.scala:272)\n",
      "22/12/18 08:47:39 ERROR PythonRunner: Python worker exited unexpectedly (crashed)\n",
      "org.apache.spark.api.python.PythonException: Traceback (most recent call last):\n",
      "  File \"/home/noing/data_framework/spark-3.3.0-bin-hadoop3/python/lib/pyspark.zip/pyspark/worker.py\", line 666, in main\n",
      "    eval_type = read_int(infile)\n",
      "  File \"/home/noing/data_framework/spark-3.3.0-bin-hadoop3/python/lib/pyspark.zip/pyspark/serializers.py\", line 595, in read_int\n",
      "    raise EOFError\n",
      "EOFError\n",
      "\n",
      "\tat org.apache.spark.api.python.BasePythonRunner$ReaderIterator.handlePythonException(PythonRunner.scala:559)\n",
      "\tat org.apache.spark.api.python.PythonRunner$$anon$3.read(PythonRunner.scala:765)\n",
      "\tat org.apache.spark.api.python.PythonRunner$$anon$3.read(PythonRunner.scala:747)\n",
      "\tat org.apache.spark.api.python.BasePythonRunner$ReaderIterator.hasNext(PythonRunner.scala:512)\n",
      "\tat org.apache.spark.InterruptibleIterator.hasNext(InterruptibleIterator.scala:37)\n",
      "\tat scala.collection.Iterator$GroupedIterator.fill(Iterator.scala:1211)\n",
      "\tat scala.collection.Iterator$GroupedIterator.hasNext(Iterator.scala:1217)\n",
      "\tat scala.collection.Iterator$$anon$10.hasNext(Iterator.scala:460)\n",
      "\tat org.apache.spark.shuffle.sort.BypassMergeSortShuffleWriter.write(BypassMergeSortShuffleWriter.java:140)\n",
      "\tat org.apache.spark.shuffle.ShuffleWriteProcessor.write(ShuffleWriteProcessor.scala:59)\n",
      "\tat org.apache.spark.scheduler.ShuffleMapTask.runTask(ShuffleMapTask.scala:99)\n",
      "\tat org.apache.spark.scheduler.ShuffleMapTask.runTask(ShuffleMapTask.scala:52)\n",
      "\tat org.apache.spark.scheduler.Task.run(Task.scala:136)\n",
      "\tat org.apache.spark.executor.Executor$TaskRunner.$anonfun$run$3(Executor.scala:548)\n",
      "\tat org.apache.spark.util.Utils$.tryWithSafeFinally(Utils.scala:1504)\n",
      "\tat org.apache.spark.executor.Executor$TaskRunner.run(Executor.scala:551)\n",
      "\tat java.util.concurrent.ThreadPoolExecutor.runWorker(ThreadPoolExecutor.java:1149)\n",
      "\tat java.util.concurrent.ThreadPoolExecutor$Worker.run(ThreadPoolExecutor.java:624)\n",
      "\tat java.lang.Thread.run(Thread.java:750)\n",
      "Caused by: org.apache.spark.api.python.PythonException: Traceback (most recent call last):\n",
      "  File \"/home/noing/data_framework/spark-3.3.0-bin-hadoop3/python/lib/pyspark.zip/pyspark/worker.py\", line 686, in main\n",
      "    process()\n",
      "  File \"/home/noing/data_framework/spark-3.3.0-bin-hadoop3/python/lib/pyspark.zip/pyspark/worker.py\", line 678, in process\n",
      "    serializer.dump_stream(out_iter, outfile)\n",
      "  File \"/home/noing/data_framework/spark-3.3.0-bin-hadoop3/python/lib/pyspark.zip/pyspark/serializers.py\", line 273, in dump_stream\n",
      "    vs = list(itertools.islice(iterator, batch))\n",
      "  File \"/home/noing/data_framework/spark-3.3.0-bin-hadoop3/python/lib/pyspark.zip/pyspark/util.py\", line 81, in wrapper\n",
      "    return f(*args, **kwargs)\n",
      "  File \"/home/noing/data_framework/spark-3.3.0-bin-hadoop3/python/pyspark/rdd.py\", line 2869, in <lambda>\n",
      "    return self.map(lambda x: (f(x), x))\n",
      "  File \"/home/noing/git/recommender_implement_with_spark/experiment/recommenders/self_recommender.py\", line 102, in <lambda>\n",
      "    Hblocked = H.keyBy(lambda x: rev_perms[self.assignBlockIndex(x[0], numCols, numWorkers)-1])\n",
      "IndexError: list index out of range\n",
      "\n",
      "\tat org.apache.spark.api.python.BasePythonRunner$ReaderIterator.handlePythonException(PythonRunner.scala:559)\n",
      "\tat org.apache.spark.api.python.PythonRunner$$anon$3.read(PythonRunner.scala:765)\n",
      "\tat org.apache.spark.api.python.PythonRunner$$anon$3.read(PythonRunner.scala:747)\n",
      "\tat org.apache.spark.api.python.BasePythonRunner$ReaderIterator.hasNext(PythonRunner.scala:512)\n",
      "\tat org.apache.spark.InterruptibleIterator.hasNext(InterruptibleIterator.scala:37)\n",
      "\tat scala.collection.Iterator.foreach(Iterator.scala:943)\n",
      "\tat scala.collection.Iterator.foreach$(Iterator.scala:943)\n",
      "\tat org.apache.spark.InterruptibleIterator.foreach(InterruptibleIterator.scala:28)\n",
      "\tat org.apache.spark.api.python.PythonRDD$.writeIteratorToStream(PythonRDD.scala:307)\n",
      "\tat org.apache.spark.api.python.PythonRunner$$anon$2.writeIteratorToStream(PythonRunner.scala:732)\n",
      "\tat org.apache.spark.api.python.BasePythonRunner$WriterThread.$anonfun$run$1(PythonRunner.scala:438)\n",
      "\tat org.apache.spark.util.Utils$.logUncaughtExceptions(Utils.scala:2066)\n",
      "\tat org.apache.spark.api.python.BasePythonRunner$WriterThread.run(PythonRunner.scala:272)\n",
      "22/12/18 08:47:39 ERROR PythonRunner: This may have been caused by a prior exception:\n",
      "org.apache.spark.api.python.PythonException: Traceback (most recent call last):\n",
      "  File \"/home/noing/data_framework/spark-3.3.0-bin-hadoop3/python/lib/pyspark.zip/pyspark/worker.py\", line 686, in main\n",
      "    process()\n",
      "  File \"/home/noing/data_framework/spark-3.3.0-bin-hadoop3/python/lib/pyspark.zip/pyspark/worker.py\", line 678, in process\n",
      "    serializer.dump_stream(out_iter, outfile)\n",
      "  File \"/home/noing/data_framework/spark-3.3.0-bin-hadoop3/python/lib/pyspark.zip/pyspark/serializers.py\", line 273, in dump_stream\n",
      "    vs = list(itertools.islice(iterator, batch))\n",
      "  File \"/home/noing/data_framework/spark-3.3.0-bin-hadoop3/python/lib/pyspark.zip/pyspark/util.py\", line 81, in wrapper\n",
      "    return f(*args, **kwargs)\n",
      "  File \"/home/noing/data_framework/spark-3.3.0-bin-hadoop3/python/pyspark/rdd.py\", line 2869, in <lambda>\n",
      "    return self.map(lambda x: (f(x), x))\n",
      "  File \"/home/noing/git/recommender_implement_with_spark/experiment/recommenders/self_recommender.py\", line 102, in <lambda>\n",
      "    Hblocked = H.keyBy(lambda x: rev_perms[self.assignBlockIndex(x[0], numCols, numWorkers)-1])\n",
      "IndexError: list index out of range\n",
      "\n",
      "\tat org.apache.spark.api.python.BasePythonRunner$ReaderIterator.handlePythonException(PythonRunner.scala:559)\n",
      "\tat org.apache.spark.api.python.PythonRunner$$anon$3.read(PythonRunner.scala:765)\n",
      "\tat org.apache.spark.api.python.PythonRunner$$anon$3.read(PythonRunner.scala:747)\n",
      "\tat org.apache.spark.api.python.BasePythonRunner$ReaderIterator.hasNext(PythonRunner.scala:512)\n",
      "\tat org.apache.spark.InterruptibleIterator.hasNext(InterruptibleIterator.scala:37)\n",
      "\tat scala.collection.Iterator.foreach(Iterator.scala:943)\n",
      "\tat scala.collection.Iterator.foreach$(Iterator.scala:943)\n",
      "\tat org.apache.spark.InterruptibleIterator.foreach(InterruptibleIterator.scala:28)\n",
      "\tat org.apache.spark.api.python.PythonRDD$.writeIteratorToStream(PythonRDD.scala:307)\n",
      "\tat org.apache.spark.api.python.PythonRunner$$anon$2.writeIteratorToStream(PythonRunner.scala:732)\n",
      "\tat org.apache.spark.api.python.BasePythonRunner$WriterThread.$anonfun$run$1(PythonRunner.scala:438)\n",
      "\tat org.apache.spark.util.Utils$.logUncaughtExceptions(Utils.scala:2066)\n",
      "\tat org.apache.spark.api.python.BasePythonRunner$WriterThread.run(PythonRunner.scala:272)\n",
      "22/12/18 08:47:39 ERROR Executor: Exception in task 5.0 in stage 17.0 (TID 34)\n",
      "org.apache.spark.api.python.PythonException: Traceback (most recent call last):\n",
      "  File \"/home/noing/data_framework/spark-3.3.0-bin-hadoop3/python/lib/pyspark.zip/pyspark/worker.py\", line 686, in main\n",
      "    process()\n",
      "  File \"/home/noing/data_framework/spark-3.3.0-bin-hadoop3/python/lib/pyspark.zip/pyspark/worker.py\", line 678, in process\n",
      "    serializer.dump_stream(out_iter, outfile)\n",
      "  File \"/home/noing/data_framework/spark-3.3.0-bin-hadoop3/python/lib/pyspark.zip/pyspark/serializers.py\", line 273, in dump_stream\n",
      "    vs = list(itertools.islice(iterator, batch))\n",
      "  File \"/home/noing/data_framework/spark-3.3.0-bin-hadoop3/python/lib/pyspark.zip/pyspark/util.py\", line 81, in wrapper\n",
      "    return f(*args, **kwargs)\n",
      "  File \"/home/noing/data_framework/spark-3.3.0-bin-hadoop3/python/pyspark/rdd.py\", line 2869, in <lambda>\n",
      "    return self.map(lambda x: (f(x), x))\n",
      "  File \"/home/noing/git/recommender_implement_with_spark/experiment/recommenders/self_recommender.py\", line 102, in <lambda>\n",
      "    Hblocked = H.keyBy(lambda x: rev_perms[self.assignBlockIndex(x[0], numCols, numWorkers)-1])\n",
      "IndexError: list index out of range\n",
      "\n",
      "\tat org.apache.spark.api.python.BasePythonRunner$ReaderIterator.handlePythonException(PythonRunner.scala:559)\n",
      "\tat org.apache.spark.api.python.PythonRunner$$anon$3.read(PythonRunner.scala:765)\n",
      "\tat org.apache.spark.api.python.PythonRunner$$anon$3.read(PythonRunner.scala:747)\n",
      "\tat org.apache.spark.api.python.BasePythonRunner$ReaderIterator.hasNext(PythonRunner.scala:512)\n",
      "\tat org.apache.spark.InterruptibleIterator.hasNext(InterruptibleIterator.scala:37)\n",
      "\tat scala.collection.Iterator.foreach(Iterator.scala:943)\n",
      "\tat scala.collection.Iterator.foreach$(Iterator.scala:943)\n",
      "\tat org.apache.spark.InterruptibleIterator.foreach(InterruptibleIterator.scala:28)\n",
      "\tat org.apache.spark.api.python.PythonRDD$.writeIteratorToStream(PythonRDD.scala:307)\n",
      "\tat org.apache.spark.api.python.PythonRunner$$anon$2.writeIteratorToStream(PythonRunner.scala:732)\n",
      "\tat org.apache.spark.api.python.BasePythonRunner$WriterThread.$anonfun$run$1(PythonRunner.scala:438)\n",
      "\tat org.apache.spark.util.Utils$.logUncaughtExceptions(Utils.scala:2066)\n",
      "\tat org.apache.spark.api.python.BasePythonRunner$WriterThread.run(PythonRunner.scala:272)\n"
     ]
    },
    {
     "name": "stderr",
     "output_type": "stream",
     "text": [
      "\r",
      "[Stage 17:====================================>                     (5 + 3) / 8]\r"
     ]
    },
    {
     "name": "stdout",
     "output_type": "stream",
     "text": [
      "22/12/18 08:47:39 WARN TaskSetManager: Lost task 5.0 in stage 17.0 (TID 34) (192.168.1.16 executor driver): org.apache.spark.api.python.PythonException: Traceback (most recent call last):\n",
      "  File \"/home/noing/data_framework/spark-3.3.0-bin-hadoop3/python/lib/pyspark.zip/pyspark/worker.py\", line 686, in main\n",
      "    process()\n",
      "  File \"/home/noing/data_framework/spark-3.3.0-bin-hadoop3/python/lib/pyspark.zip/pyspark/worker.py\", line 678, in process\n",
      "    serializer.dump_stream(out_iter, outfile)\n",
      "  File \"/home/noing/data_framework/spark-3.3.0-bin-hadoop3/python/lib/pyspark.zip/pyspark/serializers.py\", line 273, in dump_stream\n",
      "    vs = list(itertools.islice(iterator, batch))\n",
      "  File \"/home/noing/data_framework/spark-3.3.0-bin-hadoop3/python/lib/pyspark.zip/pyspark/util.py\", line 81, in wrapper\n",
      "    return f(*args, **kwargs)\n",
      "  File \"/home/noing/data_framework/spark-3.3.0-bin-hadoop3/python/pyspark/rdd.py\", line 2869, in <lambda>\n",
      "    return self.map(lambda x: (f(x), x))\n",
      "  File \"/home/noing/git/recommender_implement_with_spark/experiment/recommenders/self_recommender.py\", line 102, in <lambda>\n",
      "    Hblocked = H.keyBy(lambda x: rev_perms[self.assignBlockIndex(x[0], numCols, numWorkers)-1])\n",
      "IndexError: list index out of range\n",
      "\n",
      "\tat org.apache.spark.api.python.BasePythonRunner$ReaderIterator.handlePythonException(PythonRunner.scala:559)\n",
      "\tat org.apache.spark.api.python.PythonRunner$$anon$3.read(PythonRunner.scala:765)\n",
      "\tat org.apache.spark.api.python.PythonRunner$$anon$3.read(PythonRunner.scala:747)\n",
      "\tat org.apache.spark.api.python.BasePythonRunner$ReaderIterator.hasNext(PythonRunner.scala:512)\n",
      "\tat org.apache.spark.InterruptibleIterator.hasNext(InterruptibleIterator.scala:37)\n",
      "\tat scala.collection.Iterator.foreach(Iterator.scala:943)\n",
      "\tat scala.collection.Iterator.foreach$(Iterator.scala:943)\n",
      "\tat org.apache.spark.InterruptibleIterator.foreach(InterruptibleIterator.scala:28)\n",
      "\tat org.apache.spark.api.python.PythonRDD$.writeIteratorToStream(PythonRDD.scala:307)\n",
      "\tat org.apache.spark.api.python.PythonRunner$$anon$2.writeIteratorToStream(PythonRunner.scala:732)\n",
      "\tat org.apache.spark.api.python.BasePythonRunner$WriterThread.$anonfun$run$1(PythonRunner.scala:438)\n",
      "\tat org.apache.spark.util.Utils$.logUncaughtExceptions(Utils.scala:2066)\n",
      "\tat org.apache.spark.api.python.BasePythonRunner$WriterThread.run(PythonRunner.scala:272)\n",
      "\n",
      "22/12/18 08:47:39 ERROR TaskSetManager: Task 5 in stage 17.0 failed 1 times; aborting job\n"
     ]
    },
    {
     "ename": "Py4JJavaError",
     "evalue": "An error occurred while calling z:org.apache.spark.api.python.PythonRDD.collectAndServe.\n: org.apache.spark.SparkException: Job aborted due to stage failure: Task 5 in stage 17.0 failed 1 times, most recent failure: Lost task 5.0 in stage 17.0 (TID 34) (192.168.1.16 executor driver): org.apache.spark.api.python.PythonException: Traceback (most recent call last):\n  File \"/home/noing/data_framework/spark-3.3.0-bin-hadoop3/python/lib/pyspark.zip/pyspark/worker.py\", line 686, in main\n    process()\n  File \"/home/noing/data_framework/spark-3.3.0-bin-hadoop3/python/lib/pyspark.zip/pyspark/worker.py\", line 678, in process\n    serializer.dump_stream(out_iter, outfile)\n  File \"/home/noing/data_framework/spark-3.3.0-bin-hadoop3/python/lib/pyspark.zip/pyspark/serializers.py\", line 273, in dump_stream\n    vs = list(itertools.islice(iterator, batch))\n  File \"/home/noing/data_framework/spark-3.3.0-bin-hadoop3/python/lib/pyspark.zip/pyspark/util.py\", line 81, in wrapper\n    return f(*args, **kwargs)\n  File \"/home/noing/data_framework/spark-3.3.0-bin-hadoop3/python/pyspark/rdd.py\", line 2869, in <lambda>\n    return self.map(lambda x: (f(x), x))\n  File \"/home/noing/git/recommender_implement_with_spark/experiment/recommenders/self_recommender.py\", line 102, in <lambda>\n    Hblocked = H.keyBy(lambda x: rev_perms[self.assignBlockIndex(x[0], numCols, numWorkers)-1])\nIndexError: list index out of range\n\n\tat org.apache.spark.api.python.BasePythonRunner$ReaderIterator.handlePythonException(PythonRunner.scala:559)\n\tat org.apache.spark.api.python.PythonRunner$$anon$3.read(PythonRunner.scala:765)\n\tat org.apache.spark.api.python.PythonRunner$$anon$3.read(PythonRunner.scala:747)\n\tat org.apache.spark.api.python.BasePythonRunner$ReaderIterator.hasNext(PythonRunner.scala:512)\n\tat org.apache.spark.InterruptibleIterator.hasNext(InterruptibleIterator.scala:37)\n\tat scala.collection.Iterator.foreach(Iterator.scala:943)\n\tat scala.collection.Iterator.foreach$(Iterator.scala:943)\n\tat org.apache.spark.InterruptibleIterator.foreach(InterruptibleIterator.scala:28)\n\tat org.apache.spark.api.python.PythonRDD$.writeIteratorToStream(PythonRDD.scala:307)\n\tat org.apache.spark.api.python.PythonRunner$$anon$2.writeIteratorToStream(PythonRunner.scala:732)\n\tat org.apache.spark.api.python.BasePythonRunner$WriterThread.$anonfun$run$1(PythonRunner.scala:438)\n\tat org.apache.spark.util.Utils$.logUncaughtExceptions(Utils.scala:2066)\n\tat org.apache.spark.api.python.BasePythonRunner$WriterThread.run(PythonRunner.scala:272)\n\nDriver stacktrace:\n\tat org.apache.spark.scheduler.DAGScheduler.failJobAndIndependentStages(DAGScheduler.scala:2672)\n\tat org.apache.spark.scheduler.DAGScheduler.$anonfun$abortStage$2(DAGScheduler.scala:2608)\n\tat org.apache.spark.scheduler.DAGScheduler.$anonfun$abortStage$2$adapted(DAGScheduler.scala:2607)\n\tat scala.collection.mutable.ResizableArray.foreach(ResizableArray.scala:62)\n\tat scala.collection.mutable.ResizableArray.foreach$(ResizableArray.scala:55)\n\tat scala.collection.mutable.ArrayBuffer.foreach(ArrayBuffer.scala:49)\n\tat org.apache.spark.scheduler.DAGScheduler.abortStage(DAGScheduler.scala:2607)\n\tat org.apache.spark.scheduler.DAGScheduler.$anonfun$handleTaskSetFailed$1(DAGScheduler.scala:1182)\n\tat org.apache.spark.scheduler.DAGScheduler.$anonfun$handleTaskSetFailed$1$adapted(DAGScheduler.scala:1182)\n\tat scala.Option.foreach(Option.scala:407)\n\tat org.apache.spark.scheduler.DAGScheduler.handleTaskSetFailed(DAGScheduler.scala:1182)\n\tat org.apache.spark.scheduler.DAGSchedulerEventProcessLoop.doOnReceive(DAGScheduler.scala:2860)\n\tat org.apache.spark.scheduler.DAGSchedulerEventProcessLoop.onReceive(DAGScheduler.scala:2802)\n\tat org.apache.spark.scheduler.DAGSchedulerEventProcessLoop.onReceive(DAGScheduler.scala:2791)\n\tat org.apache.spark.util.EventLoop$$anon$1.run(EventLoop.scala:49)\n\tat org.apache.spark.scheduler.DAGScheduler.runJob(DAGScheduler.scala:952)\n\tat org.apache.spark.SparkContext.runJob(SparkContext.scala:2228)\n\tat org.apache.spark.SparkContext.runJob(SparkContext.scala:2249)\n\tat org.apache.spark.SparkContext.runJob(SparkContext.scala:2268)\n\tat org.apache.spark.SparkContext.runJob(SparkContext.scala:2293)\n\tat org.apache.spark.rdd.RDD.$anonfun$collect$1(RDD.scala:1021)\n\tat org.apache.spark.rdd.RDDOperationScope$.withScope(RDDOperationScope.scala:151)\n\tat org.apache.spark.rdd.RDDOperationScope$.withScope(RDDOperationScope.scala:112)\n\tat org.apache.spark.rdd.RDD.withScope(RDD.scala:406)\n\tat org.apache.spark.rdd.RDD.collect(RDD.scala:1020)\n\tat org.apache.spark.api.python.PythonRDD$.collectAndServe(PythonRDD.scala:180)\n\tat org.apache.spark.api.python.PythonRDD.collectAndServe(PythonRDD.scala)\n\tat sun.reflect.NativeMethodAccessorImpl.invoke0(Native Method)\n\tat sun.reflect.NativeMethodAccessorImpl.invoke(NativeMethodAccessorImpl.java:62)\n\tat sun.reflect.DelegatingMethodAccessorImpl.invoke(DelegatingMethodAccessorImpl.java:43)\n\tat java.lang.reflect.Method.invoke(Method.java:498)\n\tat py4j.reflection.MethodInvoker.invoke(MethodInvoker.java:244)\n\tat py4j.reflection.ReflectionEngine.invoke(ReflectionEngine.java:357)\n\tat py4j.Gateway.invoke(Gateway.java:282)\n\tat py4j.commands.AbstractCommand.invokeMethod(AbstractCommand.java:132)\n\tat py4j.commands.CallCommand.execute(CallCommand.java:79)\n\tat py4j.ClientServerConnection.waitForCommands(ClientServerConnection.java:182)\n\tat py4j.ClientServerConnection.run(ClientServerConnection.java:106)\n\tat java.lang.Thread.run(Thread.java:750)\nCaused by: org.apache.spark.api.python.PythonException: Traceback (most recent call last):\n  File \"/home/noing/data_framework/spark-3.3.0-bin-hadoop3/python/lib/pyspark.zip/pyspark/worker.py\", line 686, in main\n    process()\n  File \"/home/noing/data_framework/spark-3.3.0-bin-hadoop3/python/lib/pyspark.zip/pyspark/worker.py\", line 678, in process\n    serializer.dump_stream(out_iter, outfile)\n  File \"/home/noing/data_framework/spark-3.3.0-bin-hadoop3/python/lib/pyspark.zip/pyspark/serializers.py\", line 273, in dump_stream\n    vs = list(itertools.islice(iterator, batch))\n  File \"/home/noing/data_framework/spark-3.3.0-bin-hadoop3/python/lib/pyspark.zip/pyspark/util.py\", line 81, in wrapper\n    return f(*args, **kwargs)\n  File \"/home/noing/data_framework/spark-3.3.0-bin-hadoop3/python/pyspark/rdd.py\", line 2869, in <lambda>\n    return self.map(lambda x: (f(x), x))\n  File \"/home/noing/git/recommender_implement_with_spark/experiment/recommenders/self_recommender.py\", line 102, in <lambda>\n    Hblocked = H.keyBy(lambda x: rev_perms[self.assignBlockIndex(x[0], numCols, numWorkers)-1])\nIndexError: list index out of range\n\n\tat org.apache.spark.api.python.BasePythonRunner$ReaderIterator.handlePythonException(PythonRunner.scala:559)\n\tat org.apache.spark.api.python.PythonRunner$$anon$3.read(PythonRunner.scala:765)\n\tat org.apache.spark.api.python.PythonRunner$$anon$3.read(PythonRunner.scala:747)\n\tat org.apache.spark.api.python.BasePythonRunner$ReaderIterator.hasNext(PythonRunner.scala:512)\n\tat org.apache.spark.InterruptibleIterator.hasNext(InterruptibleIterator.scala:37)\n\tat scala.collection.Iterator.foreach(Iterator.scala:943)\n\tat scala.collection.Iterator.foreach$(Iterator.scala:943)\n\tat org.apache.spark.InterruptibleIterator.foreach(InterruptibleIterator.scala:28)\n\tat org.apache.spark.api.python.PythonRDD$.writeIteratorToStream(PythonRDD.scala:307)\n\tat org.apache.spark.api.python.PythonRunner$$anon$2.writeIteratorToStream(PythonRunner.scala:732)\n\tat org.apache.spark.api.python.BasePythonRunner$WriterThread.$anonfun$run$1(PythonRunner.scala:438)\n\tat org.apache.spark.util.Utils$.logUncaughtExceptions(Utils.scala:2066)\n\tat org.apache.spark.api.python.BasePythonRunner$WriterThread.run(PythonRunner.scala:272)\n",
     "output_type": "error",
     "traceback": [
      "\u001b[0;31m---------------------------------------------------------------------------\u001b[0m",
      "\u001b[0;31mPy4JJavaError\u001b[0m                             Traceback (most recent call last)",
      "Cell \u001b[0;32mIn [10], line 2\u001b[0m\n\u001b[1;32m      1\u001b[0m SGDmodel \u001b[38;5;241m=\u001b[39m DSGD(step_size\u001b[38;5;241m=\u001b[39m\u001b[38;5;241m0.01\u001b[39m, num_factor\u001b[38;5;241m=\u001b[39m\u001b[38;5;241m10\u001b[39m, max_iter\u001b[38;5;241m=\u001b[39m\u001b[38;5;241m10\u001b[39m, lambd\u001b[38;5;241m=\u001b[39m\u001b[38;5;241m10\u001b[39m)\n\u001b[0;32m----> 2\u001b[0m \u001b[43mSGDmodel\u001b[49m\u001b[38;5;241;43m.\u001b[39;49m\u001b[43mtrain\u001b[49m\u001b[43m(\u001b[49m\u001b[43msc\u001b[49m\u001b[43m,\u001b[49m\u001b[43m \u001b[49m\u001b[43moriginRDD\u001b[49m\u001b[43m,\u001b[49m\u001b[43m \u001b[49m\u001b[43mtrainRDD\u001b[49m\u001b[43m,\u001b[49m\u001b[43m \u001b[49m\u001b[43mtestRDD\u001b[49m\u001b[43m)\u001b[49m\n\u001b[1;32m      3\u001b[0m SGDmodel\u001b[38;5;241m.\u001b[39mplot_rmse(\u001b[38;5;124m'\u001b[39m\u001b[38;5;124mDSGD stepsize=1 nfactor=10 lambda=10\u001b[39m\u001b[38;5;124m'\u001b[39m)\n\u001b[1;32m      4\u001b[0m \u001b[38;5;28mprint\u001b[39m(SGDmodel\u001b[38;5;241m.\u001b[39mget_test_rmse())\n",
      "File \u001b[0;32m~/git/recommender_implement_with_spark/experiment/recommenders/self_recommender.py:112\u001b[0m, in \u001b[0;36mDSGD.train\u001b[0;34m(self, sc, originRDD, trainRDD, testRDD)\u001b[0m\n\u001b[1;32m    110\u001b[0m W \u001b[38;5;241m=\u001b[39m WH\u001b[38;5;241m.\u001b[39mfilter(\u001b[38;5;28;01mlambda\u001b[39;00m x: x[\u001b[38;5;241m0\u001b[39m]\u001b[38;5;241m==\u001b[39m\u001b[38;5;124m'\u001b[39m\u001b[38;5;124mW\u001b[39m\u001b[38;5;124m'\u001b[39m)\u001b[38;5;241m.\u001b[39mflatMap(\u001b[38;5;28;01mlambda\u001b[39;00m x: x[\u001b[38;5;241m1\u001b[39m])\u001b[38;5;241m.\u001b[39mpersist()\n\u001b[1;32m    111\u001b[0m H \u001b[38;5;241m=\u001b[39m WH\u001b[38;5;241m.\u001b[39mfilter(\u001b[38;5;28;01mlambda\u001b[39;00m x: x[\u001b[38;5;241m0\u001b[39m]\u001b[38;5;241m==\u001b[39m\u001b[38;5;124m'\u001b[39m\u001b[38;5;124mH\u001b[39m\u001b[38;5;124m'\u001b[39m)\u001b[38;5;241m.\u001b[39mflatMap(\u001b[38;5;28;01mlambda\u001b[39;00m x: x[\u001b[38;5;241m1\u001b[39m])\u001b[38;5;241m.\u001b[39mpersist()\n\u001b[0;32m--> 112\u001b[0m Wvec \u001b[38;5;241m=\u001b[39m \u001b[43mW\u001b[49m\u001b[38;5;241;43m.\u001b[39;49m\u001b[43mmap\u001b[49m\u001b[43m(\u001b[49m\u001b[38;5;28;43;01mlambda\u001b[39;49;00m\u001b[43m \u001b[49m\u001b[43mx\u001b[49m\u001b[43m:\u001b[49m\u001b[43m \u001b[49m\u001b[43m(\u001b[49m\u001b[43mx\u001b[49m\u001b[43m[\u001b[49m\u001b[38;5;241;43m0\u001b[39;49m\u001b[43m]\u001b[49m\u001b[43m,\u001b[49m\u001b[43m \u001b[49m\u001b[43mx\u001b[49m\u001b[43m[\u001b[49m\u001b[38;5;241;43m1\u001b[39;49m\u001b[43m]\u001b[49m\u001b[43m[\u001b[49m\u001b[38;5;241;43m1\u001b[39;49m\u001b[43m]\u001b[49m\u001b[43m)\u001b[49m\u001b[43m)\u001b[49m\u001b[38;5;241;43m.\u001b[39;49m\u001b[43mcollect\u001b[49m\u001b[43m(\u001b[49m\u001b[43m)\u001b[49m\n\u001b[1;32m    113\u001b[0m w_broadcast \u001b[38;5;241m=\u001b[39m sc\u001b[38;5;241m.\u001b[39mbroadcast(\u001b[38;5;28mdict\u001b[39m(Wvec))\n\u001b[1;32m    114\u001b[0m Hvec \u001b[38;5;241m=\u001b[39m H\u001b[38;5;241m.\u001b[39mmap(\u001b[38;5;28;01mlambda\u001b[39;00m x: (x[\u001b[38;5;241m0\u001b[39m], x[\u001b[38;5;241m1\u001b[39m][\u001b[38;5;241m1\u001b[39m]))\u001b[38;5;241m.\u001b[39mcollect()\n",
      "File \u001b[0;32m~/data_framework/spark-3.3.0-bin-hadoop3/python/pyspark/rdd.py:1197\u001b[0m, in \u001b[0;36mRDD.collect\u001b[0;34m(self)\u001b[0m\n\u001b[1;32m   1195\u001b[0m \u001b[38;5;28;01mwith\u001b[39;00m SCCallSiteSync(\u001b[38;5;28mself\u001b[39m\u001b[38;5;241m.\u001b[39mcontext):\n\u001b[1;32m   1196\u001b[0m     \u001b[38;5;28;01massert\u001b[39;00m \u001b[38;5;28mself\u001b[39m\u001b[38;5;241m.\u001b[39mctx\u001b[38;5;241m.\u001b[39m_jvm \u001b[38;5;129;01mis\u001b[39;00m \u001b[38;5;129;01mnot\u001b[39;00m \u001b[38;5;28;01mNone\u001b[39;00m\n\u001b[0;32m-> 1197\u001b[0m     sock_info \u001b[38;5;241m=\u001b[39m \u001b[38;5;28;43mself\u001b[39;49m\u001b[38;5;241;43m.\u001b[39;49m\u001b[43mctx\u001b[49m\u001b[38;5;241;43m.\u001b[39;49m\u001b[43m_jvm\u001b[49m\u001b[38;5;241;43m.\u001b[39;49m\u001b[43mPythonRDD\u001b[49m\u001b[38;5;241;43m.\u001b[39;49m\u001b[43mcollectAndServe\u001b[49m\u001b[43m(\u001b[49m\u001b[38;5;28;43mself\u001b[39;49m\u001b[38;5;241;43m.\u001b[39;49m\u001b[43m_jrdd\u001b[49m\u001b[38;5;241;43m.\u001b[39;49m\u001b[43mrdd\u001b[49m\u001b[43m(\u001b[49m\u001b[43m)\u001b[49m\u001b[43m)\u001b[49m\n\u001b[1;32m   1198\u001b[0m \u001b[38;5;28;01mreturn\u001b[39;00m \u001b[38;5;28mlist\u001b[39m(_load_from_socket(sock_info, \u001b[38;5;28mself\u001b[39m\u001b[38;5;241m.\u001b[39m_jrdd_deserializer))\n",
      "File \u001b[0;32m~/data_framework/spark-3.3.0-bin-hadoop3/python/lib/py4j-0.10.9.5-src.zip/py4j/java_gateway.py:1321\u001b[0m, in \u001b[0;36mJavaMember.__call__\u001b[0;34m(self, *args)\u001b[0m\n\u001b[1;32m   1315\u001b[0m command \u001b[38;5;241m=\u001b[39m proto\u001b[38;5;241m.\u001b[39mCALL_COMMAND_NAME \u001b[38;5;241m+\u001b[39m\\\n\u001b[1;32m   1316\u001b[0m     \u001b[38;5;28mself\u001b[39m\u001b[38;5;241m.\u001b[39mcommand_header \u001b[38;5;241m+\u001b[39m\\\n\u001b[1;32m   1317\u001b[0m     args_command \u001b[38;5;241m+\u001b[39m\\\n\u001b[1;32m   1318\u001b[0m     proto\u001b[38;5;241m.\u001b[39mEND_COMMAND_PART\n\u001b[1;32m   1320\u001b[0m answer \u001b[38;5;241m=\u001b[39m \u001b[38;5;28mself\u001b[39m\u001b[38;5;241m.\u001b[39mgateway_client\u001b[38;5;241m.\u001b[39msend_command(command)\n\u001b[0;32m-> 1321\u001b[0m return_value \u001b[38;5;241m=\u001b[39m \u001b[43mget_return_value\u001b[49m\u001b[43m(\u001b[49m\n\u001b[1;32m   1322\u001b[0m \u001b[43m    \u001b[49m\u001b[43manswer\u001b[49m\u001b[43m,\u001b[49m\u001b[43m \u001b[49m\u001b[38;5;28;43mself\u001b[39;49m\u001b[38;5;241;43m.\u001b[39;49m\u001b[43mgateway_client\u001b[49m\u001b[43m,\u001b[49m\u001b[43m \u001b[49m\u001b[38;5;28;43mself\u001b[39;49m\u001b[38;5;241;43m.\u001b[39;49m\u001b[43mtarget_id\u001b[49m\u001b[43m,\u001b[49m\u001b[43m \u001b[49m\u001b[38;5;28;43mself\u001b[39;49m\u001b[38;5;241;43m.\u001b[39;49m\u001b[43mname\u001b[49m\u001b[43m)\u001b[49m\n\u001b[1;32m   1324\u001b[0m \u001b[38;5;28;01mfor\u001b[39;00m temp_arg \u001b[38;5;129;01min\u001b[39;00m temp_args:\n\u001b[1;32m   1325\u001b[0m     temp_arg\u001b[38;5;241m.\u001b[39m_detach()\n",
      "File \u001b[0;32m~/data_framework/spark-3.3.0-bin-hadoop3/python/pyspark/sql/utils.py:190\u001b[0m, in \u001b[0;36mcapture_sql_exception.<locals>.deco\u001b[0;34m(*a, **kw)\u001b[0m\n\u001b[1;32m    188\u001b[0m \u001b[38;5;28;01mdef\u001b[39;00m \u001b[38;5;21mdeco\u001b[39m(\u001b[38;5;241m*\u001b[39ma: Any, \u001b[38;5;241m*\u001b[39m\u001b[38;5;241m*\u001b[39mkw: Any) \u001b[38;5;241m-\u001b[39m\u001b[38;5;241m>\u001b[39m Any:\n\u001b[1;32m    189\u001b[0m     \u001b[38;5;28;01mtry\u001b[39;00m:\n\u001b[0;32m--> 190\u001b[0m         \u001b[38;5;28;01mreturn\u001b[39;00m \u001b[43mf\u001b[49m\u001b[43m(\u001b[49m\u001b[38;5;241;43m*\u001b[39;49m\u001b[43ma\u001b[49m\u001b[43m,\u001b[49m\u001b[43m \u001b[49m\u001b[38;5;241;43m*\u001b[39;49m\u001b[38;5;241;43m*\u001b[39;49m\u001b[43mkw\u001b[49m\u001b[43m)\u001b[49m\n\u001b[1;32m    191\u001b[0m     \u001b[38;5;28;01mexcept\u001b[39;00m Py4JJavaError \u001b[38;5;28;01mas\u001b[39;00m e:\n\u001b[1;32m    192\u001b[0m         converted \u001b[38;5;241m=\u001b[39m convert_exception(e\u001b[38;5;241m.\u001b[39mjava_exception)\n",
      "File \u001b[0;32m~/data_framework/spark-3.3.0-bin-hadoop3/python/lib/py4j-0.10.9.5-src.zip/py4j/protocol.py:326\u001b[0m, in \u001b[0;36mget_return_value\u001b[0;34m(answer, gateway_client, target_id, name)\u001b[0m\n\u001b[1;32m    324\u001b[0m value \u001b[38;5;241m=\u001b[39m OUTPUT_CONVERTER[\u001b[38;5;28mtype\u001b[39m](answer[\u001b[38;5;241m2\u001b[39m:], gateway_client)\n\u001b[1;32m    325\u001b[0m \u001b[38;5;28;01mif\u001b[39;00m answer[\u001b[38;5;241m1\u001b[39m] \u001b[38;5;241m==\u001b[39m REFERENCE_TYPE:\n\u001b[0;32m--> 326\u001b[0m     \u001b[38;5;28;01mraise\u001b[39;00m Py4JJavaError(\n\u001b[1;32m    327\u001b[0m         \u001b[38;5;124m\"\u001b[39m\u001b[38;5;124mAn error occurred while calling \u001b[39m\u001b[38;5;132;01m{0}\u001b[39;00m\u001b[38;5;132;01m{1}\u001b[39;00m\u001b[38;5;132;01m{2}\u001b[39;00m\u001b[38;5;124m.\u001b[39m\u001b[38;5;130;01m\\n\u001b[39;00m\u001b[38;5;124m\"\u001b[39m\u001b[38;5;241m.\u001b[39m\n\u001b[1;32m    328\u001b[0m         \u001b[38;5;28mformat\u001b[39m(target_id, \u001b[38;5;124m\"\u001b[39m\u001b[38;5;124m.\u001b[39m\u001b[38;5;124m\"\u001b[39m, name), value)\n\u001b[1;32m    329\u001b[0m \u001b[38;5;28;01melse\u001b[39;00m:\n\u001b[1;32m    330\u001b[0m     \u001b[38;5;28;01mraise\u001b[39;00m Py4JError(\n\u001b[1;32m    331\u001b[0m         \u001b[38;5;124m\"\u001b[39m\u001b[38;5;124mAn error occurred while calling \u001b[39m\u001b[38;5;132;01m{0}\u001b[39;00m\u001b[38;5;132;01m{1}\u001b[39;00m\u001b[38;5;132;01m{2}\u001b[39;00m\u001b[38;5;124m. Trace:\u001b[39m\u001b[38;5;130;01m\\n\u001b[39;00m\u001b[38;5;132;01m{3}\u001b[39;00m\u001b[38;5;130;01m\\n\u001b[39;00m\u001b[38;5;124m\"\u001b[39m\u001b[38;5;241m.\u001b[39m\n\u001b[1;32m    332\u001b[0m         \u001b[38;5;28mformat\u001b[39m(target_id, \u001b[38;5;124m\"\u001b[39m\u001b[38;5;124m.\u001b[39m\u001b[38;5;124m\"\u001b[39m, name, value))\n",
      "\u001b[0;31mPy4JJavaError\u001b[0m: An error occurred while calling z:org.apache.spark.api.python.PythonRDD.collectAndServe.\n: org.apache.spark.SparkException: Job aborted due to stage failure: Task 5 in stage 17.0 failed 1 times, most recent failure: Lost task 5.0 in stage 17.0 (TID 34) (192.168.1.16 executor driver): org.apache.spark.api.python.PythonException: Traceback (most recent call last):\n  File \"/home/noing/data_framework/spark-3.3.0-bin-hadoop3/python/lib/pyspark.zip/pyspark/worker.py\", line 686, in main\n    process()\n  File \"/home/noing/data_framework/spark-3.3.0-bin-hadoop3/python/lib/pyspark.zip/pyspark/worker.py\", line 678, in process\n    serializer.dump_stream(out_iter, outfile)\n  File \"/home/noing/data_framework/spark-3.3.0-bin-hadoop3/python/lib/pyspark.zip/pyspark/serializers.py\", line 273, in dump_stream\n    vs = list(itertools.islice(iterator, batch))\n  File \"/home/noing/data_framework/spark-3.3.0-bin-hadoop3/python/lib/pyspark.zip/pyspark/util.py\", line 81, in wrapper\n    return f(*args, **kwargs)\n  File \"/home/noing/data_framework/spark-3.3.0-bin-hadoop3/python/pyspark/rdd.py\", line 2869, in <lambda>\n    return self.map(lambda x: (f(x), x))\n  File \"/home/noing/git/recommender_implement_with_spark/experiment/recommenders/self_recommender.py\", line 102, in <lambda>\n    Hblocked = H.keyBy(lambda x: rev_perms[self.assignBlockIndex(x[0], numCols, numWorkers)-1])\nIndexError: list index out of range\n\n\tat org.apache.spark.api.python.BasePythonRunner$ReaderIterator.handlePythonException(PythonRunner.scala:559)\n\tat org.apache.spark.api.python.PythonRunner$$anon$3.read(PythonRunner.scala:765)\n\tat org.apache.spark.api.python.PythonRunner$$anon$3.read(PythonRunner.scala:747)\n\tat org.apache.spark.api.python.BasePythonRunner$ReaderIterator.hasNext(PythonRunner.scala:512)\n\tat org.apache.spark.InterruptibleIterator.hasNext(InterruptibleIterator.scala:37)\n\tat scala.collection.Iterator.foreach(Iterator.scala:943)\n\tat scala.collection.Iterator.foreach$(Iterator.scala:943)\n\tat org.apache.spark.InterruptibleIterator.foreach(InterruptibleIterator.scala:28)\n\tat org.apache.spark.api.python.PythonRDD$.writeIteratorToStream(PythonRDD.scala:307)\n\tat org.apache.spark.api.python.PythonRunner$$anon$2.writeIteratorToStream(PythonRunner.scala:732)\n\tat org.apache.spark.api.python.BasePythonRunner$WriterThread.$anonfun$run$1(PythonRunner.scala:438)\n\tat org.apache.spark.util.Utils$.logUncaughtExceptions(Utils.scala:2066)\n\tat org.apache.spark.api.python.BasePythonRunner$WriterThread.run(PythonRunner.scala:272)\n\nDriver stacktrace:\n\tat org.apache.spark.scheduler.DAGScheduler.failJobAndIndependentStages(DAGScheduler.scala:2672)\n\tat org.apache.spark.scheduler.DAGScheduler.$anonfun$abortStage$2(DAGScheduler.scala:2608)\n\tat org.apache.spark.scheduler.DAGScheduler.$anonfun$abortStage$2$adapted(DAGScheduler.scala:2607)\n\tat scala.collection.mutable.ResizableArray.foreach(ResizableArray.scala:62)\n\tat scala.collection.mutable.ResizableArray.foreach$(ResizableArray.scala:55)\n\tat scala.collection.mutable.ArrayBuffer.foreach(ArrayBuffer.scala:49)\n\tat org.apache.spark.scheduler.DAGScheduler.abortStage(DAGScheduler.scala:2607)\n\tat org.apache.spark.scheduler.DAGScheduler.$anonfun$handleTaskSetFailed$1(DAGScheduler.scala:1182)\n\tat org.apache.spark.scheduler.DAGScheduler.$anonfun$handleTaskSetFailed$1$adapted(DAGScheduler.scala:1182)\n\tat scala.Option.foreach(Option.scala:407)\n\tat org.apache.spark.scheduler.DAGScheduler.handleTaskSetFailed(DAGScheduler.scala:1182)\n\tat org.apache.spark.scheduler.DAGSchedulerEventProcessLoop.doOnReceive(DAGScheduler.scala:2860)\n\tat org.apache.spark.scheduler.DAGSchedulerEventProcessLoop.onReceive(DAGScheduler.scala:2802)\n\tat org.apache.spark.scheduler.DAGSchedulerEventProcessLoop.onReceive(DAGScheduler.scala:2791)\n\tat org.apache.spark.util.EventLoop$$anon$1.run(EventLoop.scala:49)\n\tat org.apache.spark.scheduler.DAGScheduler.runJob(DAGScheduler.scala:952)\n\tat org.apache.spark.SparkContext.runJob(SparkContext.scala:2228)\n\tat org.apache.spark.SparkContext.runJob(SparkContext.scala:2249)\n\tat org.apache.spark.SparkContext.runJob(SparkContext.scala:2268)\n\tat org.apache.spark.SparkContext.runJob(SparkContext.scala:2293)\n\tat org.apache.spark.rdd.RDD.$anonfun$collect$1(RDD.scala:1021)\n\tat org.apache.spark.rdd.RDDOperationScope$.withScope(RDDOperationScope.scala:151)\n\tat org.apache.spark.rdd.RDDOperationScope$.withScope(RDDOperationScope.scala:112)\n\tat org.apache.spark.rdd.RDD.withScope(RDD.scala:406)\n\tat org.apache.spark.rdd.RDD.collect(RDD.scala:1020)\n\tat org.apache.spark.api.python.PythonRDD$.collectAndServe(PythonRDD.scala:180)\n\tat org.apache.spark.api.python.PythonRDD.collectAndServe(PythonRDD.scala)\n\tat sun.reflect.NativeMethodAccessorImpl.invoke0(Native Method)\n\tat sun.reflect.NativeMethodAccessorImpl.invoke(NativeMethodAccessorImpl.java:62)\n\tat sun.reflect.DelegatingMethodAccessorImpl.invoke(DelegatingMethodAccessorImpl.java:43)\n\tat java.lang.reflect.Method.invoke(Method.java:498)\n\tat py4j.reflection.MethodInvoker.invoke(MethodInvoker.java:244)\n\tat py4j.reflection.ReflectionEngine.invoke(ReflectionEngine.java:357)\n\tat py4j.Gateway.invoke(Gateway.java:282)\n\tat py4j.commands.AbstractCommand.invokeMethod(AbstractCommand.java:132)\n\tat py4j.commands.CallCommand.execute(CallCommand.java:79)\n\tat py4j.ClientServerConnection.waitForCommands(ClientServerConnection.java:182)\n\tat py4j.ClientServerConnection.run(ClientServerConnection.java:106)\n\tat java.lang.Thread.run(Thread.java:750)\nCaused by: org.apache.spark.api.python.PythonException: Traceback (most recent call last):\n  File \"/home/noing/data_framework/spark-3.3.0-bin-hadoop3/python/lib/pyspark.zip/pyspark/worker.py\", line 686, in main\n    process()\n  File \"/home/noing/data_framework/spark-3.3.0-bin-hadoop3/python/lib/pyspark.zip/pyspark/worker.py\", line 678, in process\n    serializer.dump_stream(out_iter, outfile)\n  File \"/home/noing/data_framework/spark-3.3.0-bin-hadoop3/python/lib/pyspark.zip/pyspark/serializers.py\", line 273, in dump_stream\n    vs = list(itertools.islice(iterator, batch))\n  File \"/home/noing/data_framework/spark-3.3.0-bin-hadoop3/python/lib/pyspark.zip/pyspark/util.py\", line 81, in wrapper\n    return f(*args, **kwargs)\n  File \"/home/noing/data_framework/spark-3.3.0-bin-hadoop3/python/pyspark/rdd.py\", line 2869, in <lambda>\n    return self.map(lambda x: (f(x), x))\n  File \"/home/noing/git/recommender_implement_with_spark/experiment/recommenders/self_recommender.py\", line 102, in <lambda>\n    Hblocked = H.keyBy(lambda x: rev_perms[self.assignBlockIndex(x[0], numCols, numWorkers)-1])\nIndexError: list index out of range\n\n\tat org.apache.spark.api.python.BasePythonRunner$ReaderIterator.handlePythonException(PythonRunner.scala:559)\n\tat org.apache.spark.api.python.PythonRunner$$anon$3.read(PythonRunner.scala:765)\n\tat org.apache.spark.api.python.PythonRunner$$anon$3.read(PythonRunner.scala:747)\n\tat org.apache.spark.api.python.BasePythonRunner$ReaderIterator.hasNext(PythonRunner.scala:512)\n\tat org.apache.spark.InterruptibleIterator.hasNext(InterruptibleIterator.scala:37)\n\tat scala.collection.Iterator.foreach(Iterator.scala:943)\n\tat scala.collection.Iterator.foreach$(Iterator.scala:943)\n\tat org.apache.spark.InterruptibleIterator.foreach(InterruptibleIterator.scala:28)\n\tat org.apache.spark.api.python.PythonRDD$.writeIteratorToStream(PythonRDD.scala:307)\n\tat org.apache.spark.api.python.PythonRunner$$anon$2.writeIteratorToStream(PythonRunner.scala:732)\n\tat org.apache.spark.api.python.BasePythonRunner$WriterThread.$anonfun$run$1(PythonRunner.scala:438)\n\tat org.apache.spark.util.Utils$.logUncaughtExceptions(Utils.scala:2066)\n\tat org.apache.spark.api.python.BasePythonRunner$WriterThread.run(PythonRunner.scala:272)\n"
     ]
    }
   ],
   "source": [
    "SGDmodel = DSGD(step_size=0.01, num_factor=10, max_iter=10, lambd=10)\n",
    "SGDmodel.train(sc, originRDD, trainRDD, testRDD)\n",
    "SGDmodel.plot_rmse('DSGD stepsize=1 nfactor=10 lambda=10')\n",
    "print(SGDmodel.get_test_rmse())"
   ]
  },
  {
   "cell_type": "code",
   "execution_count": 9,
   "id": "b1a6034d",
   "metadata": {},
   "outputs": [],
   "source": [
    "# print(SGDmodel.get_test_rmse())\n",
    "# print(SGDmodel.get_train_rmse())"
   ]
  },
  {
   "cell_type": "markdown",
   "id": "96a72f11",
   "metadata": {},
   "source": [
    "#RUN ON MULTIPLE HYPER PARAMETER"
   ]
  },
  {
   "cell_type": "code",
   "execution_count": 10,
   "id": "f5b834f7",
   "metadata": {},
   "outputs": [],
   "source": [
    "max_iters = [10, 20, 50]\n",
    "lambds = [0.1, 0.5, 10]\n",
    "stepsizes = [0.001, 0.005, 0.0025]\n",
    "num_factors = [10, 20, 30]"
   ]
  },
  {
   "cell_type": "markdown",
   "id": "e86ac3c1",
   "metadata": {},
   "source": [
    "RUN SGD HYPER PARAMETER"
   ]
  },
  {
   "cell_type": "code",
   "execution_count": 11,
   "id": "5191916d",
   "metadata": {},
   "outputs": [],
   "source": [
    "train_DSGD_result_list={}\n",
    "test_DSGD_result_list={}\n",
    "time_cost_DSGD_result_list={}"
   ]
  },
  {
   "cell_type": "code",
   "execution_count": 12,
   "id": "80ada96e",
   "metadata": {},
   "outputs": [
    {
     "name": "stderr",
     "output_type": "stream",
     "text": [
      "/home/noing/git/recommender_implement_with_spark/self_recommender.py:51: RuntimeWarning: overflow encountered in add\n",
      "  sse = R.map(lambda x: (x[2] - w.value[x[0]].dot(h.value[x[1]].T))**2 ).reduce(lambda x,y: x+y)\n",
      "/home/noing/git/recommender_implement_with_spark/self_recommender.py:51: RuntimeWarning: overflow encountered in add\n",
      "  sse = R.map(lambda x: (x[2] - w.value[x[0]].dot(h.value[x[1]].T))**2 ).reduce(lambda x,y: x+y)\n",
      "/home/noing/git/recommender_implement_with_spark/self_recommender.py:51: RuntimeWarning: overflow encountered in add\n",
      "  sse = R.map(lambda x: (x[2] - w.value[x[0]].dot(h.value[x[1]].T))**2 ).reduce(lambda x,y: x+y)\n",
      "/home/noing/git/recommender_implement_with_spark/self_recommender.py:51: RuntimeWarning: overflow encountered in add\n",
      "  sse = R.map(lambda x: (x[2] - w.value[x[0]].dot(h.value[x[1]].T))**2 ).reduce(lambda x,y: x+y)\n",
      "/home/noing/git/recommender_implement_with_spark/self_recommender.py:51: RuntimeWarning: overflow encountered in add\n",
      "  sse = R.map(lambda x: (x[2] - w.value[x[0]].dot(h.value[x[1]].T))**2 ).reduce(lambda x,y: x+y)\n",
      "/home/noing/git/recommender_implement_with_spark/self_recommender.py:51: RuntimeWarning: overflow encountered in add\n",
      "  sse = R.map(lambda x: (x[2] - w.value[x[0]].dot(h.value[x[1]].T))**2 ).reduce(lambda x,y: x+y)\n",
      "/home/noing/git/recommender_implement_with_spark/self_recommender.py:51: RuntimeWarning: overflow encountered in add\n",
      "  sse = R.map(lambda x: (x[2] - w.value[x[0]].dot(h.value[x[1]].T))**2 ).reduce(lambda x,y: x+y)\n",
      "/home/noing/git/recommender_implement_with_spark/self_recommender.py:51: RuntimeWarning: overflow encountered in add\n",
      "  sse = R.map(lambda x: (x[2] - w.value[x[0]].dot(h.value[x[1]].T))**2 ).reduce(lambda x,y: x+y)\n",
      "/home/noing/git/recommender_implement_with_spark/self_recommender.py:51: RuntimeWarning: overflow encountered in add\n",
      "  sse = R.map(lambda x: (x[2] - w.value[x[0]].dot(h.value[x[1]].T))**2 ).reduce(lambda x,y: x+y)\n",
      "/home/noing/git/recommender_implement_with_spark/self_recommender.py:51: RuntimeWarning: overflow encountered in add\n",
      "  sse = R.map(lambda x: (x[2] - w.value[x[0]].dot(h.value[x[1]].T))**2 ).reduce(lambda x,y: x+y)\n",
      "/home/noing/git/recommender_implement_with_spark/self_recommender.py:51: RuntimeWarning: overflow encountered in add\n",
      "  sse = R.map(lambda x: (x[2] - w.value[x[0]].dot(h.value[x[1]].T))**2 ).reduce(lambda x,y: x+y)\n",
      "/home/noing/git/recommender_implement_with_spark/self_recommender.py:51: RuntimeWarning: overflow encountered in add\n",
      "  sse = R.map(lambda x: (x[2] - w.value[x[0]].dot(h.value[x[1]].T))**2 ).reduce(lambda x,y: x+y)\n",
      "/home/noing/git/recommender_implement_with_spark/self_recommender.py:51: RuntimeWarning: overflow encountered in add\n",
      "  sse = R.map(lambda x: (x[2] - w.value[x[0]].dot(h.value[x[1]].T))**2 ).reduce(lambda x,y: x+y)\n",
      "/home/noing/git/recommender_implement_with_spark/self_recommender.py:51: RuntimeWarning: overflow encountered in add\n",
      "  sse = R.map(lambda x: (x[2] - w.value[x[0]].dot(h.value[x[1]].T))**2 ).reduce(lambda x,y: x+y)\n",
      "/home/noing/git/recommender_implement_with_spark/self_recommender.py:51: RuntimeWarning: overflow encountered in add\n",
      "  sse = R.map(lambda x: (x[2] - w.value[x[0]].dot(h.value[x[1]].T))**2 ).reduce(lambda x,y: x+y)\n",
      "/home/noing/git/recommender_implement_with_spark/self_recommender.py:51: RuntimeWarning: overflow encountered in add\n",
      "  sse = R.map(lambda x: (x[2] - w.value[x[0]].dot(h.value[x[1]].T))**2 ).reduce(lambda x,y: x+y)\n",
      "/home/noing/git/recommender_implement_with_spark/self_recommender.py:51: RuntimeWarning: overflow encountered in add\n",
      "  sse = R.map(lambda x: (x[2] - w.value[x[0]].dot(h.value[x[1]].T))**2 ).reduce(lambda x,y: x+y)\n",
      "/home/noing/git/recommender_implement_with_spark/self_recommender.py:51: RuntimeWarning: overflow encountered in add\n",
      "  sse = R.map(lambda x: (x[2] - w.value[x[0]].dot(h.value[x[1]].T))**2 ).reduce(lambda x,y: x+y)\n",
      "/home/noing/git/recommender_implement_with_spark/self_recommender.py:51: RuntimeWarning: overflow encountered in add\n",
      "  sse = R.map(lambda x: (x[2] - w.value[x[0]].dot(h.value[x[1]].T))**2 ).reduce(lambda x,y: x+y)\n",
      "/home/noing/git/recommender_implement_with_spark/self_recommender.py:51: RuntimeWarning: overflow encountered in add\n",
      "  sse = R.map(lambda x: (x[2] - w.value[x[0]].dot(h.value[x[1]].T))**2 ).reduce(lambda x,y: x+y)\n",
      "/home/noing/git/recommender_implement_with_spark/self_recommender.py:51: RuntimeWarning: overflow encountered in add\n",
      "  sse = R.map(lambda x: (x[2] - w.value[x[0]].dot(h.value[x[1]].T))**2 ).reduce(lambda x,y: x+y)\n",
      "/home/noing/git/recommender_implement_with_spark/self_recommender.py:51: RuntimeWarning: overflow encountered in add\n",
      "  sse = R.map(lambda x: (x[2] - w.value[x[0]].dot(h.value[x[1]].T))**2 ).reduce(lambda x,y: x+y)\n",
      "/home/noing/git/recommender_implement_with_spark/self_recommender.py:51: RuntimeWarning: overflow encountered in add\n",
      "  sse = R.map(lambda x: (x[2] - w.value[x[0]].dot(h.value[x[1]].T))**2 ).reduce(lambda x,y: x+y)\n",
      "/home/noing/git/recommender_implement_with_spark/self_recommender.py:51: RuntimeWarning: overflow encountered in add\n",
      "  sse = R.map(lambda x: (x[2] - w.value[x[0]].dot(h.value[x[1]].T))**2 ).reduce(lambda x,y: x+y)\n",
      "/home/noing/git/recommender_implement_with_spark/self_recommender.py:51: RuntimeWarning: overflow encountered in add\n",
      "  sse = R.map(lambda x: (x[2] - w.value[x[0]].dot(h.value[x[1]].T))**2 ).reduce(lambda x,y: x+y)\n",
      "/home/noing/git/recommender_implement_with_spark/self_recommender.py:51: RuntimeWarning: overflow encountered in add\n",
      "  sse = R.map(lambda x: (x[2] - w.value[x[0]].dot(h.value[x[1]].T))**2 ).reduce(lambda x,y: x+y)\n",
      "/home/noing/git/recommender_implement_with_spark/self_recommender.py:51: RuntimeWarning: overflow encountered in add\n",
      "  sse = R.map(lambda x: (x[2] - w.value[x[0]].dot(h.value[x[1]].T))**2 ).reduce(lambda x,y: x+y)\n",
      "/home/noing/git/recommender_implement_with_spark/self_recommender.py:51: RuntimeWarning: overflow encountered in add\n",
      "  sse = R.map(lambda x: (x[2] - w.value[x[0]].dot(h.value[x[1]].T))**2 ).reduce(lambda x,y: x+y)\n",
      "/home/noing/git/recommender_implement_with_spark/self_recommender.py:51: RuntimeWarning: overflow encountered in add\n",
      "  sse = R.map(lambda x: (x[2] - w.value[x[0]].dot(h.value[x[1]].T))**2 ).reduce(lambda x,y: x+y)\n",
      "/home/noing/git/recommender_implement_with_spark/self_recommender.py:51: RuntimeWarning: overflow encountered in add\n",
      "  sse = R.map(lambda x: (x[2] - w.value[x[0]].dot(h.value[x[1]].T))**2 ).reduce(lambda x,y: x+y)\n",
      "/home/noing/git/recommender_implement_with_spark/self_recommender.py:51: RuntimeWarning: overflow encountered in add\n",
      "  sse = R.map(lambda x: (x[2] - w.value[x[0]].dot(h.value[x[1]].T))**2 ).reduce(lambda x,y: x+y)\n",
      "/home/noing/git/recommender_implement_with_spark/self_recommender.py:51: RuntimeWarning: overflow encountered in add\n",
      "  sse = R.map(lambda x: (x[2] - w.value[x[0]].dot(h.value[x[1]].T))**2 ).reduce(lambda x,y: x+y)\n",
      "/home/noing/git/recommender_implement_with_spark/self_recommender.py:51: RuntimeWarning: overflow encountered in add\n",
      "  sse = R.map(lambda x: (x[2] - w.value[x[0]].dot(h.value[x[1]].T))**2 ).reduce(lambda x,y: x+y)\n",
      "/home/noing/git/recommender_implement_with_spark/self_recommender.py:51: RuntimeWarning: overflow encountered in add\n",
      "  sse = R.map(lambda x: (x[2] - w.value[x[0]].dot(h.value[x[1]].T))**2 ).reduce(lambda x,y: x+y)\n",
      "/home/noing/git/recommender_implement_with_spark/self_recommender.py:51: RuntimeWarning: overflow encountered in add\n",
      "  sse = R.map(lambda x: (x[2] - w.value[x[0]].dot(h.value[x[1]].T))**2 ).reduce(lambda x,y: x+y)\n",
      "/home/noing/git/recommender_implement_with_spark/self_recommender.py:51: RuntimeWarning: overflow encountered in add\n",
      "  sse = R.map(lambda x: (x[2] - w.value[x[0]].dot(h.value[x[1]].T))**2 ).reduce(lambda x,y: x+y)\n",
      "/home/noing/git/recommender_implement_with_spark/self_recommender.py:51: RuntimeWarning: overflow encountered in add\n",
      "  sse = R.map(lambda x: (x[2] - w.value[x[0]].dot(h.value[x[1]].T))**2 ).reduce(lambda x,y: x+y)\n",
      "/home/noing/git/recommender_implement_with_spark/self_recommender.py:51: RuntimeWarning: overflow encountered in add\n",
      "  sse = R.map(lambda x: (x[2] - w.value[x[0]].dot(h.value[x[1]].T))**2 ).reduce(lambda x,y: x+y)\n",
      "/home/noing/git/recommender_implement_with_spark/self_recommender.py:51: RuntimeWarning: overflow encountered in add\n",
      "  sse = R.map(lambda x: (x[2] - w.value[x[0]].dot(h.value[x[1]].T))**2 ).reduce(lambda x,y: x+y)\n",
      "/home/noing/git/recommender_implement_with_spark/self_recommender.py:51: RuntimeWarning: overflow encountered in add\n",
      "  sse = R.map(lambda x: (x[2] - w.value[x[0]].dot(h.value[x[1]].T))**2 ).reduce(lambda x,y: x+y)\n",
      "/home/noing/git/recommender_implement_with_spark/self_recommender.py:51: RuntimeWarning: overflow encountered in add\n",
      "  sse = R.map(lambda x: (x[2] - w.value[x[0]].dot(h.value[x[1]].T))**2 ).reduce(lambda x,y: x+y)\n",
      "/home/noing/git/recommender_implement_with_spark/self_recommender.py:51: RuntimeWarning: overflow encountered in add\n",
      "  sse = R.map(lambda x: (x[2] - w.value[x[0]].dot(h.value[x[1]].T))**2 ).reduce(lambda x,y: x+y)\n",
      "/home/noing/git/recommender_implement_with_spark/self_recommender.py:51: RuntimeWarning: overflow encountered in add\n",
      "  sse = R.map(lambda x: (x[2] - w.value[x[0]].dot(h.value[x[1]].T))**2 ).reduce(lambda x,y: x+y)\n",
      "/home/noing/git/recommender_implement_with_spark/self_recommender.py:51: RuntimeWarning: overflow encountered in add\n",
      "  sse = R.map(lambda x: (x[2] - w.value[x[0]].dot(h.value[x[1]].T))**2 ).reduce(lambda x,y: x+y)\n",
      "/home/noing/git/recommender_implement_with_spark/self_recommender.py:51: RuntimeWarning: overflow encountered in add\n",
      "  sse = R.map(lambda x: (x[2] - w.value[x[0]].dot(h.value[x[1]].T))**2 ).reduce(lambda x,y: x+y)\n",
      "/home/noing/git/recommender_implement_with_spark/self_recommender.py:51: RuntimeWarning: overflow encountered in add\n",
      "  sse = R.map(lambda x: (x[2] - w.value[x[0]].dot(h.value[x[1]].T))**2 ).reduce(lambda x,y: x+y)\n",
      "/home/noing/git/recommender_implement_with_spark/self_recommender.py:51: RuntimeWarning: overflow encountered in add\n",
      "  sse = R.map(lambda x: (x[2] - w.value[x[0]].dot(h.value[x[1]].T))**2 ).reduce(lambda x,y: x+y)\n",
      "/home/noing/git/recommender_implement_with_spark/self_recommender.py:51: RuntimeWarning: overflow encountered in add\n",
      "  sse = R.map(lambda x: (x[2] - w.value[x[0]].dot(h.value[x[1]].T))**2 ).reduce(lambda x,y: x+y)\n",
      "/home/noing/git/recommender_implement_with_spark/self_recommender.py:51: RuntimeWarning: overflow encountered in add\n",
      "  sse = R.map(lambda x: (x[2] - w.value[x[0]].dot(h.value[x[1]].T))**2 ).reduce(lambda x,y: x+y)\n",
      "/home/noing/git/recommender_implement_with_spark/self_recommender.py:51: RuntimeWarning: overflow encountered in add\n",
      "  sse = R.map(lambda x: (x[2] - w.value[x[0]].dot(h.value[x[1]].T))**2 ).reduce(lambda x,y: x+y)\n",
      "/home/noing/git/recommender_implement_with_spark/self_recommender.py:51: RuntimeWarning: overflow encountered in add\n",
      "  sse = R.map(lambda x: (x[2] - w.value[x[0]].dot(h.value[x[1]].T))**2 ).reduce(lambda x,y: x+y)\n",
      "/home/noing/git/recommender_implement_with_spark/self_recommender.py:51: RuntimeWarning: overflow encountered in add\n",
      "  sse = R.map(lambda x: (x[2] - w.value[x[0]].dot(h.value[x[1]].T))**2 ).reduce(lambda x,y: x+y)\n",
      "/home/noing/git/recommender_implement_with_spark/self_recommender.py:51: RuntimeWarning: overflow encountered in add\n",
      "  sse = R.map(lambda x: (x[2] - w.value[x[0]].dot(h.value[x[1]].T))**2 ).reduce(lambda x,y: x+y)\n",
      "/home/noing/git/recommender_implement_with_spark/self_recommender.py:51: RuntimeWarning: overflow encountered in add\n",
      "  sse = R.map(lambda x: (x[2] - w.value[x[0]].dot(h.value[x[1]].T))**2 ).reduce(lambda x,y: x+y)\n",
      "/home/noing/git/recommender_implement_with_spark/self_recommender.py:51: RuntimeWarning: overflow encountered in add\n",
      "  sse = R.map(lambda x: (x[2] - w.value[x[0]].dot(h.value[x[1]].T))**2 ).reduce(lambda x,y: x+y)\n",
      "/home/noing/git/recommender_implement_with_spark/self_recommender.py:51: RuntimeWarning: overflow encountered in add\n",
      "  sse = R.map(lambda x: (x[2] - w.value[x[0]].dot(h.value[x[1]].T))**2 ).reduce(lambda x,y: x+y)\n",
      "/home/noing/git/recommender_implement_with_spark/self_recommender.py:51: RuntimeWarning: overflow encountered in add\n",
      "  sse = R.map(lambda x: (x[2] - w.value[x[0]].dot(h.value[x[1]].T))**2 ).reduce(lambda x,y: x+y)\n",
      "/home/noing/git/recommender_implement_with_spark/self_recommender.py:51: RuntimeWarning: overflow encountered in add\n",
      "  sse = R.map(lambda x: (x[2] - w.value[x[0]].dot(h.value[x[1]].T))**2 ).reduce(lambda x,y: x+y)\n",
      "/home/noing/git/recommender_implement_with_spark/self_recommender.py:51: RuntimeWarning: overflow encountered in add\n",
      "  sse = R.map(lambda x: (x[2] - w.value[x[0]].dot(h.value[x[1]].T))**2 ).reduce(lambda x,y: x+y)\n",
      "/home/noing/git/recommender_implement_with_spark/self_recommender.py:51: RuntimeWarning: overflow encountered in add\n",
      "  sse = R.map(lambda x: (x[2] - w.value[x[0]].dot(h.value[x[1]].T))**2 ).reduce(lambda x,y: x+y)\n",
      "/home/noing/git/recommender_implement_with_spark/self_recommender.py:51: RuntimeWarning: overflow encountered in add\n",
      "  sse = R.map(lambda x: (x[2] - w.value[x[0]].dot(h.value[x[1]].T))**2 ).reduce(lambda x,y: x+y)\n",
      "/home/noing/git/recommender_implement_with_spark/self_recommender.py:51: RuntimeWarning: overflow encountered in add\n",
      "  sse = R.map(lambda x: (x[2] - w.value[x[0]].dot(h.value[x[1]].T))**2 ).reduce(lambda x,y: x+y)\n",
      "/home/noing/git/recommender_implement_with_spark/self_recommender.py:51: RuntimeWarning: overflow encountered in add\n",
      "  sse = R.map(lambda x: (x[2] - w.value[x[0]].dot(h.value[x[1]].T))**2 ).reduce(lambda x,y: x+y)\n",
      "/home/noing/git/recommender_implement_with_spark/self_recommender.py:51: RuntimeWarning: overflow encountered in add\n",
      "  sse = R.map(lambda x: (x[2] - w.value[x[0]].dot(h.value[x[1]].T))**2 ).reduce(lambda x,y: x+y)\n",
      "/home/noing/git/recommender_implement_with_spark/self_recommender.py:51: RuntimeWarning: overflow encountered in add\n",
      "  sse = R.map(lambda x: (x[2] - w.value[x[0]].dot(h.value[x[1]].T))**2 ).reduce(lambda x,y: x+y)\n",
      "/home/noing/git/recommender_implement_with_spark/self_recommender.py:51: RuntimeWarning: overflow encountered in add\n",
      "  sse = R.map(lambda x: (x[2] - w.value[x[0]].dot(h.value[x[1]].T))**2 ).reduce(lambda x,y: x+y)\n",
      "/home/noing/git/recommender_implement_with_spark/self_recommender.py:51: RuntimeWarning: overflow encountered in add\n",
      "  sse = R.map(lambda x: (x[2] - w.value[x[0]].dot(h.value[x[1]].T))**2 ).reduce(lambda x,y: x+y)\n",
      "/home/noing/git/recommender_implement_with_spark/self_recommender.py:51: RuntimeWarning: overflow encountered in add\n",
      "  sse = R.map(lambda x: (x[2] - w.value[x[0]].dot(h.value[x[1]].T))**2 ).reduce(lambda x,y: x+y)\n",
      "/home/noing/git/recommender_implement_with_spark/self_recommender.py:51: RuntimeWarning: overflow encountered in add\n",
      "  sse = R.map(lambda x: (x[2] - w.value[x[0]].dot(h.value[x[1]].T))**2 ).reduce(lambda x,y: x+y)\n",
      "/home/noing/git/recommender_implement_with_spark/self_recommender.py:51: RuntimeWarning: overflow encountered in add\n",
      "  sse = R.map(lambda x: (x[2] - w.value[x[0]].dot(h.value[x[1]].T))**2 ).reduce(lambda x,y: x+y)\n",
      "/home/noing/git/recommender_implement_with_spark/self_recommender.py:51: RuntimeWarning: overflow encountered in add\n",
      "  sse = R.map(lambda x: (x[2] - w.value[x[0]].dot(h.value[x[1]].T))**2 ).reduce(lambda x,y: x+y)\n",
      "/home/noing/git/recommender_implement_with_spark/self_recommender.py:51: RuntimeWarning: overflow encountered in add\n",
      "  sse = R.map(lambda x: (x[2] - w.value[x[0]].dot(h.value[x[1]].T))**2 ).reduce(lambda x,y: x+y)\n",
      "/home/noing/git/recommender_implement_with_spark/self_recommender.py:51: RuntimeWarning: overflow encountered in add\n",
      "  sse = R.map(lambda x: (x[2] - w.value[x[0]].dot(h.value[x[1]].T))**2 ).reduce(lambda x,y: x+y)\n",
      "/home/noing/git/recommender_implement_with_spark/self_recommender.py:51: RuntimeWarning: overflow encountered in add\n",
      "  sse = R.map(lambda x: (x[2] - w.value[x[0]].dot(h.value[x[1]].T))**2 ).reduce(lambda x,y: x+y)\n",
      "/home/noing/git/recommender_implement_with_spark/self_recommender.py:51: RuntimeWarning: overflow encountered in add\n",
      "  sse = R.map(lambda x: (x[2] - w.value[x[0]].dot(h.value[x[1]].T))**2 ).reduce(lambda x,y: x+y)\n",
      "/home/noing/git/recommender_implement_with_spark/self_recommender.py:51: RuntimeWarning: overflow encountered in add\n",
      "  sse = R.map(lambda x: (x[2] - w.value[x[0]].dot(h.value[x[1]].T))**2 ).reduce(lambda x,y: x+y)\n",
      "/home/noing/git/recommender_implement_with_spark/self_recommender.py:51: RuntimeWarning: overflow encountered in add\n",
      "  sse = R.map(lambda x: (x[2] - w.value[x[0]].dot(h.value[x[1]].T))**2 ).reduce(lambda x,y: x+y)\n",
      "                                                                                \r"
     ]
    }
   ],
   "source": [
    "max_iter = 10\n",
    "for lamb in lambds:\n",
    "    for stepsize in stepsizes:\n",
    "        for num_factor in num_factors:\n",
    "            model = DSGD(num_factor=num_factor, step_size=stepsize, max_iter=max_iter, lambd=lamb)\n",
    "            model.train(sc, originRDD, trainRDD, testRDD)\n",
    "            train_DSGD_result_list[f'DSGD stepsize={stepsize}, miter={max_iter}, nfactor={num_factor}, lambda={lamb}']=model.get_train_rmse()\n",
    "            test_DSGD_result_list[f'DSGD stepsize={stepsize}, miter={max_iter}, nfactor={num_factor}, lambda={lamb}']=model.get_test_rmse()\n",
    "            time_cost_DSGD_result_list[f'DSGD stepsize={stepsize}, miter={max_iter}, nfactor={num_factor}, lambda={lamb}']=model.get_time_cost()\n",
    "            model.save_plot_rmse(f'DSGD stepsize={stepsize}, miter={max_iter}, nfactor={num_factor}, lambda={lamb}')"
   ]
  },
  {
   "cell_type": "code",
   "execution_count": 13,
   "id": "d29b7894",
   "metadata": {},
   "outputs": [],
   "source": [
    "with open('test_rmse_DSGD.pkl', 'wb') as f:\n",
    "    pickle.dump(test_DSGD_result_list, f)\n",
    "with open('train_rmse_DSGD.pkl', 'wb') as f:\n",
    "    pickle.dump(train_DSGD_result_list, f)\n",
    "with open('time_cost_DSGD.pkl', 'wb') as f:\n",
    "    pickle.dump(time_cost_DSGD_result_list, f)"
   ]
  },
  {
   "cell_type": "code",
   "execution_count": 14,
   "id": "b23bd4f5",
   "metadata": {},
   "outputs": [
    {
     "data": {
      "text/plain": [
       "{'DSGD stepsize=0.001, miter=10, nfactor=10, lambda=0.1': 0.9589843,\n",
       " 'DSGD stepsize=0.001, miter=10, nfactor=20, lambda=0.1': 1.0023545,\n",
       " 'DSGD stepsize=0.001, miter=10, nfactor=30, lambda=0.1': 1.2197591,\n",
       " 'DSGD stepsize=0.005, miter=10, nfactor=10, lambda=0.1': 0.8692193,\n",
       " 'DSGD stepsize=0.005, miter=10, nfactor=20, lambda=0.1': 0.9045088,\n",
       " 'DSGD stepsize=0.005, miter=10, nfactor=30, lambda=0.1': 1.0031549,\n",
       " 'DSGD stepsize=0.0025, miter=10, nfactor=10, lambda=0.1': 0.88545495,\n",
       " 'DSGD stepsize=0.0025, miter=10, nfactor=20, lambda=0.1': 0.93783075,\n",
       " 'DSGD stepsize=0.0025, miter=10, nfactor=30, lambda=0.1': 1.0546317,\n",
       " 'DSGD stepsize=0.001, miter=10, nfactor=10, lambda=0.5': 0.96232575,\n",
       " 'DSGD stepsize=0.001, miter=10, nfactor=20, lambda=0.5': 0.9995485,\n",
       " 'DSGD stepsize=0.001, miter=10, nfactor=30, lambda=0.5': 1.2177838,\n",
       " 'DSGD stepsize=0.005, miter=10, nfactor=10, lambda=0.5': 0.8818223,\n",
       " 'DSGD stepsize=0.005, miter=10, nfactor=20, lambda=0.5': 0.9082716,\n",
       " 'DSGD stepsize=0.005, miter=10, nfactor=30, lambda=0.5': 0.9731061,\n",
       " 'DSGD stepsize=0.0025, miter=10, nfactor=10, lambda=0.5': 0.90006185,\n",
       " 'DSGD stepsize=0.0025, miter=10, nfactor=20, lambda=0.5': 0.93397224,\n",
       " 'DSGD stepsize=0.0025, miter=10, nfactor=30, lambda=0.5': 1.0439245,\n",
       " 'DSGD stepsize=0.001, miter=10, nfactor=10, lambda=10': 0.9664863,\n",
       " 'DSGD stepsize=0.001, miter=10, nfactor=20, lambda=10': 1.0079432,\n",
       " 'DSGD stepsize=0.001, miter=10, nfactor=30, lambda=10': 1.2321959,\n",
       " 'DSGD stepsize=0.005, miter=10, nfactor=10, lambda=10': 0.8655185,\n",
       " 'DSGD stepsize=0.005, miter=10, nfactor=20, lambda=10': 0.91355747,\n",
       " 'DSGD stepsize=0.005, miter=10, nfactor=30, lambda=10': 0.999147,\n",
       " 'DSGD stepsize=0.0025, miter=10, nfactor=10, lambda=10': 0.8971595,\n",
       " 'DSGD stepsize=0.0025, miter=10, nfactor=20, lambda=10': 0.9352602,\n",
       " 'DSGD stepsize=0.0025, miter=10, nfactor=30, lambda=10': 1.0727383}"
      ]
     },
     "execution_count": 14,
     "metadata": {},
     "output_type": "execute_result"
    }
   ],
   "source": [
    "test_DSGD_result_list"
   ]
  },
  {
   "cell_type": "code",
   "execution_count": 15,
   "id": "a6abbc10",
   "metadata": {},
   "outputs": [
    {
     "data": {
      "text/plain": [
       "{'DSGD stepsize=0.001, miter=10, nfactor=10, lambda=0.1': datetime.timedelta(seconds=103, microseconds=44407),\n",
       " 'DSGD stepsize=0.001, miter=10, nfactor=20, lambda=0.1': datetime.timedelta(seconds=94, microseconds=781555),\n",
       " 'DSGD stepsize=0.001, miter=10, nfactor=30, lambda=0.1': datetime.timedelta(seconds=100, microseconds=210765),\n",
       " 'DSGD stepsize=0.005, miter=10, nfactor=10, lambda=0.1': datetime.timedelta(seconds=97, microseconds=151655),\n",
       " 'DSGD stepsize=0.005, miter=10, nfactor=20, lambda=0.1': datetime.timedelta(seconds=99, microseconds=249261),\n",
       " 'DSGD stepsize=0.005, miter=10, nfactor=30, lambda=0.1': datetime.timedelta(seconds=100, microseconds=42229),\n",
       " 'DSGD stepsize=0.0025, miter=10, nfactor=10, lambda=0.1': datetime.timedelta(seconds=91, microseconds=650134),\n",
       " 'DSGD stepsize=0.0025, miter=10, nfactor=20, lambda=0.1': datetime.timedelta(seconds=93, microseconds=876866),\n",
       " 'DSGD stepsize=0.0025, miter=10, nfactor=30, lambda=0.1': datetime.timedelta(seconds=94, microseconds=227252),\n",
       " 'DSGD stepsize=0.001, miter=10, nfactor=10, lambda=0.5': datetime.timedelta(seconds=92, microseconds=407405),\n",
       " 'DSGD stepsize=0.001, miter=10, nfactor=20, lambda=0.5': datetime.timedelta(seconds=93, microseconds=341583),\n",
       " 'DSGD stepsize=0.001, miter=10, nfactor=30, lambda=0.5': datetime.timedelta(seconds=94, microseconds=492225),\n",
       " 'DSGD stepsize=0.005, miter=10, nfactor=10, lambda=0.5': datetime.timedelta(seconds=92, microseconds=207315),\n",
       " 'DSGD stepsize=0.005, miter=10, nfactor=20, lambda=0.5': datetime.timedelta(seconds=94, microseconds=260972),\n",
       " 'DSGD stepsize=0.005, miter=10, nfactor=30, lambda=0.5': datetime.timedelta(seconds=94, microseconds=704191),\n",
       " 'DSGD stepsize=0.0025, miter=10, nfactor=10, lambda=0.5': datetime.timedelta(seconds=92, microseconds=839997),\n",
       " 'DSGD stepsize=0.0025, miter=10, nfactor=20, lambda=0.5': datetime.timedelta(seconds=93, microseconds=333981),\n",
       " 'DSGD stepsize=0.0025, miter=10, nfactor=30, lambda=0.5': datetime.timedelta(seconds=94, microseconds=296827),\n",
       " 'DSGD stepsize=0.001, miter=10, nfactor=10, lambda=10': datetime.timedelta(seconds=94, microseconds=348850),\n",
       " 'DSGD stepsize=0.001, miter=10, nfactor=20, lambda=10': datetime.timedelta(seconds=93, microseconds=271543),\n",
       " 'DSGD stepsize=0.001, miter=10, nfactor=30, lambda=10': datetime.timedelta(seconds=94, microseconds=372374),\n",
       " 'DSGD stepsize=0.005, miter=10, nfactor=10, lambda=10': datetime.timedelta(seconds=91, microseconds=406215),\n",
       " 'DSGD stepsize=0.005, miter=10, nfactor=20, lambda=10': datetime.timedelta(seconds=92, microseconds=623023),\n",
       " 'DSGD stepsize=0.005, miter=10, nfactor=30, lambda=10': datetime.timedelta(seconds=95, microseconds=392448),\n",
       " 'DSGD stepsize=0.0025, miter=10, nfactor=10, lambda=10': datetime.timedelta(seconds=91, microseconds=475783),\n",
       " 'DSGD stepsize=0.0025, miter=10, nfactor=20, lambda=10': datetime.timedelta(seconds=93, microseconds=74850),\n",
       " 'DSGD stepsize=0.0025, miter=10, nfactor=30, lambda=10': datetime.timedelta(seconds=93, microseconds=181687)}"
      ]
     },
     "execution_count": 15,
     "metadata": {},
     "output_type": "execute_result"
    }
   ],
   "source": [
    "time_cost_DSGD_result_list"
   ]
  },
  {
   "cell_type": "code",
   "execution_count": 16,
   "id": "9d89b3cf",
   "metadata": {},
   "outputs": [
    {
     "data": {
      "text/plain": [
       "{'DSGD stepsize=0.001, miter=10, nfactor=10, lambda=0.1': 0.6738309229418369,\n",
       " 'DSGD stepsize=0.001, miter=10, nfactor=20, lambda=0.1': 0.7280036114778541,\n",
       " 'DSGD stepsize=0.001, miter=10, nfactor=30, lambda=0.1': inf,\n",
       " 'DSGD stepsize=0.005, miter=10, nfactor=10, lambda=0.1': 0.6350491730760115,\n",
       " 'DSGD stepsize=0.005, miter=10, nfactor=20, lambda=0.1': 0.6438002632387755,\n",
       " 'DSGD stepsize=0.005, miter=10, nfactor=30, lambda=0.1': 0.6885002721247431,\n",
       " 'DSGD stepsize=0.0025, miter=10, nfactor=10, lambda=0.1': 0.6465879608428324,\n",
       " 'DSGD stepsize=0.0025, miter=10, nfactor=20, lambda=0.1': 0.6669746900679041,\n",
       " 'DSGD stepsize=0.0025, miter=10, nfactor=30, lambda=0.1': 0.7312903262081112,\n",
       " 'DSGD stepsize=0.001, miter=10, nfactor=10, lambda=0.5': 0.6708585620769911,\n",
       " 'DSGD stepsize=0.001, miter=10, nfactor=20, lambda=0.5': 0.7299226602902844,\n",
       " 'DSGD stepsize=0.001, miter=10, nfactor=30, lambda=0.5': 0.9003176144282036,\n",
       " 'DSGD stepsize=0.005, miter=10, nfactor=10, lambda=0.5': 0.6428683443957439,\n",
       " 'DSGD stepsize=0.005, miter=10, nfactor=20, lambda=0.5': 0.6468969634701929,\n",
       " 'DSGD stepsize=0.005, miter=10, nfactor=30, lambda=0.5': 0.6708585620769911,\n",
       " 'DSGD stepsize=0.0025, miter=10, nfactor=10, lambda=0.5': 0.6496713734708739,\n",
       " 'DSGD stepsize=0.0025, miter=10, nfactor=20, lambda=0.5': 0.6660751958082398,\n",
       " 'DSGD stepsize=0.0025, miter=10, nfactor=30, lambda=0.5': 0.7342902245340525,\n",
       " 'DSGD stepsize=0.001, miter=10, nfactor=10, lambda=10': 0.6720490839754668,\n",
       " 'DSGD stepsize=0.001, miter=10, nfactor=20, lambda=10': 0.735106253929635,\n",
       " 'DSGD stepsize=0.001, miter=10, nfactor=30, lambda=10': inf,\n",
       " 'DSGD stepsize=0.005, miter=10, nfactor=10, lambda=10': 0.6356782462100256,\n",
       " 'DSGD stepsize=0.005, miter=10, nfactor=20, lambda=10': 0.6490558627941079,\n",
       " 'DSGD stepsize=0.005, miter=10, nfactor=30, lambda=10': 0.6908184614183069,\n",
       " 'DSGD stepsize=0.0025, miter=10, nfactor=10, lambda=10': 0.6496713734708739,\n",
       " 'DSGD stepsize=0.0025, miter=10, nfactor=20, lambda=10': 0.6672742520367775,\n",
       " 'DSGD stepsize=0.0025, miter=10, nfactor=30, lambda=10': 0.7528351482301299}"
      ]
     },
     "execution_count": 16,
     "metadata": {},
     "output_type": "execute_result"
    }
   ],
   "source": [
    "train_DSGD_result_list"
   ]
  },
  {
   "cell_type": "code",
   "execution_count": 17,
   "id": "90f6fdaa",
   "metadata": {},
   "outputs": [],
   "source": [
    "train_ALS_result_list = {}\n",
    "test_ALS_result_list = {}\n",
    "time_cost_ALS_result_list = {}"
   ]
  },
  {
   "cell_type": "code",
   "execution_count": 18,
   "id": "7a118de4",
   "metadata": {},
   "outputs": [],
   "source": [
    "max_iters = [10, 20, 50]\n",
    "lambds = [10, 20, 50]\n",
    "num_factors = [10, 20, 30]"
   ]
  },
  {
   "cell_type": "code",
   "execution_count": 20,
   "id": "cb4a1dcf",
   "metadata": {},
   "outputs": [
    {
     "name": "stderr",
     "output_type": "stream",
     "text": [
      "                                                                                \r"
     ]
    }
   ],
   "source": [
    "max_iter = 10\n",
    "for lamb in lambds:\n",
    "    for num_factor in num_factors:\n",
    "        model = ALS(num_factor=num_factor, max_iter=max_iter, lambd=lamb)\n",
    "        model.train(sc, originRDD, trainRDD, testRDD)\n",
    "        train_ALS_result_list[f'ALS miter={max_iter}, nfactor={num_factor}, lambda={lamb}']=model.get_train_rmse()\n",
    "        test_ALS_result_list[f'ALS miter={max_iter}, nfactor={num_factor}, lambda={lamb}']=model.get_test_rmse()\n",
    "        time_cost_ALS_result_list[f'ALS miter={max_iter}, nfactor={num_factor}, lambda={lamb}']=model.get_time_cost()\n",
    "        model.save_plot_rmse(f'ALS miter={max_iter}, nfactor={num_factor}, lambda={lamb}')"
   ]
  },
  {
   "cell_type": "code",
   "execution_count": 21,
   "id": "cbce0d45",
   "metadata": {},
   "outputs": [],
   "source": [
    "with open('test_rmse_ALS.pkl', 'wb') as f:\n",
    "    pickle.dump(test_ALS_result_list, f)\n",
    "with open('train_rmse_ALS.pkl', 'wb') as f:\n",
    "    pickle.dump(train_ALS_result_list, f)\n",
    "with open('time_cost_ALS.pkl', 'wb') as f:\n",
    "    pickle.dump(time_cost_ALS_result_list, f)"
   ]
  },
  {
   "cell_type": "code",
   "execution_count": 22,
   "id": "f873cc78",
   "metadata": {},
   "outputs": [
    {
     "data": {
      "text/plain": [
       "{'ALS miter=10, nfactor=10, lambda=10': 0.9570722942299743,\n",
       " 'ALS miter=10, nfactor=20, lambda=10': 0.9764623469334455,\n",
       " 'ALS miter=10, nfactor=30, lambda=10': 0.9832462796758047,\n",
       " 'ALS miter=10, nfactor=10, lambda=20': 1.028198216429219,\n",
       " 'ALS miter=10, nfactor=20, lambda=20': 1.0309498130080652,\n",
       " 'ALS miter=10, nfactor=30, lambda=20': 1.0326945035583546,\n",
       " 'ALS miter=10, nfactor=10, lambda=50': 1.296582742545248,\n",
       " 'ALS miter=10, nfactor=20, lambda=50': 1.2974624662747276,\n",
       " 'ALS miter=10, nfactor=30, lambda=50': 1.2978592312694548}"
      ]
     },
     "execution_count": 22,
     "metadata": {},
     "output_type": "execute_result"
    }
   ],
   "source": [
    "test_ALS_result_list"
   ]
  },
  {
   "cell_type": "code",
   "execution_count": 23,
   "id": "45c1913e",
   "metadata": {},
   "outputs": [
    {
     "data": {
      "text/plain": [
       "{'ALS miter=10, nfactor=10, lambda=10': 0.8107581983573895,\n",
       " 'ALS miter=10, nfactor=20, lambda=10': 0.7417343304705022,\n",
       " 'ALS miter=10, nfactor=30, lambda=10': 0.698869811648173,\n",
       " 'ALS miter=10, nfactor=10, lambda=20': 0.9523750897127452,\n",
       " 'ALS miter=10, nfactor=20, lambda=20': 0.9471723765343775,\n",
       " 'ALS miter=10, nfactor=30, lambda=20': 0.945967209858048,\n",
       " 'ALS miter=10, nfactor=10, lambda=50': 1.2555450696293406,\n",
       " 'ALS miter=10, nfactor=20, lambda=50': 1.2565166173489608,\n",
       " 'ALS miter=10, nfactor=30, lambda=50': 1.256935554128971}"
      ]
     },
     "execution_count": 23,
     "metadata": {},
     "output_type": "execute_result"
    }
   ],
   "source": [
    "train_ALS_result_list"
   ]
  },
  {
   "cell_type": "code",
   "execution_count": 24,
   "id": "84784575",
   "metadata": {},
   "outputs": [
    {
     "data": {
      "text/plain": [
       "{'ALS miter=10, nfactor=10, lambda=10': datetime.timedelta(seconds=49, microseconds=634605),\n",
       " 'ALS miter=10, nfactor=20, lambda=10': datetime.timedelta(seconds=46, microseconds=949738),\n",
       " 'ALS miter=10, nfactor=30, lambda=10': datetime.timedelta(seconds=47, microseconds=396995),\n",
       " 'ALS miter=10, nfactor=10, lambda=20': datetime.timedelta(seconds=45, microseconds=160740),\n",
       " 'ALS miter=10, nfactor=20, lambda=20': datetime.timedelta(seconds=47, microseconds=155623),\n",
       " 'ALS miter=10, nfactor=30, lambda=20': datetime.timedelta(seconds=47, microseconds=714878),\n",
       " 'ALS miter=10, nfactor=10, lambda=50': datetime.timedelta(seconds=45, microseconds=714528),\n",
       " 'ALS miter=10, nfactor=20, lambda=50': datetime.timedelta(seconds=42, microseconds=438291),\n",
       " 'ALS miter=10, nfactor=30, lambda=50': datetime.timedelta(seconds=43, microseconds=673990)}"
      ]
     },
     "execution_count": 24,
     "metadata": {},
     "output_type": "execute_result"
    }
   ],
   "source": [
    "time_cost_ALS_result_list"
   ]
  }
 ],
 "metadata": {
  "colab": {
   "provenance": []
  },
  "kernelspec": {
   "display_name": "Python 3 (ipykernel)",
   "language": "python",
   "name": "python3"
  },
  "language_info": {
   "codemirror_mode": {
    "name": "ipython",
    "version": 3
   },
   "file_extension": ".py",
   "mimetype": "text/x-python",
   "name": "python",
   "nbconvert_exporter": "python",
   "pygments_lexer": "ipython3",
   "version": "3.10.6"
  },
  "vscode": {
   "interpreter": {
    "hash": "e7370f93d1d0cde622a1f8e1c04877d8463912d04d973331ad4851f04de6915a"
   }
  }
 },
 "nbformat": 4,
 "nbformat_minor": 5
}
