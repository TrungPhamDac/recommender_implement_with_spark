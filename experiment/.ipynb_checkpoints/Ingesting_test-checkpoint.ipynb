{
 "cells": [
  {
   "cell_type": "code",
   "execution_count": 1,
   "id": "32f39fc0",
   "metadata": {},
   "outputs": [],
   "source": [
    "import pandas as pd\n",
    "import warnings\n",
    "import requests\n",
    "warnings.filterwarnings('ignore')\n"
   ]
  },
  {
   "cell_type": "code",
   "execution_count": 4,
   "id": "2df0b291",
   "metadata": {
    "scrolled": true
   },
   "outputs": [
    {
     "name": "stdout",
     "output_type": "stream",
     "text": [
      "^C\r\n"
     ]
    }
   ],
   "source": [
    "!curl -sSL https://files.grouplens.org/datasets/movielens/ml-25m.zip > ../data/ml-25m.zip && unzip ../data/ml-25m.zip"
   ]
  },
  {
   "cell_type": "code",
   "execution_count": 3,
   "id": "0ae0c63c",
   "metadata": {
    "scrolled": false
   },
   "outputs": [
    {
     "name": "stdout",
     "output_type": "stream",
     "text": [
      "  % Total    % Received % Xferd  Average Speed   Time    Time     Time  Current\n",
      "                                 Dload  Upload   Total   Spent    Left  Speed\n",
      "100  955k  100  955k    0     0   162k      0  0:00:05  0:00:05 --:--:--  215k\n",
      "Archive:  ml-latest-small.zip\n",
      "   creating: ml-latest-small/\n",
      "  inflating: ml-latest-small/links.csv  \n",
      "  inflating: ml-latest-small/tags.csv  \n",
      "  inflating: ml-latest-small/ratings.csv  \n",
      "  inflating: ml-latest-small/README.txt  \n",
      "  inflating: ml-latest-small/movies.csv  \n"
     ]
    }
   ],
   "source": [
    "!(cd ../data/ && curl -O https://files.grouplens.org/datasets/movielens/ml-latest-small.zip && unzip ml-latest-small.zip)"
   ]
  },
  {
   "cell_type": "code",
   "execution_count": 1,
   "id": "f47ec390",
   "metadata": {
    "scrolled": true
   },
   "outputs": [
    {
     "data": {
      "text/html": [
       "\n",
       "            <div>\n",
       "                <p><b>SparkSession - hive</b></p>\n",
       "                \n",
       "        <div>\n",
       "            <p><b>SparkContext</b></p>\n",
       "\n",
       "            <p><a href=\"http://noing-master:4040\">Spark UI</a></p>\n",
       "\n",
       "            <dl>\n",
       "              <dt>Version</dt>\n",
       "                <dd><code>v3.3.0</code></dd>\n",
       "              <dt>Master</dt>\n",
       "                <dd><code>local[*]</code></dd>\n",
       "              <dt>AppName</dt>\n",
       "                <dd><code>PySparkShell</code></dd>\n",
       "            </dl>\n",
       "        </div>\n",
       "        \n",
       "            </div>\n",
       "        "
      ],
      "text/plain": [
       "<pyspark.sql.session.SparkSession at 0x7ff14c20d150>"
      ]
     },
     "execution_count": 1,
     "metadata": {},
     "output_type": "execute_result"
    }
   ],
   "source": [
    "spark"
   ]
  },
  {
   "cell_type": "code",
   "execution_count": 2,
   "id": "5ee1ebf5",
   "metadata": {},
   "outputs": [
    {
     "name": "stderr",
     "output_type": "stream",
     "text": [
      "                                                                                \r"
     ]
    }
   ],
   "source": [
    "movies_spark_df = spark.read.format('csv').option('header','true').load('../data/ml-latest-small/movies.csv', sep=',')"
   ]
  },
  {
   "cell_type": "code",
   "execution_count": null,
   "id": "1def8939",
   "metadata": {},
   "outputs": [],
   "source": []
  },
  {
   "cell_type": "code",
   "execution_count": 3,
   "id": "9d6c84f7",
   "metadata": {},
   "outputs": [],
   "source": [
    "movies_df = pd.read_csv('../data/ml-latest-small/movies.csv', sep=',')\n",
    "tags_df = pd.read_csv('../data/ml-latest-small/tags.csv', sep=',')\n",
    "links_df = pd.read_csv('../data/ml-latest-small/links.csv', sep=',')\n",
    "ratings_df = pd.read_csv('../data/ml-latest-small/ratings.csv', sep=',')"
   ]
  },
  {
   "cell_type": "code",
   "execution_count": 4,
   "id": "158303ed",
   "metadata": {},
   "outputs": [
    {
     "data": {
      "text/html": [
       "<div>\n",
       "<style scoped>\n",
       "    .dataframe tbody tr th:only-of-type {\n",
       "        vertical-align: middle;\n",
       "    }\n",
       "\n",
       "    .dataframe tbody tr th {\n",
       "        vertical-align: top;\n",
       "    }\n",
       "\n",
       "    .dataframe thead th {\n",
       "        text-align: right;\n",
       "    }\n",
       "</style>\n",
       "<table border=\"1\" class=\"dataframe\">\n",
       "  <thead>\n",
       "    <tr style=\"text-align: right;\">\n",
       "      <th></th>\n",
       "      <th>movieId</th>\n",
       "      <th>title</th>\n",
       "      <th>genres</th>\n",
       "    </tr>\n",
       "  </thead>\n",
       "  <tbody>\n",
       "    <tr>\n",
       "      <th>0</th>\n",
       "      <td>1</td>\n",
       "      <td>Toy Story (1995)</td>\n",
       "      <td>Adventure|Animation|Children|Comedy|Fantasy</td>\n",
       "    </tr>\n",
       "    <tr>\n",
       "      <th>1</th>\n",
       "      <td>2</td>\n",
       "      <td>Jumanji (1995)</td>\n",
       "      <td>Adventure|Children|Fantasy</td>\n",
       "    </tr>\n",
       "    <tr>\n",
       "      <th>2</th>\n",
       "      <td>3</td>\n",
       "      <td>Grumpier Old Men (1995)</td>\n",
       "      <td>Comedy|Romance</td>\n",
       "    </tr>\n",
       "    <tr>\n",
       "      <th>3</th>\n",
       "      <td>4</td>\n",
       "      <td>Waiting to Exhale (1995)</td>\n",
       "      <td>Comedy|Drama|Romance</td>\n",
       "    </tr>\n",
       "    <tr>\n",
       "      <th>4</th>\n",
       "      <td>5</td>\n",
       "      <td>Father of the Bride Part II (1995)</td>\n",
       "      <td>Comedy</td>\n",
       "    </tr>\n",
       "  </tbody>\n",
       "</table>\n",
       "</div>"
      ],
      "text/plain": [
       "   movieId                               title  \\\n",
       "0        1                    Toy Story (1995)   \n",
       "1        2                      Jumanji (1995)   \n",
       "2        3             Grumpier Old Men (1995)   \n",
       "3        4            Waiting to Exhale (1995)   \n",
       "4        5  Father of the Bride Part II (1995)   \n",
       "\n",
       "                                        genres  \n",
       "0  Adventure|Animation|Children|Comedy|Fantasy  \n",
       "1                   Adventure|Children|Fantasy  \n",
       "2                               Comedy|Romance  \n",
       "3                         Comedy|Drama|Romance  \n",
       "4                                       Comedy  "
      ]
     },
     "execution_count": 4,
     "metadata": {},
     "output_type": "execute_result"
    }
   ],
   "source": [
    "movies_df.head(5)"
   ]
  },
  {
   "cell_type": "code",
   "execution_count": 5,
   "id": "c810cad5",
   "metadata": {},
   "outputs": [],
   "source": [
    "fully_movie = movies_df.merge(links_df, on='movieId', suffixes=('_1', '_2'))"
   ]
  },
  {
   "cell_type": "code",
   "execution_count": 6,
   "id": "c062de87",
   "metadata": {},
   "outputs": [
    {
     "data": {
      "text/html": [
       "<div>\n",
       "<style scoped>\n",
       "    .dataframe tbody tr th:only-of-type {\n",
       "        vertical-align: middle;\n",
       "    }\n",
       "\n",
       "    .dataframe tbody tr th {\n",
       "        vertical-align: top;\n",
       "    }\n",
       "\n",
       "    .dataframe thead th {\n",
       "        text-align: right;\n",
       "    }\n",
       "</style>\n",
       "<table border=\"1\" class=\"dataframe\">\n",
       "  <thead>\n",
       "    <tr style=\"text-align: right;\">\n",
       "      <th></th>\n",
       "      <th>movieId</th>\n",
       "      <th>title</th>\n",
       "      <th>genres</th>\n",
       "      <th>imdbId</th>\n",
       "      <th>tmdbId</th>\n",
       "    </tr>\n",
       "  </thead>\n",
       "  <tbody>\n",
       "    <tr>\n",
       "      <th>0</th>\n",
       "      <td>1</td>\n",
       "      <td>Toy Story (1995)</td>\n",
       "      <td>Adventure|Animation|Children|Comedy|Fantasy</td>\n",
       "      <td>114709</td>\n",
       "      <td>862.0</td>\n",
       "    </tr>\n",
       "    <tr>\n",
       "      <th>1</th>\n",
       "      <td>2</td>\n",
       "      <td>Jumanji (1995)</td>\n",
       "      <td>Adventure|Children|Fantasy</td>\n",
       "      <td>113497</td>\n",
       "      <td>8844.0</td>\n",
       "    </tr>\n",
       "    <tr>\n",
       "      <th>2</th>\n",
       "      <td>3</td>\n",
       "      <td>Grumpier Old Men (1995)</td>\n",
       "      <td>Comedy|Romance</td>\n",
       "      <td>113228</td>\n",
       "      <td>15602.0</td>\n",
       "    </tr>\n",
       "    <tr>\n",
       "      <th>3</th>\n",
       "      <td>4</td>\n",
       "      <td>Waiting to Exhale (1995)</td>\n",
       "      <td>Comedy|Drama|Romance</td>\n",
       "      <td>114885</td>\n",
       "      <td>31357.0</td>\n",
       "    </tr>\n",
       "    <tr>\n",
       "      <th>4</th>\n",
       "      <td>5</td>\n",
       "      <td>Father of the Bride Part II (1995)</td>\n",
       "      <td>Comedy</td>\n",
       "      <td>113041</td>\n",
       "      <td>11862.0</td>\n",
       "    </tr>\n",
       "    <tr>\n",
       "      <th>...</th>\n",
       "      <td>...</td>\n",
       "      <td>...</td>\n",
       "      <td>...</td>\n",
       "      <td>...</td>\n",
       "      <td>...</td>\n",
       "    </tr>\n",
       "    <tr>\n",
       "      <th>9737</th>\n",
       "      <td>193581</td>\n",
       "      <td>Black Butler: Book of the Atlantic (2017)</td>\n",
       "      <td>Action|Animation|Comedy|Fantasy</td>\n",
       "      <td>5476944</td>\n",
       "      <td>432131.0</td>\n",
       "    </tr>\n",
       "    <tr>\n",
       "      <th>9738</th>\n",
       "      <td>193583</td>\n",
       "      <td>No Game No Life: Zero (2017)</td>\n",
       "      <td>Animation|Comedy|Fantasy</td>\n",
       "      <td>5914996</td>\n",
       "      <td>445030.0</td>\n",
       "    </tr>\n",
       "    <tr>\n",
       "      <th>9739</th>\n",
       "      <td>193585</td>\n",
       "      <td>Flint (2017)</td>\n",
       "      <td>Drama</td>\n",
       "      <td>6397426</td>\n",
       "      <td>479308.0</td>\n",
       "    </tr>\n",
       "    <tr>\n",
       "      <th>9740</th>\n",
       "      <td>193587</td>\n",
       "      <td>Bungo Stray Dogs: Dead Apple (2018)</td>\n",
       "      <td>Action|Animation</td>\n",
       "      <td>8391976</td>\n",
       "      <td>483455.0</td>\n",
       "    </tr>\n",
       "    <tr>\n",
       "      <th>9741</th>\n",
       "      <td>193609</td>\n",
       "      <td>Andrew Dice Clay: Dice Rules (1991)</td>\n",
       "      <td>Comedy</td>\n",
       "      <td>101726</td>\n",
       "      <td>37891.0</td>\n",
       "    </tr>\n",
       "  </tbody>\n",
       "</table>\n",
       "<p>9742 rows × 5 columns</p>\n",
       "</div>"
      ],
      "text/plain": [
       "      movieId                                      title  \\\n",
       "0           1                           Toy Story (1995)   \n",
       "1           2                             Jumanji (1995)   \n",
       "2           3                    Grumpier Old Men (1995)   \n",
       "3           4                   Waiting to Exhale (1995)   \n",
       "4           5         Father of the Bride Part II (1995)   \n",
       "...       ...                                        ...   \n",
       "9737   193581  Black Butler: Book of the Atlantic (2017)   \n",
       "9738   193583               No Game No Life: Zero (2017)   \n",
       "9739   193585                               Flint (2017)   \n",
       "9740   193587        Bungo Stray Dogs: Dead Apple (2018)   \n",
       "9741   193609        Andrew Dice Clay: Dice Rules (1991)   \n",
       "\n",
       "                                           genres   imdbId    tmdbId  \n",
       "0     Adventure|Animation|Children|Comedy|Fantasy   114709     862.0  \n",
       "1                      Adventure|Children|Fantasy   113497    8844.0  \n",
       "2                                  Comedy|Romance   113228   15602.0  \n",
       "3                            Comedy|Drama|Romance   114885   31357.0  \n",
       "4                                          Comedy   113041   11862.0  \n",
       "...                                           ...      ...       ...  \n",
       "9737              Action|Animation|Comedy|Fantasy  5476944  432131.0  \n",
       "9738                     Animation|Comedy|Fantasy  5914996  445030.0  \n",
       "9739                                        Drama  6397426  479308.0  \n",
       "9740                             Action|Animation  8391976  483455.0  \n",
       "9741                                       Comedy   101726   37891.0  \n",
       "\n",
       "[9742 rows x 5 columns]"
      ]
     },
     "execution_count": 6,
     "metadata": {},
     "output_type": "execute_result"
    }
   ],
   "source": [
    "fully_movie"
   ]
  },
  {
   "cell_type": "code",
   "execution_count": 9,
   "id": "b3501a7a",
   "metadata": {},
   "outputs": [
    {
     "data": {
      "text/plain": [
       "movieId    0\n",
       "title      0\n",
       "genres     0\n",
       "imdbId     0\n",
       "tmdbId     8\n",
       "dtype: int64"
      ]
     },
     "execution_count": 9,
     "metadata": {},
     "output_type": "execute_result"
    }
   ],
   "source": [
    "fully_movie.isnull().sum()"
   ]
  },
  {
   "cell_type": "code",
   "execution_count": 7,
   "id": "ec9d4c9a",
   "metadata": {},
   "outputs": [
    {
     "data": {
      "text/plain": [
       "<Response [200]>"
      ]
     },
     "execution_count": 7,
     "metadata": {},
     "output_type": "execute_result"
    }
   ],
   "source": [
    "payload = {'userName': 'noing', 'password': 'noi06122001'}\n",
    "session = requests.Session()\n",
    "session.post('https://movielens.org/api/sessions', json=payload)"
   ]
  },
  {
   "cell_type": "code",
   "execution_count": 8,
   "id": "e0f2e2cf",
   "metadata": {},
   "outputs": [],
   "source": [
    "def get_movie_data(id):\n",
    "    imdb = session.get(f'https://movielens.org/api/movies/{id}')\n",
    "    movie_data = imdb.json()['data']['movieDetails']['movie']\n",
    "    return movie_data"
   ]
  },
  {
   "cell_type": "code",
   "execution_count": 9,
   "id": "b7b8d334",
   "metadata": {},
   "outputs": [],
   "source": [
    "genre_df = pd.DataFrame(columns=['movieId', 'genre'])\n",
    "laguage_df = pd.DataFrame(columns=['movieId', 'language'])\n",
    "director_df = pd.DataFrame(columns=['movieId', 'director'])\n",
    "actor_df = pd.DataFrame(columns=['movieId', 'actor'])\n"
   ]
  },
  {
   "cell_type": "code",
   "execution_count": 10,
   "id": "810a33f4",
   "metadata": {},
   "outputs": [],
   "source": [
    "fully_movie.drop('genres', axis=1, inplace=True) "
   ]
  },
  {
   "cell_type": "code",
   "execution_count": 11,
   "id": "3af47125",
   "metadata": {
    "scrolled": true
   },
   "outputs": [
    {
     "name": "stdout",
     "output_type": "stream",
     "text": [
      "processing movie id 1\n",
      "processing movie id 2\n",
      "processing movie id 3\n",
      "processing movie id 4\n",
      "processing movie id 5\n",
      "processing movie id 6\n",
      "processing movie id 7\n",
      "processing movie id 8\n",
      "processing movie id 9\n",
      "processing movie id 10\n"
     ]
    }
   ],
   "source": [
    "for i in fully_movie.index[:10]:\n",
    "    movie_id = fully_movie.loc[i, 'movieId']\n",
    "    print(f'========Processing {movie_id}==========')\n",
    "    try:\n",
    "        movie_data = get_movie_data(movie_id)\n",
    "    except Exception as e:\n",
    "        movie_data = get_themoviedb_data(fully_movie.loc[i, 'tmdbId'])\n",
    "    print(movie_data)\n",
    "    fully_movie.loc[i, 'plotSummary'] = movie_data.get('plotSummary', '')\n",
    "    fully_movie.loc[i, 'releaseYear'] = movie_data.get('releaseYear', '')\n",
    "    fully_movie.loc[i, 'posterPath'] = movie_data.get('posterPath', '')\n",
    "    fully_movie.loc[i, 'releaseDate'] = movie_data.get('releaseDate', '')\n",
    "    fully_movie.loc[i, 'title'] = movie_data.get('title', '')\n",
    "    fully_movie.loc[i, 'mpaa'] = movie_data.get('mpaa','')\n",
    "    for genre in movie_data.get('genres', []):\n",
    "        genre_df.append({'movieId': movie_id, 'genre': genre}, ignore_index=True)\n",
    "    for language in movie_data.get('languages', []):\n",
    "        language_df.append({'movieId': movie_id, 'language': language}, ignore_index=True)\n",
    "    for director in movie_data.get('directors', []):\n",
    "        director_df.append({'movieId': movie_id, 'director': director}, ignore_index=True)\n",
    "    for actor in movie_data.get('actors', []):\n",
    "        actor_df.append({'movieId': movie_id, 'actor': actor}, ignore_index=True)\n"
   ]
  },
  {
   "cell_type": "code",
   "execution_count": 24,
   "id": "b0b675c0",
   "metadata": {
    "scrolled": true
   },
   "outputs": [
    {
     "data": {
      "text/html": [
       "<div>\n",
       "<style scoped>\n",
       "    .dataframe tbody tr th:only-of-type {\n",
       "        vertical-align: middle;\n",
       "    }\n",
       "\n",
       "    .dataframe tbody tr th {\n",
       "        vertical-align: top;\n",
       "    }\n",
       "\n",
       "    .dataframe thead th {\n",
       "        text-align: right;\n",
       "    }\n",
       "</style>\n",
       "<table border=\"1\" class=\"dataframe\">\n",
       "  <thead>\n",
       "    <tr style=\"text-align: right;\">\n",
       "      <th></th>\n",
       "      <th>movieId</th>\n",
       "      <th>title</th>\n",
       "      <th>genres</th>\n",
       "      <th>imdbId</th>\n",
       "      <th>tmdbId</th>\n",
       "      <th>link</th>\n",
       "    </tr>\n",
       "  </thead>\n",
       "  <tbody>\n",
       "    <tr>\n",
       "      <th>0</th>\n",
       "      <td>1</td>\n",
       "      <td>Toy Story (1995)</td>\n",
       "      <td>Adventure|Animation|Children|Comedy|Fantasy</td>\n",
       "      <td>114709</td>\n",
       "      <td>862.0</td>\n",
       "      <td>link 1</td>\n",
       "    </tr>\n",
       "    <tr>\n",
       "      <th>1</th>\n",
       "      <td>2</td>\n",
       "      <td>Jumanji (1995)</td>\n",
       "      <td>Adventure|Children|Fantasy</td>\n",
       "      <td>113497</td>\n",
       "      <td>8844.0</td>\n",
       "      <td>link 2</td>\n",
       "    </tr>\n",
       "    <tr>\n",
       "      <th>2</th>\n",
       "      <td>3</td>\n",
       "      <td>Grumpier Old Men (1995)</td>\n",
       "      <td>Comedy|Romance</td>\n",
       "      <td>113228</td>\n",
       "      <td>15602.0</td>\n",
       "      <td>link 3</td>\n",
       "    </tr>\n",
       "    <tr>\n",
       "      <th>3</th>\n",
       "      <td>4</td>\n",
       "      <td>Waiting to Exhale (1995)</td>\n",
       "      <td>Comedy|Drama|Romance</td>\n",
       "      <td>114885</td>\n",
       "      <td>31357.0</td>\n",
       "      <td>link 4</td>\n",
       "    </tr>\n",
       "    <tr>\n",
       "      <th>4</th>\n",
       "      <td>5</td>\n",
       "      <td>Father of the Bride Part II (1995)</td>\n",
       "      <td>Comedy</td>\n",
       "      <td>113041</td>\n",
       "      <td>11862.0</td>\n",
       "      <td>link 5</td>\n",
       "    </tr>\n",
       "    <tr>\n",
       "      <th>...</th>\n",
       "      <td>...</td>\n",
       "      <td>...</td>\n",
       "      <td>...</td>\n",
       "      <td>...</td>\n",
       "      <td>...</td>\n",
       "      <td>...</td>\n",
       "    </tr>\n",
       "    <tr>\n",
       "      <th>9737</th>\n",
       "      <td>193581</td>\n",
       "      <td>Black Butler: Book of the Atlantic (2017)</td>\n",
       "      <td>Action|Animation|Comedy|Fantasy</td>\n",
       "      <td>5476944</td>\n",
       "      <td>432131.0</td>\n",
       "      <td>link 193581</td>\n",
       "    </tr>\n",
       "    <tr>\n",
       "      <th>9738</th>\n",
       "      <td>193583</td>\n",
       "      <td>No Game No Life: Zero (2017)</td>\n",
       "      <td>Animation|Comedy|Fantasy</td>\n",
       "      <td>5914996</td>\n",
       "      <td>445030.0</td>\n",
       "      <td>link 193583</td>\n",
       "    </tr>\n",
       "    <tr>\n",
       "      <th>9739</th>\n",
       "      <td>193585</td>\n",
       "      <td>Flint (2017)</td>\n",
       "      <td>Drama</td>\n",
       "      <td>6397426</td>\n",
       "      <td>479308.0</td>\n",
       "      <td>link 193585</td>\n",
       "    </tr>\n",
       "    <tr>\n",
       "      <th>9740</th>\n",
       "      <td>193587</td>\n",
       "      <td>Bungo Stray Dogs: Dead Apple (2018)</td>\n",
       "      <td>Action|Animation</td>\n",
       "      <td>8391976</td>\n",
       "      <td>483455.0</td>\n",
       "      <td>link 193587</td>\n",
       "    </tr>\n",
       "    <tr>\n",
       "      <th>9741</th>\n",
       "      <td>193609</td>\n",
       "      <td>Andrew Dice Clay: Dice Rules (1991)</td>\n",
       "      <td>Comedy</td>\n",
       "      <td>101726</td>\n",
       "      <td>37891.0</td>\n",
       "      <td>link 193609</td>\n",
       "    </tr>\n",
       "  </tbody>\n",
       "</table>\n",
       "<p>9742 rows × 6 columns</p>\n",
       "</div>"
      ],
      "text/plain": [
       "      movieId                                      title  \\\n",
       "0           1                           Toy Story (1995)   \n",
       "1           2                             Jumanji (1995)   \n",
       "2           3                    Grumpier Old Men (1995)   \n",
       "3           4                   Waiting to Exhale (1995)   \n",
       "4           5         Father of the Bride Part II (1995)   \n",
       "...       ...                                        ...   \n",
       "9737   193581  Black Butler: Book of the Atlantic (2017)   \n",
       "9738   193583               No Game No Life: Zero (2017)   \n",
       "9739   193585                               Flint (2017)   \n",
       "9740   193587        Bungo Stray Dogs: Dead Apple (2018)   \n",
       "9741   193609        Andrew Dice Clay: Dice Rules (1991)   \n",
       "\n",
       "                                           genres   imdbId    tmdbId  \\\n",
       "0     Adventure|Animation|Children|Comedy|Fantasy   114709     862.0   \n",
       "1                      Adventure|Children|Fantasy   113497    8844.0   \n",
       "2                                  Comedy|Romance   113228   15602.0   \n",
       "3                            Comedy|Drama|Romance   114885   31357.0   \n",
       "4                                          Comedy   113041   11862.0   \n",
       "...                                           ...      ...       ...   \n",
       "9737              Action|Animation|Comedy|Fantasy  5476944  432131.0   \n",
       "9738                     Animation|Comedy|Fantasy  5914996  445030.0   \n",
       "9739                                        Drama  6397426  479308.0   \n",
       "9740                             Action|Animation  8391976  483455.0   \n",
       "9741                                       Comedy   101726   37891.0   \n",
       "\n",
       "             link  \n",
       "0          link 1  \n",
       "1          link 2  \n",
       "2          link 3  \n",
       "3          link 4  \n",
       "4          link 5  \n",
       "...           ...  \n",
       "9737  link 193581  \n",
       "9738  link 193583  \n",
       "9739  link 193585  \n",
       "9740  link 193587  \n",
       "9741  link 193609  \n",
       "\n",
       "[9742 rows x 6 columns]"
      ]
     },
     "execution_count": 24,
     "metadata": {},
     "output_type": "execute_result"
    }
   ],
   "source": [
    "fully_movie"
   ]
  },
  {
   "cell_type": "code",
   "execution_count": 35,
   "id": "716a7503",
   "metadata": {},
   "outputs": [
    {
     "data": {
      "text/html": [
       "<div>\n",
       "<style scoped>\n",
       "    .dataframe tbody tr th:only-of-type {\n",
       "        vertical-align: middle;\n",
       "    }\n",
       "\n",
       "    .dataframe tbody tr th {\n",
       "        vertical-align: top;\n",
       "    }\n",
       "\n",
       "    .dataframe thead th {\n",
       "        text-align: right;\n",
       "    }\n",
       "</style>\n",
       "<table border=\"1\" class=\"dataframe\">\n",
       "  <thead>\n",
       "    <tr style=\"text-align: right;\">\n",
       "      <th></th>\n",
       "      <th>userId</th>\n",
       "    </tr>\n",
       "  </thead>\n",
       "  <tbody>\n",
       "    <tr>\n",
       "      <th>0</th>\n",
       "      <td>1</td>\n",
       "    </tr>\n",
       "    <tr>\n",
       "      <th>1</th>\n",
       "      <td>2</td>\n",
       "    </tr>\n",
       "    <tr>\n",
       "      <th>2</th>\n",
       "      <td>3</td>\n",
       "    </tr>\n",
       "    <tr>\n",
       "      <th>3</th>\n",
       "      <td>4</td>\n",
       "    </tr>\n",
       "    <tr>\n",
       "      <th>4</th>\n",
       "      <td>5</td>\n",
       "    </tr>\n",
       "    <tr>\n",
       "      <th>...</th>\n",
       "      <td>...</td>\n",
       "    </tr>\n",
       "    <tr>\n",
       "      <th>3678</th>\n",
       "      <td>3678</td>\n",
       "    </tr>\n",
       "    <tr>\n",
       "      <th>3679</th>\n",
       "      <td>3679</td>\n",
       "    </tr>\n",
       "    <tr>\n",
       "      <th>3680</th>\n",
       "      <td>3680</td>\n",
       "    </tr>\n",
       "    <tr>\n",
       "      <th>3681</th>\n",
       "      <td>3681</td>\n",
       "    </tr>\n",
       "    <tr>\n",
       "      <th>3682</th>\n",
       "      <td>3682</td>\n",
       "    </tr>\n",
       "  </tbody>\n",
       "</table>\n",
       "<p>3683 rows × 1 columns</p>\n",
       "</div>"
      ],
      "text/plain": [
       "      userId\n",
       "0          1\n",
       "1          2\n",
       "2          3\n",
       "3          4\n",
       "4          5\n",
       "...      ...\n",
       "3678    3678\n",
       "3679    3679\n",
       "3680    3680\n",
       "3681    3681\n",
       "3682    3682\n",
       "\n",
       "[3683 rows x 1 columns]"
      ]
     },
     "execution_count": 35,
     "metadata": {},
     "output_type": "execute_result"
    }
   ],
   "source": [
    "full_df = ratings_df.join(tags_df, rsuffix='_1', on='userId', how='outer')\n",
    "users_df = full_df[['userId']]\n",
    "users_df.drop_duplicates(inplace=True, keep='last')\n",
    "users_df.reset_index(drop=True, level=0, inplace=True)\n",
    "users_df"
   ]
  },
  {
   "cell_type": "code",
   "execution_count": 41,
   "id": "c2d95030",
   "metadata": {
    "scrolled": true
   },
   "outputs": [
    {
     "data": {
      "text/plain": [
       "{'adult': False,\n",
       " 'backdrop_path': '/hZkgoQYus5vegHoetLkCJzb17zJ.jpg',\n",
       " 'belongs_to_collection': None,\n",
       " 'budget': 63000000,\n",
       " 'genres': [{'id': 18, 'name': 'Drama'},\n",
       "  {'id': 53, 'name': 'Thriller'},\n",
       "  {'id': 35, 'name': 'Comedy'}],\n",
       " 'homepage': 'http://www.foxmovies.com/movies/fight-club',\n",
       " 'id': 550,\n",
       " 'imdb_id': 'tt0137523',\n",
       " 'original_language': 'en',\n",
       " 'original_title': 'Fight Club',\n",
       " 'overview': 'A ticking-time-bomb insomniac and a slippery soap salesman channel primal male aggression into a shocking new form of therapy. Their concept catches on, with underground \"fight clubs\" forming in every town, until an eccentric gets in the way and ignites an out-of-control spiral toward oblivion.',\n",
       " 'popularity': 85.501,\n",
       " 'poster_path': '/pB8BM7pdSp6B6Ih7QZ4DrQ3PmJK.jpg',\n",
       " 'production_companies': [{'id': 508,\n",
       "   'logo_path': '/7cxRWzi4LsVm4Utfpr1hfARNurT.png',\n",
       "   'name': 'Regency Enterprises',\n",
       "   'origin_country': 'US'},\n",
       "  {'id': 711,\n",
       "   'logo_path': '/tEiIH5QesdheJmDAqQwvtN60727.png',\n",
       "   'name': 'Fox 2000 Pictures',\n",
       "   'origin_country': 'US'},\n",
       "  {'id': 4700,\n",
       "   'logo_path': '/A32wmjrs9Psf4zw0uaixF0GXfxq.png',\n",
       "   'name': 'The Linson Company',\n",
       "   'origin_country': 'US'},\n",
       "  {'id': 20555,\n",
       "   'logo_path': '/hD8yEGUBlHOcfHYbujp71vD8gZp.png',\n",
       "   'name': 'Taurus Film',\n",
       "   'origin_country': 'DE'},\n",
       "  {'id': 54051,\n",
       "   'logo_path': None,\n",
       "   'name': 'Atman Entertainment',\n",
       "   'origin_country': ''},\n",
       "  {'id': 54052,\n",
       "   'logo_path': None,\n",
       "   'name': 'Knickerbocker Films',\n",
       "   'origin_country': 'US'}],\n",
       " 'production_countries': [{'iso_3166_1': 'DE', 'name': 'Germany'},\n",
       "  {'iso_3166_1': 'US', 'name': 'United States of America'}],\n",
       " 'release_date': '1999-10-15',\n",
       " 'revenue': 100853753,\n",
       " 'runtime': 139,\n",
       " 'spoken_languages': [{'english_name': 'English',\n",
       "   'iso_639_1': 'en',\n",
       "   'name': 'English'}],\n",
       " 'status': 'Released',\n",
       " 'tagline': 'Mischief. Mayhem. Soap.',\n",
       " 'title': 'Fight Club',\n",
       " 'video': False,\n",
       " 'vote_average': 8.429,\n",
       " 'vote_count': 25348}"
      ]
     },
     "execution_count": 41,
     "metadata": {},
     "output_type": "execute_result"
    }
   ],
   "source": [
    "import requests\n",
    "import json\n",
    "API_KEY = 'cfa9db117214a23524eabcd3a1517fc8'\n",
    "r = requests.get(f'https://api.themoviedb.org/3/movie/550?api_key={API_KEY}')\n",
    "r.json()"
   ]
  },
  {
   "cell_type": "code",
   "execution_count": 72,
   "id": "7565b644",
   "metadata": {},
   "outputs": [
    {
     "name": "stderr",
     "output_type": "stream",
     "text": [
      "/tmp/ipykernel_17223/1918181218.py:2: FutureWarning: The frame.append method is deprecated and will be removed from pandas in a future version. Use pandas.concat instead.\n",
      "  category_df = category_df.append({'movieId': 1, 'genre': 'asd'}, ignore_index=True)\n"
     ]
    },
    {
     "data": {
      "text/html": [
       "<div>\n",
       "<style scoped>\n",
       "    .dataframe tbody tr th:only-of-type {\n",
       "        vertical-align: middle;\n",
       "    }\n",
       "\n",
       "    .dataframe tbody tr th {\n",
       "        vertical-align: top;\n",
       "    }\n",
       "\n",
       "    .dataframe thead th {\n",
       "        text-align: right;\n",
       "    }\n",
       "</style>\n",
       "<table border=\"1\" class=\"dataframe\">\n",
       "  <thead>\n",
       "    <tr style=\"text-align: right;\">\n",
       "      <th></th>\n",
       "      <th>movieId</th>\n",
       "      <th>genre</th>\n",
       "    </tr>\n",
       "  </thead>\n",
       "  <tbody>\n",
       "    <tr>\n",
       "      <th>0</th>\n",
       "      <td>1</td>\n",
       "      <td>asd</td>\n",
       "    </tr>\n",
       "  </tbody>\n",
       "</table>\n",
       "</div>"
      ],
      "text/plain": [
       "  movieId genre\n",
       "0       1   asd"
      ]
     },
     "execution_count": 72,
     "metadata": {},
     "output_type": "execute_result"
    }
   ],
   "source": [
    "category_df = pd.DataFrame(columns=['movieId', 'genre'])\n",
    "category_df = category_df.append({'movieId': 1, 'genre': 'asd'}, ignore_index=True)\n",
    "category_df"
   ]
  },
  {
   "cell_type": "code",
   "execution_count": null,
   "id": "0ce96e08",
   "metadata": {},
   "outputs": [],
   "source": []
  },
  {
   "cell_type": "code",
   "execution_count": 73,
   "id": "cb6c2156",
   "metadata": {},
   "outputs": [
    {
     "data": {
      "text/plain": [
       "{'movieId': 318,\n",
       " 'tmdbMovieId': 278,\n",
       " 'imdbMovieId': '0111161',\n",
       " 'title': 'The Shawshank Redemption',\n",
       " 'originalTitle': 'The Shawshank Redemption',\n",
       " 'mpaa': 'R',\n",
       " 'runtime': 142,\n",
       " 'releaseDate': '1994-09-23',\n",
       " 'dvdReleaseDate': '1999-12-21',\n",
       " 'genres': ['Drama', 'Crime'],\n",
       " 'languages': ['English'],\n",
       " 'directors': ['Frank Darabont'],\n",
       " 'actors': ['Tim Robbins',\n",
       "  'Morgan Freeman',\n",
       "  'Bob Gunton',\n",
       "  'William Sadler',\n",
       "  'Clancy Brown',\n",
       "  'Gil Bellows',\n",
       "  'Mark Rolston',\n",
       "  'James Whitmore',\n",
       "  'Jeffrey DeMunn',\n",
       "  'Larry Brandenburg',\n",
       "  'Neil Giuntoli',\n",
       "  'Brian Libby',\n",
       "  'David Proval',\n",
       "  'Joseph Ragno',\n",
       "  'Jude Ciccolella',\n",
       "  'Paul McCrane',\n",
       "  'Renee Blaine',\n",
       "  'Scott Mann',\n",
       "  'John Horton',\n",
       "  'Gordon Greene',\n",
       "  'Alfonso Freeman',\n",
       "  'V.J. Foster',\n",
       "  'John E. Summers',\n",
       "  'Frank Medrano',\n",
       "  'Mack Miles',\n",
       "  'Alan R. Kessler',\n",
       "  'Morgan Lund',\n",
       "  'Cornell Wallace',\n",
       "  'Gary Lee Davis',\n",
       "  'Neil Summers',\n",
       "  'Ned Bellamy',\n",
       "  'Joe Pecoraro',\n",
       "  'Harold E. Cope Jr.',\n",
       "  'Brian Delate',\n",
       "  'Don McManus',\n",
       "  'Donald Zinn',\n",
       "  'Dorothy Silver',\n",
       "  'Robert Haley',\n",
       "  'Dana Snyder',\n",
       "  'John D. Craig',\n",
       "  'Ken Magee',\n",
       "  'Eugene C. DePasquale',\n",
       "  'Bill Bolender',\n",
       "  'Ron Newell',\n",
       "  'John R. Woodward',\n",
       "  'Chuck Brauchler',\n",
       "  'Dion Anderson',\n",
       "  'Claire Slemmer',\n",
       "  'James Kisicki',\n",
       "  'Rohn Thomas',\n",
       "  'Charlie Kearns',\n",
       "  'Rob Reider',\n",
       "  'Brian Brophy',\n",
       "  'Paul Kennedy',\n",
       "  'James Babson',\n",
       "  'Dennis Baker',\n",
       "  'Fred Culbertson',\n",
       "  'Alonzo F. Jones',\n",
       "  'Sergio Kato',\n",
       "  'Gary A. Jones'],\n",
       " 'posterPath': '/hBcY0fE9pfXzvVaY4GKarweriG2.jpg',\n",
       " 'backdropPaths': ['/kXfqcdQKsToO0OUXHcrrNCHDBzO.jpg',\n",
       "  '/wPU78OPN4BYEgWYdXyg0phMee64.jpg',\n",
       "  '/iNh3BivHyg5sQRPP1KOkzguEX0H.jpg',\n",
       "  '/tXHpvlr5F7gV5DwgS7M5HBrUi2C.jpg',\n",
       "  '/mor5PrU9cQghuXp7qRw2LedyCRK.jpg',\n",
       "  '/twUBY8YYVW4pgl6ESfdfooIO2qi.jpg',\n",
       "  '/avedvodAZUcwqevBfm8p4G2NziQ.jpg',\n",
       "  '/gZMgEUYbh0DIBNaRJT0ofxLDJ5T.jpg',\n",
       "  '/irlfhYtHfhZuYpsq2LAoh308NFe.jpg',\n",
       "  '/6ihu1b2OA0aQY1gp95B7644qeyy.jpg',\n",
       "  '/gNCqY2Y6e3wV8cnSVy4Xqpdl6oE.jpg',\n",
       "  '/6UntLP7o96AbcN2WTcbVEhZpsF2.jpg',\n",
       "  '/tQudNo6VWdYJmUBLGauhx60TIdb.jpg',\n",
       "  '/pNjh59JSxChQktamG3LMp9ZoQzp.jpg',\n",
       "  '/swmgZbeiR1LeNeN3uJkyjr8bq8p.jpg',\n",
       "  '/b8iMOqi9WuNUKgpjvYCUthApAVL.jpg',\n",
       "  '/9Xw0I5RV2ZqNLpul6lXKoviYg55.jpg',\n",
       "  '/72rRSPAZ82p3KXoGLz2ddTioMQl.jpg',\n",
       "  '/xXXFdqV965crlxCO3dj3PhtcCAf.jpg',\n",
       "  '/qCUjQId2jQS53edDKQXBJojd5sd.jpg',\n",
       "  '/wQP54Zdje3NO0xX8CbmzB07NXNp.jpg',\n",
       "  '/odJPRSRkfc5M1HpBoIAFe46RlfI.jpg',\n",
       "  '/xcw36ItqqSyzigq7saC0Cj4W1xI.jpg',\n",
       "  '/ckaOdcJFlX8KS6ZIwY556Bl97TQ.jpg',\n",
       "  '/vyx7oxRytz64oD775SNRiGKoBwC.jpg',\n",
       "  '/dNjXm72V84kzKW3qniHzYrBVFoC.jpg',\n",
       "  '/1c7EVzpMudkPRwqYU1vjrUnxXX2.jpg',\n",
       "  '/dpSypP6IjUXJDSFYJAnNoS5KPKR.jpg',\n",
       "  '/kIGUJwrRTjiuaDxphhkP1eIeril.jpg',\n",
       "  '/36ewyr1LdwwedDQhrlmhsi1nlnc.jpg',\n",
       "  '/mz3bXh1VG4NvAfvAhS4UY2FVaK7.jpg',\n",
       "  '/pdKcdpxqgCcI0vhDgUkfnFUkNZO.jpg',\n",
       "  '/1bGBTCPC1lcvrNTluh1bgr1dd2F.jpg',\n",
       "  '/A8dxAysDvK3tL5Gy6oI3VT5nYNT.jpg',\n",
       "  '/7xofUKLihje3kQGOMLpQpVRO0Bf.jpg',\n",
       "  '/rkIG2F13j9VXqs3Pez3yL9iXGBS.jpg',\n",
       "  '/frrvscolmSemAAsDn49dlwhcQF0.jpg',\n",
       "  '/ztijhkmSL0qikzjHiSRWFtJvmr.jpg',\n",
       "  '/crLfhuTYadl39DucKK8HcEJctIf.jpg',\n",
       "  '/maMr76DU7lMkHUPt8DGtVT5qAwA.jpg',\n",
       "  '/v8xVDqt8uCul3c3mgx4VpGCwxJC.jpg'],\n",
       " 'youtubeTrailerIds': ['9qqfMvKxBa0',\n",
       "  'MJPdA2xWfII',\n",
       "  'mmTSBa6eKl0',\n",
       "  'Kf2kk8T3Z9A',\n",
       "  'PLl99DlL6b4',\n",
       "  'vYsQ5mu5Xow',\n",
       "  'P9mwtI82k6E'],\n",
       " 'plotSummary': 'Framed in the 1940s for the double murder of his wife and her lover, upstanding banker Andy Dufresne begins a new life at the Shawshank prison, where he puts his accounting skills to work for an amoral warden. During his long stretch in prison, Dufresne comes to be admired by the other inmates -- including an older prisoner named Red -- for his integrity and unquenchable sense of hope.',\n",
       " 'numRatings': 121113,\n",
       " 'avgRating': 4.41657,\n",
       " 'releaseYear': '1994'}"
      ]
     },
     "execution_count": 73,
     "metadata": {},
     "output_type": "execute_result"
    }
   ],
   "source": [
    "payload = {'userName': 'noing', 'password': 'noi06122001'}\n",
    "session = requests.Session()\n",
    "session.post('https://movielens.org/api/sessions', json=payload)\n",
    "imdb = session.get('https://movielens.org/api/movies/318')\n",
    "movie_data = imdb.json()['data']['movieDetails']['movie']\n",
    "movie_data"
   ]
  },
  {
   "cell_type": "code",
   "execution_count": 75,
   "id": "2c70a029",
   "metadata": {
    "scrolled": true
   },
   "outputs": [
    {
     "data": {
      "text/plain": [
       "'Framed in the 1940s for the double murder of his wife and her lover, upstanding banker Andy Dufresne begins a new life at the Shawshank prison, where he puts his accounting skills to work for an amoral warden. During his long stretch in prison, Dufresne comes to be admired by the other inmates -- including an older prisoner named Red -- for his integrity and unquenchable sense of hope.'"
      ]
     },
     "execution_count": 75,
     "metadata": {},
     "output_type": "execute_result"
    }
   ],
   "source": [
    "movie_data['plotSummary']"
   ]
  },
  {
   "cell_type": "markdown",
   "id": "c361f826",
   "metadata": {},
   "source": [
    "https://image.tmdb.org/t/p/w500/hBcY0fE9pfXzvVaY4GKarweriG2.jpg"
   ]
  }
 ],
 "metadata": {
  "kernelspec": {
   "display_name": "Python 3 (ipykernel)",
   "language": "python",
   "name": "python3"
  },
  "language_info": {
   "codemirror_mode": {
    "name": "ipython",
    "version": 3
   },
   "file_extension": ".py",
   "mimetype": "text/x-python",
   "name": "python",
   "nbconvert_exporter": "python",
   "pygments_lexer": "ipython3",
   "version": "3.10.6"
  }
 },
 "nbformat": 4,
 "nbformat_minor": 5
}
