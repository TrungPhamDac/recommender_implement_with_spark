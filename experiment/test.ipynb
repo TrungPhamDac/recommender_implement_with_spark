{
 "cells": [
  {
   "cell_type": "code",
   "execution_count": 189,
   "id": "5cf25a7a",
   "metadata": {},
   "outputs": [],
   "source": [
    "import numpy as np\n",
    "import random"
   ]
  },
  {
   "cell_type": "code",
   "execution_count": 190,
   "id": "b6c71e5f",
   "metadata": {},
   "outputs": [],
   "source": [
    "random_list = [(random.randint(0, 31), random.randint(0, 15), random.randint(0, 5)) for _ in range(200)]"
   ]
  },
  {
   "cell_type": "code",
   "execution_count": 191,
   "id": "cefd2e33",
   "metadata": {},
   "outputs": [
    {
     "data": {
      "text/plain": [
       "[(13, 10, 1),\n",
       " (3, 15, 1),\n",
       " (21, 5, 0),\n",
       " (0, 0, 1),\n",
       " (21, 4, 2),\n",
       " (24, 2, 5),\n",
       " (12, 14, 0),\n",
       " (11, 2, 3),\n",
       " (7, 4, 5),\n",
       " (5, 15, 4),\n",
       " (22, 3, 0),\n",
       " (31, 10, 5),\n",
       " (2, 4, 0),\n",
       " (15, 3, 2),\n",
       " (24, 13, 4),\n",
       " (27, 15, 0),\n",
       " (5, 10, 3),\n",
       " (23, 5, 3),\n",
       " (29, 4, 4),\n",
       " (11, 1, 1),\n",
       " (15, 0, 2),\n",
       " (17, 1, 0),\n",
       " (9, 6, 5),\n",
       " (11, 5, 2),\n",
       " (13, 3, 1),\n",
       " (18, 5, 5),\n",
       " (2, 12, 5),\n",
       " (2, 3, 2),\n",
       " (7, 12, 2),\n",
       " (24, 12, 3),\n",
       " (24, 4, 2),\n",
       " (30, 0, 1),\n",
       " (7, 1, 2),\n",
       " (1, 7, 4),\n",
       " (24, 7, 4),\n",
       " (24, 9, 2),\n",
       " (5, 7, 5),\n",
       " (0, 3, 3),\n",
       " (2, 1, 0),\n",
       " (1, 3, 0),\n",
       " (7, 8, 5),\n",
       " (14, 6, 0),\n",
       " (2, 8, 2),\n",
       " (12, 4, 3),\n",
       " (24, 5, 0),\n",
       " (20, 5, 2),\n",
       " (13, 6, 2),\n",
       " (5, 13, 0),\n",
       " (14, 9, 2),\n",
       " (11, 13, 0),\n",
       " (12, 11, 0),\n",
       " (10, 0, 2),\n",
       " (28, 0, 4),\n",
       " (23, 13, 2),\n",
       " (23, 4, 4),\n",
       " (7, 0, 1),\n",
       " (3, 0, 2),\n",
       " (1, 5, 1),\n",
       " (20, 5, 2),\n",
       " (8, 6, 3),\n",
       " (31, 14, 3),\n",
       " (21, 0, 4),\n",
       " (8, 5, 4),\n",
       " (22, 8, 4),\n",
       " (28, 3, 5),\n",
       " (24, 8, 0),\n",
       " (13, 7, 0),\n",
       " (13, 14, 1),\n",
       " (30, 3, 5),\n",
       " (17, 6, 4),\n",
       " (15, 0, 4),\n",
       " (23, 11, 0),\n",
       " (1, 4, 5),\n",
       " (10, 9, 5),\n",
       " (8, 3, 4),\n",
       " (21, 12, 5),\n",
       " (1, 11, 0),\n",
       " (19, 7, 0),\n",
       " (17, 10, 3),\n",
       " (7, 14, 3),\n",
       " (21, 4, 4),\n",
       " (8, 0, 0),\n",
       " (2, 1, 0),\n",
       " (13, 11, 0),\n",
       " (22, 14, 4),\n",
       " (6, 4, 3),\n",
       " (22, 7, 1),\n",
       " (9, 14, 4),\n",
       " (3, 2, 5),\n",
       " (24, 15, 5),\n",
       " (15, 9, 2),\n",
       " (3, 2, 5),\n",
       " (11, 3, 0),\n",
       " (21, 11, 0),\n",
       " (2, 6, 0),\n",
       " (27, 15, 4),\n",
       " (0, 0, 0),\n",
       " (20, 1, 0),\n",
       " (12, 11, 5),\n",
       " (19, 1, 1),\n",
       " (22, 10, 0),\n",
       " (17, 8, 3),\n",
       " (9, 8, 0),\n",
       " (8, 13, 0),\n",
       " (25, 5, 2),\n",
       " (30, 8, 3),\n",
       " (1, 7, 3),\n",
       " (14, 8, 1),\n",
       " (28, 1, 2),\n",
       " (6, 4, 0),\n",
       " (22, 11, 2),\n",
       " (8, 3, 5),\n",
       " (25, 15, 2),\n",
       " (9, 1, 2),\n",
       " (29, 13, 3),\n",
       " (2, 12, 2),\n",
       " (24, 2, 3),\n",
       " (29, 10, 3),\n",
       " (25, 4, 0),\n",
       " (16, 1, 3),\n",
       " (9, 9, 0),\n",
       " (7, 10, 2),\n",
       " (14, 0, 0),\n",
       " (11, 14, 4),\n",
       " (18, 7, 1),\n",
       " (19, 8, 0),\n",
       " (25, 14, 4),\n",
       " (12, 8, 0),\n",
       " (18, 11, 1),\n",
       " (22, 12, 4),\n",
       " (30, 10, 2),\n",
       " (5, 13, 3),\n",
       " (22, 1, 4),\n",
       " (6, 15, 0),\n",
       " (10, 3, 4),\n",
       " (9, 12, 0),\n",
       " (30, 0, 0),\n",
       " (20, 1, 1),\n",
       " (21, 14, 2),\n",
       " (28, 13, 0),\n",
       " (25, 1, 3),\n",
       " (28, 13, 2),\n",
       " (0, 7, 0),\n",
       " (20, 13, 5),\n",
       " (11, 0, 1),\n",
       " (30, 14, 3),\n",
       " (31, 6, 2),\n",
       " (14, 10, 3),\n",
       " (9, 2, 1),\n",
       " (7, 2, 4),\n",
       " (2, 14, 2),\n",
       " (9, 8, 2),\n",
       " (29, 9, 0),\n",
       " (31, 6, 2),\n",
       " (16, 7, 4),\n",
       " (29, 4, 5),\n",
       " (30, 9, 2),\n",
       " (17, 4, 4),\n",
       " (2, 11, 2),\n",
       " (11, 1, 3),\n",
       " (18, 7, 5),\n",
       " (19, 15, 2),\n",
       " (24, 13, 4),\n",
       " (2, 12, 2),\n",
       " (1, 7, 0),\n",
       " (30, 9, 5),\n",
       " (22, 12, 0),\n",
       " (28, 9, 3),\n",
       " (25, 3, 3),\n",
       " (25, 10, 3),\n",
       " (17, 2, 2),\n",
       " (6, 6, 3),\n",
       " (1, 13, 3),\n",
       " (20, 7, 3),\n",
       " (19, 7, 1),\n",
       " (25, 3, 0),\n",
       " (31, 9, 0),\n",
       " (20, 11, 3),\n",
       " (15, 12, 3),\n",
       " (16, 1, 1),\n",
       " (8, 4, 1),\n",
       " (17, 0, 1),\n",
       " (26, 3, 3),\n",
       " (26, 0, 1),\n",
       " (7, 6, 2),\n",
       " (7, 6, 0),\n",
       " (17, 4, 0),\n",
       " (4, 12, 5),\n",
       " (6, 9, 5),\n",
       " (27, 10, 0),\n",
       " (21, 0, 4),\n",
       " (14, 13, 2),\n",
       " (0, 8, 0),\n",
       " (26, 13, 1),\n",
       " (19, 13, 4),\n",
       " (26, 9, 0),\n",
       " (23, 12, 0),\n",
       " (13, 9, 2),\n",
       " (27, 1, 4),\n",
       " (4, 1, 2)]"
      ]
     },
     "execution_count": 191,
     "metadata": {},
     "output_type": "execute_result"
    }
   ],
   "source": [
    "random_list"
   ]
  },
  {
   "cell_type": "code",
   "execution_count": 192,
   "id": "ecca8ed4",
   "metadata": {},
   "outputs": [],
   "source": [
    "M = sc.parallelize(random_list)"
   ]
  },
  {
   "cell_type": "code",
   "execution_count": 234,
   "id": "c854e0c9",
   "metadata": {},
   "outputs": [
    {
     "name": "stderr",
     "output_type": "stream",
     "text": [
      "                                                                                \r"
     ]
    }
   ],
   "source": [
    "data = sc.textFile(\"ml-25m/ratings.csv\")\n",
    "header = data.first() #extract header\n",
    "data = data.filter(lambda row: row != header)\n",
    "M = data.map(\n",
    "  lambda l: l.split(',')\n",
    ").map(\n",
    "  lambda l: (int(l[0]), int(l[1]), float(l[2]))\n",
    ")\n"
   ]
  },
  {
   "cell_type": "code",
   "execution_count": 193,
   "id": "c9959d43",
   "metadata": {},
   "outputs": [
    {
     "data": {
      "text/plain": [
       "[(13, 10, 1),\n",
       " (3, 15, 1),\n",
       " (21, 5, 0),\n",
       " (0, 0, 1),\n",
       " (21, 4, 2),\n",
       " (24, 2, 5),\n",
       " (12, 14, 0),\n",
       " (11, 2, 3),\n",
       " (7, 4, 5),\n",
       " (5, 15, 4),\n",
       " (22, 3, 0),\n",
       " (31, 10, 5),\n",
       " (2, 4, 0),\n",
       " (15, 3, 2),\n",
       " (24, 13, 4),\n",
       " (27, 15, 0),\n",
       " (5, 10, 3),\n",
       " (23, 5, 3),\n",
       " (29, 4, 4),\n",
       " (11, 1, 1),\n",
       " (15, 0, 2),\n",
       " (17, 1, 0),\n",
       " (9, 6, 5),\n",
       " (11, 5, 2),\n",
       " (13, 3, 1),\n",
       " (18, 5, 5),\n",
       " (2, 12, 5),\n",
       " (2, 3, 2),\n",
       " (7, 12, 2),\n",
       " (24, 12, 3),\n",
       " (24, 4, 2),\n",
       " (30, 0, 1),\n",
       " (7, 1, 2),\n",
       " (1, 7, 4),\n",
       " (24, 7, 4),\n",
       " (24, 9, 2),\n",
       " (5, 7, 5),\n",
       " (0, 3, 3),\n",
       " (2, 1, 0),\n",
       " (1, 3, 0),\n",
       " (7, 8, 5),\n",
       " (14, 6, 0),\n",
       " (2, 8, 2),\n",
       " (12, 4, 3),\n",
       " (24, 5, 0),\n",
       " (20, 5, 2),\n",
       " (13, 6, 2),\n",
       " (5, 13, 0),\n",
       " (14, 9, 2),\n",
       " (11, 13, 0),\n",
       " (12, 11, 0),\n",
       " (10, 0, 2),\n",
       " (28, 0, 4),\n",
       " (23, 13, 2),\n",
       " (23, 4, 4),\n",
       " (7, 0, 1),\n",
       " (3, 0, 2),\n",
       " (1, 5, 1),\n",
       " (20, 5, 2),\n",
       " (8, 6, 3),\n",
       " (31, 14, 3),\n",
       " (21, 0, 4),\n",
       " (8, 5, 4),\n",
       " (22, 8, 4),\n",
       " (28, 3, 5),\n",
       " (24, 8, 0),\n",
       " (13, 7, 0),\n",
       " (13, 14, 1),\n",
       " (30, 3, 5),\n",
       " (17, 6, 4),\n",
       " (15, 0, 4),\n",
       " (23, 11, 0),\n",
       " (1, 4, 5),\n",
       " (10, 9, 5),\n",
       " (8, 3, 4),\n",
       " (21, 12, 5),\n",
       " (1, 11, 0),\n",
       " (19, 7, 0),\n",
       " (17, 10, 3),\n",
       " (7, 14, 3),\n",
       " (21, 4, 4),\n",
       " (8, 0, 0),\n",
       " (2, 1, 0),\n",
       " (13, 11, 0),\n",
       " (22, 14, 4),\n",
       " (6, 4, 3),\n",
       " (22, 7, 1),\n",
       " (9, 14, 4),\n",
       " (3, 2, 5),\n",
       " (24, 15, 5),\n",
       " (15, 9, 2),\n",
       " (3, 2, 5),\n",
       " (11, 3, 0),\n",
       " (21, 11, 0),\n",
       " (2, 6, 0),\n",
       " (27, 15, 4),\n",
       " (0, 0, 0),\n",
       " (20, 1, 0),\n",
       " (12, 11, 5),\n",
       " (19, 1, 1),\n",
       " (22, 10, 0),\n",
       " (17, 8, 3),\n",
       " (9, 8, 0),\n",
       " (8, 13, 0),\n",
       " (25, 5, 2),\n",
       " (30, 8, 3),\n",
       " (1, 7, 3),\n",
       " (14, 8, 1),\n",
       " (28, 1, 2),\n",
       " (6, 4, 0),\n",
       " (22, 11, 2),\n",
       " (8, 3, 5),\n",
       " (25, 15, 2),\n",
       " (9, 1, 2),\n",
       " (29, 13, 3),\n",
       " (2, 12, 2),\n",
       " (24, 2, 3),\n",
       " (29, 10, 3),\n",
       " (25, 4, 0),\n",
       " (16, 1, 3),\n",
       " (9, 9, 0),\n",
       " (7, 10, 2),\n",
       " (14, 0, 0),\n",
       " (11, 14, 4),\n",
       " (18, 7, 1),\n",
       " (19, 8, 0),\n",
       " (25, 14, 4),\n",
       " (12, 8, 0),\n",
       " (18, 11, 1),\n",
       " (22, 12, 4),\n",
       " (30, 10, 2),\n",
       " (5, 13, 3),\n",
       " (22, 1, 4),\n",
       " (6, 15, 0),\n",
       " (10, 3, 4),\n",
       " (9, 12, 0),\n",
       " (30, 0, 0),\n",
       " (20, 1, 1),\n",
       " (21, 14, 2),\n",
       " (28, 13, 0),\n",
       " (25, 1, 3),\n",
       " (28, 13, 2),\n",
       " (0, 7, 0),\n",
       " (20, 13, 5),\n",
       " (11, 0, 1),\n",
       " (30, 14, 3),\n",
       " (31, 6, 2),\n",
       " (14, 10, 3),\n",
       " (9, 2, 1),\n",
       " (7, 2, 4),\n",
       " (2, 14, 2),\n",
       " (9, 8, 2),\n",
       " (29, 9, 0),\n",
       " (31, 6, 2),\n",
       " (16, 7, 4),\n",
       " (29, 4, 5),\n",
       " (30, 9, 2),\n",
       " (17, 4, 4),\n",
       " (2, 11, 2),\n",
       " (11, 1, 3),\n",
       " (18, 7, 5),\n",
       " (19, 15, 2),\n",
       " (24, 13, 4),\n",
       " (2, 12, 2),\n",
       " (1, 7, 0),\n",
       " (30, 9, 5),\n",
       " (22, 12, 0),\n",
       " (28, 9, 3),\n",
       " (25, 3, 3),\n",
       " (25, 10, 3),\n",
       " (17, 2, 2),\n",
       " (6, 6, 3),\n",
       " (1, 13, 3),\n",
       " (20, 7, 3),\n",
       " (19, 7, 1),\n",
       " (25, 3, 0),\n",
       " (31, 9, 0),\n",
       " (20, 11, 3),\n",
       " (15, 12, 3),\n",
       " (16, 1, 1),\n",
       " (8, 4, 1),\n",
       " (17, 0, 1),\n",
       " (26, 3, 3),\n",
       " (26, 0, 1),\n",
       " (7, 6, 2),\n",
       " (7, 6, 0),\n",
       " (17, 4, 0),\n",
       " (4, 12, 5),\n",
       " (6, 9, 5),\n",
       " (27, 10, 0),\n",
       " (21, 0, 4),\n",
       " (14, 13, 2),\n",
       " (0, 8, 0),\n",
       " (26, 13, 1),\n",
       " (19, 13, 4),\n",
       " (26, 9, 0),\n",
       " (23, 12, 0),\n",
       " (13, 9, 2),\n",
       " (27, 1, 4),\n",
       " (4, 1, 2)]"
      ]
     },
     "execution_count": 193,
     "metadata": {},
     "output_type": "execute_result"
    }
   ],
   "source": [
    "M.collect()"
   ]
  },
  {
   "cell_type": "code",
   "execution_count": 235,
   "id": "55c074da",
   "metadata": {},
   "outputs": [],
   "source": [
    "numWorkers = 4"
   ]
  },
  {
   "cell_type": "code",
   "execution_count": 236,
   "id": "725451ac",
   "metadata": {},
   "outputs": [],
   "source": [
    "def assignBlockIndex (index, numData, numWorkers):\n",
    "    blockSize = numData/numWorkers\n",
    "    if(numData % numWorkers != 0): blockSize = blockSize + 1\n",
    "    return int(np.floor(index/np.ceil(blockSize)))+1\n"
   ]
  },
  {
   "cell_type": "code",
   "execution_count": 237,
   "id": "b83d110e",
   "metadata": {},
   "outputs": [
    {
     "name": "stderr",
     "output_type": "stream",
     "text": [
      "                                                                                \r"
     ]
    }
   ],
   "source": [
    "numFactors = 10\n",
    "numRows = M.max(lambda x : x[0])[0] + 1\n",
    "numCols = M.max(lambda x : x[1])[1] + 1\n",
    "avgRating = M.map(lambda x: x[2]).mean()\n",
    "\n",
    "#compute the scaling factor that the randomly initialized W and H matrices need to be scaled by so that dot(W_0,H_0) results in values that are similar to the average ratings\n",
    "scaleRating = np.sqrt(avgRating / numFactors)\n",
    "\n",
    "tau = 100\n"
   ]
  },
  {
   "cell_type": "code",
   "execution_count": 238,
   "id": "003ee37d",
   "metadata": {
    "scrolled": false
   },
   "outputs": [
    {
     "data": {
      "text/plain": [
       "162542"
      ]
     },
     "execution_count": 238,
     "metadata": {},
     "output_type": "execute_result"
    }
   ],
   "source": [
    "numRows"
   ]
  },
  {
   "cell_type": "code",
   "execution_count": null,
   "id": "83c43a41",
   "metadata": {},
   "outputs": [
    {
     "name": "stderr",
     "output_type": "stream",
     "text": [
      "[Stage 8228:====================>                                  (8 + 4) / 21]\r"
     ]
    }
   ],
   "source": [
    "Mblocked = M.keyBy(lambda x: assignBlockIndex(x[0], numRows, numWorkers)).partitionBy(numWorkers)\n",
    "Mblocked.collect()"
   ]
  },
  {
   "cell_type": "code",
   "execution_count": null,
   "id": "7fff2e62",
   "metadata": {},
   "outputs": [],
   "source": [
    "W = M.map(lambda x: tuple([int(x[0]),1])).reduceByKey(lambda x,y : x+y).map(lambda x: tuple([x[0],tuple([x[1],scaleRating*np.random.rand(1, numFactors).astype(np.float32)])])).persist()\n",
    "H = M.map(lambda x: tuple([int(x[1]),1])).reduceByKey(lambda x,y : x+y).map(lambda x: tuple([x[0],tuple([x[1],scaleRating*np.random.rand(numFactors,1).astype(np.float32)])])).persist()\n"
   ]
  },
  {
   "cell_type": "markdown",
   "id": "1641b65b",
   "metadata": {},
   "source": [
    "Iterater turn"
   ]
  },
  {
   "cell_type": "code",
   "execution_count": null,
   "id": "3955170a",
   "metadata": {},
   "outputs": [],
   "source": [
    "it = 1\n",
    "beta = 0.1\n",
    "mse = sc.accumulator(0.0)\n",
    "nUpdates = sc.accumulator(0.0)\n",
    "#broadcast the stepsize\n",
    "#stepSize = sc.broadcast(np.power(tau + it, -beta))\n",
    "stepSize = sc.broadcast(0.5)\n",
    "#generate random strata\n",
    "lam = sc.broadcast(0.1)\n",
    "\n",
    "perms = np.random.permutation(numWorkers)+1\n",
    "perms"
   ]
  },
  {
   "cell_type": "code",
   "execution_count": null,
   "id": "42efacd7",
   "metadata": {
    "scrolled": true
   },
   "outputs": [],
   "source": [
    "perms[0]"
   ]
  },
  {
   "cell_type": "code",
   "execution_count": null,
   "id": "f23ad5bf",
   "metadata": {},
   "outputs": [],
   "source": [
    "perms_dict = {i: val for i, val in enumerate(perms)}\n",
    "perms_dict"
   ]
  },
  {
   "cell_type": "code",
   "execution_count": null,
   "id": "2429372b",
   "metadata": {},
   "outputs": [],
   "source": [
    "rev_perms=list(i+1 for i in (dict(sorted(perms_dict.items(), key=lambda item: item[1]))).keys())\n",
    "rev_perms"
   ]
  },
  {
   "cell_type": "code",
   "execution_count": null,
   "id": "ca07bd15",
   "metadata": {},
   "outputs": [],
   "source": [
    "Mfilt = Mblocked.filter(lambda x: perms[x[0]-1]==assignBlockIndex(x[1][1],numCols,numWorkers)).persist()"
   ]
  },
  {
   "cell_type": "code",
   "execution_count": null,
   "id": "d8e77347",
   "metadata": {
    "scrolled": true
   },
   "outputs": [],
   "source": [
    "Mfilt.collect()"
   ]
  },
  {
   "cell_type": "code",
   "execution_count": null,
   "id": "6e4a06ea",
   "metadata": {
    "scrolled": true
   },
   "outputs": [],
   "source": [
    "Mfilt.count()"
   ]
  },
  {
   "cell_type": "code",
   "execution_count": null,
   "id": "e37773e9",
   "metadata": {},
   "outputs": [],
   "source": [
    "Hblocked = H.keyBy(lambda x: rev_perms[assignBlockIndex(x[0], numCols, numWorkers)-1])\n",
    "Wblocked = W.keyBy(lambda x: assignBlockIndex(x[0], numRows, numWorkers))"
   ]
  },
  {
   "cell_type": "code",
   "execution_count": null,
   "id": "2e968a84",
   "metadata": {},
   "outputs": [],
   "source": [
    "Wblocked.collect()"
   ]
  },
  {
   "cell_type": "code",
   "execution_count": null,
   "id": "98c0929e",
   "metadata": {},
   "outputs": [],
   "source": [
    "Wblocked.map(lambda x: x[1][0]).count()"
   ]
  },
  {
   "cell_type": "code",
   "execution_count": null,
   "id": "0d80b204",
   "metadata": {},
   "outputs": [],
   "source": [
    "groupRDD = Mfilt.groupWith(Hblocked, Wblocked).partitionBy(numWorkers)"
   ]
  },
  {
   "cell_type": "code",
   "execution_count": null,
   "id": "53f68973",
   "metadata": {},
   "outputs": [],
   "source": [
    "groupRDD.collect()"
   ]
  },
  {
   "cell_type": "code",
   "execution_count": null,
   "id": "d1e729f5",
   "metadata": {
    "scrolled": false
   },
   "outputs": [],
   "source": [
    "for i in groupRDD.collect()[1][1][0]:\n",
    "    print(i)\n",
    "print(\"---------H block -----------\")\n",
    "for i in groupRDD.collect()[1][1][1]:\n",
    "    print(i)\n",
    "print(\"---------W block -----------\")\n",
    "for i in groupRDD.collect()[1][1][2]:\n",
    "    print(i)"
   ]
  },
  {
   "cell_type": "code",
   "execution_count": null,
   "id": "70029a36",
   "metadata": {},
   "outputs": [],
   "source": [
    "def SGD(keyed_iterable, stepSize, numFactors,lam, mse, nUpdates, scaleRating):\n",
    "    for i in keyed_iterable:\n",
    "        Miter = i[1][0]\n",
    "        Hiter = i[1][1]\n",
    "        Witer = i[1][2]\n",
    "    \n",
    "    Wdict = {}\n",
    "    Hdict = {}\n",
    "    \n",
    "    #iterate through H and W and create dictionary of elements\n",
    "    for h in Hiter:\n",
    "        Hdict[h[0]] = h[1]\n",
    "    \n",
    "    for w in Witer:\n",
    "        Wdict[w[0]] = w[1]\n",
    "    print(Hdict)\n",
    "    #iterate through entries of M and compute L2-loss\n",
    "    for m in Miter:\n",
    "        (i,j,rat) = m\n",
    "        #if i not in Wdict:\n",
    "        #    Wdict[i] = tuple([1,scaleRating*np.random.rand(1,numFactors).astype(np.float32)])\n",
    "        #if j not in Hdict:\n",
    "        #    Hdict[j] = tuple([1,scaleRating*np.random.rand(numFactors,1).astype(np.float32)])\n",
    "\n",
    "        (Nw, Wprev) = Wdict[i]\n",
    "        (Nh, Hprev) = Hdict[j]\n",
    "        error = rat - Wprev.dot(Hprev)\n",
    "        print(error)\n",
    "        delta = -2*error\n",
    "        mse += error**2\n",
    "\n",
    "        Wnew = Wprev - stepSize.value*(-2*error*Hprev.T + (2.0*lam.value*Wprev))\n",
    "        Hnew = Hprev - stepSize.value*(-2*error*Wprev.T + (2.0*lam.value*Hprev))\n",
    "\n",
    "        nUpdates += 1\n",
    "\n",
    "        Wdict[i] = tuple([Nw, Wnew])\n",
    "        Hdict[j] = tuple([Nh, Hnew])\n",
    "    return (tuple(['W',Wdict.items()]), tuple(['H',Hdict.items()]))"
   ]
  },
  {
   "cell_type": "code",
   "execution_count": null,
   "id": "9f099308",
   "metadata": {},
   "outputs": [],
   "source": [
    "def SGD(keyed_iterable, stepSize, numFactors,lam, mse, nUpdates, scaleRating):\n",
    "    iterlist = (next(keyed_iterable))\n",
    "    Miter = iterlist[1][0]\n",
    "    Hiter = iterlist[1][1]\n",
    "    Witer = iterlist[1][2]\n",
    "    \n",
    "    Wdict = {}\n",
    "    Hdict = {}\n",
    "    \n",
    "    Wout = {}\n",
    "    Hout = {}\n",
    "    \n",
    "    #iterate through H and W and create dictionary of elements\n",
    "    for h in Hiter:\n",
    "        Hdict[h[0]] = h[1]\n",
    "    \n",
    "    for w in Witer:\n",
    "        Wdict[w[0]] = w[1]\n",
    "    #iterate through entries of M and compute L2-loss\n",
    "    for m in Miter:\n",
    "        (i,j,rat) = m\n",
    "        if i not in Wdict:\n",
    "            Wdict[i] = tuple([i,scaleRating*np.random.rand(1,numFactors).astype(np.float32)])\n",
    "        if j not in Hdict:\n",
    "            Hdict[j] = tuple([j,scaleRating*np.random.rand(numFactors,1).astype(np.float32)])\n",
    "\n",
    "        (Nw, Wprev) = Wdict[i]\n",
    "        (Nh, Hprev) = Hdict[j]\n",
    "        delta = -2*(rat - Wprev.dot(Hprev))\n",
    "        mse += (rat - Wprev.dot(Hprev))**2\n",
    "\n",
    "        Wnew = Wprev - stepSize.value*(delta*Hprev.T + (2.0*lam.value/Nh)*Wprev)\n",
    "        Hnew = Hprev - stepSize.value*(delta*Wprev.T + (2.0*lam.value/Nw)*Hprev)\n",
    "        nUpdates += 1\n",
    "\n",
    "        Wout[i] = tuple([Nw, Wnew])\n",
    "        Hout[j] = tuple([Nh, Hnew])\n",
    "        \n",
    "    return (tuple(['W',Wdict.items()]), tuple(['H',Hdict.items()]))"
   ]
  },
  {
   "cell_type": "code",
   "execution_count": null,
   "id": "9aac2df2",
   "metadata": {},
   "outputs": [],
   "source": [
    "WH = groupRDD.mapPartitions(lambda x: SGD(x, stepSize, numFactors,lam, mse, nUpdates,scaleRating))"
   ]
  },
  {
   "cell_type": "code",
   "execution_count": null,
   "id": "db1cd694",
   "metadata": {},
   "outputs": [],
   "source": [
    "WH.collect()"
   ]
  },
  {
   "cell_type": "code",
   "execution_count": null,
   "id": "ce7b8c2b",
   "metadata": {},
   "outputs": [],
   "source": [
    "W.unpersist()\n",
    "H.unpersist()"
   ]
  },
  {
   "cell_type": "code",
   "execution_count": null,
   "id": "d948300a",
   "metadata": {},
   "outputs": [],
   "source": [
    "W = WH.filter(lambda x: x[0]=='W').flatMap(lambda x: x[1]).persist()\n",
    "H = WH.filter(lambda x: x[0]=='H').flatMap(lambda x: x[1]).persist()\n"
   ]
  },
  {
   "cell_type": "code",
   "execution_count": null,
   "id": "363cfa73",
   "metadata": {},
   "outputs": [],
   "source": [
    "W.collect()"
   ]
  },
  {
   "cell_type": "code",
   "execution_count": null,
   "id": "843269ca",
   "metadata": {},
   "outputs": [],
   "source": [
    "M.filter(lambda x: x[0]==31).collect()"
   ]
  },
  {
   "cell_type": "code",
   "execution_count": null,
   "id": "3a119caa",
   "metadata": {
    "scrolled": true
   },
   "outputs": [],
   "source": [
    "w_arr = np.array(W.filter(lambda x: x[0]==31).map(lambda x: x[1][1]).collect())\n",
    "h_arr = np.array(H.filter(lambda x: x[0]==15).map(lambda x: x[1][1]).collect())\n"
   ]
  },
  {
   "cell_type": "code",
   "execution_count": null,
   "id": "9e6e3d11",
   "metadata": {},
   "outputs": [],
   "source": [
    "w_arr.dot(h_arr)"
   ]
  },
  {
   "cell_type": "code",
   "execution_count": null,
   "id": "fe50ef1e",
   "metadata": {},
   "outputs": [],
   "source": [
    "mse = sc.accumulator(0.0)\n",
    "nUpdates = sc.accumulator(0)\n",
    "\n",
    "for it in range(10):\n",
    "    beta = 0.1\n",
    "    #broadcast the stepsize\n",
    "    stepSize = sc.broadcast(np.power(tau + it, -beta))\n",
    "    #generate random strata\n",
    "    lam = sc.broadcast(0.1)\n",
    "\n",
    "    perms = np.random.permutation(numWorkers)+1\n",
    "    perms_dict = {i: val for i, val in enumerate(perms)}\n",
    "    rev_perms=list(i+1 for i in (dict(sorted(perms_dict.items(), key=lambda item: item[1]))).keys())\n",
    "    Mfilt = Mblocked.filter(lambda x: perms[x[0]-1]==assignBlockIndex(x[1][1],numCols,numWorkers)).persist()\n",
    "    Hblocked = H.keyBy(lambda x: rev_perms[assignBlockIndex(x[0], numCols, numWorkers)-1])\n",
    "    Wblocked = W.keyBy(lambda x: assignBlockIndex(x[0], numRows, numWorkers))\n",
    "    groupRDD = Mfilt.groupWith(Hblocked, Wblocked).partitionBy(numWorkers)\n",
    "    WH = groupRDD.mapPartitions(lambda x: SGD(x, stepSize, numFactors,lam, mse, nUpdates,scaleRating))\n",
    "    W.unpersist()\n",
    "    H.unpersist()\n",
    "    W = WH.filter(lambda x: x[0]=='W').flatMap(lambda x: x[1]).persist()\n",
    "    H = WH.filter(lambda x: x[0]=='H').flatMap(lambda x: x[1]).persist()\n",
    "    Wvec = W.collect()\n",
    "    Hvec = H.collect()\n",
    "    print(\"MSE/update for {}-th iteration is: {}/{} \".format(it, mse.value, nUpdates.value))\n",
    "    print(\"RMSE: {}\".format((mse.value[0][0]/nUpdates.value)))\n"
   ]
  },
  {
   "cell_type": "code",
   "execution_count": null,
   "id": "7b54c649",
   "metadata": {},
   "outputs": [],
   "source": [
    "def predict(userId, itemId):\n",
    "    w_user = W.filter(lambda x: x[0] == 19).map(lambda x: x[1][1]).collect()\n",
    "    h_item = H.filter(lambda x: x[0] == 8).map(lambda x: x[1][1]).collect()\n",
    "    pred_rating = np.array(w_user).dot(h_item)\n",
    "    "
   ]
  },
  {
   "cell_type": "code",
   "execution_count": null,
   "id": "69fc2aa6",
   "metadata": {
    "scrolled": false
   },
   "outputs": [],
   "source": [
    "w_26 = W.filter(lambda x: x[0] == 31).map(lambda x: x[1][1]).collect()\n",
    "h_8 = H.filter(lambda x: x[0] == 5).map(lambda x: x[1][1]).collect()"
   ]
  },
  {
   "cell_type": "code",
   "execution_count": null,
   "id": "5cc92ac4",
   "metadata": {},
   "outputs": [],
   "source": [
    "w_26"
   ]
  },
  {
   "cell_type": "code",
   "execution_count": null,
   "id": "66711c0d",
   "metadata": {
    "scrolled": true
   },
   "outputs": [],
   "source": [
    "np.array(w_26).dot(np.array(h_8))"
   ]
  },
  {
   "cell_type": "code",
   "execution_count": null,
   "id": "7a9faf4d",
   "metadata": {
    "scrolled": true
   },
   "outputs": [],
   "source": [
    "M.filter(lambda x: x[0]==31).collect()"
   ]
  }
 ],
 "metadata": {
  "kernelspec": {
   "display_name": "Python 3 (ipykernel)",
   "language": "python",
   "name": "python3"
  },
  "language_info": {
   "codemirror_mode": {
    "name": "ipython",
    "version": 3
   },
   "file_extension": ".py",
   "mimetype": "text/x-python",
   "name": "python",
   "nbconvert_exporter": "python",
   "pygments_lexer": "ipython3",
   "version": "3.10.6"
  }
 },
 "nbformat": 4,
 "nbformat_minor": 5
}
