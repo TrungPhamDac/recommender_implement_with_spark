{
 "cells": [
  {
   "cell_type": "code",
   "execution_count": 1,
   "id": "5cf25a7a",
   "metadata": {
    "id": "5cf25a7a"
   },
   "outputs": [],
   "source": [
    "import numpy as np\n",
    "import random"
   ]
  },
  {
   "cell_type": "code",
   "execution_count": 20,
   "id": "0uOhNfj-5bqJ",
   "metadata": {
    "colab": {
     "base_uri": "https://localhost:8080/"
    },
    "id": "0uOhNfj-5bqJ",
    "outputId": "967af87c-5ee7-42ff-eaa8-a9a31f09ff3f"
   },
   "outputs": [
    {
     "name": "stdout",
     "output_type": "stream",
     "text": [
      "Defaulting to user installation because normal site-packages is not writeable\n",
      "Requirement already satisfied: pyspark in /home/noing/data_framework/spark-3.3.0-bin-hadoop3/python (3.3.0)\n",
      "Requirement already satisfied: py4j==0.10.9.5 in /home/noing/.local/lib/python3.10/site-packages (from pyspark) (0.10.9.5)\n"
     ]
    }
   ],
   "source": [
    "!pip install pyspark"
   ]
  },
  {
   "cell_type": "code",
   "execution_count": 2,
   "id": "87jhhCqX4vtb",
   "metadata": {
    "id": "87jhhCqX4vtb"
   },
   "outputs": [
    {
     "name": "stdout",
     "output_type": "stream",
     "text": [
      "22/12/11 08:42:23 WARN Utils: Your hostname, noing-Latitude-E5550 resolves to a loopback address: 127.0.1.1; using 192.168.1.16 instead (on interface wlp2s0)\n",
      "22/12/11 08:42:23 WARN Utils: Set SPARK_LOCAL_IP if you need to bind to another address\n"
     ]
    },
    {
     "name": "stderr",
     "output_type": "stream",
     "text": [
      "Setting default log level to \"WARN\".\n",
      "To adjust logging level use sc.setLogLevel(newLevel). For SparkR, use setLogLevel(newLevel).\n"
     ]
    },
    {
     "name": "stdout",
     "output_type": "stream",
     "text": [
      "22/12/11 08:42:24 WARN NativeCodeLoader: Unable to load native-hadoop library for your platform... using builtin-java classes where applicable\n",
      "22/12/11 08:42:26 WARN Utils: Service 'SparkUI' could not bind on port 4040. Attempting port 4041.\n"
     ]
    }
   ],
   "source": [
    "from pyspark.sql import SparkSession\n",
    "spark = SparkSession\\\n",
    "    .builder\\\n",
    "    .appName(\"recommender\")\\\n",
    "    .getOrCreate()\n",
    "sc = spark.sparkContext"
   ]
  },
  {
   "cell_type": "code",
   "execution_count": 3,
   "id": "c854e0c9",
   "metadata": {
    "id": "c854e0c9"
   },
   "outputs": [
    {
     "name": "stderr",
     "output_type": "stream",
     "text": [
      "                                                                                \r"
     ]
    }
   ],
   "source": [
    "data = sc.textFile(\"ml-100k/u.data\")\n",
    "header = data.first() #extract header\n",
    "data = data.filter(lambda row: row != header)\n",
    "M = data.map(\n",
    "  lambda l: l.split('\\t')\n",
    ").map(\n",
    "  lambda l: (int(l[0]), int(l[1]), float(l[2]))\n",
    ")\n"
   ]
  },
  {
   "cell_type": "code",
   "execution_count": 4,
   "id": "55c074da",
   "metadata": {
    "id": "55c074da"
   },
   "outputs": [
    {
     "data": {
      "text/plain": [
       "4"
      ]
     },
     "execution_count": 4,
     "metadata": {},
     "output_type": "execute_result"
    }
   ],
   "source": [
    "numWorkers = sc.defaultParallelism\n",
    "numWorkers"
   ]
  },
  {
   "cell_type": "code",
   "execution_count": 24,
   "id": "c9959d43",
   "metadata": {
    "colab": {
     "base_uri": "https://localhost:8080/"
    },
    "id": "c9959d43",
    "outputId": "88889f03-77cd-47fd-afe9-9eb6ffda351e"
   },
   "outputs": [
    {
     "data": {
      "text/plain": [
       "(943, 58, 4.0)"
      ]
     },
     "execution_count": 24,
     "metadata": {},
     "output_type": "execute_result"
    }
   ],
   "source": [
    "M.max(lambda x: x[0])"
   ]
  },
  {
   "cell_type": "code",
   "execution_count": 5,
   "id": "725451ac",
   "metadata": {
    "id": "725451ac"
   },
   "outputs": [],
   "source": [
    "def assignBlockIndex (index, numData, numWorkers):\n",
    "    blockSize = numData/numWorkers\n",
    "    if(numData % numWorkers != 0): blockSize = blockSize + 1\n",
    "    return int(np.floor(index/np.ceil(blockSize)))+1\n"
   ]
  },
  {
   "cell_type": "code",
   "execution_count": 6,
   "id": "b83d110e",
   "metadata": {
    "id": "b83d110e"
   },
   "outputs": [
    {
     "name": "stderr",
     "output_type": "stream",
     "text": [
      "                                                                                \r"
     ]
    }
   ],
   "source": [
    "numFactors = 10\n",
    "numRows = M.max(lambda x : x[0])[0] + 1\n",
    "numCols = M.max(lambda x : x[1])[1] + 1\n",
    "avgRating = M.map(lambda x: x[2]).mean()\n",
    "\n",
    "#compute the scaling factor that the randomly initialized W and H matrices need to be scaled by so that dot(W_0,H_0) results in values that are similar to the average ratings\n",
    "scaleRating = np.sqrt(avgRating / numFactors)\n",
    "\n",
    "tau = 100\n"
   ]
  },
  {
   "cell_type": "code",
   "execution_count": 7,
   "id": "9DPS0WqydUyq",
   "metadata": {
    "id": "9DPS0WqydUyq"
   },
   "outputs": [],
   "source": [
    "W = M.map(lambda x: tuple([int(x[0]),1])).reduceByKey(lambda x,y : x+y).map(lambda x: tuple([x[0], tuple([x[1], np.random.rand(1,numFactors).astype('float16')])])).persist()\n",
    "H = M.map(lambda x: tuple([int(x[1]),1])).reduceByKey(lambda x,y : x+y).map(lambda x: tuple([x[0], tuple([x[1], np.random.rand(1,numFactors).astype('float16')])])).persist()"
   ]
  },
  {
   "cell_type": "markdown",
   "id": "1641b65b",
   "metadata": {
    "id": "1641b65b"
   },
   "source": [
    "Iterater turn"
   ]
  },
  {
   "cell_type": "code",
   "execution_count": 28,
   "id": "3955170a",
   "metadata": {
    "colab": {
     "base_uri": "https://localhost:8080/"
    },
    "id": "3955170a",
    "outputId": "6d15bc5d-9043-4cac-d5c8-d52323374bfc"
   },
   "outputs": [
    {
     "data": {
      "text/plain": [
       "array([2, 4, 3, 1])"
      ]
     },
     "execution_count": 28,
     "metadata": {},
     "output_type": "execute_result"
    }
   ],
   "source": [
    "it = 1\n",
    "beta = 0.1\n",
    "mse = sc.accumulator(0.0)\n",
    "nUpdates = sc.accumulator(0.0)\n",
    "#broadcast the stepsize\n",
    "#stepSize = sc.broadcast(np.power(tau + it, -beta))\n",
    "stepSize = sc.broadcast(0.5)\n",
    "#generate random strata\n",
    "lam = sc.broadcast(0.1)\n",
    "\n",
    "perms = np.random.permutation(numWorkers)+1\n",
    "perms"
   ]
  },
  {
   "cell_type": "code",
   "execution_count": 8,
   "id": "1b03bea5",
   "metadata": {},
   "outputs": [],
   "source": [
    "Mblocked = M.keyBy(lambda x: assignBlockIndex(x[0], numRows, numWorkers)).partitionBy(numWorkers)"
   ]
  },
  {
   "cell_type": "code",
   "execution_count": 9,
   "id": "9f099308",
   "metadata": {
    "id": "9f099308"
   },
   "outputs": [],
   "source": [
    "def SGD(keyed_iterable, stepSize, numFactors,lam, mse, nUpdates, scaleRating):\n",
    "    iterlist = (next(keyed_iterable))\n",
    "    key = iterlist[0]\n",
    "    Miter = iterlist[1][0]\n",
    "    Hiter = iterlist[1][1]\n",
    "    Witer = iterlist[1][2]\n",
    "    \n",
    "    Wdict = {}\n",
    "    Hdict = {}\n",
    "    \n",
    "    Wout = {}\n",
    "    Hout = {}\n",
    "    \n",
    "    #iterate through H and W and create dictionary of elements\n",
    "    for h in Hiter:\n",
    "        Hdict[h[0]] = h[1]\n",
    "    \n",
    "    for w in Witer:\n",
    "        Wdict[w[0]] = w[1]\n",
    "    #iterate through entries of M and compute L2-loss\n",
    "    counter = 1\n",
    "    for m in Miter:\n",
    "        (i,j,rat) = m\n",
    "        if i not in Wdict:\n",
    "            Wdict[i] = tuple([i,np.random.uniform(0,1,numFactors).astype('float32')])\n",
    "        if j not in Hdict:\n",
    "            Hdict[j] = tuple([j,np.random.uniform(0,1,numFactors).astype('float32')])\n",
    "\n",
    "        (Nw, Wprev) = Wdict[i]\n",
    "        (Nh, Hprev) = Hdict[j]\n",
    "        error = (rat - np.dot(Wprev, Hprev.T))\n",
    "        mse += pow((error[0][0]), 2)\n",
    "        \n",
    "        Wnew = Wprev - stepSize.value*(-2*error*Hprev+ (2.0*lam.value)*Wprev)\n",
    "        Hnew = Hprev - stepSize.value*(-2*error*Wprev + (2.0*lam.value)*Hprev)\n",
    "        nUpdates += 1\n",
    "        Wdict[i] = tuple([Nw, Wnew])\n",
    "        Hdict[j] = tuple([Nh, Hnew])\n",
    "        \n",
    "    return (tuple(['W',Wdict.items()]), tuple(['H',Hdict.items()]))"
   ]
  },
  {
   "cell_type": "code",
   "execution_count": 10,
   "id": "IyZJiq_B2L1S",
   "metadata": {
    "colab": {
     "base_uri": "https://localhost:8080/"
    },
    "id": "IyZJiq_B2L1S",
    "outputId": "bc761469-536a-4b2e-a26f-05a99237f8b6"
   },
   "outputs": [
    {
     "name": "stderr",
     "output_type": "stream",
     "text": [
      "                                                                                \r"
     ]
    },
    {
     "name": "stdout",
     "output_type": "stream",
     "text": [
      "MSE/update for 0-th iteration is: 66573.65112829208/52640 \n",
      "RMSE: 1.2646970199143632\n"
     ]
    },
    {
     "name": "stderr",
     "output_type": "stream",
     "text": [
      "                                                                                \r"
     ]
    },
    {
     "name": "stdout",
     "output_type": "stream",
     "text": [
      "MSE/update for 1-th iteration is: 51209.94574737549/53266 \n",
      "RMSE: 0.9614002505796472\n"
     ]
    },
    {
     "name": "stderr",
     "output_type": "stream",
     "text": [
      "                                                                                \r"
     ]
    },
    {
     "name": "stdout",
     "output_type": "stream",
     "text": [
      "MSE/update for 2-th iteration is: 47851.85164308548/47266 \n",
      "RMSE: 1.0123947793992611\n"
     ]
    },
    {
     "name": "stderr",
     "output_type": "stream",
     "text": [
      "                                                                                \r"
     ]
    },
    {
     "name": "stdout",
     "output_type": "stream",
     "text": [
      "MSE/update for 3-th iteration is: 49459.249098300934/53040 \n",
      "RMSE: 0.9324896134672122\n"
     ]
    },
    {
     "name": "stderr",
     "output_type": "stream",
     "text": [
      "                                                                                \r"
     ]
    },
    {
     "name": "stdout",
     "output_type": "stream",
     "text": [
      "MSE/update for 4-th iteration is: 49378.94162797928/51484 \n",
      "RMSE: 0.959112377204166\n"
     ]
    },
    {
     "name": "stderr",
     "output_type": "stream",
     "text": [
      "                                                                                \r"
     ]
    },
    {
     "name": "stdout",
     "output_type": "stream",
     "text": [
      "MSE/update for 5-th iteration is: 42229.80256605148/47502 \n",
      "RMSE: 0.889011043030851\n"
     ]
    },
    {
     "name": "stderr",
     "output_type": "stream",
     "text": [
      "                                                                                \r"
     ]
    },
    {
     "name": "stdout",
     "output_type": "stream",
     "text": [
      "MSE/update for 6-th iteration is: 42742.18308496475/52640 \n",
      "RMSE: 0.811971563164224\n"
     ]
    },
    {
     "name": "stderr",
     "output_type": "stream",
     "text": [
      "                                                                                \r"
     ]
    },
    {
     "name": "stdout",
     "output_type": "stream",
     "text": [
      "MSE/update for 7-th iteration is: 41718.39005327225/47238 \n",
      "RMSE: 0.8831531828881884\n"
     ]
    },
    {
     "name": "stderr",
     "output_type": "stream",
     "text": [
      "                                                                                \r"
     ]
    },
    {
     "name": "stdout",
     "output_type": "stream",
     "text": [
      "MSE/update for 8-th iteration is: 45066.48194885254/48932 \n",
      "RMSE: 0.9210022469723809\n"
     ]
    },
    {
     "name": "stderr",
     "output_type": "stream",
     "text": [
      "                                                                                \r"
     ]
    },
    {
     "name": "stdout",
     "output_type": "stream",
     "text": [
      "MSE/update for 9-th iteration is: 44399.165867328644/52648 \n",
      "RMSE: 0.8433210353162256\n"
     ]
    },
    {
     "name": "stderr",
     "output_type": "stream",
     "text": [
      "                                                                                \r"
     ]
    },
    {
     "name": "stdout",
     "output_type": "stream",
     "text": [
      "MSE/update for 10-th iteration is: 42931.33982419968/52718 \n",
      "RMSE: 0.814358280363437\n"
     ]
    },
    {
     "name": "stderr",
     "output_type": "stream",
     "text": [
      "                                                                                \r"
     ]
    },
    {
     "name": "stdout",
     "output_type": "stream",
     "text": [
      "MSE/update for 11-th iteration is: 42154.5418047905/47206 \n",
      "RMSE: 0.8929911834256344\n"
     ]
    },
    {
     "name": "stderr",
     "output_type": "stream",
     "text": [
      "                                                                                \r"
     ]
    },
    {
     "name": "stdout",
     "output_type": "stream",
     "text": [
      "MSE/update for 12-th iteration is: 42817.66940307617/48932 \n",
      "RMSE: 0.8750443350583702\n"
     ]
    },
    {
     "name": "stderr",
     "output_type": "stream",
     "text": [
      "                                                                                \r"
     ]
    },
    {
     "name": "stdout",
     "output_type": "stream",
     "text": [
      "MSE/update for 13-th iteration is: 41746.15445995331/49098 \n",
      "RMSE: 0.8502618122928288\n"
     ]
    },
    {
     "name": "stderr",
     "output_type": "stream",
     "text": [
      "                                                                                \r"
     ]
    },
    {
     "name": "stdout",
     "output_type": "stream",
     "text": [
      "MSE/update for 14-th iteration is: 43655.349888801575/51866 \n",
      "RMSE: 0.8416949425211424\n"
     ]
    },
    {
     "name": "stderr",
     "output_type": "stream",
     "text": [
      "                                                                                \r"
     ]
    },
    {
     "name": "stdout",
     "output_type": "stream",
     "text": [
      "MSE/update for 15-th iteration is: 42829.76526403427/51484 \n",
      "RMSE: 0.8319043831876752\n"
     ]
    },
    {
     "name": "stderr",
     "output_type": "stream",
     "text": [
      "                                                                                \r"
     ]
    },
    {
     "name": "stdout",
     "output_type": "stream",
     "text": [
      "MSE/update for 16-th iteration is: 42209.74777555466/53266 \n",
      "RMSE: 0.7924332177290327\n"
     ]
    },
    {
     "name": "stderr",
     "output_type": "stream",
     "text": [
      "                                                                                \r"
     ]
    },
    {
     "name": "stdout",
     "output_type": "stream",
     "text": [
      "MSE/update for 17-th iteration is: 39897.29036474228/52640 \n",
      "RMSE: 0.757927248570332\n"
     ]
    },
    {
     "name": "stderr",
     "output_type": "stream",
     "text": [
      "                                                                                \r"
     ]
    },
    {
     "name": "stdout",
     "output_type": "stream",
     "text": [
      "MSE/update for 18-th iteration is: 41649.26211452484/51240 \n",
      "RMSE: 0.8128271294794075\n"
     ]
    },
    {
     "name": "stderr",
     "output_type": "stream",
     "text": [
      "                                                                                \r"
     ]
    },
    {
     "name": "stdout",
     "output_type": "stream",
     "text": [
      "MSE/update for 19-th iteration is: 41954.42390584946/52648 \n",
      "RMSE: 0.7968854259582407\n"
     ]
    },
    {
     "name": "stderr",
     "output_type": "stream",
     "text": [
      "                                                                                \r"
     ]
    },
    {
     "name": "stdout",
     "output_type": "stream",
     "text": [
      "MSE/update for 20-th iteration is: 41070.8057141304/49098 \n",
      "RMSE: 0.8365066950615179\n"
     ]
    },
    {
     "name": "stderr",
     "output_type": "stream",
     "text": [
      "                                                                                \r"
     ]
    },
    {
     "name": "stdout",
     "output_type": "stream",
     "text": [
      "MSE/update for 21-th iteration is: 40930.843968868256/48480 \n",
      "RMSE: 0.8442830851664244\n"
     ]
    },
    {
     "name": "stderr",
     "output_type": "stream",
     "text": [
      "                                                                                \r"
     ]
    },
    {
     "name": "stdout",
     "output_type": "stream",
     "text": [
      "MSE/update for 22-th iteration is: 41179.61940526962/48932 \n",
      "RMSE: 0.8415682867095076\n"
     ]
    },
    {
     "name": "stderr",
     "output_type": "stream",
     "text": [
      "                                                                                \r"
     ]
    },
    {
     "name": "stdout",
     "output_type": "stream",
     "text": [
      "MSE/update for 23-th iteration is: 43522.829283714294/50916 \n",
      "RMSE: 0.8547967099480378\n"
     ]
    },
    {
     "name": "stderr",
     "output_type": "stream",
     "text": [
      "                                                                                \r"
     ]
    },
    {
     "name": "stdout",
     "output_type": "stream",
     "text": [
      "MSE/update for 24-th iteration is: 42674.682057380676/53040 \n",
      "RMSE: 0.8045754535705256\n"
     ]
    },
    {
     "name": "stderr",
     "output_type": "stream",
     "text": [
      "                                                                                \r"
     ]
    },
    {
     "name": "stdout",
     "output_type": "stream",
     "text": [
      "MSE/update for 25-th iteration is: 41264.68669605255/48286 \n",
      "RMSE: 0.8545890464327662\n"
     ]
    },
    {
     "name": "stderr",
     "output_type": "stream",
     "text": [
      "                                                                                \r"
     ]
    },
    {
     "name": "stdout",
     "output_type": "stream",
     "text": [
      "MSE/update for 26-th iteration is: 39946.109872341156/52640 \n",
      "RMSE: 0.7588546708271496\n"
     ]
    },
    {
     "name": "stderr",
     "output_type": "stream",
     "text": [
      "                                                                                \r"
     ]
    },
    {
     "name": "stdout",
     "output_type": "stream",
     "text": [
      "MSE/update for 27-th iteration is: 38785.56641769409/47336 \n",
      "RMSE: 0.8193672134885519\n"
     ]
    },
    {
     "name": "stderr",
     "output_type": "stream",
     "text": [
      "                                                                                \r"
     ]
    },
    {
     "name": "stdout",
     "output_type": "stream",
     "text": [
      "MSE/update for 28-th iteration is: 41039.87705755234/48480 \n",
      "RMSE: 0.8465321175237693\n"
     ]
    },
    {
     "name": "stderr",
     "output_type": "stream",
     "text": [
      "                                                                                \r"
     ]
    },
    {
     "name": "stdout",
     "output_type": "stream",
     "text": [
      "MSE/update for 29-th iteration is: 39453.62578344345/48236 \n",
      "RMSE: 0.817929052646228\n"
     ]
    },
    {
     "name": "stderr",
     "output_type": "stream",
     "text": [
      "                                                                                \r"
     ]
    },
    {
     "name": "stdout",
     "output_type": "stream",
     "text": [
      "MSE/update for 30-th iteration is: 41196.476878643036/52718 \n",
      "RMSE: 0.7814499199256997\n"
     ]
    },
    {
     "name": "stderr",
     "output_type": "stream",
     "text": [
      "                                                                                \r"
     ]
    },
    {
     "name": "stdout",
     "output_type": "stream",
     "text": [
      "MSE/update for 31-th iteration is: 42895.59237575531/51806 \n",
      "RMSE: 0.8280043310766187\n"
     ]
    },
    {
     "name": "stderr",
     "output_type": "stream",
     "text": [
      "                                                                                \r"
     ]
    },
    {
     "name": "stdout",
     "output_type": "stream",
     "text": [
      "MSE/update for 32-th iteration is: 40942.72699069977/48286 \n",
      "RMSE: 0.8479212813382713\n"
     ]
    },
    {
     "name": "stderr",
     "output_type": "stream",
     "text": [
      "                                                                                \r"
     ]
    },
    {
     "name": "stdout",
     "output_type": "stream",
     "text": [
      "MSE/update for 33-th iteration is: 40932.543791770935/52718 \n",
      "RMSE: 0.7764434119612075\n"
     ]
    },
    {
     "name": "stderr",
     "output_type": "stream",
     "text": [
      "                                                                                \r"
     ]
    },
    {
     "name": "stdout",
     "output_type": "stream",
     "text": [
      "MSE/update for 34-th iteration is: 40595.63847732544/52718 \n",
      "RMSE: 0.7700527045283478\n"
     ]
    },
    {
     "name": "stderr",
     "output_type": "stream",
     "text": [
      "                                                                                \r"
     ]
    },
    {
     "name": "stdout",
     "output_type": "stream",
     "text": [
      "MSE/update for 35-th iteration is: 41279.60264873505/53040 \n",
      "RMSE: 0.7782730514467392\n"
     ]
    },
    {
     "name": "stderr",
     "output_type": "stream",
     "text": [
      "                                                                                \r"
     ]
    },
    {
     "name": "stdout",
     "output_type": "stream",
     "text": [
      "MSE/update for 36-th iteration is: 40682.88482141495/52344 \n",
      "RMSE: 0.7772215501569415\n"
     ]
    },
    {
     "name": "stderr",
     "output_type": "stream",
     "text": [
      "                                                                                \r"
     ]
    },
    {
     "name": "stdout",
     "output_type": "stream",
     "text": [
      "MSE/update for 37-th iteration is: 42135.452218055725/51484 \n",
      "RMSE: 0.8184183866454767\n"
     ]
    },
    {
     "name": "stderr",
     "output_type": "stream",
     "text": [
      "                                                                                \r"
     ]
    },
    {
     "name": "stdout",
     "output_type": "stream",
     "text": [
      "MSE/update for 38-th iteration is: 40847.24467134476/48286 \n",
      "RMSE: 0.8459438485553733\n"
     ]
    },
    {
     "name": "stderr",
     "output_type": "stream",
     "text": [
      "                                                                                \r"
     ]
    },
    {
     "name": "stdout",
     "output_type": "stream",
     "text": [
      "MSE/update for 39-th iteration is: 40959.29828119278/52648 \n",
      "RMSE: 0.7779839363545202\n"
     ]
    },
    {
     "name": "stderr",
     "output_type": "stream",
     "text": [
      "                                                                                \r"
     ]
    },
    {
     "name": "stdout",
     "output_type": "stream",
     "text": [
      "MSE/update for 40-th iteration is: 40359.99777889252/49098 \n",
      "RMSE: 0.8220293653283742\n"
     ]
    },
    {
     "name": "stderr",
     "output_type": "stream",
     "text": [
      "                                                                                \r"
     ]
    },
    {
     "name": "stdout",
     "output_type": "stream",
     "text": [
      "MSE/update for 41-th iteration is: 42749.78719997406/51806 \n",
      "RMSE: 0.8251898853409655\n"
     ]
    },
    {
     "name": "stderr",
     "output_type": "stream",
     "text": [
      "                                                                                \r"
     ]
    },
    {
     "name": "stdout",
     "output_type": "stream",
     "text": [
      "MSE/update for 42-th iteration is: 38955.81299161911/47266 \n",
      "RMSE: 0.8241825623411989\n"
     ]
    },
    {
     "name": "stderr",
     "output_type": "stream",
     "text": [
      "                                                                                \r"
     ]
    },
    {
     "name": "stdout",
     "output_type": "stream",
     "text": [
      "MSE/update for 43-th iteration is: 39509.92132472992/47206 \n",
      "RMSE: 0.8369682100735059\n"
     ]
    },
    {
     "name": "stderr",
     "output_type": "stream",
     "text": [
      "                                                                                \r"
     ]
    },
    {
     "name": "stdout",
     "output_type": "stream",
     "text": [
      "MSE/update for 44-th iteration is: 40684.88423204422/52344 \n",
      "RMSE: 0.7772597476701096\n"
     ]
    },
    {
     "name": "stderr",
     "output_type": "stream",
     "text": [
      "                                                                                \r"
     ]
    },
    {
     "name": "stdout",
     "output_type": "stream",
     "text": [
      "MSE/update for 45-th iteration is: 40911.94362068176/52648 \n",
      "RMSE: 0.7770844784356815\n"
     ]
    },
    {
     "name": "stderr",
     "output_type": "stream",
     "text": [
      "                                                                                \r"
     ]
    },
    {
     "name": "stdout",
     "output_type": "stream",
     "text": [
      "MSE/update for 46-th iteration is: 39903.11794900894/48208 \n",
      "RMSE: 0.8277281353511645\n"
     ]
    },
    {
     "name": "stderr",
     "output_type": "stream",
     "text": [
      "                                                                                \r"
     ]
    },
    {
     "name": "stdout",
     "output_type": "stream",
     "text": [
      "MSE/update for 47-th iteration is: 42324.608303546906/50916 \n",
      "RMSE: 0.8312634202126425\n"
     ]
    },
    {
     "name": "stderr",
     "output_type": "stream",
     "text": [
      "                                                                                \r"
     ]
    },
    {
     "name": "stdout",
     "output_type": "stream",
     "text": [
      "MSE/update for 48-th iteration is: 41062.763949394226/51240 \n",
      "RMSE: 0.8013810294573425\n"
     ]
    },
    {
     "name": "stderr",
     "output_type": "stream",
     "text": [
      "                                                                                \r"
     ]
    },
    {
     "name": "stdout",
     "output_type": "stream",
     "text": [
      "MSE/update for 49-th iteration is: 40518.720698833466/52718 \n",
      "RMSE: 0.768593662484037\n"
     ]
    },
    {
     "name": "stderr",
     "output_type": "stream",
     "text": [
      "                                                                                \r"
     ]
    },
    {
     "name": "stdout",
     "output_type": "stream",
     "text": [
      "MSE/update for 50-th iteration is: 42111.20859861374/51866 \n",
      "RMSE: 0.8119231982148949\n"
     ]
    },
    {
     "name": "stderr",
     "output_type": "stream",
     "text": [
      "ERROR:root:KeyboardInterrupt while sending command.==========>    (11 + 1) / 12]\n",
      "Traceback (most recent call last):\n",
      "  File \"/home/noing/.local/lib/python3.10/site-packages/py4j/java_gateway.py\", line 1038, in send_command\n",
      "    response = connection.send_command(command)\n",
      "  File \"/home/noing/.local/lib/python3.10/site-packages/py4j/clientserver.py\", line 511, in send_command\n",
      "    answer = smart_decode(self.stream.readline()[:-1])\n",
      "  File \"/usr/lib/python3.10/socket.py\", line 705, in readinto\n",
      "    return self._sock.recv_into(b)\n",
      "KeyboardInterrupt\n",
      "                                                                                \r"
     ]
    },
    {
     "ename": "KeyboardInterrupt",
     "evalue": "",
     "output_type": "error",
     "traceback": [
      "\u001b[0;31m---------------------------------------------------------------------------\u001b[0m",
      "\u001b[0;31mKeyboardInterrupt\u001b[0m                         Traceback (most recent call last)",
      "Cell \u001b[0;32mIn [10], line 29\u001b[0m\n\u001b[1;32m     27\u001b[0m W \u001b[39m=\u001b[39m WH\u001b[39m.\u001b[39mfilter(\u001b[39mlambda\u001b[39;00m x: x[\u001b[39m0\u001b[39m]\u001b[39m==\u001b[39m\u001b[39m'\u001b[39m\u001b[39mW\u001b[39m\u001b[39m'\u001b[39m)\u001b[39m.\u001b[39mflatMap(\u001b[39mlambda\u001b[39;00m x: x[\u001b[39m1\u001b[39m])\u001b[39m.\u001b[39mpersist()\n\u001b[1;32m     28\u001b[0m H \u001b[39m=\u001b[39m WH\u001b[39m.\u001b[39mfilter(\u001b[39mlambda\u001b[39;00m x: x[\u001b[39m0\u001b[39m]\u001b[39m==\u001b[39m\u001b[39m'\u001b[39m\u001b[39mH\u001b[39m\u001b[39m'\u001b[39m)\u001b[39m.\u001b[39mflatMap(\u001b[39mlambda\u001b[39;00m x: x[\u001b[39m1\u001b[39m])\u001b[39m.\u001b[39mpersist()\n\u001b[0;32m---> 29\u001b[0m Wvec \u001b[39m=\u001b[39m W\u001b[39m.\u001b[39;49mcollect()\n\u001b[1;32m     30\u001b[0m Hvec \u001b[39m=\u001b[39m H\u001b[39m.\u001b[39mcollect()\n\u001b[1;32m     31\u001b[0m \u001b[39mprint\u001b[39m(\u001b[39m\"\u001b[39m\u001b[39mMSE/update for \u001b[39m\u001b[39m{}\u001b[39;00m\u001b[39m-th iteration is: \u001b[39m\u001b[39m{}\u001b[39;00m\u001b[39m/\u001b[39m\u001b[39m{}\u001b[39;00m\u001b[39m \u001b[39m\u001b[39m\"\u001b[39m\u001b[39m.\u001b[39mformat(it, mse\u001b[39m.\u001b[39mvalue, nUpdates\u001b[39m.\u001b[39mvalue))\n",
      "File \u001b[0;32m~/.local/lib/python3.10/site-packages/pyspark/rdd.py:1197\u001b[0m, in \u001b[0;36mRDD.collect\u001b[0;34m(self)\u001b[0m\n\u001b[1;32m   1195\u001b[0m \u001b[39mwith\u001b[39;00m SCCallSiteSync(\u001b[39mself\u001b[39m\u001b[39m.\u001b[39mcontext):\n\u001b[1;32m   1196\u001b[0m     \u001b[39massert\u001b[39;00m \u001b[39mself\u001b[39m\u001b[39m.\u001b[39mctx\u001b[39m.\u001b[39m_jvm \u001b[39mis\u001b[39;00m \u001b[39mnot\u001b[39;00m \u001b[39mNone\u001b[39;00m\n\u001b[0;32m-> 1197\u001b[0m     sock_info \u001b[39m=\u001b[39m \u001b[39mself\u001b[39;49m\u001b[39m.\u001b[39;49mctx\u001b[39m.\u001b[39;49m_jvm\u001b[39m.\u001b[39;49mPythonRDD\u001b[39m.\u001b[39;49mcollectAndServe(\u001b[39mself\u001b[39;49m\u001b[39m.\u001b[39;49m_jrdd\u001b[39m.\u001b[39;49mrdd())\n\u001b[1;32m   1198\u001b[0m \u001b[39mreturn\u001b[39;00m \u001b[39mlist\u001b[39m(_load_from_socket(sock_info, \u001b[39mself\u001b[39m\u001b[39m.\u001b[39m_jrdd_deserializer))\n",
      "File \u001b[0;32m~/.local/lib/python3.10/site-packages/py4j/java_gateway.py:1320\u001b[0m, in \u001b[0;36mJavaMember.__call__\u001b[0;34m(self, *args)\u001b[0m\n\u001b[1;32m   1313\u001b[0m args_command, temp_args \u001b[39m=\u001b[39m \u001b[39mself\u001b[39m\u001b[39m.\u001b[39m_build_args(\u001b[39m*\u001b[39margs)\n\u001b[1;32m   1315\u001b[0m command \u001b[39m=\u001b[39m proto\u001b[39m.\u001b[39mCALL_COMMAND_NAME \u001b[39m+\u001b[39m\\\n\u001b[1;32m   1316\u001b[0m     \u001b[39mself\u001b[39m\u001b[39m.\u001b[39mcommand_header \u001b[39m+\u001b[39m\\\n\u001b[1;32m   1317\u001b[0m     args_command \u001b[39m+\u001b[39m\\\n\u001b[1;32m   1318\u001b[0m     proto\u001b[39m.\u001b[39mEND_COMMAND_PART\n\u001b[0;32m-> 1320\u001b[0m answer \u001b[39m=\u001b[39m \u001b[39mself\u001b[39;49m\u001b[39m.\u001b[39;49mgateway_client\u001b[39m.\u001b[39;49msend_command(command)\n\u001b[1;32m   1321\u001b[0m return_value \u001b[39m=\u001b[39m get_return_value(\n\u001b[1;32m   1322\u001b[0m     answer, \u001b[39mself\u001b[39m\u001b[39m.\u001b[39mgateway_client, \u001b[39mself\u001b[39m\u001b[39m.\u001b[39mtarget_id, \u001b[39mself\u001b[39m\u001b[39m.\u001b[39mname)\n\u001b[1;32m   1324\u001b[0m \u001b[39mfor\u001b[39;00m temp_arg \u001b[39min\u001b[39;00m temp_args:\n",
      "File \u001b[0;32m~/.local/lib/python3.10/site-packages/py4j/java_gateway.py:1038\u001b[0m, in \u001b[0;36mGatewayClient.send_command\u001b[0;34m(self, command, retry, binary)\u001b[0m\n\u001b[1;32m   1036\u001b[0m connection \u001b[39m=\u001b[39m \u001b[39mself\u001b[39m\u001b[39m.\u001b[39m_get_connection()\n\u001b[1;32m   1037\u001b[0m \u001b[39mtry\u001b[39;00m:\n\u001b[0;32m-> 1038\u001b[0m     response \u001b[39m=\u001b[39m connection\u001b[39m.\u001b[39;49msend_command(command)\n\u001b[1;32m   1039\u001b[0m     \u001b[39mif\u001b[39;00m binary:\n\u001b[1;32m   1040\u001b[0m         \u001b[39mreturn\u001b[39;00m response, \u001b[39mself\u001b[39m\u001b[39m.\u001b[39m_create_connection_guard(connection)\n",
      "File \u001b[0;32m~/.local/lib/python3.10/site-packages/py4j/clientserver.py:511\u001b[0m, in \u001b[0;36mClientServerConnection.send_command\u001b[0;34m(self, command)\u001b[0m\n\u001b[1;32m    509\u001b[0m \u001b[39mtry\u001b[39;00m:\n\u001b[1;32m    510\u001b[0m     \u001b[39mwhile\u001b[39;00m \u001b[39mTrue\u001b[39;00m:\n\u001b[0;32m--> 511\u001b[0m         answer \u001b[39m=\u001b[39m smart_decode(\u001b[39mself\u001b[39;49m\u001b[39m.\u001b[39;49mstream\u001b[39m.\u001b[39;49mreadline()[:\u001b[39m-\u001b[39m\u001b[39m1\u001b[39m])\n\u001b[1;32m    512\u001b[0m         logger\u001b[39m.\u001b[39mdebug(\u001b[39m\"\u001b[39m\u001b[39mAnswer received: \u001b[39m\u001b[39m{0}\u001b[39;00m\u001b[39m\"\u001b[39m\u001b[39m.\u001b[39mformat(answer))\n\u001b[1;32m    513\u001b[0m         \u001b[39m# Happens when a the other end is dead. There might be an empty\u001b[39;00m\n\u001b[1;32m    514\u001b[0m         \u001b[39m# answer before the socket raises an error.\u001b[39;00m\n",
      "File \u001b[0;32m/usr/lib/python3.10/socket.py:705\u001b[0m, in \u001b[0;36mSocketIO.readinto\u001b[0;34m(self, b)\u001b[0m\n\u001b[1;32m    703\u001b[0m \u001b[39mwhile\u001b[39;00m \u001b[39mTrue\u001b[39;00m:\n\u001b[1;32m    704\u001b[0m     \u001b[39mtry\u001b[39;00m:\n\u001b[0;32m--> 705\u001b[0m         \u001b[39mreturn\u001b[39;00m \u001b[39mself\u001b[39;49m\u001b[39m.\u001b[39;49m_sock\u001b[39m.\u001b[39;49mrecv_into(b)\n\u001b[1;32m    706\u001b[0m     \u001b[39mexcept\u001b[39;00m timeout:\n\u001b[1;32m    707\u001b[0m         \u001b[39mself\u001b[39m\u001b[39m.\u001b[39m_timeout_occurred \u001b[39m=\u001b[39m \u001b[39mTrue\u001b[39;00m\n",
      "\u001b[0;31mKeyboardInterrupt\u001b[0m: "
     ]
    },
    {
     "name": "stderr",
     "output_type": "stream",
     "text": [
      "Exception in thread \"serve RDD 850\" java.net.SocketTimeoutException: Accept timed out\n",
      "\tat java.net.PlainSocketImpl.socketAccept(Native Method)\n",
      "\tat java.net.AbstractPlainSocketImpl.accept(AbstractPlainSocketImpl.java:409)\n",
      "\tat java.net.ServerSocket.implAccept(ServerSocket.java:560)\n",
      "\tat java.net.ServerSocket.accept(ServerSocket.java:528)\n",
      "\tat org.apache.spark.security.SocketAuthServer$$anon$1.run(SocketAuthServer.scala:64)\n"
     ]
    }
   ],
   "source": [
    "#mse = sc.accumulator(0.0)\n",
    "#nUpdates = sc.accumulator(0)\n",
    "stepSize = 0.01\n",
    "max_iter = 100\n",
    "stepSize = sc.broadcast(stepSize)\n",
    "for it in range(max_iter):\n",
    "    mse = sc.accumulator(0.0)\n",
    "    nUpdates = sc.accumulator(0)\n",
    "\n",
    "    beta = 0.1\n",
    "    #broadcast the stepsize\n",
    "    #stepSize = sc.broadcast(1/np.power(tau + it, beta))\n",
    "    stepSize = sc.broadcast(stepSize.value * 0.9)\n",
    "    #generate random strata\n",
    "    lam = sc.broadcast(0.01)\n",
    "\n",
    "    perms = np.random.permutation(numWorkers)+1\n",
    "    perms_dict = {i: val for i, val in enumerate(perms)}\n",
    "    rev_perms=list(i+1 for i in (dict(sorted(perms_dict.items(), key=lambda item: item[1]))).keys())\n",
    "    Mfilt = Mblocked.filter(lambda x: perms[x[0]-1]==assignBlockIndex(x[1][1],numCols,numWorkers)).persist()\n",
    "    Hblocked = H.keyBy(lambda x: rev_perms[assignBlockIndex(x[0], numCols, numWorkers)-1])\n",
    "    Wblocked = W.keyBy(lambda x: assignBlockIndex(x[0], numRows, numWorkers))\n",
    "    groupRDD = Mfilt.groupWith(Hblocked, Wblocked).partitionBy(numWorkers)\n",
    "    WH = groupRDD.mapPartitions(lambda x: SGD(x, stepSize, numFactors,lam, mse, nUpdates,scaleRating))\n",
    "    W.unpersist()\n",
    "    H.unpersist()\n",
    "    W = WH.filter(lambda x: x[0]=='W').flatMap(lambda x: x[1]).persist()\n",
    "    H = WH.filter(lambda x: x[0]=='H').flatMap(lambda x: x[1]).persist()\n",
    "    Wvec = W.collect()\n",
    "    Hvec = H.collect()\n",
    "    print(\"MSE/update for {}-th iteration is: {}/{} \".format(it, mse.value, nUpdates.value))\n",
    "    print(\"RMSE: {}\".format((mse.value/nUpdates.value)))\n"
   ]
  },
  {
   "cell_type": "code",
   "execution_count": 32,
   "id": "0rVOg-WigLQc",
   "metadata": {
    "colab": {
     "base_uri": "https://localhost:8080/"
    },
    "id": "0rVOg-WigLQc",
    "outputId": "76fc170e-f4a7-424b-ab91-93fcdafe6056"
   },
   "outputs": [
    {
     "data": {
      "text/plain": [
       "[(15, 405, 2.0),\n",
       " (15, 749, 1.0),\n",
       " (15, 25, 3.0),\n",
       " (15, 331, 3.0),\n",
       " (15, 222, 3.0),\n",
       " (15, 473, 1.0),\n",
       " (15, 678, 1.0),\n",
       " (15, 932, 1.0),\n",
       " (15, 127, 2.0),\n",
       " (15, 685, 4.0),\n",
       " (15, 20, 3.0),\n",
       " (15, 301, 4.0),\n",
       " (15, 278, 1.0),\n",
       " (15, 620, 4.0),\n",
       " (15, 742, 2.0),\n",
       " (15, 137, 4.0),\n",
       " (15, 696, 2.0),\n",
       " (15, 924, 3.0),\n",
       " (15, 289, 3.0),\n",
       " (15, 508, 2.0),\n",
       " (15, 754, 5.0),\n",
       " (15, 18, 1.0),\n",
       " (15, 286, 2.0),\n",
       " (15, 148, 3.0),\n",
       " (15, 864, 4.0),\n",
       " (15, 244, 2.0),\n",
       " (15, 274, 4.0),\n",
       " (15, 9, 4.0),\n",
       " (15, 307, 1.0),\n",
       " (15, 458, 5.0),\n",
       " (15, 476, 4.0),\n",
       " (15, 471, 4.0),\n",
       " (15, 7, 1.0),\n",
       " (15, 937, 4.0),\n",
       " (15, 929, 1.0),\n",
       " (15, 889, 3.0),\n",
       " (15, 591, 2.0),\n",
       " (15, 1, 1.0),\n",
       " (15, 933, 1.0),\n",
       " (15, 459, 5.0),\n",
       " (15, 411, 2.0),\n",
       " (15, 744, 4.0),\n",
       " (15, 815, 1.0),\n",
       " (15, 300, 4.0),\n",
       " (15, 926, 1.0),\n",
       " (15, 409, 3.0),\n",
       " (15, 308, 5.0),\n",
       " (15, 303, 3.0),\n",
       " (15, 251, 2.0),\n",
       " (15, 936, 5.0),\n",
       " (15, 455, 1.0),\n",
       " (15, 306, 5.0),\n",
       " (15, 928, 1.0),\n",
       " (15, 14, 4.0),\n",
       " (15, 269, 5.0),\n",
       " (15, 13, 1.0),\n",
       " (15, 252, 2.0),\n",
       " (15, 927, 4.0),\n",
       " (15, 255, 5.0),\n",
       " (15, 50, 5.0),\n",
       " (15, 333, 1.0),\n",
       " (15, 118, 1.0),\n",
       " (15, 15, 4.0),\n",
       " (15, 302, 4.0),\n",
       " (15, 280, 3.0),\n",
       " (15, 930, 2.0),\n",
       " (15, 866, 4.0),\n",
       " (15, 243, 1.0),\n",
       " (15, 310, 4.0),\n",
       " (15, 257, 4.0),\n",
       " (15, 323, 1.0),\n",
       " (15, 282, 3.0),\n",
       " (15, 676, 4.0),\n",
       " (15, 546, 2.0),\n",
       " (15, 248, 1.0),\n",
       " (15, 235, 1.0),\n",
       " (15, 181, 5.0),\n",
       " (15, 879, 3.0),\n",
       " (15, 292, 5.0),\n",
       " (15, 690, 4.0),\n",
       " (15, 291, 3.0),\n",
       " (15, 285, 4.0),\n",
       " (15, 935, 3.0),\n",
       " (15, 925, 2.0),\n",
       " (15, 931, 1.0),\n",
       " (15, 328, 3.0),\n",
       " (15, 111, 4.0),\n",
       " (15, 934, 4.0),\n",
       " (15, 220, 4.0),\n",
       " (15, 237, 3.0),\n",
       " (15, 275, 4.0),\n",
       " (15, 125, 5.0),\n",
       " (15, 121, 3.0),\n",
       " (15, 249, 1.0),\n",
       " (15, 283, 4.0),\n",
       " (15, 748, 3.0),\n",
       " (15, 297, 3.0),\n",
       " (15, 258, 3.0),\n",
       " (15, 823, 2.0),\n",
       " (15, 472, 3.0),\n",
       " (15, 938, 3.0),\n",
       " (15, 322, 3.0),\n",
       " (15, 845, 2.0),\n",
       " (15, 225, 3.0)]"
      ]
     },
     "execution_count": 32,
     "metadata": {},
     "output_type": "execute_result"
    }
   ],
   "source": [
    "M.filter(lambda x: x[0]==15).collect()"
   ]
  },
  {
   "cell_type": "code",
   "execution_count": 33,
   "id": "k1HZatzk-A8E",
   "metadata": {
    "colab": {
     "base_uri": "https://localhost:8080/"
    },
    "id": "k1HZatzk-A8E",
    "outputId": "e3971c6b-df1e-41eb-ea25-a0e049a6f124"
   },
   "outputs": [
    {
     "data": {
      "text/plain": [
       "array([[0.842 , 0.785 , 0.225 , 0.2095, 0.489 , 0.579 , 0.983 , 0.8164,\n",
       "        0.405 , 0.738 ]], dtype=float16)"
      ]
     },
     "execution_count": 33,
     "metadata": {},
     "output_type": "execute_result"
    }
   ],
   "source": [
    "W.filter(lambda x: x[0]==186).map(lambda x: x[1][1]).collect()[0]"
   ]
  },
  {
   "cell_type": "code",
   "execution_count": 34,
   "id": "ngsaaCAPgRQB",
   "metadata": {
    "colab": {
     "base_uri": "https://localhost:8080/",
     "height": 235
    },
    "id": "ngsaaCAPgRQB",
    "outputId": "cce35927-8dae-4070-dfb3-eeb2f50fd659"
   },
   "outputs": [
    {
     "data": {
      "text/plain": [
       "array([[2.908]], dtype=float16)"
      ]
     },
     "execution_count": 34,
     "metadata": {},
     "output_type": "execute_result"
    }
   ],
   "source": [
    "w_i = np.array(W.filter(lambda x: x[0]==15).map(lambda x: x[1][1]).collect()[0])\n",
    "w_j = np.array(W.filter(lambda x: x[0]==222).map(lambda x: x[1][1]).collect()[0])\n",
    "np.dot(w_i, w_j.T)"
   ]
  }
 ],
 "metadata": {
  "colab": {
   "provenance": []
  },
  "kernelspec": {
   "display_name": "Python 3 (ipykernel)",
   "language": "python",
   "name": "python3"
  },
  "language_info": {
   "codemirror_mode": {
    "name": "ipython",
    "version": 3
   },
   "file_extension": ".py",
   "mimetype": "text/x-python",
   "name": "python",
   "nbconvert_exporter": "python",
   "pygments_lexer": "ipython3",
   "version": "3.10.6 (main, Nov 14 2022, 16:10:14) [GCC 11.3.0]"
  },
  "vscode": {
   "interpreter": {
    "hash": "e7370f93d1d0cde622a1f8e1c04877d8463912d04d973331ad4851f04de6915a"
   }
  }
 },
 "nbformat": 4,
 "nbformat_minor": 5
}
