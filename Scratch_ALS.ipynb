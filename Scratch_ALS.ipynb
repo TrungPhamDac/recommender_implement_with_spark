{
  "cells": [
    {
      "cell_type": "code",
      "execution_count": null,
      "metadata": {
        "colab": {
          "base_uri": "https://localhost:8080/"
        },
        "id": "aZZ3WA9Mq-Sn",
        "outputId": "7a62e7a9-4edd-4318-ffdc-025b2077aafb"
      },
      "outputs": [
        {
          "name": "stdout",
          "output_type": "stream",
          "text": [
            "Looking in indexes: https://pypi.org/simple, https://us-python.pkg.dev/colab-wheels/public/simple/\n",
            "Requirement already satisfied: pyspark in /usr/local/lib/python3.8/dist-packages (3.3.1)\n",
            "Requirement already satisfied: py4j==0.10.9.5 in /usr/local/lib/python3.8/dist-packages (from pyspark) (0.10.9.5)\n"
          ]
        }
      ],
      "source": [
        "!pip install pyspark"
      ]
    },
    {
      "cell_type": "code",
      "execution_count": null,
      "metadata": {
        "id": "zWe5RecTp6Pq"
      },
      "outputs": [],
      "source": [
        "import numpy as np\n",
        "from numpy.linalg import inv\n",
        "from pyspark.sql import SparkSession"
      ]
    },
    {
      "cell_type": "code",
      "execution_count": null,
      "metadata": {
        "id": "3avNlruPrDvS"
      },
      "outputs": [],
      "source": [
        "spark = SparkSession\\\n",
        "  .builder\\\n",
        "  .appName('scratch-ALS')\\\n",
        "  .getOrCreate()\n",
        "sc = spark.sparkContext"
      ]
    },
    {
      "cell_type": "code",
      "execution_count": null,
      "metadata": {
        "colab": {
          "base_uri": "https://localhost:8080/"
        },
        "id": "1O4ANAXMxB8U",
        "outputId": "5bd06755-0e67-44f4-b412-d34e2c88f6dd"
      },
      "outputs": [
        {
          "data": {
            "text/plain": [
              "2"
            ]
          },
          "execution_count": 4,
          "metadata": {},
          "output_type": "execute_result"
        }
      ],
      "source": [
        "numWorkers = sc.defaultParallelism\n",
        "numWorkers"
      ]
    },
    {
      "cell_type": "code",
      "execution_count": null,
      "metadata": {
        "id": "MpUJHkynX61W"
      },
      "outputs": [],
      "source": [
        "def getRelativeIndex(value, index_list):\n",
        "  return index_list[value]"
      ]
    },
    {
      "cell_type": "code",
      "execution_count": null,
      "metadata": {
        "id": "nzm612lqYZYt"
      },
      "outputs": [],
      "source": [
        "def sortByRelativeIndex(user_or_item, input):\n",
        "  if user_or_item == 'user':\n",
        "    return input\\\n",
        "      .map(lambda x: x[1])\\\n",
        "      .distinct()\\\n",
        "      .sortBy(lambda x: x, ascending=True)\\\n",
        "      .zipWithIndex().collect()\n",
        "  else: return input\\\n",
        "      .map(lambda x: x[2][1])\\\n",
        "      .distinct()\\\n",
        "      .sortBy(lambda x: x, ascending=True)\\\n",
        "      .zipWithIndex().collect()\n"
      ]
    },
    {
      "cell_type": "code",
      "execution_count": null,
      "metadata": {
        "id": "3CIC0lWiZKWw"
      },
      "outputs": [],
      "source": [
        "def getBlock(user_or_item, ratings, sorted_users, sorted_items):\n",
        "  if user_or_item == 'user':\n",
        "    return ratings\\\n",
        "      .map(lambda x: (getRelativeIndex(x[0], sorted_users), getRelativeIndex(x[1][0], sorted_items)))\\\n",
        "      .groupByKey()\n",
        "  else:\n",
        "    return ratings\\\n",
        "      .map(lambda x: (getRelativeIndex(x[1][0], sorted_items), getRelativeIndex(x[0], sorted_users)))\\\n",
        "      .groupByKey()\n"
      ]
    },
    {
      "cell_type": "code",
      "execution_count": null,
      "metadata": {
        "id": "i1D3RLgCmboi"
      },
      "outputs": [],
      "source": [
        "data = sc.textFile(\"u.data\")\n",
        "raw_data = data.map(\n",
        "  lambda l: l.split('\\t')\n",
        ").map(lambda l: (int(l[0]), int(l[1]), float(l[2])))"
      ]
    },
    {
      "cell_type": "code",
      "execution_count": null,
      "metadata": {
        "id": "k_MmJ__Ij97i"
      },
      "outputs": [],
      "source": [
        "sorted_users = dict(raw_data.map(lambda x: x[0]).distinct().sortBy(lambda idx: idx, ascending = True)\\\n",
        "  .zipWithIndex().collect())\n",
        "\n",
        "sorted_items = dict(raw_data.map(lambda x: x[1]).distinct().sortBy(lambda idx: idx, ascending = True)\\\n",
        "  .zipWithIndex().collect())\n",
        "\n",
        "item_count = len(sorted_items)\n",
        "user_count = len(sorted_users)"
      ]
    },
    {
      "cell_type": "code",
      "execution_count": null,
      "metadata": {
        "id": "ZdHYJ6CgmiNB"
      },
      "outputs": [],
      "source": [
        "M = raw_data.map(lambda l: (l[0], (l[1], l[2])))\\\n",
        ".map(lambda x: (getRelativeIndex(x[0], sorted_users), (getRelativeIndex(x[1][0], sorted_items), x[1][1])))"
      ]
    },
    {
      "cell_type": "code",
      "execution_count": null,
      "metadata": {
        "id": "_djcbI3PmURw"
      },
      "outputs": [],
      "source": [
        "numFactors = 10\n",
        "W = np.matrix(np.random.rand(numFactors, user_count))\n",
        "H = np.matrix(np.random.rand(numFactors, item_count))"
      ]
    },
    {
      "cell_type": "code",
      "execution_count": null,
      "metadata": {
        "id": "AwteWGGjY3Gu"
      },
      "outputs": [],
      "source": [
        "R_u = M.map(lambda x: (x[0], (x[1][0], x[1][1]))).cache()\n",
        "R_i = M.map(lambda x: (x[1][0], (x[0], x[1][1]))).cache()"
      ]
    },
    {
      "cell_type": "code",
      "execution_count": null,
      "metadata": {
        "id": "fylgWbMcZZci"
      },
      "outputs": [],
      "source": [
        "w_broadcast = sc.broadcast(W)\n",
        "h_broadcast = sc.broadcast(H)"
      ]
    },
    {
      "cell_type": "code",
      "execution_count": null,
      "metadata": {
        "id": "sWml8lycUN1K"
      },
      "outputs": [],
      "source": [
        "def computeOptimizeMatrix(iterables, constant_matrix_broadcast, lamb):\n",
        "  fixed_matrix = constant_matrix_broadcast.value\n",
        "  num_factors = fixed_matrix.shape[0]\n",
        "  r_i = np.zeros((1, num_factors))\n",
        "  iter_dict = dict(iterables)\n",
        "  XtX = np.zeros((num_factors, num_factors))\n",
        "  for i, val in enumerate(r_i[0]):\n",
        "    if i in iter_dict:\n",
        "      r_i[0, i] = iter_dict[i]\n",
        "  updated_vector = (inv((fixed_matrix).dot(fixed_matrix.T) + lamb.value * np.eye(num_factors))).dot((fixed_matrix.dot(r_i.T)))\n",
        "  return updated_vector"
      ]
    },
    {
      "cell_type": "code",
      "execution_count": null,
      "metadata": {
        "id": "weOFOnoEJ9ct"
      },
      "outputs": [],
      "source": [
        "def computeOptimizeMatrix(iterables, constant_matrix_broadcast, lamb):\n",
        "  fixed_matrix = constant_matrix_broadcast.value\n",
        "  num_factors = fixed_matrix.shape[0]\n",
        "  r_i = np.zeros((1, num_factors))\n",
        "  iter_dict = dict(iterables)\n",
        "  # XtX = np.zeros((num_factors, num_factors))\n",
        "  # XXt = fixed_matrix.dot(fixed_matrix.T)\n",
        "  # XtX = np.zeros((numFactors, numFactors))\n",
        "  # RX = np.zeros((numFactors, 1))\n",
        "  # for i in iter_dict.items():\n",
        "  #   index = i[0] - 1\n",
        "  #   rating = i[1]\n",
        "  #   C = H[:, [index]]\n",
        "  #   RX += (rating) * C\n",
        "  #   XtX += (C.dot(C.T))\n",
        "  X = fixed_matrix[:, list(iter_dict.keys())]\n",
        "  R = np.matrix(list(iter_dict.values()))\n",
        "  XtX = X.dot(X.T)\n",
        "  RX = X.dot(R.T)\n",
        "  return np.linalg.solve(XtX + lamb.value * np.eye(num_factors),RX)"
      ]
    },
    {
      "cell_type": "code",
      "execution_count": null,
      "metadata": {
        "id": "HPVV01vVxweH"
      },
      "outputs": [],
      "source": [
        "# random_user = R_u.groupByKey().collect()[6]\n",
        "# iterables = list(random_user[1])\n",
        "# constant_matrix_broadcast = h_broadcast\n",
        "\n",
        "# fixed_matrix = constant_matrix_broadcast.value\n",
        "# num_factors = fixed_matrix.shape[0]\n",
        "\n",
        "# iter_dict = dict(iterables)\n",
        "# XtX = np.zeros((num_factors, num_factors))\n",
        "# XXt = fixed_matrix.dot(fixed_matrix.T)\n",
        "# XtX = np.zeros((numFactors, numFactors))\n",
        "# RX = np.zeros((numFactors, 1))\n",
        "# for i in iter_dict.items():\n",
        "#   index = sorted_items[i[0]]\n",
        "#   rating = i[1]\n",
        "#   C = H[:, [index]]\n",
        "#   RX += rating * C\n",
        "#   XtX += (C.dot(C.T))\n",
        "# np.linalg.solve(XtX, RX)"
      ]
    },
    {
      "cell_type": "code",
      "execution_count": null,
      "metadata": {
        "id": "NyeByxnz1bCZ"
      },
      "outputs": [],
      "source": [
        "LAMBDA = 0.01   # regularization\n",
        "np.random.seed(42)\n",
        "\n",
        "\n",
        "def get_rmse(R, ms: np.ndarray, us: np.ndarray) -> np.float64:\n",
        "    diff = R - ms * us.T\n",
        "    return np.sqrt(np.sum(np.power(diff, 2)) / (M_count * U_count))\n",
        "\n",
        "\n",
        "def update(i: int, mat: np.ndarray, ratings: np.ndarray) -> np.ndarray:\n",
        "    uu = mat.shape[0]\n",
        "    ff = mat.shape[1]\n",
        "\n",
        "    XtX = mat.T * mat\n",
        "    Xty = mat.T * ratings[i, :].T\n",
        "\n",
        "    for j in range(ff):\n",
        "        XtX[j, j] += LAMBDA * uu\n",
        "\n",
        "    return np.linalg.solve(XtX, Xty)\n"
      ]
    },
    {
      "cell_type": "code",
      "execution_count": null,
      "metadata": {
        "id": "SblrvL_paHvq"
      },
      "outputs": [],
      "source": [
        "lamb = sc.broadcast(0.01)"
      ]
    },
    {
      "cell_type": "code",
      "execution_count": null,
      "metadata": {
        "id": "6eULC3wlXVEl"
      },
      "outputs": [],
      "source": [
        "newW = R_u.groupByKey()\\\n",
        "  .mapValues(lambda row:computeOptimizeMatrix(row,h_broadcast,lamb))\\\n",
        "  .sortByKey()\\\n",
        "  .map(lambda data: data[1])\\\n",
        "  .collect()\n"
      ]
    },
    {
      "cell_type": "code",
      "execution_count": null,
      "metadata": {
        "colab": {
          "base_uri": "https://localhost:8080/"
        },
        "id": "y1JG5ERITUa5",
        "outputId": "61f200e3-3325-40e2-cd5a-3c71b62cfd93"
      },
      "outputs": [
        {
          "name": "stdout",
          "output_type": "stream",
          "text": [
            "(10, 943)\n",
            "(10, 1682)\n"
          ]
        }
      ],
      "source": [
        "print(W.shape)\n",
        "print(H.shape)"
      ]
    },
    {
      "cell_type": "code",
      "execution_count": null,
      "metadata": {
        "colab": {
          "base_uri": "https://localhost:8080/"
        },
        "id": "GFP5Q63NwvDa",
        "outputId": "e3a3b56b-3e5d-497a-b761-e7c481784540"
      },
      "outputs": [
        {
          "data": {
            "text/plain": [
              "(57, (942, 4.0))"
            ]
          },
          "execution_count": 21,
          "metadata": {},
          "output_type": "execute_result"
        }
      ],
      "source": [
        "R_i.max(lambda x: x[1][0])"
      ]
    },
    {
      "cell_type": "code",
      "execution_count": null,
      "metadata": {
        "colab": {
          "base_uri": "https://localhost:8080/"
        },
        "id": "XCBcdp_HxGGw",
        "outputId": "3355f303-a33f-48f5-83b4-e3e88df40521"
      },
      "outputs": [
        {
          "data": {
            "text/plain": [
              "(1, 943)"
            ]
          },
          "execution_count": 22,
          "metadata": {},
          "output_type": "execute_result"
        }
      ],
      "source": [
        "W[0].shape"
      ]
    },
    {
      "cell_type": "code",
      "execution_count": null,
      "metadata": {
        "id": "xAt77btm8wt3"
      },
      "outputs": [],
      "source": [
        "def get_error_square(rating, i, j):\n",
        "  pred = W[:, [i]].T.dot(H[:, [j]])\n",
        "  return (rating - pred)**2"
      ]
    },
    {
      "cell_type": "code",
      "execution_count": null,
      "metadata": {
        "colab": {
          "base_uri": "https://localhost:8080/"
        },
        "id": "dMKBUGRbwI7u",
        "outputId": "0fb19b8b-669f-48c5-e230-e599ce8929f6"
      },
      "outputs": [
        {
          "data": {
            "text/plain": [
              "PythonRDD[44] at RDD at PythonRDD.scala:53"
            ]
          },
          "execution_count": 24,
          "metadata": {},
          "output_type": "execute_result"
        }
      ],
      "source": [
        "R_i.groupByKey()"
      ]
    },
    {
      "cell_type": "code",
      "execution_count": null,
      "metadata": {
        "colab": {
          "base_uri": "https://localhost:8080/"
        },
        "id": "9Tjb10p1CGaq",
        "outputId": "a61248ac-27b8-412f-bc24-04b476c9e6d0"
      },
      "outputs": [
        {
          "name": "stdout",
          "output_type": "stream",
          "text": [
            "Iteration 0:\n",
            "\n",
            "RMSE: 0.8346\n",
            "\n",
            "Iteration 1:\n",
            "\n",
            "RMSE: 0.7689\n",
            "\n",
            "Iteration 2:\n",
            "\n",
            "RMSE: 0.7434\n",
            "\n",
            "Iteration 3:\n",
            "\n",
            "RMSE: 0.7292\n",
            "\n",
            "Iteration 4:\n",
            "\n",
            "RMSE: 0.7204\n",
            "\n",
            "Iteration 5:\n",
            "\n",
            "RMSE: 0.7144\n",
            "\n",
            "Iteration 6:\n",
            "\n",
            "RMSE: 0.7101\n",
            "\n",
            "Iteration 7:\n",
            "\n",
            "RMSE: 0.7067\n",
            "\n",
            "Iteration 8:\n",
            "\n",
            "RMSE: 0.7040\n",
            "\n",
            "Iteration 9:\n",
            "\n",
            "RMSE: 0.7018\n",
            "\n",
            "Iteration 10:\n",
            "\n",
            "RMSE: 0.7000\n",
            "\n",
            "Iteration 11:\n",
            "\n",
            "RMSE: 0.6984\n",
            "\n",
            "Iteration 12:\n",
            "\n",
            "RMSE: 0.6969\n",
            "\n",
            "Iteration 13:\n",
            "\n",
            "RMSE: 0.6956\n",
            "\n",
            "Iteration 14:\n",
            "\n",
            "RMSE: 0.6945\n",
            "\n",
            "Iteration 15:\n",
            "\n",
            "RMSE: 0.6935\n",
            "\n",
            "Iteration 16:\n",
            "\n",
            "RMSE: 0.6926\n",
            "\n",
            "Iteration 17:\n",
            "\n",
            "RMSE: 0.6918\n",
            "\n",
            "Iteration 18:\n",
            "\n",
            "RMSE: 0.6910\n",
            "\n",
            "Iteration 19:\n",
            "\n",
            "RMSE: 0.6904\n",
            "\n",
            "Iteration 20:\n",
            "\n",
            "RMSE: 0.6898\n",
            "\n",
            "Iteration 21:\n",
            "\n",
            "RMSE: 0.6893\n",
            "\n",
            "Iteration 22:\n",
            "\n",
            "RMSE: 0.6888\n",
            "\n",
            "Iteration 23:\n",
            "\n",
            "RMSE: 0.6884\n",
            "\n",
            "Iteration 24:\n",
            "\n",
            "RMSE: 0.6880\n",
            "\n",
            "Iteration 25:\n",
            "\n",
            "RMSE: 0.6875\n",
            "\n",
            "Iteration 26:\n",
            "\n",
            "RMSE: 0.6872\n",
            "\n",
            "Iteration 27:\n",
            "\n",
            "RMSE: 0.6868\n",
            "\n",
            "Iteration 28:\n",
            "\n",
            "RMSE: 0.6865\n",
            "\n",
            "Iteration 29:\n",
            "\n",
            "RMSE: 0.6862\n",
            "\n",
            "Iteration 30:\n",
            "\n",
            "RMSE: 0.6859\n",
            "\n",
            "Iteration 31:\n",
            "\n",
            "RMSE: 0.6856\n",
            "\n",
            "Iteration 32:\n",
            "\n",
            "RMSE: 0.6853\n",
            "\n",
            "Iteration 33:\n",
            "\n",
            "RMSE: 0.6851\n",
            "\n",
            "Iteration 34:\n",
            "\n",
            "RMSE: 0.6848\n",
            "\n",
            "Iteration 35:\n",
            "\n",
            "RMSE: 0.6846\n",
            "\n",
            "Iteration 36:\n",
            "\n",
            "RMSE: 0.6844\n",
            "\n",
            "Iteration 37:\n",
            "\n",
            "RMSE: 0.6842\n",
            "\n",
            "Iteration 38:\n",
            "\n",
            "RMSE: 0.6840\n",
            "\n",
            "Iteration 39:\n",
            "\n",
            "RMSE: 0.6838\n",
            "\n",
            "Iteration 40:\n",
            "\n",
            "RMSE: 0.6836\n",
            "\n",
            "Iteration 41:\n",
            "\n",
            "RMSE: 0.6834\n",
            "\n",
            "Iteration 42:\n",
            "\n",
            "RMSE: 0.6832\n",
            "\n",
            "Iteration 43:\n",
            "\n",
            "RMSE: 0.6830\n",
            "\n",
            "Iteration 44:\n",
            "\n",
            "RMSE: 0.6829\n",
            "\n",
            "Iteration 45:\n",
            "\n",
            "RMSE: 0.6827\n",
            "\n",
            "Iteration 46:\n",
            "\n",
            "RMSE: 0.6825\n",
            "\n",
            "Iteration 47:\n",
            "\n",
            "RMSE: 0.6824\n",
            "\n",
            "Iteration 48:\n",
            "\n",
            "RMSE: 0.6823\n",
            "\n",
            "Iteration 49:\n",
            "\n",
            "RMSE: 0.6821\n",
            "\n"
          ]
        }
      ],
      "source": [
        "ITERATIONS = 50\n",
        "for i in range(ITERATIONS):\n",
        "  newW = R_u.groupByKey()\\\n",
        "    .mapValues(lambda row:computeOptimizeMatrix(row,h_broadcast,lamb))\\\n",
        "    .sortByKey()\\\n",
        "    .map(lambda data: data[1])\\\n",
        "    .collect()\n",
        "  W = np.array(list(map(lambda x: np.array(x.flatten())[0], newW))).T\n",
        "  w_broadcast.destroy()\n",
        "  w_broadcast = sc.broadcast(W)\n",
        "  newH = R_i.groupByKey()\\\n",
        "    .mapValues(lambda row:computeOptimizeMatrix(row,w_broadcast,lamb))\\\n",
        "    .sortByKey()\\\n",
        "    .map(lambda data: data[1])\\\n",
        "    .collect()\n",
        "  H = np.array(list(map(lambda x: np.array(x.flatten())[0], newH))).T\n",
        "  h_broadcast.destroy()\n",
        "  h_broadcast = sc.broadcast(H)\n",
        "  sse = M.map(lambda x: get_error_square(x[1][1], x[0], x[1][0])).reduce(lambda x,y: x+y)[0,0]\n",
        "  count = M.count()\n",
        "  mse = pow((sse/count), 0.5)\n",
        "  print(\"Iteration %d:\" % i)\n",
        "  print(\"\\nRMSE: %5.4f\\n\" % mse)\n"
      ]
    },
    {
      "cell_type": "code",
      "execution_count": null,
      "metadata": {
        "colab": {
          "base_uri": "https://localhost:8080/"
        },
        "id": "UpEQtsaCyycS",
        "outputId": "087b0adc-c21e-460c-9ce4-200ba6d3f04b"
      },
      "outputs": [
        {
          "data": {
            "text/plain": [
              "array([0.5297142 , 1.09126282, 0.69499938, 1.59845686, 0.65000493,\n",
              "       0.99131188, 0.45204522, 0.19177449, 0.68120384, 0.35439614])"
            ]
          },
          "execution_count": 26,
          "metadata": {},
          "output_type": "execute_result"
        }
      ],
      "source": [
        "np.array(newW[0].flatten())[0]"
      ]
    },
    {
      "cell_type": "code",
      "execution_count": null,
      "metadata": {
        "colab": {
          "base_uri": "https://localhost:8080/"
        },
        "id": "HmKe5d4aRfia",
        "outputId": "38570b71-3808-4c1c-9ee0-ad55b4b3eda9"
      },
      "outputs": [
        {
          "data": {
            "text/plain": [
              "(10, 1, 943)"
            ]
          },
          "execution_count": 27,
          "metadata": {},
          "output_type": "execute_result"
        }
      ],
      "source": [
        "np.array(list(map(lambda x: x.flatten(), newW))).T.shape"
      ]
    },
    {
      "cell_type": "code",
      "execution_count": null,
      "metadata": {
        "id": "RyYyvceP1gNk"
      },
      "outputs": [],
      "source": [
        "M_count = len(sorted_items)\n",
        "U_count = len(sorted_users)\n",
        "F = numFactors\n",
        "partitions = numWorkers\n",
        "ITERATIONS = 2"
      ]
    },
    {
      "cell_type": "code",
      "execution_count": null,
      "metadata": {
        "id": "z1JjM9idpURY"
      },
      "outputs": [],
      "source": [
        "R = np.zeros((M_count, U_count))\n",
        "rating_rdd = M.map(lambda x: (x[0], x[1][0], x[1][1])).collect()\n"
      ]
    },
    {
      "cell_type": "code",
      "execution_count": null,
      "metadata": {
        "id": "NVFs66691vOG"
      },
      "outputs": [],
      "source": [
        "ms = np.matrix(np.random.rand(M_count, F))\n",
        "us = np.matrix(np.random.rand(U_count, F))\n",
        "\n",
        "Rb = sc.broadcast(R)\n",
        "msb = sc.broadcast(ms)\n",
        "usb = sc.broadcast(us)\n",
        "\n"
      ]
    },
    {
      "cell_type": "markdown",
      "metadata": {
        "id": "MoPhS0qU50Li"
      },
      "source": [
        "for i in range(ITERATIONS):\n",
        "    ms_ = sc.parallelize(range(M), partitions) \\\n",
        "        .map(lambda x: update(x, usb.value, Rb.value)) \\\n",
        "        .collect()\n",
        "    # collect() returns a list, so array ends up being\n",
        "    # a 3-d array, we take the first 2 dims for the matrix\n",
        "    ms = np.matrix(np.array(ms_)[:, :, 0])\n",
        "    msb = sc.broadcast(ms)\n",
        "\n",
        "    us_ = sc.parallelize(range(U), partitions) \\\n",
        "        .map(lambda x: update(x, msb.value, Rb.value.T)) \\\n",
        "        .collect()\n",
        "    us = np.matrix(np.array(us_)[:, :, 0])\n",
        "    usb = sc.broadcast(us)\n",
        "\n",
        "    error = rmse(R, ms, us)\n",
        "    print(\"Iteration %d:\" % i)\n",
        "    print(\"\\nRMSE: %5.4f\\n\" % error)\n"
      ]
    },
    {
      "cell_type": "code",
      "execution_count": null,
      "metadata": {
        "id": "Q2CJahtiGbL0"
      },
      "outputs": [],
      "source": [
        "def get_error_square(rating, i, j):\n",
        "  pred = us[[i], :].dot(ms[[j], :].T)[0][0]\n",
        "  return (rating - pred)**2\n",
        "\n",
        "ITERATIONS = 100\n",
        "for i in range(ITERATIONS):\n",
        "    ms_ = sc.parallelize(range(M_count), partitions) \\\n",
        "        .map(lambda x: update(x, usb.value, Rb.value)) \\\n",
        "        .collect()\n",
        "    # collect() returns a list, so array ends up being\n",
        "    # a 3-d array, we take the first 2 dims for the matrix\n",
        "    ms = np.matrix(np.array(ms_)[:, :, 0])\n",
        "    msb = sc.broadcast(ms)\n",
        "\n",
        "    us_ = sc.parallelize(range(U_count), partitions) \\\n",
        "        .map(lambda x: update(x, msb.value, Rb.value.T)) \\\n",
        "        .collect()\n",
        "    us = np.matrix(np.array(us_)[:, :, 0])\n",
        "    usb = sc.broadcast(us)\n",
        "\n",
        "    \n",
        "    sse = M.map(lambda x: get_error_square(x[1][1], sorted_users[x[0]], sorted_items[x[1][0]])).reduce(lambda x,y: x+y)[0, 0]\n",
        "    count = M.count()\n",
        "    rmse = pow(sse/count, 0.5)\n",
        "    error = get_rmse(R, ms, us)\n",
        "    print(\"Iteration %d:\" % i)\n",
        "    print(\"\\nRMSE: %5.4f\" % error)\n",
        "    print(\"\\nGlobal RMSE: %5.4f\\n\" % rmse)\n"
      ]
    },
    {
      "cell_type": "code",
      "execution_count": null,
      "metadata": {
        "id": "ssuCVOgBCS9D"
      },
      "outputs": [],
      "source": [
        "usb.value.shape[1]"
      ]
    },
    {
      "cell_type": "code",
      "execution_count": null,
      "metadata": {
        "id": "YnlzJ7_e7DPp"
      },
      "outputs": [],
      "source": [
        "def get_error_square(rating, i, j):\n",
        "  pred = us[:, [i]].T.dot(ms[:, [j]])[0][0]\n",
        "  return (rating - pred)**2"
      ]
    },
    {
      "cell_type": "code",
      "execution_count": null,
      "metadata": {
        "id": "vAu4ZcuA49xq"
      },
      "outputs": [],
      "source": [
        "ms_ = sc.parallelize(range(M_count), partitions) \\\n",
        "    .map(lambda x: update(x, usb.value, Rb.value)) \\\n",
        "    .collect()\n",
        "# collect() returns a list, so array ends up being\n",
        "# a 3-d array, we take the first 2 dims for the matrix\n",
        "ms = np.matrix(np.array(ms_)[:, :, 0])\n",
        "msb = sc.broadcast(ms)\n",
        "\n",
        "us_ = sc.parallelize(range(U_count), partitions) \\\n",
        "    .map(lambda x: update(x, msb.value, Rb.value.T)) \\\n",
        "    .collect()\n",
        "us = np.matrix(np.array(us_)[:, :, 0])\n",
        "usb = sc.broadcast(us)\n",
        "mse = get_rmse(M, ms, us)\n",
        "error = rmse(R, ms, us)\n",
        "print(\"Iteration %d:\" % i)\n",
        "print(\"\\nErr: %5.4f\\n\" % error)\n",
        "print(\"\\nRMSE: %5.4f\\n\" % rmse)\n"
      ]
    },
    {
      "cell_type": "code",
      "execution_count": null,
      "metadata": {
        "id": "R-__-yetAKwv"
      },
      "outputs": [],
      "source": [
        "R"
      ]
    },
    {
      "cell_type": "code",
      "execution_count": null,
      "metadata": {
        "id": "FysLDDfR4nFK"
      },
      "outputs": [],
      "source": [
        "XtX = usb.value.T * usb.value\n",
        "inv(XtX + 0.01 * np.eye(F)) * Xty"
      ]
    },
    {
      "cell_type": "code",
      "execution_count": null,
      "metadata": {
        "id": "TdvauBmX4R2o"
      },
      "outputs": [],
      "source": [
        "Xty = usb.value.T * Rb.value[6, :].T\n",
        "Xty"
      ]
    }
  ],
  "metadata": {
    "colab": {
      "provenance": []
    },
    "kernelspec": {
      "display_name": "Python 3",
      "name": "python3"
    },
    "language_info": {
      "name": "python"
    }
  },
  "nbformat": 4,
  "nbformat_minor": 0
}
