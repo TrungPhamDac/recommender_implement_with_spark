{
  "nbformat": 4,
  "nbformat_minor": 0,
  "metadata": {
    "colab": {
      "provenance": []
    },
    "kernelspec": {
      "name": "python3",
      "display_name": "Python 3"
    },
    "language_info": {
      "name": "python"
    }
  },
  "cells": [
    {
      "cell_type": "code",
      "source": [
        "!pip install pyspark"
      ],
      "metadata": {
        "colab": {
          "base_uri": "https://localhost:8080/"
        },
        "id": "aZZ3WA9Mq-Sn",
        "outputId": "451fa107-b4b3-4a5e-a548-d24308c3a823"
      },
      "execution_count": null,
      "outputs": [
        {
          "output_type": "stream",
          "name": "stdout",
          "text": [
            "Looking in indexes: https://pypi.org/simple, https://us-python.pkg.dev/colab-wheels/public/simple/\n",
            "Requirement already satisfied: pyspark in /usr/local/lib/python3.8/dist-packages (3.3.1)\n",
            "Requirement already satisfied: py4j==0.10.9.5 in /usr/local/lib/python3.8/dist-packages (from pyspark) (0.10.9.5)\n"
          ]
        }
      ]
    },
    {
      "cell_type": "code",
      "execution_count": null,
      "metadata": {
        "id": "zWe5RecTp6Pq"
      },
      "outputs": [],
      "source": [
        "import numpy as np\n",
        "from numpy.linalg import inv\n",
        "from pyspark.sql import SparkSession"
      ]
    },
    {
      "cell_type": "code",
      "source": [
        "spark = SparkSession\\\n",
        "  .builder\\\n",
        "  .appName('scratch-ALS')\\\n",
        "  .getOrCreate()\n",
        "sc = spark.sparkContext"
      ],
      "metadata": {
        "id": "3avNlruPrDvS"
      },
      "execution_count": null,
      "outputs": []
    },
    {
      "cell_type": "code",
      "source": [
        "data = sc.textFile(\"u.data\")\n",
        "M = data.map(\n",
        "  lambda l: l.split('\\t')\n",
        ").map(\n",
        "  lambda l: (int(l[0]), (int(l[1]), float(l[2])))\n",
        ")\n"
      ],
      "metadata": {
        "id": "g3V5N5vqwDmd"
      },
      "execution_count": null,
      "outputs": []
    },
    {
      "cell_type": "code",
      "source": [
        "numWorkers = sc.defaultParallelism\n",
        "numWorkers"
      ],
      "metadata": {
        "colab": {
          "base_uri": "https://localhost:8080/"
        },
        "id": "1O4ANAXMxB8U",
        "outputId": "43c51932-998c-4059-c83e-f8f57ad89cec"
      },
      "execution_count": null,
      "outputs": [
        {
          "output_type": "execute_result",
          "data": {
            "text/plain": [
              "2"
            ]
          },
          "metadata": {},
          "execution_count": 5
        }
      ]
    },
    {
      "cell_type": "code",
      "source": [
        "def getRelativeIndex(value, index_list):\n",
        "  return index_list[value]"
      ],
      "metadata": {
        "id": "MpUJHkynX61W"
      },
      "execution_count": null,
      "outputs": []
    },
    {
      "cell_type": "code",
      "source": [
        "def sortByRelativeIndex(user_or_item, input):\n",
        "  if user_or_item == 'user':\n",
        "    return input\\\n",
        "      .map(lambda x: x[1])\\\n",
        "      .distinct()\\\n",
        "      .sortBy(lambda x: x, ascending=True)\\\n",
        "      .zipWithIndex().collect()\n",
        "  else: return input\\\n",
        "      .map(lambda x: x[2][1])\\\n",
        "      .distinct()\\\n",
        "      .sortBy(lambda x: x, ascending=True)\\\n",
        "      .zipWithIndex().collect()\n"
      ],
      "metadata": {
        "id": "nzm612lqYZYt"
      },
      "execution_count": null,
      "outputs": []
    },
    {
      "cell_type": "code",
      "source": [
        "def getBlock(user_or_item, ratings, sorted_users, sorted_items):\n",
        "  if user_or_item == 'user':\n",
        "    return ratings\\\n",
        "      .map(lambda x: (getRelativeIndex(x[0], sorted_users), getRelativeIndex(x[1][0], sorted_items)))\\\n",
        "      .groupByKey()\n",
        "  else:\n",
        "    return ratings\\\n",
        "      .map(lambda x: (getRelativeIndex(x[1][0], sorted_items), getRelativeIndex(x[0], sorted_users)))\\\n",
        "      .groupByKey()\n"
      ],
      "metadata": {
        "id": "3CIC0lWiZKWw"
      },
      "execution_count": null,
      "outputs": []
    },
    {
      "cell_type": "code",
      "source": [
        "sorted_users = dict(M.map(lambda x: x[0]).distinct().sortBy(lambda idx: idx, ascending = True)\\\n",
        "  .zipWithIndex().collect())\n",
        "\n",
        "sorted_items = dict(M.map(lambda x: x[1][0]).distinct().sortBy(lambda idx: idx, ascending = True)\\\n",
        "  .zipWithIndex().collect())\n",
        "\n",
        "item_count = len(sorted_items)\n",
        "user_count = len(sorted_users)"
      ],
      "metadata": {
        "id": "k_MmJ__Ij97i"
      },
      "execution_count": null,
      "outputs": []
    },
    {
      "cell_type": "code",
      "source": [
        "numFactors = 10\n",
        "W = np.matrix(np.random.rand(numFactors, len(sorted_users)))\n",
        "H = np.matrix(np.random.rand(numFactors, len(sorted_items)) )"
      ],
      "metadata": {
        "id": "_djcbI3PmURw"
      },
      "execution_count": null,
      "outputs": []
    },
    {
      "cell_type": "code",
      "source": [
        "R_u = M.map(lambda x: (x[0], (x[1][0], x[1][1]))).cache()\n",
        "R_i = M.map(lambda x: (x[1][0], (x[0], x[1][1]))).cache()"
      ],
      "metadata": {
        "id": "AwteWGGjY3Gu"
      },
      "execution_count": null,
      "outputs": []
    },
    {
      "cell_type": "code",
      "source": [
        "w_broadcast = sc.broadcast(W)\n",
        "h_broadcast = sc.broadcast(H)"
      ],
      "metadata": {
        "id": "fylgWbMcZZci"
      },
      "execution_count": null,
      "outputs": []
    },
    {
      "cell_type": "code",
      "source": [
        "def computeOptimizeMatrix(iterables, constant_matrix_broadcast, lamb):\n",
        "  fixed_matrix = constant_matrix_broadcast.value\n",
        "  num_factors = fixed_matrix.shape[0]\n",
        "  r_i = np.zeros((1, num_factors))\n",
        "  iter_dict = dict(iterables)\n",
        "  XtX = np.zeros((num_factors, num_factors))\n",
        "  for i, val in enumerate(r_i[0]):\n",
        "    if i in iter_dict:\n",
        "      r_i[0, i] = iter_dict[i]\n",
        "  updated_vector = (inv((fixed_matrix).dot(fixed_matrix.T) + lamb.value * np.eye(num_factors))).dot((fixed_matrix.dot(r_i.T)))\n",
        "  return updated_vector"
      ],
      "metadata": {
        "id": "sWml8lycUN1K"
      },
      "execution_count": null,
      "outputs": []
    },
    {
      "cell_type": "code",
      "source": [],
      "metadata": {
        "id": "9LiK5q91xqWg"
      },
      "execution_count": null,
      "outputs": []
    },
    {
      "cell_type": "code",
      "source": [
        "def computeOptimizeMatrix(iterables, constant_matrix_broadcast, lamb):\n",
        "  fixed_matrix = constant_matrix_broadcast.value\n",
        "  num_factors = fixed_matrix.shape[0]\n",
        "  r_i = np.zeros((1, num_factors))\n",
        "  iter_dict = dict(iterables)\n",
        "  XtX = np.zeros((num_factors, num_factors))\n",
        "  XXt = fixed_matrix.dot(fixed_matrix.T)\n",
        "  XtX = np.zeros((numFactors, numFactors))\n",
        "  RX = np.zeros((numFactors, 1))\n",
        "  for i in iter_dict.items():\n",
        "    index = i[0] - 1\n",
        "    rating = i[1]\n",
        "    C = H[:, [index]]\n",
        "    RX += (rating) * C\n",
        "    XtX += (C.dot(C.T))\n",
        "  return np.linalg.solve(XtX + lamb.value * np.eye(numFactors),RX)"
      ],
      "metadata": {
        "id": "weOFOnoEJ9ct"
      },
      "execution_count": null,
      "outputs": []
    },
    {
      "cell_type": "code",
      "source": [
        "random_user = R_u.groupByKey().collect()[6]\n",
        "iterables = list(random_user[1])\n",
        "constant_matrix_broadcast = h_broadcast\n",
        "\n",
        "fixed_matrix = constant_matrix_broadcast.value\n",
        "num_factors = fixed_matrix.shape[0]\n",
        "\n",
        "iter_dict = dict(iterables)\n",
        "XtX = np.zeros((num_factors, num_factors))\n",
        "XXt = fixed_matrix.dot(fixed_matrix.T)\n",
        "XtX = np.zeros((numFactors, numFactors))\n",
        "RX = np.zeros((numFactors, 1))\n",
        "for i in iter_dict.items():\n",
        "  index = sorted_items[i[0]]\n",
        "  rating = i[1]\n",
        "  C = H[:, [index]]\n",
        "  RX += rating * C\n",
        "  XtX += (C.dot(C.T))\n",
        "np.linalg.solve(XtX, RX)"
      ],
      "metadata": {
        "colab": {
          "base_uri": "https://localhost:8080/"
        },
        "id": "HPVV01vVxweH",
        "outputId": "590cb75c-493a-47c8-d432-ae364b9d6c57"
      },
      "execution_count": null,
      "outputs": [
        {
          "output_type": "execute_result",
          "data": {
            "text/plain": [
              "array([[0.71789419],\n",
              "       [1.15859247],\n",
              "       [0.75519049],\n",
              "       [1.08549238],\n",
              "       [0.3121845 ],\n",
              "       [0.30759592],\n",
              "       [0.30436116],\n",
              "       [0.66523078],\n",
              "       [1.04636745],\n",
              "       [0.62074334]])"
            ]
          },
          "metadata": {},
          "execution_count": 15
        }
      ]
    },
    {
      "cell_type": "code",
      "source": [
        "LAMBDA = 0.01   # regularization\n",
        "np.random.seed(42)\n",
        "\n",
        "\n",
        "def get_rmse(R, ms: np.ndarray, us: np.ndarray) -> np.float64:\n",
        "    diff = R - ms * us.T\n",
        "    return np.sqrt(np.sum(np.power(diff, 2)) / (M_count * U_count))\n",
        "\n",
        "\n",
        "def update(i: int, mat: np.ndarray, ratings: np.ndarray) -> np.ndarray:\n",
        "    uu = mat.shape[0]\n",
        "    ff = mat.shape[1]\n",
        "\n",
        "    XtX = mat.T * mat\n",
        "    Xty = mat.T * ratings[i, :].T\n",
        "\n",
        "    for j in range(ff):\n",
        "        XtX[j, j] += LAMBDA * uu\n",
        "\n",
        "    return np.linalg.solve(XtX, Xty)\n"
      ],
      "metadata": {
        "id": "NyeByxnz1bCZ"
      },
      "execution_count": null,
      "outputs": []
    },
    {
      "cell_type": "code",
      "source": [
        "lamb = sc.broadcast(0.01)"
      ],
      "metadata": {
        "id": "SblrvL_paHvq"
      },
      "execution_count": null,
      "outputs": []
    },
    {
      "cell_type": "code",
      "source": [
        "newW = R_u.groupByKey()\\\n",
        "  .mapValues(lambda row:computeOptimizeMatrix(row,h_broadcast,lamb))\\\n",
        "  .sortByKey()\\\n",
        "  .map(lambda data: data[1])\\\n",
        "  .collect()\n"
      ],
      "metadata": {
        "id": "6eULC3wlXVEl"
      },
      "execution_count": null,
      "outputs": []
    },
    {
      "cell_type": "code",
      "source": [
        "print(W.shape)\n",
        "print(H.shape)"
      ],
      "metadata": {
        "colab": {
          "base_uri": "https://localhost:8080/"
        },
        "id": "y1JG5ERITUa5",
        "outputId": "782bbd47-b644-4de2-f298-620b99fdeb4e"
      },
      "execution_count": null,
      "outputs": [
        {
          "output_type": "stream",
          "name": "stdout",
          "text": [
            "(10, 943)\n",
            "(10, 1682)\n"
          ]
        }
      ]
    },
    {
      "cell_type": "code",
      "source": [
        "random_rating = M.filter(lambda x: x[0]==1 and x[1][0]==7).collect()[0]"
      ],
      "metadata": {
        "id": "HoC0R9r5T7sU"
      },
      "execution_count": null,
      "outputs": []
    },
    {
      "cell_type": "code",
      "source": [
        "W[:, [0]].T.dot(H[:, [6]])[0][0]"
      ],
      "metadata": {
        "colab": {
          "base_uri": "https://localhost:8080/"
        },
        "id": "W20NYSJKTOKr",
        "outputId": "8ff5370c-69fb-4ea3-cfd2-fa5a260a2a80"
      },
      "execution_count": null,
      "outputs": [
        {
          "output_type": "execute_result",
          "data": {
            "text/plain": [
              "matrix([[1.87418619]])"
            ]
          },
          "metadata": {},
          "execution_count": 21
        }
      ]
    },
    {
      "cell_type": "code",
      "source": [
        "def get_error_square(rating, i, j):\n",
        "  pred = W[:, [i]].T.dot(H[:, [j]])\n",
        "  return (rating - pred)**2"
      ],
      "metadata": {
        "id": "xAt77btm8wt3"
      },
      "execution_count": null,
      "outputs": []
    },
    {
      "cell_type": "code",
      "source": [
        "get_error_square(random_rating[1][1], sorted_users[random_rating[0]], sorted_items[random_rating[1][0]])"
      ],
      "metadata": {
        "colab": {
          "base_uri": "https://localhost:8080/"
        },
        "id": "wsygurAgWCtL",
        "outputId": "41f6ee33-efc0-4854-e73c-0526c010ebf7"
      },
      "execution_count": null,
      "outputs": [
        {
          "output_type": "execute_result",
          "data": {
            "text/plain": [
              "matrix([[4.51908435]])"
            ]
          },
          "metadata": {},
          "execution_count": 23
        }
      ]
    },
    {
      "cell_type": "code",
      "source": [
        "ITERATIONS = 50\n",
        "for i in range(ITERATIONS):\n",
        "  newW = R_u.groupByKey()\\\n",
        "    .mapValues(lambda row:computeOptimizeMatrix(row,h_broadcast,lamb))\\\n",
        "    .sortByKey()\\\n",
        "    .map(lambda data: data[1])\\\n",
        "    .collect()\n",
        "  W = np.array(list(map(lambda x: x.flatten(), newW))).T\n",
        "  w_broadcast.destroy()\n",
        "  w_broadcast = sc.broadcast(W)\n",
        "  newH = R_i.groupByKey()\\\n",
        "    .mapValues(lambda row:computeOptimizeMatrix(row,w_broadcast,lamb))\\\n",
        "    .sortByKey()\\\n",
        "    .map(lambda data: data[1])\\\n",
        "    .collect()\n",
        "  H = np.array(list(map(lambda x: x.flatten(), newH))).T\n",
        "  h_broadcast.destroy()\n",
        "  h_broadcast = sc.broadcast(H)\n",
        "  sse = M.map(lambda x: get_error_square(x[1][1], sorted_users[x[0]], sorted_items[x[1][0]])).reduce(lambda x,y: x+y)[0,0]\n",
        "  count = M.count()\n",
        "  mse = pow((sse/count), 0.5)\n",
        "  print(\"Iteration %d:\" % i)\n",
        "  print(\"\\nRMSE: %5.4f\\n\" % mse)\n"
      ],
      "metadata": {
        "colab": {
          "base_uri": "https://localhost:8080/"
        },
        "id": "9Tjb10p1CGaq",
        "outputId": "c32f8b69-3f9a-4ad1-bf79-51f7a56af393"
      },
      "execution_count": null,
      "outputs": [
        {
          "output_type": "stream",
          "name": "stdout",
          "text": [
            "Iteration 0:\n",
            "\n",
            "RMSE: 1.7618\n",
            "\n",
            "Iteration 1:\n",
            "\n",
            "RMSE: 1.3727\n",
            "\n",
            "Iteration 2:\n",
            "\n",
            "RMSE: 2.5061\n",
            "\n",
            "Iteration 3:\n",
            "\n",
            "RMSE: 1.6994\n",
            "\n",
            "Iteration 4:\n",
            "\n",
            "RMSE: 2.7745\n",
            "\n",
            "Iteration 5:\n",
            "\n",
            "RMSE: 1.9254\n",
            "\n",
            "Iteration 6:\n",
            "\n",
            "RMSE: 3.0209\n",
            "\n",
            "Iteration 7:\n",
            "\n",
            "RMSE: 1.9365\n",
            "\n",
            "Iteration 8:\n",
            "\n",
            "RMSE: 2.9850\n",
            "\n",
            "Iteration 9:\n",
            "\n",
            "RMSE: 1.9295\n",
            "\n",
            "Iteration 10:\n",
            "\n",
            "RMSE: 2.9492\n",
            "\n",
            "Iteration 11:\n",
            "\n",
            "RMSE: 2.0464\n",
            "\n",
            "Iteration 12:\n",
            "\n",
            "RMSE: 3.0120\n",
            "\n",
            "Iteration 13:\n",
            "\n",
            "RMSE: 2.0495\n",
            "\n",
            "Iteration 14:\n",
            "\n",
            "RMSE: 3.0679\n",
            "\n",
            "Iteration 15:\n",
            "\n",
            "RMSE: 2.0480\n",
            "\n",
            "Iteration 16:\n",
            "\n",
            "RMSE: 2.8640\n",
            "\n",
            "Iteration 17:\n",
            "\n",
            "RMSE: 1.9627\n",
            "\n",
            "Iteration 18:\n",
            "\n",
            "RMSE: 3.0204\n",
            "\n",
            "Iteration 19:\n",
            "\n",
            "RMSE: 2.2307\n",
            "\n",
            "Iteration 20:\n",
            "\n",
            "RMSE: 2.8294\n",
            "\n",
            "Iteration 21:\n",
            "\n",
            "RMSE: 2.2853\n",
            "\n",
            "Iteration 22:\n",
            "\n",
            "RMSE: 2.6405\n",
            "\n",
            "Iteration 23:\n",
            "\n",
            "RMSE: 2.2580\n",
            "\n",
            "Iteration 24:\n",
            "\n",
            "RMSE: 2.6589\n",
            "\n",
            "Iteration 25:\n",
            "\n",
            "RMSE: 2.2301\n",
            "\n",
            "Iteration 26:\n",
            "\n",
            "RMSE: 2.8180\n",
            "\n",
            "Iteration 27:\n",
            "\n",
            "RMSE: 2.0106\n",
            "\n",
            "Iteration 28:\n",
            "\n",
            "RMSE: 2.6996\n",
            "\n",
            "Iteration 29:\n",
            "\n",
            "RMSE: 2.3213\n",
            "\n",
            "Iteration 30:\n",
            "\n",
            "RMSE: 2.6186\n",
            "\n",
            "Iteration 31:\n",
            "\n",
            "RMSE: 2.0928\n",
            "\n",
            "Iteration 32:\n",
            "\n",
            "RMSE: 2.6017\n",
            "\n",
            "Iteration 33:\n",
            "\n",
            "RMSE: 2.2111\n",
            "\n",
            "Iteration 34:\n",
            "\n",
            "RMSE: 2.6006\n",
            "\n",
            "Iteration 35:\n",
            "\n",
            "RMSE: 2.3466\n",
            "\n",
            "Iteration 36:\n",
            "\n",
            "RMSE: 2.6775\n",
            "\n",
            "Iteration 37:\n",
            "\n",
            "RMSE: 2.2166\n",
            "\n",
            "Iteration 38:\n",
            "\n",
            "RMSE: 2.7811\n",
            "\n",
            "Iteration 39:\n",
            "\n",
            "RMSE: 2.0943\n",
            "\n",
            "Iteration 40:\n",
            "\n",
            "RMSE: 2.8897\n",
            "\n",
            "Iteration 41:\n",
            "\n",
            "RMSE: 2.4010\n",
            "\n",
            "Iteration 42:\n",
            "\n",
            "RMSE: 2.8656\n",
            "\n",
            "Iteration 43:\n",
            "\n",
            "RMSE: 2.2093\n",
            "\n",
            "Iteration 44:\n",
            "\n",
            "RMSE: 2.6662\n",
            "\n",
            "Iteration 45:\n",
            "\n",
            "RMSE: 2.3122\n",
            "\n",
            "Iteration 46:\n",
            "\n",
            "RMSE: 2.6653\n",
            "\n",
            "Iteration 47:\n",
            "\n",
            "RMSE: 2.2774\n",
            "\n",
            "Iteration 48:\n",
            "\n",
            "RMSE: 2.8936\n",
            "\n",
            "Iteration 49:\n",
            "\n",
            "RMSE: 2.3243\n",
            "\n"
          ]
        }
      ]
    },
    {
      "cell_type": "code",
      "source": [
        "np.array(list(map(lambda x: x.flatten(), newW))).T.shape"
      ],
      "metadata": {
        "id": "HmKe5d4aRfia"
      },
      "execution_count": null,
      "outputs": []
    },
    {
      "cell_type": "code",
      "source": [
        "M_count = len(sorted_items)\n",
        "U_count = len(sorted_users)\n",
        "F = numFactors\n",
        "partitions = numWorkers\n",
        "ITERATIONS = 2"
      ],
      "metadata": {
        "id": "RyYyvceP1gNk"
      },
      "execution_count": null,
      "outputs": []
    },
    {
      "cell_type": "code",
      "source": [
        "R = np.zeros((M_count, U_count))\n",
        "rating_rdd = M.map(lambda x: (x[0], x[1][0], x[1][1])).collect()\n"
      ],
      "metadata": {
        "id": "z1JjM9idpURY"
      },
      "execution_count": null,
      "outputs": []
    },
    {
      "cell_type": "code",
      "source": [
        "for rating in rating_rdd:\n",
        "  R[sorted_items[rating[1]], sorted_users[rating[0]]] = rating[2]"
      ],
      "metadata": {
        "id": "AARAUs7IpYbQ"
      },
      "execution_count": null,
      "outputs": []
    },
    {
      "cell_type": "code",
      "source": [
        "R = np.matrix(R)"
      ],
      "metadata": {
        "id": "xBaAfGZ8tPzq"
      },
      "execution_count": null,
      "outputs": []
    },
    {
      "cell_type": "code",
      "source": [
        "ms = np.matrix(np.random.rand(M_count, F))\n",
        "us = np.matrix(np.random.rand(U_count, F))\n",
        "\n",
        "Rb = sc.broadcast(R)\n",
        "msb = sc.broadcast(ms)\n",
        "usb = sc.broadcast(us)\n",
        "\n"
      ],
      "metadata": {
        "id": "NVFs66691vOG"
      },
      "execution_count": null,
      "outputs": []
    },
    {
      "cell_type": "markdown",
      "source": [
        "for i in range(ITERATIONS):\n",
        "    ms_ = sc.parallelize(range(M), partitions) \\\n",
        "        .map(lambda x: update(x, usb.value, Rb.value)) \\\n",
        "        .collect()\n",
        "    # collect() returns a list, so array ends up being\n",
        "    # a 3-d array, we take the first 2 dims for the matrix\n",
        "    ms = np.matrix(np.array(ms_)[:, :, 0])\n",
        "    msb = sc.broadcast(ms)\n",
        "\n",
        "    us_ = sc.parallelize(range(U), partitions) \\\n",
        "        .map(lambda x: update(x, msb.value, Rb.value.T)) \\\n",
        "        .collect()\n",
        "    us = np.matrix(np.array(us_)[:, :, 0])\n",
        "    usb = sc.broadcast(us)\n",
        "\n",
        "    error = rmse(R, ms, us)\n",
        "    print(\"Iteration %d:\" % i)\n",
        "    print(\"\\nRMSE: %5.4f\\n\" % error)\n"
      ],
      "metadata": {
        "id": "MoPhS0qU50Li"
      }
    },
    {
      "cell_type": "code",
      "source": [
        "def get_error_square(rating, i, j):\n",
        "  pred = us[[i], :].dot(ms[[j], :].T)[0][0]\n",
        "  return (rating - pred)**2\n",
        "\n",
        "ITERATIONS = 100\n",
        "for i in range(ITERATIONS):\n",
        "    ms_ = sc.parallelize(range(M_count), partitions) \\\n",
        "        .map(lambda x: update(x, usb.value, Rb.value)) \\\n",
        "        .collect()\n",
        "    # collect() returns a list, so array ends up being\n",
        "    # a 3-d array, we take the first 2 dims for the matrix\n",
        "    ms = np.matrix(np.array(ms_)[:, :, 0])\n",
        "    msb = sc.broadcast(ms)\n",
        "\n",
        "    us_ = sc.parallelize(range(U_count), partitions) \\\n",
        "        .map(lambda x: update(x, msb.value, Rb.value.T)) \\\n",
        "        .collect()\n",
        "    us = np.matrix(np.array(us_)[:, :, 0])\n",
        "    usb = sc.broadcast(us)\n",
        "\n",
        "    \n",
        "    sse = M.map(lambda x: get_error_square(x[1][1], sorted_users[x[0]], sorted_items[x[1][0]])).reduce(lambda x,y: x+y)[0, 0]\n",
        "    count = M.count()\n",
        "    rmse = pow(sse/count, 0.5)\n",
        "    error = get_rmse(R, ms, us)\n",
        "    print(\"Iteration %d:\" % i)\n",
        "    print(\"\\nRMSE: %5.4f\" % error)\n",
        "    print(\"\\nGlobal RMSE: %5.4f\\n\" % rmse)\n"
      ],
      "metadata": {
        "colab": {
          "base_uri": "https://localhost:8080/"
        },
        "id": "Q2CJahtiGbL0",
        "outputId": "a63af112-9594-4d35-80bc-5e5d3d475bab"
      },
      "execution_count": null,
      "outputs": [
        {
          "output_type": "stream",
          "name": "stdout",
          "text": [
            "Iteration 0:\n",
            "\n",
            "RMSE: 0.6796\n",
            "\n",
            "Global RMSE: 2.3169\n",
            "\n",
            "Iteration 1:\n",
            "\n",
            "RMSE: 0.6796\n",
            "\n",
            "Global RMSE: 2.3168\n",
            "\n",
            "Iteration 2:\n",
            "\n",
            "RMSE: 0.6796\n",
            "\n",
            "Global RMSE: 2.3168\n",
            "\n",
            "Iteration 3:\n",
            "\n",
            "RMSE: 0.6796\n",
            "\n",
            "Global RMSE: 2.3167\n",
            "\n",
            "Iteration 4:\n",
            "\n",
            "RMSE: 0.6796\n",
            "\n",
            "Global RMSE: 2.3166\n",
            "\n",
            "Iteration 5:\n",
            "\n",
            "RMSE: 0.6796\n",
            "\n",
            "Global RMSE: 2.3166\n",
            "\n",
            "Iteration 6:\n",
            "\n",
            "RMSE: 0.6796\n",
            "\n",
            "Global RMSE: 2.3165\n",
            "\n",
            "Iteration 7:\n",
            "\n",
            "RMSE: 0.6796\n",
            "\n",
            "Global RMSE: 2.3164\n",
            "\n",
            "Iteration 8:\n",
            "\n",
            "RMSE: 0.6796\n",
            "\n",
            "Global RMSE: 2.3164\n",
            "\n",
            "Iteration 9:\n",
            "\n",
            "RMSE: 0.6796\n",
            "\n",
            "Global RMSE: 2.3163\n",
            "\n",
            "Iteration 10:\n",
            "\n",
            "RMSE: 0.6796\n",
            "\n",
            "Global RMSE: 2.3163\n",
            "\n",
            "Iteration 11:\n",
            "\n",
            "RMSE: 0.6796\n",
            "\n",
            "Global RMSE: 2.3163\n",
            "\n",
            "Iteration 12:\n",
            "\n",
            "RMSE: 0.6796\n",
            "\n",
            "Global RMSE: 2.3162\n",
            "\n",
            "Iteration 13:\n",
            "\n",
            "RMSE: 0.6796\n",
            "\n",
            "Global RMSE: 2.3162\n",
            "\n",
            "Iteration 14:\n",
            "\n",
            "RMSE: 0.6796\n",
            "\n",
            "Global RMSE: 2.3162\n",
            "\n",
            "Iteration 15:\n",
            "\n",
            "RMSE: 0.6796\n",
            "\n",
            "Global RMSE: 2.3161\n",
            "\n",
            "Iteration 16:\n",
            "\n",
            "RMSE: 0.6796\n",
            "\n",
            "Global RMSE: 2.3161\n",
            "\n",
            "Iteration 17:\n",
            "\n",
            "RMSE: 0.6796\n",
            "\n",
            "Global RMSE: 2.3161\n",
            "\n",
            "Iteration 18:\n",
            "\n",
            "RMSE: 0.6796\n",
            "\n",
            "Global RMSE: 2.3161\n",
            "\n",
            "Iteration 19:\n",
            "\n",
            "RMSE: 0.6796\n",
            "\n",
            "Global RMSE: 2.3160\n",
            "\n",
            "Iteration 20:\n",
            "\n",
            "RMSE: 0.6796\n",
            "\n",
            "Global RMSE: 2.3160\n",
            "\n",
            "Iteration 21:\n",
            "\n",
            "RMSE: 0.6796\n",
            "\n",
            "Global RMSE: 2.3160\n",
            "\n",
            "Iteration 22:\n",
            "\n",
            "RMSE: 0.6796\n",
            "\n",
            "Global RMSE: 2.3160\n",
            "\n",
            "Iteration 23:\n",
            "\n",
            "RMSE: 0.6796\n",
            "\n",
            "Global RMSE: 2.3160\n",
            "\n",
            "Iteration 24:\n",
            "\n",
            "RMSE: 0.6796\n",
            "\n",
            "Global RMSE: 2.3160\n",
            "\n",
            "Iteration 25:\n",
            "\n",
            "RMSE: 0.6796\n",
            "\n",
            "Global RMSE: 2.3159\n",
            "\n",
            "Iteration 26:\n",
            "\n",
            "RMSE: 0.6796\n",
            "\n",
            "Global RMSE: 2.3159\n",
            "\n",
            "Iteration 27:\n",
            "\n",
            "RMSE: 0.6796\n",
            "\n",
            "Global RMSE: 2.3159\n",
            "\n",
            "Iteration 28:\n",
            "\n",
            "RMSE: 0.6796\n",
            "\n",
            "Global RMSE: 2.3159\n",
            "\n",
            "Iteration 29:\n",
            "\n",
            "RMSE: 0.6796\n",
            "\n",
            "Global RMSE: 2.3159\n",
            "\n",
            "Iteration 30:\n",
            "\n",
            "RMSE: 0.6796\n",
            "\n",
            "Global RMSE: 2.3159\n",
            "\n",
            "Iteration 31:\n",
            "\n",
            "RMSE: 0.6796\n",
            "\n",
            "Global RMSE: 2.3159\n",
            "\n",
            "Iteration 32:\n",
            "\n",
            "RMSE: 0.6796\n",
            "\n",
            "Global RMSE: 2.3159\n",
            "\n",
            "Iteration 33:\n",
            "\n",
            "RMSE: 0.6796\n",
            "\n",
            "Global RMSE: 2.3159\n",
            "\n",
            "Iteration 34:\n",
            "\n",
            "RMSE: 0.6796\n",
            "\n",
            "Global RMSE: 2.3159\n",
            "\n",
            "Iteration 35:\n",
            "\n",
            "RMSE: 0.6796\n",
            "\n",
            "Global RMSE: 2.3159\n",
            "\n",
            "Iteration 36:\n",
            "\n",
            "RMSE: 0.6796\n",
            "\n",
            "Global RMSE: 2.3159\n",
            "\n",
            "Iteration 37:\n",
            "\n",
            "RMSE: 0.6796\n",
            "\n",
            "Global RMSE: 2.3159\n",
            "\n",
            "Iteration 38:\n",
            "\n",
            "RMSE: 0.6796\n",
            "\n",
            "Global RMSE: 2.3158\n",
            "\n",
            "Iteration 39:\n",
            "\n",
            "RMSE: 0.6796\n",
            "\n",
            "Global RMSE: 2.3158\n",
            "\n",
            "Iteration 40:\n",
            "\n",
            "RMSE: 0.6796\n",
            "\n",
            "Global RMSE: 2.3158\n",
            "\n",
            "Iteration 41:\n",
            "\n",
            "RMSE: 0.6796\n",
            "\n",
            "Global RMSE: 2.3158\n",
            "\n",
            "Iteration 42:\n",
            "\n",
            "RMSE: 0.6796\n",
            "\n",
            "Global RMSE: 2.3158\n",
            "\n",
            "Iteration 43:\n",
            "\n",
            "RMSE: 0.6796\n",
            "\n",
            "Global RMSE: 2.3158\n",
            "\n",
            "Iteration 44:\n",
            "\n",
            "RMSE: 0.6796\n",
            "\n",
            "Global RMSE: 2.3158\n",
            "\n",
            "Iteration 45:\n",
            "\n",
            "RMSE: 0.6796\n",
            "\n",
            "Global RMSE: 2.3158\n",
            "\n",
            "Iteration 46:\n",
            "\n",
            "RMSE: 0.6796\n",
            "\n",
            "Global RMSE: 2.3158\n",
            "\n",
            "Iteration 47:\n",
            "\n",
            "RMSE: 0.6796\n",
            "\n",
            "Global RMSE: 2.3158\n",
            "\n",
            "Iteration 48:\n",
            "\n",
            "RMSE: 0.6796\n",
            "\n",
            "Global RMSE: 2.3158\n",
            "\n",
            "Iteration 49:\n",
            "\n",
            "RMSE: 0.6796\n",
            "\n",
            "Global RMSE: 2.3158\n",
            "\n",
            "Iteration 50:\n",
            "\n",
            "RMSE: 0.6796\n",
            "\n",
            "Global RMSE: 2.3158\n",
            "\n",
            "Iteration 51:\n",
            "\n",
            "RMSE: 0.6796\n",
            "\n",
            "Global RMSE: 2.3158\n",
            "\n",
            "Iteration 52:\n",
            "\n",
            "RMSE: 0.6796\n",
            "\n",
            "Global RMSE: 2.3158\n",
            "\n",
            "Iteration 53:\n",
            "\n",
            "RMSE: 0.6796\n",
            "\n",
            "Global RMSE: 2.3158\n",
            "\n",
            "Iteration 54:\n",
            "\n",
            "RMSE: 0.6796\n",
            "\n",
            "Global RMSE: 2.3158\n",
            "\n",
            "Iteration 55:\n",
            "\n",
            "RMSE: 0.6796\n",
            "\n",
            "Global RMSE: 2.3158\n",
            "\n",
            "Iteration 56:\n",
            "\n",
            "RMSE: 0.6796\n",
            "\n",
            "Global RMSE: 2.3158\n",
            "\n",
            "Iteration 57:\n",
            "\n",
            "RMSE: 0.6796\n",
            "\n",
            "Global RMSE: 2.3158\n",
            "\n",
            "Iteration 58:\n",
            "\n",
            "RMSE: 0.6796\n",
            "\n",
            "Global RMSE: 2.3158\n",
            "\n",
            "Iteration 59:\n",
            "\n",
            "RMSE: 0.6796\n",
            "\n",
            "Global RMSE: 2.3158\n",
            "\n",
            "Iteration 60:\n",
            "\n",
            "RMSE: 0.6796\n",
            "\n",
            "Global RMSE: 2.3158\n",
            "\n",
            "Iteration 61:\n",
            "\n",
            "RMSE: 0.6796\n",
            "\n",
            "Global RMSE: 2.3158\n",
            "\n",
            "Iteration 62:\n",
            "\n",
            "RMSE: 0.6796\n",
            "\n",
            "Global RMSE: 2.3158\n",
            "\n",
            "Iteration 63:\n",
            "\n",
            "RMSE: 0.6796\n",
            "\n",
            "Global RMSE: 2.3158\n",
            "\n",
            "Iteration 64:\n",
            "\n",
            "RMSE: 0.6796\n",
            "\n",
            "Global RMSE: 2.3158\n",
            "\n",
            "Iteration 65:\n",
            "\n",
            "RMSE: 0.6796\n",
            "\n",
            "Global RMSE: 2.3158\n",
            "\n",
            "Iteration 66:\n",
            "\n",
            "RMSE: 0.6796\n",
            "\n",
            "Global RMSE: 2.3158\n",
            "\n",
            "Iteration 67:\n",
            "\n",
            "RMSE: 0.6796\n",
            "\n",
            "Global RMSE: 2.3158\n",
            "\n",
            "Iteration 68:\n",
            "\n",
            "RMSE: 0.6796\n",
            "\n",
            "Global RMSE: 2.3158\n",
            "\n",
            "Iteration 69:\n",
            "\n",
            "RMSE: 0.6796\n",
            "\n",
            "Global RMSE: 2.3158\n",
            "\n",
            "Iteration 70:\n",
            "\n",
            "RMSE: 0.6796\n",
            "\n",
            "Global RMSE: 2.3158\n",
            "\n",
            "Iteration 71:\n",
            "\n",
            "RMSE: 0.6796\n",
            "\n",
            "Global RMSE: 2.3158\n",
            "\n",
            "Iteration 72:\n",
            "\n",
            "RMSE: 0.6796\n",
            "\n",
            "Global RMSE: 2.3158\n",
            "\n",
            "Iteration 73:\n",
            "\n",
            "RMSE: 0.6796\n",
            "\n",
            "Global RMSE: 2.3158\n",
            "\n",
            "Iteration 74:\n",
            "\n",
            "RMSE: 0.6796\n",
            "\n",
            "Global RMSE: 2.3158\n",
            "\n",
            "Iteration 75:\n",
            "\n",
            "RMSE: 0.6796\n",
            "\n",
            "Global RMSE: 2.3158\n",
            "\n",
            "Iteration 76:\n",
            "\n",
            "RMSE: 0.6796\n",
            "\n",
            "Global RMSE: 2.3158\n",
            "\n",
            "Iteration 77:\n",
            "\n",
            "RMSE: 0.6796\n",
            "\n",
            "Global RMSE: 2.3158\n",
            "\n",
            "Iteration 78:\n",
            "\n",
            "RMSE: 0.6796\n",
            "\n",
            "Global RMSE: 2.3158\n",
            "\n",
            "Iteration 79:\n",
            "\n",
            "RMSE: 0.6796\n",
            "\n",
            "Global RMSE: 2.3158\n",
            "\n",
            "Iteration 80:\n",
            "\n",
            "RMSE: 0.6796\n",
            "\n",
            "Global RMSE: 2.3158\n",
            "\n",
            "Iteration 81:\n",
            "\n",
            "RMSE: 0.6796\n",
            "\n",
            "Global RMSE: 2.3158\n",
            "\n",
            "Iteration 82:\n",
            "\n",
            "RMSE: 0.6796\n",
            "\n",
            "Global RMSE: 2.3158\n",
            "\n",
            "Iteration 83:\n",
            "\n",
            "RMSE: 0.6796\n",
            "\n",
            "Global RMSE: 2.3158\n",
            "\n",
            "Iteration 84:\n",
            "\n",
            "RMSE: 0.6796\n",
            "\n",
            "Global RMSE: 2.3158\n",
            "\n",
            "Iteration 85:\n",
            "\n",
            "RMSE: 0.6796\n",
            "\n",
            "Global RMSE: 2.3158\n",
            "\n",
            "Iteration 86:\n",
            "\n",
            "RMSE: 0.6796\n",
            "\n",
            "Global RMSE: 2.3158\n",
            "\n",
            "Iteration 87:\n",
            "\n",
            "RMSE: 0.6796\n",
            "\n",
            "Global RMSE: 2.3158\n",
            "\n",
            "Iteration 88:\n",
            "\n",
            "RMSE: 0.6796\n",
            "\n",
            "Global RMSE: 2.3158\n",
            "\n",
            "Iteration 89:\n",
            "\n",
            "RMSE: 0.6796\n",
            "\n",
            "Global RMSE: 2.3158\n",
            "\n",
            "Iteration 90:\n",
            "\n",
            "RMSE: 0.6796\n",
            "\n",
            "Global RMSE: 2.3158\n",
            "\n",
            "Iteration 91:\n",
            "\n",
            "RMSE: 0.6796\n",
            "\n",
            "Global RMSE: 2.3158\n",
            "\n",
            "Iteration 92:\n",
            "\n",
            "RMSE: 0.6796\n",
            "\n",
            "Global RMSE: 2.3158\n",
            "\n",
            "Iteration 93:\n",
            "\n",
            "RMSE: 0.6796\n",
            "\n",
            "Global RMSE: 2.3158\n",
            "\n",
            "Iteration 94:\n",
            "\n",
            "RMSE: 0.6796\n",
            "\n",
            "Global RMSE: 2.3158\n",
            "\n",
            "Iteration 95:\n",
            "\n",
            "RMSE: 0.6796\n",
            "\n",
            "Global RMSE: 2.3158\n",
            "\n",
            "Iteration 96:\n",
            "\n",
            "RMSE: 0.6796\n",
            "\n",
            "Global RMSE: 2.3158\n",
            "\n",
            "Iteration 97:\n",
            "\n",
            "RMSE: 0.6796\n",
            "\n",
            "Global RMSE: 2.3158\n",
            "\n",
            "Iteration 98:\n",
            "\n",
            "RMSE: 0.6796\n",
            "\n",
            "Global RMSE: 2.3158\n",
            "\n",
            "Iteration 99:\n",
            "\n",
            "RMSE: 0.6796\n",
            "\n",
            "Global RMSE: 2.3158\n",
            "\n"
          ]
        }
      ]
    },
    {
      "cell_type": "code",
      "source": [
        "usb.value.shape[1]"
      ],
      "metadata": {
        "id": "ssuCVOgBCS9D"
      },
      "execution_count": null,
      "outputs": []
    },
    {
      "cell_type": "code",
      "source": [
        "def get_error_square(rating, i, j):\n",
        "  pred = us[:, [i]].T.dot(ms[:, [j]])[0][0]\n",
        "  return (rating - pred)**2"
      ],
      "metadata": {
        "id": "YnlzJ7_e7DPp"
      },
      "execution_count": null,
      "outputs": []
    },
    {
      "cell_type": "code",
      "source": [
        "ms_ = sc.parallelize(range(M_count), partitions) \\\n",
        "    .map(lambda x: update(x, usb.value, Rb.value)) \\\n",
        "    .collect()\n",
        "# collect() returns a list, so array ends up being\n",
        "# a 3-d array, we take the first 2 dims for the matrix\n",
        "ms = np.matrix(np.array(ms_)[:, :, 0])\n",
        "msb = sc.broadcast(ms)\n",
        "\n",
        "us_ = sc.parallelize(range(U_count), partitions) \\\n",
        "    .map(lambda x: update(x, msb.value, Rb.value.T)) \\\n",
        "    .collect()\n",
        "us = np.matrix(np.array(us_)[:, :, 0])\n",
        "usb = sc.broadcast(us)\n",
        "mse = get_rmse(M, ms, us)\n",
        "error = rmse(R, ms, us)\n",
        "print(\"Iteration %d:\" % i)\n",
        "print(\"\\nErr: %5.4f\\n\" % error)\n",
        "print(\"\\nRMSE: %5.4f\\n\" % rmse)\n"
      ],
      "metadata": {
        "colab": {
          "base_uri": "https://localhost:8080/",
          "height": 356
        },
        "id": "vAu4ZcuA49xq",
        "outputId": "896a3bf0-a834-4121-af42-8388cb462f71"
      },
      "execution_count": null,
      "outputs": [
        {
          "output_type": "error",
          "ename": "TypeError",
          "evalue": "ignored",
          "traceback": [
            "\u001b[0;31m---------------------------------------------------------------------------\u001b[0m",
            "\u001b[0;31mTypeError\u001b[0m                                 Traceback (most recent call last)",
            "\u001b[0;32m<ipython-input-42-2e812a914ac8>\u001b[0m in \u001b[0;36m<module>\u001b[0;34m\u001b[0m\n\u001b[1;32m     12\u001b[0m \u001b[0mus\u001b[0m \u001b[0;34m=\u001b[0m \u001b[0mnp\u001b[0m\u001b[0;34m.\u001b[0m\u001b[0mmatrix\u001b[0m\u001b[0;34m(\u001b[0m\u001b[0mnp\u001b[0m\u001b[0;34m.\u001b[0m\u001b[0marray\u001b[0m\u001b[0;34m(\u001b[0m\u001b[0mus_\u001b[0m\u001b[0;34m)\u001b[0m\u001b[0;34m[\u001b[0m\u001b[0;34m:\u001b[0m\u001b[0;34m,\u001b[0m \u001b[0;34m:\u001b[0m\u001b[0;34m,\u001b[0m \u001b[0;36m0\u001b[0m\u001b[0;34m]\u001b[0m\u001b[0;34m)\u001b[0m\u001b[0;34m\u001b[0m\u001b[0;34m\u001b[0m\u001b[0m\n\u001b[1;32m     13\u001b[0m \u001b[0musb\u001b[0m \u001b[0;34m=\u001b[0m \u001b[0msc\u001b[0m\u001b[0;34m.\u001b[0m\u001b[0mbroadcast\u001b[0m\u001b[0;34m(\u001b[0m\u001b[0mus\u001b[0m\u001b[0;34m)\u001b[0m\u001b[0;34m\u001b[0m\u001b[0;34m\u001b[0m\u001b[0m\n\u001b[0;32m---> 14\u001b[0;31m \u001b[0mmse\u001b[0m \u001b[0;34m=\u001b[0m \u001b[0mget_rmse\u001b[0m\u001b[0;34m(\u001b[0m\u001b[0mM\u001b[0m\u001b[0;34m,\u001b[0m \u001b[0mms\u001b[0m\u001b[0;34m,\u001b[0m \u001b[0mus\u001b[0m\u001b[0;34m)\u001b[0m\u001b[0;34m\u001b[0m\u001b[0;34m\u001b[0m\u001b[0m\n\u001b[0m\u001b[1;32m     15\u001b[0m \u001b[0merror\u001b[0m \u001b[0;34m=\u001b[0m \u001b[0mrmse\u001b[0m\u001b[0;34m(\u001b[0m\u001b[0mR\u001b[0m\u001b[0;34m,\u001b[0m \u001b[0mms\u001b[0m\u001b[0;34m,\u001b[0m \u001b[0mus\u001b[0m\u001b[0;34m)\u001b[0m\u001b[0;34m\u001b[0m\u001b[0;34m\u001b[0m\u001b[0m\n\u001b[1;32m     16\u001b[0m \u001b[0mprint\u001b[0m\u001b[0;34m(\u001b[0m\u001b[0;34m\"Iteration %d:\"\u001b[0m \u001b[0;34m%\u001b[0m \u001b[0mi\u001b[0m\u001b[0;34m)\u001b[0m\u001b[0;34m\u001b[0m\u001b[0;34m\u001b[0m\u001b[0m\n",
            "\u001b[0;32m<ipython-input-41-576c0290c94a>\u001b[0m in \u001b[0;36mget_rmse\u001b[0;34m(R, ms, us)\u001b[0m\n\u001b[1;32m      4\u001b[0m \u001b[0;34m\u001b[0m\u001b[0m\n\u001b[1;32m      5\u001b[0m \u001b[0;32mdef\u001b[0m \u001b[0mget_rmse\u001b[0m\u001b[0;34m(\u001b[0m\u001b[0mR\u001b[0m\u001b[0;34m,\u001b[0m \u001b[0mms\u001b[0m\u001b[0;34m:\u001b[0m \u001b[0mnp\u001b[0m\u001b[0;34m.\u001b[0m\u001b[0mndarray\u001b[0m\u001b[0;34m,\u001b[0m \u001b[0mus\u001b[0m\u001b[0;34m:\u001b[0m \u001b[0mnp\u001b[0m\u001b[0;34m.\u001b[0m\u001b[0mndarray\u001b[0m\u001b[0;34m)\u001b[0m \u001b[0;34m->\u001b[0m \u001b[0mnp\u001b[0m\u001b[0;34m.\u001b[0m\u001b[0mfloat64\u001b[0m\u001b[0;34m:\u001b[0m\u001b[0;34m\u001b[0m\u001b[0;34m\u001b[0m\u001b[0m\n\u001b[0;32m----> 6\u001b[0;31m     \u001b[0mdiff\u001b[0m \u001b[0;34m=\u001b[0m \u001b[0mR\u001b[0m \u001b[0;34m-\u001b[0m \u001b[0mms\u001b[0m \u001b[0;34m*\u001b[0m \u001b[0mus\u001b[0m\u001b[0;34m.\u001b[0m\u001b[0mT\u001b[0m\u001b[0;34m\u001b[0m\u001b[0;34m\u001b[0m\u001b[0m\n\u001b[0m\u001b[1;32m      7\u001b[0m     \u001b[0;32mreturn\u001b[0m \u001b[0mnp\u001b[0m\u001b[0;34m.\u001b[0m\u001b[0msqrt\u001b[0m\u001b[0;34m(\u001b[0m\u001b[0mnp\u001b[0m\u001b[0;34m.\u001b[0m\u001b[0msum\u001b[0m\u001b[0;34m(\u001b[0m\u001b[0mnp\u001b[0m\u001b[0;34m.\u001b[0m\u001b[0mpower\u001b[0m\u001b[0;34m(\u001b[0m\u001b[0mdiff\u001b[0m\u001b[0;34m,\u001b[0m \u001b[0;36m2\u001b[0m\u001b[0;34m)\u001b[0m\u001b[0;34m)\u001b[0m \u001b[0;34m/\u001b[0m \u001b[0;34m(\u001b[0m\u001b[0mM_count\u001b[0m \u001b[0;34m*\u001b[0m \u001b[0mU_count\u001b[0m\u001b[0;34m)\u001b[0m\u001b[0;34m)\u001b[0m\u001b[0;34m\u001b[0m\u001b[0;34m\u001b[0m\u001b[0m\n\u001b[1;32m      8\u001b[0m \u001b[0;34m\u001b[0m\u001b[0m\n",
            "\u001b[0;31mTypeError\u001b[0m: unsupported operand type(s) for -: 'PipelinedRDD' and 'float'"
          ]
        }
      ]
    },
    {
      "cell_type": "code",
      "source": [
        "R"
      ],
      "metadata": {
        "id": "R-__-yetAKwv"
      },
      "execution_count": null,
      "outputs": []
    },
    {
      "cell_type": "code",
      "source": [
        "XtX = usb.value.T * usb.value\n",
        "inv(XtX + 0.01 * np.eye(F)) * Xty"
      ],
      "metadata": {
        "id": "FysLDDfR4nFK"
      },
      "execution_count": null,
      "outputs": []
    },
    {
      "cell_type": "code",
      "source": [
        "Xty = usb.value.T * Rb.value[6, :].T\n",
        "Xty"
      ],
      "metadata": {
        "id": "TdvauBmX4R2o"
      },
      "execution_count": null,
      "outputs": []
    }
  ]
}