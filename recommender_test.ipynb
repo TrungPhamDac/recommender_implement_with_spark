{
 "cells": [
  {
   "cell_type": "code",
   "execution_count": 1,
   "id": "5cf25a7a",
   "metadata": {
    "id": "5cf25a7a"
   },
   "outputs": [],
   "source": [
    "import numpy as np\n",
    "import random\n",
    "import pickle\n"
   ]
  },
  {
   "cell_type": "code",
   "execution_count": 2,
   "id": "0uOhNfj-5bqJ",
   "metadata": {
    "colab": {
     "base_uri": "https://localhost:8080/"
    },
    "id": "0uOhNfj-5bqJ",
    "outputId": "967af87c-5ee7-42ff-eaa8-a9a31f09ff3f"
   },
   "outputs": [],
   "source": [
    "# !pip install pyspark"
   ]
  },
  {
   "cell_type": "code",
   "execution_count": 3,
   "id": "87jhhCqX4vtb",
   "metadata": {
    "id": "87jhhCqX4vtb"
   },
   "outputs": [
    {
     "name": "stdout",
     "output_type": "stream",
     "text": [
      "22/12/11 23:52:51 WARN Utils: Your hostname, noing-Latitude-E5550 resolves to a loopback address: 127.0.1.1; using 192.168.1.16 instead (on interface wlp2s0)\n",
      "22/12/11 23:52:51 WARN Utils: Set SPARK_LOCAL_IP if you need to bind to another address\n"
     ]
    },
    {
     "name": "stderr",
     "output_type": "stream",
     "text": [
      "Setting default log level to \"WARN\".\n",
      "To adjust logging level use sc.setLogLevel(newLevel). For SparkR, use setLogLevel(newLevel).\n"
     ]
    },
    {
     "name": "stdout",
     "output_type": "stream",
     "text": [
      "22/12/11 23:52:54 WARN NativeCodeLoader: Unable to load native-hadoop library for your platform... using builtin-java classes where applicable\n"
     ]
    }
   ],
   "source": [
    "from pyspark.sql import SparkSession\n",
    "spark = SparkSession\\\n",
    "    .builder\\\n",
    "    .appName(\"recommender\")\\\n",
    "    .getOrCreate()\n",
    "sc = spark.sparkContext"
   ]
  },
  {
   "cell_type": "code",
   "execution_count": 4,
   "id": "c854e0c9",
   "metadata": {
    "id": "c854e0c9"
   },
   "outputs": [],
   "source": [
    "data = sc.textFile(\"ml-100k/u.data\")\n",
    "originRDD = data.map(\n",
    "  lambda l: l.split('\\t')\n",
    ").map(\n",
    "  lambda l: (int(l[0]), int(l[1]), float(l[2]))\n",
    ")\n"
   ]
  },
  {
   "cell_type": "code",
   "execution_count": 5,
   "id": "1510f692",
   "metadata": {},
   "outputs": [],
   "source": [
    "trainRDD, testRDD = originRDD.randomSplit([0.8,0.2], 42)"
   ]
  },
  {
   "cell_type": "code",
   "execution_count": 6,
   "id": "5fc114ae",
   "metadata": {},
   "outputs": [],
   "source": [
    "from self_recommender import DSGD, ALS"
   ]
  },
  {
   "cell_type": "code",
   "execution_count": 7,
   "id": "158b35dc",
   "metadata": {},
   "outputs": [],
   "source": [
    "# model = ALS(num_factor=10, max_iter=10, lambd=10)\n",
    "# model.train(sc, originRDD, trainRDD, testRDD)\n",
    "# model.save_plot_rmse('ALS nfactor=10, lambda=10')"
   ]
  },
  {
   "cell_type": "code",
   "execution_count": 8,
   "id": "979230f7",
   "metadata": {},
   "outputs": [],
   "source": [
    "# SGDmodel = DSGD(step_size=0.01, num_factor=10, max_iter=10, lambd=10)\n",
    "# SGDmodel.train(sc, originRDD, trainRDD, testRDD)\n",
    "# SGDmodel.plot_rmse('DSGD stepsize=1 nfactor=10 lambda=10')\n"
   ]
  },
  {
   "cell_type": "code",
   "execution_count": 9,
   "id": "b1a6034d",
   "metadata": {},
   "outputs": [],
   "source": [
    "# print(SGDmodel.get_test_rmse())\n",
    "# print(SGDmodel.get_train_rmse())"
   ]
  },
  {
   "attachments": {},
   "cell_type": "markdown",
   "id": "96a72f11",
   "metadata": {},
   "source": [
    "#RUN ON MULTIPLE HYPER PARAMETER"
   ]
  },
  {
   "cell_type": "code",
   "execution_count": 10,
   "id": "f5b834f7",
   "metadata": {},
   "outputs": [],
   "source": [
    "max_iters = [10, 20, 50]\n",
    "lambds = [0.1, 0.5, 10]\n",
    "stepsizes = [0.001, 0.005, 0.0025]\n",
    "num_factors = [10, 20, 30]"
   ]
  },
  {
   "attachments": {},
   "cell_type": "markdown",
   "id": "e86ac3c1",
   "metadata": {},
   "source": [
    "RUN SGD HYPER PARAMETER"
   ]
  },
  {
   "cell_type": "code",
   "execution_count": 11,
   "id": "5191916d",
   "metadata": {},
   "outputs": [],
   "source": [
    "train_DSGD_result_list={}\n",
    "test_DSGD_result_list={}\n",
    "time_cost_DSGD_result_list={}"
   ]
  },
  {
   "cell_type": "code",
   "execution_count": 12,
   "id": "80ada96e",
   "metadata": {},
   "outputs": [
    {
     "name": "stderr",
     "output_type": "stream",
     "text": [
      "/home/noing/git/recommender_implement_with_spark/self_recommender.py:51: RuntimeWarning: overflow encountered in add\n",
      "  sse = R.map(lambda x: (x[2] - w.value[x[0]].dot(h.value[x[1]].T))**2 ).reduce(lambda x,y: x+y)\n",
      "/home/noing/git/recommender_implement_with_spark/self_recommender.py:51: RuntimeWarning: overflow encountered in add\n",
      "  sse = R.map(lambda x: (x[2] - w.value[x[0]].dot(h.value[x[1]].T))**2 ).reduce(lambda x,y: x+y)\n",
      "/home/noing/git/recommender_implement_with_spark/self_recommender.py:51: RuntimeWarning: overflow encountered in add\n",
      "  sse = R.map(lambda x: (x[2] - w.value[x[0]].dot(h.value[x[1]].T))**2 ).reduce(lambda x,y: x+y)\n",
      "/home/noing/git/recommender_implement_with_spark/self_recommender.py:51: RuntimeWarning: overflow encountered in add\n",
      "  sse = R.map(lambda x: (x[2] - w.value[x[0]].dot(h.value[x[1]].T))**2 ).reduce(lambda x,y: x+y)\n",
      "/home/noing/git/recommender_implement_with_spark/self_recommender.py:51: RuntimeWarning: overflow encountered in add\n",
      "  sse = R.map(lambda x: (x[2] - w.value[x[0]].dot(h.value[x[1]].T))**2 ).reduce(lambda x,y: x+y)\n",
      "/home/noing/git/recommender_implement_with_spark/self_recommender.py:51: RuntimeWarning: overflow encountered in add\n",
      "  sse = R.map(lambda x: (x[2] - w.value[x[0]].dot(h.value[x[1]].T))**2 ).reduce(lambda x,y: x+y)\n",
      "/home/noing/git/recommender_implement_with_spark/self_recommender.py:51: RuntimeWarning: overflow encountered in add\n",
      "  sse = R.map(lambda x: (x[2] - w.value[x[0]].dot(h.value[x[1]].T))**2 ).reduce(lambda x,y: x+y)\n",
      "/home/noing/git/recommender_implement_with_spark/self_recommender.py:51: RuntimeWarning: overflow encountered in add\n",
      "  sse = R.map(lambda x: (x[2] - w.value[x[0]].dot(h.value[x[1]].T))**2 ).reduce(lambda x,y: x+y)\n",
      "/home/noing/git/recommender_implement_with_spark/self_recommender.py:51: RuntimeWarning: overflow encountered in add\n",
      "  sse = R.map(lambda x: (x[2] - w.value[x[0]].dot(h.value[x[1]].T))**2 ).reduce(lambda x,y: x+y)\n",
      "/home/noing/git/recommender_implement_with_spark/self_recommender.py:51: RuntimeWarning: overflow encountered in add\n",
      "  sse = R.map(lambda x: (x[2] - w.value[x[0]].dot(h.value[x[1]].T))**2 ).reduce(lambda x,y: x+y)\n",
      "/home/noing/git/recommender_implement_with_spark/self_recommender.py:51: RuntimeWarning: overflow encountered in add\n",
      "  sse = R.map(lambda x: (x[2] - w.value[x[0]].dot(h.value[x[1]].T))**2 ).reduce(lambda x,y: x+y)\n",
      "/home/noing/git/recommender_implement_with_spark/self_recommender.py:51: RuntimeWarning: overflow encountered in add\n",
      "  sse = R.map(lambda x: (x[2] - w.value[x[0]].dot(h.value[x[1]].T))**2 ).reduce(lambda x,y: x+y)\n",
      "/home/noing/git/recommender_implement_with_spark/self_recommender.py:51: RuntimeWarning: overflow encountered in add\n",
      "  sse = R.map(lambda x: (x[2] - w.value[x[0]].dot(h.value[x[1]].T))**2 ).reduce(lambda x,y: x+y)\n",
      "/home/noing/git/recommender_implement_with_spark/self_recommender.py:51: RuntimeWarning: overflow encountered in add\n",
      "  sse = R.map(lambda x: (x[2] - w.value[x[0]].dot(h.value[x[1]].T))**2 ).reduce(lambda x,y: x+y)\n",
      "/home/noing/git/recommender_implement_with_spark/self_recommender.py:51: RuntimeWarning: overflow encountered in add\n",
      "  sse = R.map(lambda x: (x[2] - w.value[x[0]].dot(h.value[x[1]].T))**2 ).reduce(lambda x,y: x+y)\n",
      "/home/noing/git/recommender_implement_with_spark/self_recommender.py:51: RuntimeWarning: overflow encountered in add\n",
      "  sse = R.map(lambda x: (x[2] - w.value[x[0]].dot(h.value[x[1]].T))**2 ).reduce(lambda x,y: x+y)\n",
      "/home/noing/git/recommender_implement_with_spark/self_recommender.py:51: RuntimeWarning: overflow encountered in add\n",
      "  sse = R.map(lambda x: (x[2] - w.value[x[0]].dot(h.value[x[1]].T))**2 ).reduce(lambda x,y: x+y)\n",
      "/home/noing/git/recommender_implement_with_spark/self_recommender.py:51: RuntimeWarning: overflow encountered in add\n",
      "  sse = R.map(lambda x: (x[2] - w.value[x[0]].dot(h.value[x[1]].T))**2 ).reduce(lambda x,y: x+y)\n",
      "/home/noing/git/recommender_implement_with_spark/self_recommender.py:51: RuntimeWarning: overflow encountered in add\n",
      "  sse = R.map(lambda x: (x[2] - w.value[x[0]].dot(h.value[x[1]].T))**2 ).reduce(lambda x,y: x+y)\n",
      "/home/noing/git/recommender_implement_with_spark/self_recommender.py:51: RuntimeWarning: overflow encountered in add\n",
      "  sse = R.map(lambda x: (x[2] - w.value[x[0]].dot(h.value[x[1]].T))**2 ).reduce(lambda x,y: x+y)\n",
      "/home/noing/git/recommender_implement_with_spark/self_recommender.py:51: RuntimeWarning: overflow encountered in add\n",
      "  sse = R.map(lambda x: (x[2] - w.value[x[0]].dot(h.value[x[1]].T))**2 ).reduce(lambda x,y: x+y)\n",
      "/home/noing/git/recommender_implement_with_spark/self_recommender.py:51: RuntimeWarning: overflow encountered in add\n",
      "  sse = R.map(lambda x: (x[2] - w.value[x[0]].dot(h.value[x[1]].T))**2 ).reduce(lambda x,y: x+y)\n",
      "/home/noing/git/recommender_implement_with_spark/self_recommender.py:51: RuntimeWarning: overflow encountered in add\n",
      "  sse = R.map(lambda x: (x[2] - w.value[x[0]].dot(h.value[x[1]].T))**2 ).reduce(lambda x,y: x+y)\n",
      "/home/noing/git/recommender_implement_with_spark/self_recommender.py:51: RuntimeWarning: overflow encountered in add\n",
      "  sse = R.map(lambda x: (x[2] - w.value[x[0]].dot(h.value[x[1]].T))**2 ).reduce(lambda x,y: x+y)\n",
      "/home/noing/git/recommender_implement_with_spark/self_recommender.py:51: RuntimeWarning: overflow encountered in add\n",
      "  sse = R.map(lambda x: (x[2] - w.value[x[0]].dot(h.value[x[1]].T))**2 ).reduce(lambda x,y: x+y)\n",
      "/home/noing/git/recommender_implement_with_spark/self_recommender.py:51: RuntimeWarning: overflow encountered in add\n",
      "  sse = R.map(lambda x: (x[2] - w.value[x[0]].dot(h.value[x[1]].T))**2 ).reduce(lambda x,y: x+y)\n",
      "/home/noing/git/recommender_implement_with_spark/self_recommender.py:51: RuntimeWarning: overflow encountered in add\n",
      "  sse = R.map(lambda x: (x[2] - w.value[x[0]].dot(h.value[x[1]].T))**2 ).reduce(lambda x,y: x+y)\n",
      "/home/noing/git/recommender_implement_with_spark/self_recommender.py:51: RuntimeWarning: overflow encountered in add\n",
      "  sse = R.map(lambda x: (x[2] - w.value[x[0]].dot(h.value[x[1]].T))**2 ).reduce(lambda x,y: x+y)\n",
      "/home/noing/git/recommender_implement_with_spark/self_recommender.py:51: RuntimeWarning: overflow encountered in add\n",
      "  sse = R.map(lambda x: (x[2] - w.value[x[0]].dot(h.value[x[1]].T))**2 ).reduce(lambda x,y: x+y)\n",
      "/home/noing/git/recommender_implement_with_spark/self_recommender.py:51: RuntimeWarning: overflow encountered in add\n",
      "  sse = R.map(lambda x: (x[2] - w.value[x[0]].dot(h.value[x[1]].T))**2 ).reduce(lambda x,y: x+y)\n",
      "/home/noing/git/recommender_implement_with_spark/self_recommender.py:51: RuntimeWarning: overflow encountered in add\n",
      "  sse = R.map(lambda x: (x[2] - w.value[x[0]].dot(h.value[x[1]].T))**2 ).reduce(lambda x,y: x+y)\n",
      "/home/noing/git/recommender_implement_with_spark/self_recommender.py:51: RuntimeWarning: overflow encountered in add\n",
      "  sse = R.map(lambda x: (x[2] - w.value[x[0]].dot(h.value[x[1]].T))**2 ).reduce(lambda x,y: x+y)\n",
      "/home/noing/git/recommender_implement_with_spark/self_recommender.py:51: RuntimeWarning: overflow encountered in add\n",
      "  sse = R.map(lambda x: (x[2] - w.value[x[0]].dot(h.value[x[1]].T))**2 ).reduce(lambda x,y: x+y)\n",
      "/home/noing/git/recommender_implement_with_spark/self_recommender.py:51: RuntimeWarning: overflow encountered in add\n",
      "  sse = R.map(lambda x: (x[2] - w.value[x[0]].dot(h.value[x[1]].T))**2 ).reduce(lambda x,y: x+y)\n",
      "/home/noing/git/recommender_implement_with_spark/self_recommender.py:51: RuntimeWarning: overflow encountered in add\n",
      "  sse = R.map(lambda x: (x[2] - w.value[x[0]].dot(h.value[x[1]].T))**2 ).reduce(lambda x,y: x+y)\n",
      "/home/noing/git/recommender_implement_with_spark/self_recommender.py:51: RuntimeWarning: overflow encountered in add\n",
      "  sse = R.map(lambda x: (x[2] - w.value[x[0]].dot(h.value[x[1]].T))**2 ).reduce(lambda x,y: x+y)\n",
      "/home/noing/git/recommender_implement_with_spark/self_recommender.py:51: RuntimeWarning: overflow encountered in add\n",
      "  sse = R.map(lambda x: (x[2] - w.value[x[0]].dot(h.value[x[1]].T))**2 ).reduce(lambda x,y: x+y)\n",
      "/home/noing/git/recommender_implement_with_spark/self_recommender.py:51: RuntimeWarning: overflow encountered in add\n",
      "  sse = R.map(lambda x: (x[2] - w.value[x[0]].dot(h.value[x[1]].T))**2 ).reduce(lambda x,y: x+y)\n",
      "/home/noing/git/recommender_implement_with_spark/self_recommender.py:51: RuntimeWarning: overflow encountered in add\n",
      "  sse = R.map(lambda x: (x[2] - w.value[x[0]].dot(h.value[x[1]].T))**2 ).reduce(lambda x,y: x+y)\n",
      "/home/noing/git/recommender_implement_with_spark/self_recommender.py:51: RuntimeWarning: overflow encountered in add\n",
      "  sse = R.map(lambda x: (x[2] - w.value[x[0]].dot(h.value[x[1]].T))**2 ).reduce(lambda x,y: x+y)\n",
      "/home/noing/git/recommender_implement_with_spark/self_recommender.py:51: RuntimeWarning: overflow encountered in add\n",
      "  sse = R.map(lambda x: (x[2] - w.value[x[0]].dot(h.value[x[1]].T))**2 ).reduce(lambda x,y: x+y)\n",
      "/home/noing/git/recommender_implement_with_spark/self_recommender.py:51: RuntimeWarning: overflow encountered in add\n",
      "  sse = R.map(lambda x: (x[2] - w.value[x[0]].dot(h.value[x[1]].T))**2 ).reduce(lambda x,y: x+y)\n",
      "/home/noing/git/recommender_implement_with_spark/self_recommender.py:51: RuntimeWarning: overflow encountered in add\n",
      "  sse = R.map(lambda x: (x[2] - w.value[x[0]].dot(h.value[x[1]].T))**2 ).reduce(lambda x,y: x+y)\n",
      "/home/noing/git/recommender_implement_with_spark/self_recommender.py:51: RuntimeWarning: overflow encountered in add\n",
      "  sse = R.map(lambda x: (x[2] - w.value[x[0]].dot(h.value[x[1]].T))**2 ).reduce(lambda x,y: x+y)\n",
      "/home/noing/git/recommender_implement_with_spark/self_recommender.py:51: RuntimeWarning: overflow encountered in add\n",
      "  sse = R.map(lambda x: (x[2] - w.value[x[0]].dot(h.value[x[1]].T))**2 ).reduce(lambda x,y: x+y)\n",
      "/home/noing/git/recommender_implement_with_spark/self_recommender.py:51: RuntimeWarning: overflow encountered in add\n",
      "  sse = R.map(lambda x: (x[2] - w.value[x[0]].dot(h.value[x[1]].T))**2 ).reduce(lambda x,y: x+y)\n",
      "/home/noing/git/recommender_implement_with_spark/self_recommender.py:51: RuntimeWarning: overflow encountered in add\n",
      "  sse = R.map(lambda x: (x[2] - w.value[x[0]].dot(h.value[x[1]].T))**2 ).reduce(lambda x,y: x+y)\n",
      "/home/noing/git/recommender_implement_with_spark/self_recommender.py:51: RuntimeWarning: overflow encountered in add\n",
      "  sse = R.map(lambda x: (x[2] - w.value[x[0]].dot(h.value[x[1]].T))**2 ).reduce(lambda x,y: x+y)\n",
      "/home/noing/git/recommender_implement_with_spark/self_recommender.py:51: RuntimeWarning: overflow encountered in add\n",
      "  sse = R.map(lambda x: (x[2] - w.value[x[0]].dot(h.value[x[1]].T))**2 ).reduce(lambda x,y: x+y)\n",
      "/home/noing/git/recommender_implement_with_spark/self_recommender.py:51: RuntimeWarning: overflow encountered in add\n",
      "  sse = R.map(lambda x: (x[2] - w.value[x[0]].dot(h.value[x[1]].T))**2 ).reduce(lambda x,y: x+y)\n",
      "/home/noing/git/recommender_implement_with_spark/self_recommender.py:51: RuntimeWarning: overflow encountered in add\n",
      "  sse = R.map(lambda x: (x[2] - w.value[x[0]].dot(h.value[x[1]].T))**2 ).reduce(lambda x,y: x+y)\n",
      "/home/noing/git/recommender_implement_with_spark/self_recommender.py:51: RuntimeWarning: overflow encountered in add\n",
      "  sse = R.map(lambda x: (x[2] - w.value[x[0]].dot(h.value[x[1]].T))**2 ).reduce(lambda x,y: x+y)\n",
      "/home/noing/git/recommender_implement_with_spark/self_recommender.py:51: RuntimeWarning: overflow encountered in add\n",
      "  sse = R.map(lambda x: (x[2] - w.value[x[0]].dot(h.value[x[1]].T))**2 ).reduce(lambda x,y: x+y)\n",
      "/home/noing/git/recommender_implement_with_spark/self_recommender.py:51: RuntimeWarning: overflow encountered in add\n",
      "  sse = R.map(lambda x: (x[2] - w.value[x[0]].dot(h.value[x[1]].T))**2 ).reduce(lambda x,y: x+y)\n",
      "/home/noing/git/recommender_implement_with_spark/self_recommender.py:51: RuntimeWarning: overflow encountered in add\n",
      "  sse = R.map(lambda x: (x[2] - w.value[x[0]].dot(h.value[x[1]].T))**2 ).reduce(lambda x,y: x+y)\n",
      "/home/noing/git/recommender_implement_with_spark/self_recommender.py:51: RuntimeWarning: overflow encountered in add\n",
      "  sse = R.map(lambda x: (x[2] - w.value[x[0]].dot(h.value[x[1]].T))**2 ).reduce(lambda x,y: x+y)\n",
      "/home/noing/git/recommender_implement_with_spark/self_recommender.py:51: RuntimeWarning: overflow encountered in add\n",
      "  sse = R.map(lambda x: (x[2] - w.value[x[0]].dot(h.value[x[1]].T))**2 ).reduce(lambda x,y: x+y)\n",
      "/home/noing/git/recommender_implement_with_spark/self_recommender.py:51: RuntimeWarning: overflow encountered in add\n",
      "  sse = R.map(lambda x: (x[2] - w.value[x[0]].dot(h.value[x[1]].T))**2 ).reduce(lambda x,y: x+y)\n",
      "/home/noing/git/recommender_implement_with_spark/self_recommender.py:51: RuntimeWarning: overflow encountered in add\n",
      "  sse = R.map(lambda x: (x[2] - w.value[x[0]].dot(h.value[x[1]].T))**2 ).reduce(lambda x,y: x+y)\n",
      "/home/noing/git/recommender_implement_with_spark/self_recommender.py:51: RuntimeWarning: overflow encountered in add\n",
      "  sse = R.map(lambda x: (x[2] - w.value[x[0]].dot(h.value[x[1]].T))**2 ).reduce(lambda x,y: x+y)\n",
      "/home/noing/git/recommender_implement_with_spark/self_recommender.py:51: RuntimeWarning: overflow encountered in add\n",
      "  sse = R.map(lambda x: (x[2] - w.value[x[0]].dot(h.value[x[1]].T))**2 ).reduce(lambda x,y: x+y)\n",
      "/home/noing/git/recommender_implement_with_spark/self_recommender.py:51: RuntimeWarning: overflow encountered in add\n",
      "  sse = R.map(lambda x: (x[2] - w.value[x[0]].dot(h.value[x[1]].T))**2 ).reduce(lambda x,y: x+y)\n",
      "/home/noing/git/recommender_implement_with_spark/self_recommender.py:51: RuntimeWarning: overflow encountered in add\n",
      "  sse = R.map(lambda x: (x[2] - w.value[x[0]].dot(h.value[x[1]].T))**2 ).reduce(lambda x,y: x+y)\n",
      "/home/noing/git/recommender_implement_with_spark/self_recommender.py:51: RuntimeWarning: overflow encountered in add\n",
      "  sse = R.map(lambda x: (x[2] - w.value[x[0]].dot(h.value[x[1]].T))**2 ).reduce(lambda x,y: x+y)\n",
      "/home/noing/git/recommender_implement_with_spark/self_recommender.py:51: RuntimeWarning: overflow encountered in add\n",
      "  sse = R.map(lambda x: (x[2] - w.value[x[0]].dot(h.value[x[1]].T))**2 ).reduce(lambda x,y: x+y)\n",
      "/home/noing/git/recommender_implement_with_spark/self_recommender.py:51: RuntimeWarning: overflow encountered in add\n",
      "  sse = R.map(lambda x: (x[2] - w.value[x[0]].dot(h.value[x[1]].T))**2 ).reduce(lambda x,y: x+y)\n",
      "/home/noing/git/recommender_implement_with_spark/self_recommender.py:51: RuntimeWarning: overflow encountered in add\n",
      "  sse = R.map(lambda x: (x[2] - w.value[x[0]].dot(h.value[x[1]].T))**2 ).reduce(lambda x,y: x+y)\n",
      "/home/noing/git/recommender_implement_with_spark/self_recommender.py:51: RuntimeWarning: overflow encountered in add\n",
      "  sse = R.map(lambda x: (x[2] - w.value[x[0]].dot(h.value[x[1]].T))**2 ).reduce(lambda x,y: x+y)\n",
      "/home/noing/git/recommender_implement_with_spark/self_recommender.py:51: RuntimeWarning: overflow encountered in add\n",
      "  sse = R.map(lambda x: (x[2] - w.value[x[0]].dot(h.value[x[1]].T))**2 ).reduce(lambda x,y: x+y)\n",
      "/home/noing/git/recommender_implement_with_spark/self_recommender.py:51: RuntimeWarning: overflow encountered in add\n",
      "  sse = R.map(lambda x: (x[2] - w.value[x[0]].dot(h.value[x[1]].T))**2 ).reduce(lambda x,y: x+y)\n",
      "/home/noing/git/recommender_implement_with_spark/self_recommender.py:51: RuntimeWarning: overflow encountered in add\n",
      "  sse = R.map(lambda x: (x[2] - w.value[x[0]].dot(h.value[x[1]].T))**2 ).reduce(lambda x,y: x+y)\n",
      "/home/noing/git/recommender_implement_with_spark/self_recommender.py:51: RuntimeWarning: overflow encountered in add\n",
      "  sse = R.map(lambda x: (x[2] - w.value[x[0]].dot(h.value[x[1]].T))**2 ).reduce(lambda x,y: x+y)\n",
      "/home/noing/git/recommender_implement_with_spark/self_recommender.py:51: RuntimeWarning: overflow encountered in add\n",
      "  sse = R.map(lambda x: (x[2] - w.value[x[0]].dot(h.value[x[1]].T))**2 ).reduce(lambda x,y: x+y)\n",
      "/home/noing/git/recommender_implement_with_spark/self_recommender.py:51: RuntimeWarning: overflow encountered in add\n",
      "  sse = R.map(lambda x: (x[2] - w.value[x[0]].dot(h.value[x[1]].T))**2 ).reduce(lambda x,y: x+y)\n",
      "/home/noing/git/recommender_implement_with_spark/self_recommender.py:51: RuntimeWarning: overflow encountered in add\n",
      "  sse = R.map(lambda x: (x[2] - w.value[x[0]].dot(h.value[x[1]].T))**2 ).reduce(lambda x,y: x+y)\n",
      "/home/noing/git/recommender_implement_with_spark/self_recommender.py:51: RuntimeWarning: overflow encountered in add\n",
      "  sse = R.map(lambda x: (x[2] - w.value[x[0]].dot(h.value[x[1]].T))**2 ).reduce(lambda x,y: x+y)\n",
      "/home/noing/git/recommender_implement_with_spark/self_recommender.py:51: RuntimeWarning: overflow encountered in add\n",
      "  sse = R.map(lambda x: (x[2] - w.value[x[0]].dot(h.value[x[1]].T))**2 ).reduce(lambda x,y: x+y)\n",
      "                                                                                \r"
     ]
    }
   ],
   "source": [
    "max_iter = 10\n",
    "for lamb in lambds:\n",
    "    for stepsize in stepsizes:\n",
    "        for num_factor in num_factors:\n",
    "            model = DSGD(num_factor=num_factor, step_size=stepsize, max_iter=max_iter, lambd=lamb)\n",
    "            model.train(sc, originRDD, trainRDD, testRDD)\n",
    "            train_DSGD_result_list[f'DSGD stepsize={stepsize}, miter={max_iter}, nfactor={num_factor}, lambda={lamb}']=model.get_train_rmse()\n",
    "            test_DSGD_result_list[f'DSGD stepsize={stepsize}, miter={max_iter}, nfactor={num_factor}, lambda={lamb}']=model.get_test_rmse()\n",
    "            time_cost_DSGD_result_list[f'DSGD stepsize={stepsize}, miter={max_iter}, nfactor={num_factor}, lambda={lamb}']=model.get_time_cost()\n",
    "            model.save_plot_rmse(f'DSGD stepsize={stepsize}, miter={max_iter}, nfactor={num_factor}, lambda={lamb}')"
   ]
  },
  {
   "cell_type": "code",
   "execution_count": 13,
   "id": "d29b7894",
   "metadata": {},
   "outputs": [],
   "source": [
    "with open('test_rmse_DSGD.pkl', 'wb') as f:\n",
    "    pickle.dump(test_DSGD_result_list, f)\n",
    "with open('train_rmse_DSGD.pkl', 'wb') as f:\n",
    "    pickle.dump(train_DSGD_result_list, f)\n",
    "with open('time_cost_DSGD.pkl', 'wb') as f:\n",
    "    pickle.dump(time_cost_DSGD_result_list, f)"
   ]
  },
  {
   "cell_type": "code",
   "execution_count": 14,
   "id": "b23bd4f5",
   "metadata": {},
   "outputs": [
    {
     "data": {
      "text/plain": [
       "{'DSGD stepsize=0.001, miter=10, nfactor=10, lambda=0.1': 0.9589843,\n",
       " 'DSGD stepsize=0.001, miter=10, nfactor=20, lambda=0.1': 1.0023545,\n",
       " 'DSGD stepsize=0.001, miter=10, nfactor=30, lambda=0.1': 1.2197591,\n",
       " 'DSGD stepsize=0.005, miter=10, nfactor=10, lambda=0.1': 0.8692193,\n",
       " 'DSGD stepsize=0.005, miter=10, nfactor=20, lambda=0.1': 0.9045088,\n",
       " 'DSGD stepsize=0.005, miter=10, nfactor=30, lambda=0.1': 1.0031549,\n",
       " 'DSGD stepsize=0.0025, miter=10, nfactor=10, lambda=0.1': 0.88545495,\n",
       " 'DSGD stepsize=0.0025, miter=10, nfactor=20, lambda=0.1': 0.93783075,\n",
       " 'DSGD stepsize=0.0025, miter=10, nfactor=30, lambda=0.1': 1.0546317,\n",
       " 'DSGD stepsize=0.001, miter=10, nfactor=10, lambda=0.5': 0.96232575,\n",
       " 'DSGD stepsize=0.001, miter=10, nfactor=20, lambda=0.5': 0.9995485,\n",
       " 'DSGD stepsize=0.001, miter=10, nfactor=30, lambda=0.5': 1.2177838,\n",
       " 'DSGD stepsize=0.005, miter=10, nfactor=10, lambda=0.5': 0.8818223,\n",
       " 'DSGD stepsize=0.005, miter=10, nfactor=20, lambda=0.5': 0.9082716,\n",
       " 'DSGD stepsize=0.005, miter=10, nfactor=30, lambda=0.5': 0.9731061,\n",
       " 'DSGD stepsize=0.0025, miter=10, nfactor=10, lambda=0.5': 0.90006185,\n",
       " 'DSGD stepsize=0.0025, miter=10, nfactor=20, lambda=0.5': 0.93397224,\n",
       " 'DSGD stepsize=0.0025, miter=10, nfactor=30, lambda=0.5': 1.0439245,\n",
       " 'DSGD stepsize=0.001, miter=10, nfactor=10, lambda=10': 0.9664863,\n",
       " 'DSGD stepsize=0.001, miter=10, nfactor=20, lambda=10': 1.0079432,\n",
       " 'DSGD stepsize=0.001, miter=10, nfactor=30, lambda=10': 1.2321959,\n",
       " 'DSGD stepsize=0.005, miter=10, nfactor=10, lambda=10': 0.8655185,\n",
       " 'DSGD stepsize=0.005, miter=10, nfactor=20, lambda=10': 0.91355747,\n",
       " 'DSGD stepsize=0.005, miter=10, nfactor=30, lambda=10': 0.999147,\n",
       " 'DSGD stepsize=0.0025, miter=10, nfactor=10, lambda=10': 0.8971595,\n",
       " 'DSGD stepsize=0.0025, miter=10, nfactor=20, lambda=10': 0.9352602,\n",
       " 'DSGD stepsize=0.0025, miter=10, nfactor=30, lambda=10': 1.0727383}"
      ]
     },
     "execution_count": 14,
     "metadata": {},
     "output_type": "execute_result"
    }
   ],
   "source": [
    "test_DSGD_result_list"
   ]
  },
  {
   "cell_type": "code",
   "execution_count": 15,
   "id": "a6abbc10",
   "metadata": {},
   "outputs": [
    {
     "data": {
      "text/plain": [
       "{'DSGD stepsize=0.001, miter=10, nfactor=10, lambda=0.1': datetime.timedelta(seconds=103, microseconds=44407),\n",
       " 'DSGD stepsize=0.001, miter=10, nfactor=20, lambda=0.1': datetime.timedelta(seconds=94, microseconds=781555),\n",
       " 'DSGD stepsize=0.001, miter=10, nfactor=30, lambda=0.1': datetime.timedelta(seconds=100, microseconds=210765),\n",
       " 'DSGD stepsize=0.005, miter=10, nfactor=10, lambda=0.1': datetime.timedelta(seconds=97, microseconds=151655),\n",
       " 'DSGD stepsize=0.005, miter=10, nfactor=20, lambda=0.1': datetime.timedelta(seconds=99, microseconds=249261),\n",
       " 'DSGD stepsize=0.005, miter=10, nfactor=30, lambda=0.1': datetime.timedelta(seconds=100, microseconds=42229),\n",
       " 'DSGD stepsize=0.0025, miter=10, nfactor=10, lambda=0.1': datetime.timedelta(seconds=91, microseconds=650134),\n",
       " 'DSGD stepsize=0.0025, miter=10, nfactor=20, lambda=0.1': datetime.timedelta(seconds=93, microseconds=876866),\n",
       " 'DSGD stepsize=0.0025, miter=10, nfactor=30, lambda=0.1': datetime.timedelta(seconds=94, microseconds=227252),\n",
       " 'DSGD stepsize=0.001, miter=10, nfactor=10, lambda=0.5': datetime.timedelta(seconds=92, microseconds=407405),\n",
       " 'DSGD stepsize=0.001, miter=10, nfactor=20, lambda=0.5': datetime.timedelta(seconds=93, microseconds=341583),\n",
       " 'DSGD stepsize=0.001, miter=10, nfactor=30, lambda=0.5': datetime.timedelta(seconds=94, microseconds=492225),\n",
       " 'DSGD stepsize=0.005, miter=10, nfactor=10, lambda=0.5': datetime.timedelta(seconds=92, microseconds=207315),\n",
       " 'DSGD stepsize=0.005, miter=10, nfactor=20, lambda=0.5': datetime.timedelta(seconds=94, microseconds=260972),\n",
       " 'DSGD stepsize=0.005, miter=10, nfactor=30, lambda=0.5': datetime.timedelta(seconds=94, microseconds=704191),\n",
       " 'DSGD stepsize=0.0025, miter=10, nfactor=10, lambda=0.5': datetime.timedelta(seconds=92, microseconds=839997),\n",
       " 'DSGD stepsize=0.0025, miter=10, nfactor=20, lambda=0.5': datetime.timedelta(seconds=93, microseconds=333981),\n",
       " 'DSGD stepsize=0.0025, miter=10, nfactor=30, lambda=0.5': datetime.timedelta(seconds=94, microseconds=296827),\n",
       " 'DSGD stepsize=0.001, miter=10, nfactor=10, lambda=10': datetime.timedelta(seconds=94, microseconds=348850),\n",
       " 'DSGD stepsize=0.001, miter=10, nfactor=20, lambda=10': datetime.timedelta(seconds=93, microseconds=271543),\n",
       " 'DSGD stepsize=0.001, miter=10, nfactor=30, lambda=10': datetime.timedelta(seconds=94, microseconds=372374),\n",
       " 'DSGD stepsize=0.005, miter=10, nfactor=10, lambda=10': datetime.timedelta(seconds=91, microseconds=406215),\n",
       " 'DSGD stepsize=0.005, miter=10, nfactor=20, lambda=10': datetime.timedelta(seconds=92, microseconds=623023),\n",
       " 'DSGD stepsize=0.005, miter=10, nfactor=30, lambda=10': datetime.timedelta(seconds=95, microseconds=392448),\n",
       " 'DSGD stepsize=0.0025, miter=10, nfactor=10, lambda=10': datetime.timedelta(seconds=91, microseconds=475783),\n",
       " 'DSGD stepsize=0.0025, miter=10, nfactor=20, lambda=10': datetime.timedelta(seconds=93, microseconds=74850),\n",
       " 'DSGD stepsize=0.0025, miter=10, nfactor=30, lambda=10': datetime.timedelta(seconds=93, microseconds=181687)}"
      ]
     },
     "execution_count": 15,
     "metadata": {},
     "output_type": "execute_result"
    }
   ],
   "source": [
    "time_cost_DSGD_result_list"
   ]
  },
  {
   "cell_type": "code",
   "execution_count": 16,
   "id": "9d89b3cf",
   "metadata": {},
   "outputs": [
    {
     "data": {
      "text/plain": [
       "{'DSGD stepsize=0.001, miter=10, nfactor=10, lambda=0.1': 0.6738309229418369,\n",
       " 'DSGD stepsize=0.001, miter=10, nfactor=20, lambda=0.1': 0.7280036114778541,\n",
       " 'DSGD stepsize=0.001, miter=10, nfactor=30, lambda=0.1': inf,\n",
       " 'DSGD stepsize=0.005, miter=10, nfactor=10, lambda=0.1': 0.6350491730760115,\n",
       " 'DSGD stepsize=0.005, miter=10, nfactor=20, lambda=0.1': 0.6438002632387755,\n",
       " 'DSGD stepsize=0.005, miter=10, nfactor=30, lambda=0.1': 0.6885002721247431,\n",
       " 'DSGD stepsize=0.0025, miter=10, nfactor=10, lambda=0.1': 0.6465879608428324,\n",
       " 'DSGD stepsize=0.0025, miter=10, nfactor=20, lambda=0.1': 0.6669746900679041,\n",
       " 'DSGD stepsize=0.0025, miter=10, nfactor=30, lambda=0.1': 0.7312903262081112,\n",
       " 'DSGD stepsize=0.001, miter=10, nfactor=10, lambda=0.5': 0.6708585620769911,\n",
       " 'DSGD stepsize=0.001, miter=10, nfactor=20, lambda=0.5': 0.7299226602902844,\n",
       " 'DSGD stepsize=0.001, miter=10, nfactor=30, lambda=0.5': 0.9003176144282036,\n",
       " 'DSGD stepsize=0.005, miter=10, nfactor=10, lambda=0.5': 0.6428683443957439,\n",
       " 'DSGD stepsize=0.005, miter=10, nfactor=20, lambda=0.5': 0.6468969634701929,\n",
       " 'DSGD stepsize=0.005, miter=10, nfactor=30, lambda=0.5': 0.6708585620769911,\n",
       " 'DSGD stepsize=0.0025, miter=10, nfactor=10, lambda=0.5': 0.6496713734708739,\n",
       " 'DSGD stepsize=0.0025, miter=10, nfactor=20, lambda=0.5': 0.6660751958082398,\n",
       " 'DSGD stepsize=0.0025, miter=10, nfactor=30, lambda=0.5': 0.7342902245340525,\n",
       " 'DSGD stepsize=0.001, miter=10, nfactor=10, lambda=10': 0.6720490839754668,\n",
       " 'DSGD stepsize=0.001, miter=10, nfactor=20, lambda=10': 0.735106253929635,\n",
       " 'DSGD stepsize=0.001, miter=10, nfactor=30, lambda=10': inf,\n",
       " 'DSGD stepsize=0.005, miter=10, nfactor=10, lambda=10': 0.6356782462100256,\n",
       " 'DSGD stepsize=0.005, miter=10, nfactor=20, lambda=10': 0.6490558627941079,\n",
       " 'DSGD stepsize=0.005, miter=10, nfactor=30, lambda=10': 0.6908184614183069,\n",
       " 'DSGD stepsize=0.0025, miter=10, nfactor=10, lambda=10': 0.6496713734708739,\n",
       " 'DSGD stepsize=0.0025, miter=10, nfactor=20, lambda=10': 0.6672742520367775,\n",
       " 'DSGD stepsize=0.0025, miter=10, nfactor=30, lambda=10': 0.7528351482301299}"
      ]
     },
     "execution_count": 16,
     "metadata": {},
     "output_type": "execute_result"
    }
   ],
   "source": [
    "train_DSGD_result_list"
   ]
  },
  {
   "cell_type": "code",
   "execution_count": 17,
   "id": "90f6fdaa",
   "metadata": {},
   "outputs": [],
   "source": [
    "train_ALS_result_list = {}\n",
    "test_ALS_result_list = {}\n",
    "time_cost_ALS_result_list = {}"
   ]
  },
  {
   "cell_type": "code",
   "execution_count": 18,
   "id": "7a118de4",
   "metadata": {},
   "outputs": [],
   "source": [
    "max_iters = [10, 20, 50]\n",
    "lambds = [10, 20, 50]\n",
    "num_factors = [10, 20, 30]"
   ]
  },
  {
   "cell_type": "code",
   "execution_count": 20,
   "id": "cb4a1dcf",
   "metadata": {},
   "outputs": [
    {
     "name": "stderr",
     "output_type": "stream",
     "text": [
      "                                                                                \r"
     ]
    }
   ],
   "source": [
    "max_iter = 10\n",
    "for lamb in lambds:\n",
    "    for num_factor in num_factors:\n",
    "        model = ALS(num_factor=num_factor, max_iter=max_iter, lambd=lamb)\n",
    "        model.train(sc, originRDD, trainRDD, testRDD)\n",
    "        train_ALS_result_list[f'ALS miter={max_iter}, nfactor={num_factor}, lambda={lamb}']=model.get_train_rmse()\n",
    "        test_ALS_result_list[f'ALS miter={max_iter}, nfactor={num_factor}, lambda={lamb}']=model.get_test_rmse()\n",
    "        time_cost_ALS_result_list[f'ALS miter={max_iter}, nfactor={num_factor}, lambda={lamb}']=model.get_time_cost()\n",
    "        model.save_plot_rmse(f'ALS miter={max_iter}, nfactor={num_factor}, lambda={lamb}')"
   ]
  },
  {
   "cell_type": "code",
   "execution_count": 21,
   "id": "cbce0d45",
   "metadata": {},
   "outputs": [],
   "source": [
    "with open('test_rmse_ALS.pkl', 'wb') as f:\n",
    "    pickle.dump(test_ALS_result_list, f)\n",
    "with open('train_rmse_ALS.pkl', 'wb') as f:\n",
    "    pickle.dump(train_ALS_result_list, f)\n",
    "with open('time_cost_ALS.pkl', 'wb') as f:\n",
    "    pickle.dump(time_cost_ALS_result_list, f)"
   ]
  },
  {
   "cell_type": "code",
   "execution_count": 22,
   "id": "f873cc78",
   "metadata": {},
   "outputs": [
    {
     "data": {
      "text/plain": [
       "{'ALS miter=10, nfactor=10, lambda=10': 0.9570722942299743,\n",
       " 'ALS miter=10, nfactor=20, lambda=10': 0.9764623469334455,\n",
       " 'ALS miter=10, nfactor=30, lambda=10': 0.9832462796758047,\n",
       " 'ALS miter=10, nfactor=10, lambda=20': 1.028198216429219,\n",
       " 'ALS miter=10, nfactor=20, lambda=20': 1.0309498130080652,\n",
       " 'ALS miter=10, nfactor=30, lambda=20': 1.0326945035583546,\n",
       " 'ALS miter=10, nfactor=10, lambda=50': 1.296582742545248,\n",
       " 'ALS miter=10, nfactor=20, lambda=50': 1.2974624662747276,\n",
       " 'ALS miter=10, nfactor=30, lambda=50': 1.2978592312694548}"
      ]
     },
     "execution_count": 22,
     "metadata": {},
     "output_type": "execute_result"
    }
   ],
   "source": [
    "test_ALS_result_list"
   ]
  },
  {
   "cell_type": "code",
   "execution_count": 23,
   "id": "45c1913e",
   "metadata": {},
   "outputs": [
    {
     "data": {
      "text/plain": [
       "{'ALS miter=10, nfactor=10, lambda=10': 0.8107581983573895,\n",
       " 'ALS miter=10, nfactor=20, lambda=10': 0.7417343304705022,\n",
       " 'ALS miter=10, nfactor=30, lambda=10': 0.698869811648173,\n",
       " 'ALS miter=10, nfactor=10, lambda=20': 0.9523750897127452,\n",
       " 'ALS miter=10, nfactor=20, lambda=20': 0.9471723765343775,\n",
       " 'ALS miter=10, nfactor=30, lambda=20': 0.945967209858048,\n",
       " 'ALS miter=10, nfactor=10, lambda=50': 1.2555450696293406,\n",
       " 'ALS miter=10, nfactor=20, lambda=50': 1.2565166173489608,\n",
       " 'ALS miter=10, nfactor=30, lambda=50': 1.256935554128971}"
      ]
     },
     "execution_count": 23,
     "metadata": {},
     "output_type": "execute_result"
    }
   ],
   "source": [
    "train_ALS_result_list"
   ]
  },
  {
   "cell_type": "code",
   "execution_count": 24,
   "id": "84784575",
   "metadata": {},
   "outputs": [
    {
     "data": {
      "text/plain": [
       "{'ALS miter=10, nfactor=10, lambda=10': datetime.timedelta(seconds=49, microseconds=634605),\n",
       " 'ALS miter=10, nfactor=20, lambda=10': datetime.timedelta(seconds=46, microseconds=949738),\n",
       " 'ALS miter=10, nfactor=30, lambda=10': datetime.timedelta(seconds=47, microseconds=396995),\n",
       " 'ALS miter=10, nfactor=10, lambda=20': datetime.timedelta(seconds=45, microseconds=160740),\n",
       " 'ALS miter=10, nfactor=20, lambda=20': datetime.timedelta(seconds=47, microseconds=155623),\n",
       " 'ALS miter=10, nfactor=30, lambda=20': datetime.timedelta(seconds=47, microseconds=714878),\n",
       " 'ALS miter=10, nfactor=10, lambda=50': datetime.timedelta(seconds=45, microseconds=714528),\n",
       " 'ALS miter=10, nfactor=20, lambda=50': datetime.timedelta(seconds=42, microseconds=438291),\n",
       " 'ALS miter=10, nfactor=30, lambda=50': datetime.timedelta(seconds=43, microseconds=673990)}"
      ]
     },
     "execution_count": 24,
     "metadata": {},
     "output_type": "execute_result"
    }
   ],
   "source": [
    "time_cost_ALS_result_list"
   ]
  }
 ],
 "metadata": {
  "colab": {
   "provenance": []
  },
  "kernelspec": {
   "display_name": "Python 3 (ipykernel)",
   "language": "python",
   "name": "python3"
  },
  "language_info": {
   "codemirror_mode": {
    "name": "ipython",
    "version": 3
   },
   "file_extension": ".py",
   "mimetype": "text/x-python",
   "name": "python",
   "nbconvert_exporter": "python",
   "pygments_lexer": "ipython3",
   "version": "3.10.6"
  },
  "vscode": {
   "interpreter": {
    "hash": "e7370f93d1d0cde622a1f8e1c04877d8463912d04d973331ad4851f04de6915a"
   }
  }
 },
 "nbformat": 4,
 "nbformat_minor": 5
}
