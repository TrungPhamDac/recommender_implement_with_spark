{
 "cells": [
  {
   "cell_type": "code",
   "execution_count": 19,
   "id": "5cf25a7a",
   "metadata": {
    "id": "5cf25a7a"
   },
   "outputs": [],
   "source": [
    "import numpy as np\n",
    "import random"
   ]
  },
  {
   "cell_type": "code",
   "execution_count": 20,
   "id": "0uOhNfj-5bqJ",
   "metadata": {
    "colab": {
     "base_uri": "https://localhost:8080/"
    },
    "id": "0uOhNfj-5bqJ",
    "outputId": "967af87c-5ee7-42ff-eaa8-a9a31f09ff3f"
   },
   "outputs": [
    {
     "name": "stdout",
     "output_type": "stream",
     "text": [
      "Defaulting to user installation because normal site-packages is not writeable\n",
      "Requirement already satisfied: pyspark in /home/noing/data_framework/spark-3.3.0-bin-hadoop3/python (3.3.0)\n",
      "Requirement already satisfied: py4j==0.10.9.5 in /home/noing/.local/lib/python3.10/site-packages (from pyspark) (0.10.9.5)\n"
     ]
    }
   ],
   "source": [
    "!pip install pyspark"
   ]
  },
  {
   "cell_type": "code",
   "execution_count": 21,
   "id": "87jhhCqX4vtb",
   "metadata": {
    "id": "87jhhCqX4vtb"
   },
   "outputs": [],
   "source": [
    "from pyspark.sql import SparkSession\n",
    "spark = SparkSession\\\n",
    "    .builder\\\n",
    "    .appName(\"recommender\")\\\n",
    "    .getOrCreate()\n",
    "sc = spark.sparkContext"
   ]
  },
  {
   "cell_type": "code",
   "execution_count": 22,
   "id": "c854e0c9",
   "metadata": {
    "id": "c854e0c9"
   },
   "outputs": [],
   "source": [
    "data = sc.textFile(\"ml-100k/u.data\")\n",
    "header = data.first() #extract header\n",
    "data = data.filter(lambda row: row != header)\n",
    "M = data.map(\n",
    "  lambda l: l.split('\\t')\n",
    ").map(\n",
    "  lambda l: (int(l[0]), int(l[1]), float(l[2]))\n",
    ")\n"
   ]
  },
  {
   "cell_type": "code",
   "execution_count": 23,
   "id": "55c074da",
   "metadata": {
    "id": "55c074da"
   },
   "outputs": [
    {
     "data": {
      "text/plain": [
       "4"
      ]
     },
     "execution_count": 23,
     "metadata": {},
     "output_type": "execute_result"
    }
   ],
   "source": [
    "numWorkers = sc.defaultParallelism\n",
    "numWorkers"
   ]
  },
  {
   "cell_type": "code",
   "execution_count": 24,
   "id": "c9959d43",
   "metadata": {
    "colab": {
     "base_uri": "https://localhost:8080/"
    },
    "id": "c9959d43",
    "outputId": "88889f03-77cd-47fd-afe9-9eb6ffda351e"
   },
   "outputs": [
    {
     "data": {
      "text/plain": [
       "(943, 58, 4.0)"
      ]
     },
     "execution_count": 24,
     "metadata": {},
     "output_type": "execute_result"
    }
   ],
   "source": [
    "M.max(lambda x: x[0])"
   ]
  },
  {
   "cell_type": "code",
   "execution_count": 25,
   "id": "725451ac",
   "metadata": {
    "id": "725451ac"
   },
   "outputs": [],
   "source": [
    "def assignBlockIndex (index, numData, numWorkers):\n",
    "    blockSize = numData/numWorkers\n",
    "    if(numData % numWorkers != 0): blockSize = blockSize + 1\n",
    "    return int(np.floor(index/np.ceil(blockSize)))+1\n"
   ]
  },
  {
   "cell_type": "code",
   "execution_count": 26,
   "id": "b83d110e",
   "metadata": {
    "id": "b83d110e"
   },
   "outputs": [
    {
     "name": "stderr",
     "output_type": "stream",
     "text": [
      "                                                                                \r"
     ]
    }
   ],
   "source": [
    "numFactors = 10\n",
    "numRows = M.max(lambda x : x[0])[0] + 1\n",
    "numCols = M.max(lambda x : x[1])[1] + 1\n",
    "avgRating = M.map(lambda x: x[2]).mean()\n",
    "\n",
    "#compute the scaling factor that the randomly initialized W and H matrices need to be scaled by so that dot(W_0,H_0) results in values that are similar to the average ratings\n",
    "scaleRating = np.sqrt(avgRating / numFactors)\n",
    "\n",
    "tau = 100\n"
   ]
  },
  {
   "cell_type": "code",
   "execution_count": 27,
   "id": "9DPS0WqydUyq",
   "metadata": {
    "id": "9DPS0WqydUyq"
   },
   "outputs": [],
   "source": [
    "W = M.map(lambda x: tuple([int(x[0]),1])).reduceByKey(lambda x,y : x+y).map(lambda x: tuple([x[0], tuple([x[1], np.random.rand(1,numFactors).astype('float16')])])).persist()\n",
    "H = M.map(lambda x: tuple([int(x[1]),1])).reduceByKey(lambda x,y : x+y).map(lambda x: tuple([x[0], tuple([x[1], np.random.rand(1,numFactors).astype('float16')])])).persist()"
   ]
  },
  {
   "cell_type": "markdown",
   "id": "1641b65b",
   "metadata": {
    "id": "1641b65b"
   },
   "source": [
    "Iterater turn"
   ]
  },
  {
   "cell_type": "code",
   "execution_count": 28,
   "id": "3955170a",
   "metadata": {
    "colab": {
     "base_uri": "https://localhost:8080/"
    },
    "id": "3955170a",
    "outputId": "6d15bc5d-9043-4cac-d5c8-d52323374bfc"
   },
   "outputs": [
    {
     "data": {
      "text/plain": [
       "array([2, 4, 3, 1])"
      ]
     },
     "execution_count": 28,
     "metadata": {},
     "output_type": "execute_result"
    }
   ],
   "source": [
    "it = 1\n",
    "beta = 0.1\n",
    "mse = sc.accumulator(0.0)\n",
    "nUpdates = sc.accumulator(0.0)\n",
    "#broadcast the stepsize\n",
    "#stepSize = sc.broadcast(np.power(tau + it, -beta))\n",
    "stepSize = sc.broadcast(0.5)\n",
    "#generate random strata\n",
    "lam = sc.broadcast(0.1)\n",
    "\n",
    "perms = np.random.permutation(numWorkers)+1\n",
    "perms"
   ]
  },
  {
   "cell_type": "code",
   "execution_count": 29,
   "id": "1b03bea5",
   "metadata": {},
   "outputs": [],
   "source": [
    "Mblocked = M.keyBy(lambda x: assignBlockIndex(x[0], numRows, numWorkers)).partitionBy(numWorkers)"
   ]
  },
  {
   "cell_type": "code",
   "execution_count": 30,
   "id": "9f099308",
   "metadata": {
    "id": "9f099308"
   },
   "outputs": [],
   "source": [
    "def SGD(keyed_iterable, stepSize, numFactors,lam, mse, nUpdates, scaleRating):\n",
    "    iterlist = (next(keyed_iterable))\n",
    "    key = iterlist[0]\n",
    "    Miter = iterlist[1][0]\n",
    "    Hiter = iterlist[1][1]\n",
    "    Witer = iterlist[1][2]\n",
    "    \n",
    "    Wdict = {}\n",
    "    Hdict = {}\n",
    "    \n",
    "    Wout = {}\n",
    "    Hout = {}\n",
    "    \n",
    "    #iterate through H and W and create dictionary of elements\n",
    "    for h in Hiter:\n",
    "        Hdict[h[0]] = h[1]\n",
    "    \n",
    "    for w in Witer:\n",
    "        Wdict[w[0]] = w[1]\n",
    "    #iterate through entries of M and compute L2-loss\n",
    "    counter = 1\n",
    "    for m in Miter:\n",
    "        (i,j,rat) = m\n",
    "        if i not in Wdict:\n",
    "            Wdict[i] = tuple([i,np.random.uniform(0,1,numFactors).astype('float32')])\n",
    "        if j not in Hdict:\n",
    "            Hdict[j] = tuple([j,np.random.uniform(0,1,numFactors).astype('float32')])\n",
    "\n",
    "        (Nw, Wprev) = Wdict[i]\n",
    "        (Nh, Hprev) = Hdict[j]\n",
    "        error = (rat - np.dot(Wprev, Hprev.T))\n",
    "        mse += pow((error[0][0]), 2)\n",
    "        \n",
    "        Wnew = Wprev - stepSize.value*(-2*error*Hprev+ (2.0*lam.value)*Wprev)\n",
    "        Hnew = Hprev - stepSize.value*(-2*error*Wprev + (2.0*lam.value)*Hprev)\n",
    "        nUpdates += 1\n",
    "        Wdict[i] = tuple([Nw, Wnew])\n",
    "        Hdict[j] = tuple([Nh, Hnew])\n",
    "        \n",
    "    return (tuple(['W',Wdict.items()]), tuple(['H',Hdict.items()]))"
   ]
  },
  {
   "cell_type": "code",
   "execution_count": 31,
   "id": "IyZJiq_B2L1S",
   "metadata": {
    "colab": {
     "base_uri": "https://localhost:8080/"
    },
    "id": "IyZJiq_B2L1S",
    "outputId": "bc761469-536a-4b2e-a26f-05a99237f8b6"
   },
   "outputs": [
    {
     "name": "stderr",
     "output_type": "stream",
     "text": [
      "                                                                                \r"
     ]
    },
    {
     "name": "stdout",
     "output_type": "stream",
     "text": [
      "MSE/update for 0-th iteration is: 70622.98502588272/51806 \n",
      "RMSE: 1.3632201873505525\n"
     ]
    },
    {
     "name": "stderr",
     "output_type": "stream",
     "text": [
      "                                                                                \r"
     ]
    },
    {
     "name": "stdout",
     "output_type": "stream",
     "text": [
      "MSE/update for 1-th iteration is: 53182.59436607361/52344 \n",
      "RMSE: 1.0160208307747518\n"
     ]
    },
    {
     "name": "stderr",
     "output_type": "stream",
     "text": [
      "                                                                                \r"
     ]
    },
    {
     "name": "stdout",
     "output_type": "stream",
     "text": [
      "MSE/update for 2-th iteration is: 49432.68571329117/51240 \n",
      "RMSE: 0.9647284487371423\n"
     ]
    },
    {
     "name": "stderr",
     "output_type": "stream",
     "text": [
      "                                                                                \r"
     ]
    },
    {
     "name": "stdout",
     "output_type": "stream",
     "text": [
      "MSE/update for 3-th iteration is: 47256.09651851654/48286 \n",
      "RMSE: 0.9786707641659392\n"
     ]
    },
    {
     "name": "stderr",
     "output_type": "stream",
     "text": [
      "                                                                                \r"
     ]
    },
    {
     "name": "stdout",
     "output_type": "stream",
     "text": [
      "MSE/update for 4-th iteration is: 49056.025265693665/53266 \n",
      "RMSE: 0.9209631897588267\n"
     ]
    },
    {
     "name": "stderr",
     "output_type": "stream",
     "text": [
      "                                                                                \r"
     ]
    },
    {
     "name": "stdout",
     "output_type": "stream",
     "text": [
      "MSE/update for 5-th iteration is: 44715.931720256805/52344 \n",
      "RMSE: 0.8542704363490907\n"
     ]
    },
    {
     "name": "stderr",
     "output_type": "stream",
     "text": [
      "                                                                                \r"
     ]
    },
    {
     "name": "stdout",
     "output_type": "stream",
     "text": [
      "MSE/update for 6-th iteration is: 41899.186269283295/47238 \n",
      "RMSE: 0.8869805298548477\n"
     ]
    },
    {
     "name": "stderr",
     "output_type": "stream",
     "text": [
      "                                                                                \r"
     ]
    },
    {
     "name": "stdout",
     "output_type": "stream",
     "text": [
      "MSE/update for 7-th iteration is: 44834.97287321091/51866 \n",
      "RMSE: 0.8644386085915804\n"
     ]
    },
    {
     "name": "stderr",
     "output_type": "stream",
     "text": [
      "                                                                                \r"
     ]
    },
    {
     "name": "stdout",
     "output_type": "stream",
     "text": [
      "MSE/update for 8-th iteration is: 42419.8792014122/51240 \n",
      "RMSE: 0.8278664949533997\n"
     ]
    },
    {
     "name": "stderr",
     "output_type": "stream",
     "text": [
      "                                                                                \r"
     ]
    },
    {
     "name": "stdout",
     "output_type": "stream",
     "text": [
      "MSE/update for 9-th iteration is: 40780.8784403801/48236 \n",
      "RMSE: 0.8454448635952421\n"
     ]
    },
    {
     "name": "stderr",
     "output_type": "stream",
     "text": [
      "                                                                                \r"
     ]
    },
    {
     "name": "stdout",
     "output_type": "stream",
     "text": [
      "MSE/update for 10-th iteration is: 44037.98388147354/52648 \n",
      "RMSE: 0.83646071800398\n"
     ]
    },
    {
     "name": "stderr",
     "output_type": "stream",
     "text": [
      "                                                                                \r"
     ]
    },
    {
     "name": "stdout",
     "output_type": "stream",
     "text": [
      "MSE/update for 11-th iteration is: 41826.875583171844/51220 \n",
      "RMSE: 0.8166121746031207\n"
     ]
    },
    {
     "name": "stderr",
     "output_type": "stream",
     "text": [
      "                                                                                \r"
     ]
    },
    {
     "name": "stdout",
     "output_type": "stream",
     "text": [
      "MSE/update for 12-th iteration is: 38627.90281677246/47266 \n",
      "RMSE: 0.8172450136836724\n"
     ]
    },
    {
     "name": "stderr",
     "output_type": "stream",
     "text": [
      "                                                                                \r"
     ]
    },
    {
     "name": "stdout",
     "output_type": "stream",
     "text": [
      "MSE/update for 13-th iteration is: 40409.23011302948/51866 \n",
      "RMSE: 0.7791082812059823\n"
     ]
    },
    {
     "name": "stderr",
     "output_type": "stream",
     "text": [
      "                                                                                \r"
     ]
    },
    {
     "name": "stdout",
     "output_type": "stream",
     "text": [
      "MSE/update for 14-th iteration is: 42757.88488292694/52344 \n",
      "RMSE: 0.8168631530438435\n"
     ]
    },
    {
     "name": "stderr",
     "output_type": "stream",
     "text": [
      "                                                                                \r"
     ]
    },
    {
     "name": "stdout",
     "output_type": "stream",
     "text": [
      "MSE/update for 15-th iteration is: 41983.177961826324/48932 \n",
      "RMSE: 0.8579902305613162\n"
     ]
    },
    {
     "name": "stderr",
     "output_type": "stream",
     "text": [
      "                                                                                \r"
     ]
    },
    {
     "name": "stdout",
     "output_type": "stream",
     "text": [
      "MSE/update for 16-th iteration is: 41779.956810474396/52648 \n",
      "RMSE: 0.7935715850644735\n"
     ]
    },
    {
     "name": "stderr",
     "output_type": "stream",
     "text": [
      "                                                                                \r"
     ]
    },
    {
     "name": "stdout",
     "output_type": "stream",
     "text": [
      "MSE/update for 17-th iteration is: 43592.05365514755/47502 \n",
      "RMSE: 0.9176888058428604\n"
     ]
    },
    {
     "name": "stderr",
     "output_type": "stream",
     "text": [
      "                                                                                \r"
     ]
    },
    {
     "name": "stdout",
     "output_type": "stream",
     "text": [
      "MSE/update for 18-th iteration is: 43493.329659461975/51484 \n",
      "RMSE: 0.8447931330017476\n"
     ]
    },
    {
     "name": "stderr",
     "output_type": "stream",
     "text": [
      "                                                                                \r"
     ]
    },
    {
     "name": "stdout",
     "output_type": "stream",
     "text": [
      "MSE/update for 19-th iteration is: 39705.18914651871/51240 \n",
      "RMSE: 0.7748865953653143\n"
     ]
    },
    {
     "name": "stderr",
     "output_type": "stream",
     "text": [
      "                                                                                \r"
     ]
    },
    {
     "name": "stdout",
     "output_type": "stream",
     "text": [
      "MSE/update for 20-th iteration is: 44105.68939638138/53040 \n",
      "RMSE: 0.8315552299468586\n"
     ]
    },
    {
     "name": "stderr",
     "output_type": "stream",
     "text": [
      "                                                                                \r"
     ]
    },
    {
     "name": "stdout",
     "output_type": "stream",
     "text": [
      "MSE/update for 21-th iteration is: 41891.039134025574/52640 \n",
      "RMSE: 0.7958024151600603\n"
     ]
    },
    {
     "name": "stderr",
     "output_type": "stream",
     "text": [
      "                                                                                \r"
     ]
    },
    {
     "name": "stdout",
     "output_type": "stream",
     "text": [
      "MSE/update for 22-th iteration is: 41078.74190235138/52648 \n",
      "RMSE: 0.7802526573155938\n"
     ]
    },
    {
     "name": "stderr",
     "output_type": "stream",
     "text": [
      "                                                                                \r"
     ]
    },
    {
     "name": "stdout",
     "output_type": "stream",
     "text": [
      "MSE/update for 23-th iteration is: 39473.067621707916/47238 \n",
      "RMSE: 0.8356210597761954\n"
     ]
    },
    {
     "name": "stderr",
     "output_type": "stream",
     "text": [
      "                                                                                \r"
     ]
    },
    {
     "name": "stdout",
     "output_type": "stream",
     "text": [
      "MSE/update for 24-th iteration is: 41062.30830812454/47502 \n",
      "RMSE: 0.8644332514025629\n"
     ]
    },
    {
     "name": "stderr",
     "output_type": "stream",
     "text": [
      "                                                                                \r"
     ]
    },
    {
     "name": "stdout",
     "output_type": "stream",
     "text": [
      "MSE/update for 25-th iteration is: 42613.115972042084/52718 \n",
      "RMSE: 0.8083219388452157\n"
     ]
    },
    {
     "name": "stderr",
     "output_type": "stream",
     "text": [
      "                                                                                \r"
     ]
    },
    {
     "name": "stdout",
     "output_type": "stream",
     "text": [
      "MSE/update for 26-th iteration is: 40711.424865722656/51220 \n",
      "RMSE: 0.7948345346685407\n"
     ]
    },
    {
     "name": "stderr",
     "output_type": "stream",
     "text": [
      "                                                                                \r"
     ]
    },
    {
     "name": "stdout",
     "output_type": "stream",
     "text": [
      "MSE/update for 27-th iteration is: 39200.09096670151/47336 \n",
      "RMSE: 0.8281242810271571\n"
     ]
    },
    {
     "name": "stderr",
     "output_type": "stream",
     "text": [
      "                                                                                \r"
     ]
    },
    {
     "name": "stdout",
     "output_type": "stream",
     "text": [
      "MSE/update for 28-th iteration is: 39367.19683980942/51240 \n",
      "RMSE: 0.7682903364521745\n"
     ]
    },
    {
     "name": "stderr",
     "output_type": "stream",
     "text": [
      "                                                                                \r"
     ]
    },
    {
     "name": "stdout",
     "output_type": "stream",
     "text": [
      "MSE/update for 29-th iteration is: 40747.125428676605/48286 \n",
      "RMSE: 0.8438703853845132\n"
     ]
    },
    {
     "name": "stderr",
     "output_type": "stream",
     "text": [
      "                                                                                \r"
     ]
    },
    {
     "name": "stdout",
     "output_type": "stream",
     "text": [
      "MSE/update for 30-th iteration is: 42090.88639116287/53266 \n",
      "RMSE: 0.7902017495431021\n"
     ]
    },
    {
     "name": "stderr",
     "output_type": "stream",
     "text": [
      "                                                                                \r"
     ]
    },
    {
     "name": "stdout",
     "output_type": "stream",
     "text": [
      "MSE/update for 31-th iteration is: 42671.75398015976/49098 \n",
      "RMSE: 0.8691138942555656\n"
     ]
    },
    {
     "name": "stderr",
     "output_type": "stream",
     "text": [
      "                                                                                \r"
     ]
    },
    {
     "name": "stdout",
     "output_type": "stream",
     "text": [
      "MSE/update for 32-th iteration is: 37354.37569093704/47266 \n",
      "RMSE: 0.7903011824765591\n"
     ]
    },
    {
     "name": "stderr",
     "output_type": "stream",
     "text": [
      "                                                                                \r"
     ]
    },
    {
     "name": "stdout",
     "output_type": "stream",
     "text": [
      "MSE/update for 33-th iteration is: 38315.76947641373/48236 \n",
      "RMSE: 0.7943396939301295\n"
     ]
    },
    {
     "name": "stderr",
     "output_type": "stream",
     "text": [
      "                                                                                \r"
     ]
    },
    {
     "name": "stdout",
     "output_type": "stream",
     "text": [
      "MSE/update for 34-th iteration is: 39157.28702020645/47012 \n",
      "RMSE: 0.8329211056795383\n"
     ]
    },
    {
     "name": "stderr",
     "output_type": "stream",
     "text": [
      "                                                                                \r"
     ]
    },
    {
     "name": "stdout",
     "output_type": "stream",
     "text": [
      "MSE/update for 35-th iteration is: 42900.91604280472/53040 \n",
      "RMSE: 0.8088408002037089\n"
     ]
    },
    {
     "name": "stderr",
     "output_type": "stream",
     "text": [
      "                                                                                \r"
     ]
    },
    {
     "name": "stdout",
     "output_type": "stream",
     "text": [
      "MSE/update for 36-th iteration is: 38836.854192733765/47012 \n",
      "RMSE: 0.8261051261961577\n"
     ]
    },
    {
     "name": "stderr",
     "output_type": "stream",
     "text": [
      "                                                                                \r"
     ]
    },
    {
     "name": "stdout",
     "output_type": "stream",
     "text": [
      "MSE/update for 37-th iteration is: 39313.57276010513/51240 \n",
      "RMSE: 0.7672438087452211\n"
     ]
    },
    {
     "name": "stderr",
     "output_type": "stream",
     "text": [
      "                                                                                \r"
     ]
    },
    {
     "name": "stdout",
     "output_type": "stream",
     "text": [
      "MSE/update for 38-th iteration is: 39256.13779258728/48208 \n",
      "RMSE: 0.8143075380141735\n"
     ]
    },
    {
     "name": "stderr",
     "output_type": "stream",
     "text": [
      "                                                                                \r"
     ]
    },
    {
     "name": "stdout",
     "output_type": "stream",
     "text": [
      "MSE/update for 39-th iteration is: 41491.2747130394/52640 \n",
      "RMSE: 0.7882081062507484\n"
     ]
    },
    {
     "name": "stderr",
     "output_type": "stream",
     "text": [
      "                                                                                \r"
     ]
    },
    {
     "name": "stdout",
     "output_type": "stream",
     "text": [
      "MSE/update for 40-th iteration is: 42978.94082021713/51806 \n",
      "RMSE: 0.8296131880519078\n"
     ]
    },
    {
     "name": "stderr",
     "output_type": "stream",
     "text": [
      "                                                                                \r"
     ]
    },
    {
     "name": "stdout",
     "output_type": "stream",
     "text": [
      "MSE/update for 41-th iteration is: 40050.11951494217/48932 \n",
      "RMSE: 0.8184852349166634\n"
     ]
    },
    {
     "name": "stderr",
     "output_type": "stream",
     "text": [
      "                                                                                \r"
     ]
    },
    {
     "name": "stdout",
     "output_type": "stream",
     "text": [
      "MSE/update for 42-th iteration is: 40283.08359289169/47206 \n",
      "RMSE: 0.8533466845928842\n"
     ]
    },
    {
     "name": "stderr",
     "output_type": "stream",
     "text": [
      "                                                                                \r"
     ]
    },
    {
     "name": "stdout",
     "output_type": "stream",
     "text": [
      "MSE/update for 43-th iteration is: 40946.50648403168/52344 \n",
      "RMSE: 0.7822578802543114\n"
     ]
    },
    {
     "name": "stderr",
     "output_type": "stream",
     "text": [
      "                                                                                \r"
     ]
    },
    {
     "name": "stdout",
     "output_type": "stream",
     "text": [
      "MSE/update for 44-th iteration is: 40852.20942354202/52344 \n",
      "RMSE: 0.7804563927774343\n"
     ]
    },
    {
     "name": "stderr",
     "output_type": "stream",
     "text": [
      "                                                                                \r"
     ]
    },
    {
     "name": "stdout",
     "output_type": "stream",
     "text": [
      "MSE/update for 45-th iteration is: 41360.97428226471/52640 \n",
      "RMSE: 0.785732794115971\n"
     ]
    },
    {
     "name": "stderr",
     "output_type": "stream",
     "text": [
      "                                                                                \r"
     ]
    },
    {
     "name": "stdout",
     "output_type": "stream",
     "text": [
      "MSE/update for 46-th iteration is: 40212.7286567688/48286 \n",
      "RMSE: 0.8328030621043118\n"
     ]
    },
    {
     "name": "stderr",
     "output_type": "stream",
     "text": [
      "                                                                                \r"
     ]
    },
    {
     "name": "stdout",
     "output_type": "stream",
     "text": [
      "MSE/update for 47-th iteration is: 42464.73464202881/49098 \n",
      "RMSE: 0.8648974427070106\n"
     ]
    },
    {
     "name": "stderr",
     "output_type": "stream",
     "text": [
      "                                                                                \r"
     ]
    },
    {
     "name": "stdout",
     "output_type": "stream",
     "text": [
      "MSE/update for 48-th iteration is: 39437.03858470917/51240 \n",
      "RMSE: 0.769653368163723\n"
     ]
    },
    {
     "name": "stderr",
     "output_type": "stream",
     "text": [
      "                                                                                \r"
     ]
    },
    {
     "name": "stdout",
     "output_type": "stream",
     "text": [
      "MSE/update for 49-th iteration is: 38804.65500497818/47012 \n",
      "RMSE: 0.8254202119666931\n"
     ]
    },
    {
     "name": "stderr",
     "output_type": "stream",
     "text": [
      "                                                                                \r"
     ]
    },
    {
     "name": "stdout",
     "output_type": "stream",
     "text": [
      "MSE/update for 50-th iteration is: 38478.43241882324/47336 \n",
      "RMSE: 0.8128788325761206\n"
     ]
    },
    {
     "name": "stderr",
     "output_type": "stream",
     "text": [
      "                                                                                \r"
     ]
    },
    {
     "name": "stdout",
     "output_type": "stream",
     "text": [
      "MSE/update for 51-th iteration is: 40174.446496486664/48286 \n",
      "RMSE: 0.8320102409909014\n"
     ]
    },
    {
     "name": "stderr",
     "output_type": "stream",
     "text": [
      "                                                                                \r"
     ]
    },
    {
     "name": "stdout",
     "output_type": "stream",
     "text": [
      "MSE/update for 52-th iteration is: 42921.58204174042/51806 \n",
      "RMSE: 0.8285060039713628\n"
     ]
    },
    {
     "name": "stderr",
     "output_type": "stream",
     "text": [
      "                                                                                \r"
     ]
    },
    {
     "name": "stdout",
     "output_type": "stream",
     "text": [
      "MSE/update for 53-th iteration is: 41845.15248441696/53266 \n",
      "RMSE: 0.7855884144560689\n"
     ]
    },
    {
     "name": "stderr",
     "output_type": "stream",
     "text": [
      "                                                                                \r"
     ]
    },
    {
     "name": "stdout",
     "output_type": "stream",
     "text": [
      "MSE/update for 54-th iteration is: 38477.48880147934/47336 \n",
      "RMSE: 0.8128588981215004\n"
     ]
    },
    {
     "name": "stderr",
     "output_type": "stream",
     "text": [
      "                                                                                \r"
     ]
    },
    {
     "name": "stdout",
     "output_type": "stream",
     "text": [
      "MSE/update for 55-th iteration is: 41840.01585435867/53266 \n",
      "RMSE: 0.7854919808951052\n"
     ]
    },
    {
     "name": "stderr",
     "output_type": "stream",
     "text": [
      "                                                                                \r"
     ]
    },
    {
     "name": "stdout",
     "output_type": "stream",
     "text": [
      "MSE/update for 56-th iteration is: 40125.40970802307/48932 \n",
      "RMSE: 0.820023904766269\n"
     ]
    },
    {
     "name": "stderr",
     "output_type": "stream",
     "text": [
      "                                                                                \r"
     ]
    },
    {
     "name": "stdout",
     "output_type": "stream",
     "text": [
      "MSE/update for 57-th iteration is: 39285.475838661194/48208 \n",
      "RMSE: 0.8149161101614087\n"
     ]
    },
    {
     "name": "stderr",
     "output_type": "stream",
     "text": [
      "                                                                                \r"
     ]
    },
    {
     "name": "stdout",
     "output_type": "stream",
     "text": [
      "MSE/update for 58-th iteration is: 39436.763696193695/51240 \n",
      "RMSE: 0.7696480034385967\n"
     ]
    },
    {
     "name": "stderr",
     "output_type": "stream",
     "text": [
      "                                                                                \r"
     ]
    },
    {
     "name": "stdout",
     "output_type": "stream",
     "text": [
      "MSE/update for 59-th iteration is: 42546.159205913544/53040 \n",
      "RMSE: 0.8021523228867561\n"
     ]
    },
    {
     "name": "stderr",
     "output_type": "stream",
     "text": [
      "                                                                                \r"
     ]
    },
    {
     "name": "stdout",
     "output_type": "stream",
     "text": [
      "MSE/update for 60-th iteration is: 42282.368039131165/52718 \n",
      "RMSE: 0.8020480298784317\n"
     ]
    },
    {
     "name": "stderr",
     "output_type": "stream",
     "text": [
      "                                                                                \r"
     ]
    },
    {
     "name": "stdout",
     "output_type": "stream",
     "text": [
      "MSE/update for 61-th iteration is: 38422.265840530396/48236 \n",
      "RMSE: 0.7965475130717803\n"
     ]
    },
    {
     "name": "stderr",
     "output_type": "stream",
     "text": [
      "                                                                                \r"
     ]
    },
    {
     "name": "stdout",
     "output_type": "stream",
     "text": [
      "MSE/update for 62-th iteration is: 41021.81247711182/52648 \n",
      "RMSE: 0.7791713356084147\n"
     ]
    },
    {
     "name": "stderr",
     "output_type": "stream",
     "text": [
      "                                                                                \r"
     ]
    },
    {
     "name": "stdout",
     "output_type": "stream",
     "text": [
      "MSE/update for 63-th iteration is: 40179.44080162048/48286 \n",
      "RMSE: 0.8321136727337216\n"
     ]
    },
    {
     "name": "stderr",
     "output_type": "stream",
     "text": [
      "                                                                                \r"
     ]
    },
    {
     "name": "stdout",
     "output_type": "stream",
     "text": [
      "MSE/update for 64-th iteration is: 38795.94292259216/47012 \n",
      "RMSE: 0.8252348958264307\n"
     ]
    },
    {
     "name": "stderr",
     "output_type": "stream",
     "text": [
      "                                                                                \r"
     ]
    },
    {
     "name": "stdout",
     "output_type": "stream",
     "text": [
      "MSE/update for 65-th iteration is: 42464.43295431137/49098 \n",
      "RMSE: 0.864891298104024\n"
     ]
    },
    {
     "name": "stderr",
     "output_type": "stream",
     "text": [
      "                                                                                \r"
     ]
    },
    {
     "name": "stdout",
     "output_type": "stream",
     "text": [
      "MSE/update for 66-th iteration is: 39884.8533744812/51866 \n",
      "RMSE: 0.7689980598943663\n"
     ]
    },
    {
     "name": "stderr",
     "output_type": "stream",
     "text": [
      "                                                                                \r"
     ]
    },
    {
     "name": "stdout",
     "output_type": "stream",
     "text": [
      "MSE/update for 67-th iteration is: 38088.8987531662/47238 \n",
      "RMSE: 0.8063190387646851\n"
     ]
    },
    {
     "name": "stderr",
     "output_type": "stream",
     "text": [
      "                                                                                \r"
     ]
    },
    {
     "name": "stdout",
     "output_type": "stream",
     "text": [
      "MSE/update for 68-th iteration is: 42930.206290245056/51806 \n",
      "RMSE: 0.8286724759727648\n"
     ]
    },
    {
     "name": "stderr",
     "output_type": "stream",
     "text": [
      "                                                                                \r"
     ]
    },
    {
     "name": "stdout",
     "output_type": "stream",
     "text": [
      "MSE/update for 69-th iteration is: 40126.056661605835/48932 \n",
      "RMSE: 0.8200371262487909\n"
     ]
    },
    {
     "name": "stderr",
     "output_type": "stream",
     "text": [
      "                                                                                \r"
     ]
    },
    {
     "name": "stdout",
     "output_type": "stream",
     "text": [
      "MSE/update for 70-th iteration is: 41020.66218805313/52648 \n",
      "RMSE: 0.7791494869330864\n"
     ]
    },
    {
     "name": "stderr",
     "output_type": "stream",
     "text": [
      "                                                                                \r"
     ]
    },
    {
     "name": "stdout",
     "output_type": "stream",
     "text": [
      "MSE/update for 71-th iteration is: 41833.76697778702/53266 \n",
      "RMSE: 0.7853746663497732\n"
     ]
    },
    {
     "name": "stderr",
     "output_type": "stream",
     "text": [
      "                                                                                \r"
     ]
    },
    {
     "name": "stdout",
     "output_type": "stream",
     "text": [
      "MSE/update for 72-th iteration is: 41833.70531320572/53266 \n",
      "RMSE: 0.7853735086773124\n"
     ]
    },
    {
     "name": "stderr",
     "output_type": "stream",
     "text": [
      "                                                                                \r"
     ]
    },
    {
     "name": "stdout",
     "output_type": "stream",
     "text": [
      "MSE/update for 73-th iteration is: 42540.765773296356/53040 \n",
      "RMSE: 0.8020506367514396\n"
     ]
    },
    {
     "name": "stderr",
     "output_type": "stream",
     "text": [
      "                                                                                \r"
     ]
    },
    {
     "name": "stdout",
     "output_type": "stream",
     "text": [
      "MSE/update for 74-th iteration is: 40126.22468948364/48932 \n",
      "RMSE: 0.8200405601545746\n"
     ]
    },
    {
     "name": "stderr",
     "output_type": "stream",
     "text": [
      "                                                                                \r"
     ]
    },
    {
     "name": "stdout",
     "output_type": "stream",
     "text": [
      "MSE/update for 75-th iteration is: 42930.26015996933/51806 \n",
      "RMSE: 0.8286735158083877\n"
     ]
    },
    {
     "name": "stderr",
     "output_type": "stream",
     "text": [
      "                                                                                \r"
     ]
    },
    {
     "name": "stdout",
     "output_type": "stream",
     "text": [
      "MSE/update for 76-th iteration is: 38796.03603553772/47012 \n",
      "RMSE: 0.8252368764472415\n"
     ]
    },
    {
     "name": "stderr",
     "output_type": "stream",
     "text": [
      "                                                                                \r"
     ]
    },
    {
     "name": "stdout",
     "output_type": "stream",
     "text": [
      "MSE/update for 77-th iteration is: 39937.93934345245/51220 \n",
      "RMSE: 0.779733294483648\n"
     ]
    },
    {
     "name": "stderr",
     "output_type": "stream",
     "text": [
      "                                                                                \r"
     ]
    },
    {
     "name": "stdout",
     "output_type": "stream",
     "text": [
      "MSE/update for 78-th iteration is: 42540.713431835175/53040 \n",
      "RMSE: 0.8020496499214776\n"
     ]
    },
    {
     "name": "stderr",
     "output_type": "stream",
     "text": [
      "                                                                                \r"
     ]
    },
    {
     "name": "stdout",
     "output_type": "stream",
     "text": [
      "MSE/update for 79-th iteration is: 42930.24806308746/51806 \n",
      "RMSE: 0.8286732823048965\n"
     ]
    },
    {
     "name": "stderr",
     "output_type": "stream",
     "text": [
      "                                                                                \r"
     ]
    },
    {
     "name": "stdout",
     "output_type": "stream",
     "text": [
      "MSE/update for 80-th iteration is: 40837.327288627625/52344 \n",
      "RMSE: 0.7801720787220622\n"
     ]
    },
    {
     "name": "stderr",
     "output_type": "stream",
     "text": [
      "                                                                                \r"
     ]
    },
    {
     "name": "stdout",
     "output_type": "stream",
     "text": [
      "MSE/update for 81-th iteration is: 40820.184403419495/47502 \n",
      "RMSE: 0.8593361206563828\n"
     ]
    },
    {
     "name": "stderr",
     "output_type": "stream",
     "text": [
      "                                                                                \r"
     ]
    },
    {
     "name": "stdout",
     "output_type": "stream",
     "text": [
      "MSE/update for 82-th iteration is: 37223.019018650055/47266 \n",
      "RMSE: 0.7875220881532191\n"
     ]
    },
    {
     "name": "stderr",
     "output_type": "stream",
     "text": [
      "                                                                                \r"
     ]
    },
    {
     "name": "stdout",
     "output_type": "stream",
     "text": [
      "MSE/update for 83-th iteration is: 41651.26286840439/48480 \n",
      "RMSE: 0.8591432109819387\n"
     ]
    },
    {
     "name": "stderr",
     "output_type": "stream",
     "text": [
      "                                                                                \r"
     ]
    },
    {
     "name": "stdout",
     "output_type": "stream",
     "text": [
      "MSE/update for 84-th iteration is: 42279.646689891815/52718 \n",
      "RMSE: 0.8019964090043593\n"
     ]
    },
    {
     "name": "stderr",
     "output_type": "stream",
     "text": [
      "                                                                                \r"
     ]
    },
    {
     "name": "stdout",
     "output_type": "stream",
     "text": [
      "MSE/update for 85-th iteration is: 40268.220101356506/47206 \n",
      "RMSE: 0.8530318201363494\n"
     ]
    },
    {
     "name": "stderr",
     "output_type": "stream",
     "text": [
      "                                                                                \r"
     ]
    },
    {
     "name": "stdout",
     "output_type": "stream",
     "text": [
      "MSE/update for 86-th iteration is: 38796.082902908325/47012 \n",
      "RMSE: 0.8252378733708059\n"
     ]
    },
    {
     "name": "stderr",
     "output_type": "stream",
     "text": [
      "                                                                                \r"
     ]
    },
    {
     "name": "stdout",
     "output_type": "stream",
     "text": [
      "MSE/update for 87-th iteration is: 41833.49755334854/53266 \n",
      "RMSE: 0.785369608255708\n"
     ]
    },
    {
     "name": "stderr",
     "output_type": "stream",
     "text": [
      "                                                                                \r"
     ]
    },
    {
     "name": "stdout",
     "output_type": "stream",
     "text": [
      "MSE/update for 88-th iteration is: 41020.5260052681/52648 \n",
      "RMSE: 0.7791469002672105\n"
     ]
    },
    {
     "name": "stderr",
     "output_type": "stream",
     "text": [
      "                                                                                \r"
     ]
    },
    {
     "name": "stdout",
     "output_type": "stream",
     "text": [
      "MSE/update for 89-th iteration is: 37223.04571390152/47266 \n",
      "RMSE: 0.7875226529408352\n"
     ]
    },
    {
     "name": "stderr",
     "output_type": "stream",
     "text": [
      "                                                                                \r"
     ]
    },
    {
     "name": "stdout",
     "output_type": "stream",
     "text": [
      "MSE/update for 90-th iteration is: 40837.28349971771/52344 \n",
      "RMSE: 0.7801712421618087\n"
     ]
    },
    {
     "name": "stderr",
     "output_type": "stream",
     "text": [
      "                                                                                \r"
     ]
    },
    {
     "name": "stdout",
     "output_type": "stream",
     "text": [
      "MSE/update for 91-th iteration is: 39440.79470348358/51240 \n",
      "RMSE: 0.7697266725894532\n"
     ]
    },
    {
     "name": "stderr",
     "output_type": "stream",
     "text": [
      "                                                                                \r"
     ]
    },
    {
     "name": "stdout",
     "output_type": "stream",
     "text": [
      "MSE/update for 92-th iteration is: 42669.223048210144/51484 \n",
      "RMSE: 0.828786089818393\n"
     ]
    },
    {
     "name": "stderr",
     "output_type": "stream",
     "text": [
      "                                                                                \r"
     ]
    },
    {
     "name": "stdout",
     "output_type": "stream",
     "text": [
      "MSE/update for 93-th iteration is: 42540.6158823967/53040 \n",
      "RMSE: 0.8020478107540856\n"
     ]
    },
    {
     "name": "stderr",
     "output_type": "stream",
     "text": [
      "                                                                                \r"
     ]
    },
    {
     "name": "stdout",
     "output_type": "stream",
     "text": [
      "MSE/update for 94-th iteration is: 41020.51183748245/52648 \n",
      "RMSE: 0.7791466311632437\n"
     ]
    },
    {
     "name": "stderr",
     "output_type": "stream",
     "text": [
      "                                                                                \r"
     ]
    },
    {
     "name": "stdout",
     "output_type": "stream",
     "text": [
      "MSE/update for 95-th iteration is: 39288.755153656006/48208 \n",
      "RMSE: 0.8149841344518753\n"
     ]
    },
    {
     "name": "stderr",
     "output_type": "stream",
     "text": [
      "                                                                                \r"
     ]
    },
    {
     "name": "stdout",
     "output_type": "stream",
     "text": [
      "MSE/update for 96-th iteration is: 40268.2315530777/47206 \n",
      "RMSE: 0.8530320627267233\n"
     ]
    },
    {
     "name": "stderr",
     "output_type": "stream",
     "text": [
      "                                                                                \r"
     ]
    },
    {
     "name": "stdout",
     "output_type": "stream",
     "text": [
      "MSE/update for 97-th iteration is: 38422.84214544296/48236 \n",
      "RMSE: 0.79655946068171\n"
     ]
    },
    {
     "name": "stderr",
     "output_type": "stream",
     "text": [
      "                                                                                \r"
     ]
    },
    {
     "name": "stdout",
     "output_type": "stream",
     "text": [
      "MSE/update for 98-th iteration is: 38482.13399839401/47336 \n",
      "RMSE: 0.8129570305558985\n"
     ]
    },
    {
     "name": "stderr",
     "output_type": "stream",
     "text": [
      "                                                                                \r"
     ]
    },
    {
     "name": "stdout",
     "output_type": "stream",
     "text": [
      "MSE/update for 99-th iteration is: 39440.781863212585/51240 \n",
      "RMSE: 0.7697264219986844\n"
     ]
    },
    {
     "name": "stderr",
     "output_type": "stream",
     "text": [
      "                                                                                \r"
     ]
    }
   ],
   "source": [
    "#mse = sc.accumulator(0.0)\n",
    "#nUpdates = sc.accumulator(0)\n",
    "stepSize = 0.01\n",
    "max_iter = 100\n",
    "stepSize = sc.broadcast(stepSize)\n",
    "for it in range(max_iter):\n",
    "    mse = sc.accumulator(0.0)\n",
    "    nUpdates = sc.accumulator(0)\n",
    "\n",
    "    beta = 0.1\n",
    "    #broadcast the stepsize\n",
    "    #stepSize = sc.broadcast(1/np.power(tau + it, beta))\n",
    "    stepSize = sc.broadcast(stepSize.value * 0.9)\n",
    "    #generate random strata\n",
    "    lam = sc.broadcast(0.01)\n",
    "\n",
    "    perms = np.random.permutation(numWorkers)+1\n",
    "    perms_dict = {i: val for i, val in enumerate(perms)}\n",
    "    rev_perms=list(i+1 for i in (dict(sorted(perms_dict.items(), key=lambda item: item[1]))).keys())\n",
    "    Mfilt = Mblocked.filter(lambda x: perms[x[0]-1]==assignBlockIndex(x[1][1],numCols,numWorkers)).persist()\n",
    "    Hblocked = H.keyBy(lambda x: rev_perms[assignBlockIndex(x[0], numCols, numWorkers)-1])\n",
    "    Wblocked = W.keyBy(lambda x: assignBlockIndex(x[0], numRows, numWorkers))\n",
    "    groupRDD = Mfilt.groupWith(Hblocked, Wblocked).partitionBy(numWorkers)\n",
    "    WH = groupRDD.mapPartitions(lambda x: SGD(x, stepSize, numFactors,lam, mse, nUpdates,scaleRating))\n",
    "    W.unpersist()\n",
    "    H.unpersist()\n",
    "    W = WH.filter(lambda x: x[0]=='W').flatMap(lambda x: x[1]).persist()\n",
    "    H = WH.filter(lambda x: x[0]=='H').flatMap(lambda x: x[1]).persist()\n",
    "    Wvec = W.collect()\n",
    "    Hvec = H.collect()\n",
    "    print(\"MSE/update for {}-th iteration is: {}/{} \".format(it, mse.value, nUpdates.value))\n",
    "    print(\"RMSE: {}\".format((mse.value/nUpdates.value)))\n"
   ]
  },
  {
   "cell_type": "code",
   "execution_count": 32,
   "id": "0rVOg-WigLQc",
   "metadata": {
    "colab": {
     "base_uri": "https://localhost:8080/"
    },
    "id": "0rVOg-WigLQc",
    "outputId": "76fc170e-f4a7-424b-ab91-93fcdafe6056"
   },
   "outputs": [
    {
     "data": {
      "text/plain": [
       "[(15, 405, 2.0),\n",
       " (15, 749, 1.0),\n",
       " (15, 25, 3.0),\n",
       " (15, 331, 3.0),\n",
       " (15, 222, 3.0),\n",
       " (15, 473, 1.0),\n",
       " (15, 678, 1.0),\n",
       " (15, 932, 1.0),\n",
       " (15, 127, 2.0),\n",
       " (15, 685, 4.0),\n",
       " (15, 20, 3.0),\n",
       " (15, 301, 4.0),\n",
       " (15, 278, 1.0),\n",
       " (15, 620, 4.0),\n",
       " (15, 742, 2.0),\n",
       " (15, 137, 4.0),\n",
       " (15, 696, 2.0),\n",
       " (15, 924, 3.0),\n",
       " (15, 289, 3.0),\n",
       " (15, 508, 2.0),\n",
       " (15, 754, 5.0),\n",
       " (15, 18, 1.0),\n",
       " (15, 286, 2.0),\n",
       " (15, 148, 3.0),\n",
       " (15, 864, 4.0),\n",
       " (15, 244, 2.0),\n",
       " (15, 274, 4.0),\n",
       " (15, 9, 4.0),\n",
       " (15, 307, 1.0),\n",
       " (15, 458, 5.0),\n",
       " (15, 476, 4.0),\n",
       " (15, 471, 4.0),\n",
       " (15, 7, 1.0),\n",
       " (15, 937, 4.0),\n",
       " (15, 929, 1.0),\n",
       " (15, 889, 3.0),\n",
       " (15, 591, 2.0),\n",
       " (15, 1, 1.0),\n",
       " (15, 933, 1.0),\n",
       " (15, 459, 5.0),\n",
       " (15, 411, 2.0),\n",
       " (15, 744, 4.0),\n",
       " (15, 815, 1.0),\n",
       " (15, 300, 4.0),\n",
       " (15, 926, 1.0),\n",
       " (15, 409, 3.0),\n",
       " (15, 308, 5.0),\n",
       " (15, 303, 3.0),\n",
       " (15, 251, 2.0),\n",
       " (15, 936, 5.0),\n",
       " (15, 455, 1.0),\n",
       " (15, 306, 5.0),\n",
       " (15, 928, 1.0),\n",
       " (15, 14, 4.0),\n",
       " (15, 269, 5.0),\n",
       " (15, 13, 1.0),\n",
       " (15, 252, 2.0),\n",
       " (15, 927, 4.0),\n",
       " (15, 255, 5.0),\n",
       " (15, 50, 5.0),\n",
       " (15, 333, 1.0),\n",
       " (15, 118, 1.0),\n",
       " (15, 15, 4.0),\n",
       " (15, 302, 4.0),\n",
       " (15, 280, 3.0),\n",
       " (15, 930, 2.0),\n",
       " (15, 866, 4.0),\n",
       " (15, 243, 1.0),\n",
       " (15, 310, 4.0),\n",
       " (15, 257, 4.0),\n",
       " (15, 323, 1.0),\n",
       " (15, 282, 3.0),\n",
       " (15, 676, 4.0),\n",
       " (15, 546, 2.0),\n",
       " (15, 248, 1.0),\n",
       " (15, 235, 1.0),\n",
       " (15, 181, 5.0),\n",
       " (15, 879, 3.0),\n",
       " (15, 292, 5.0),\n",
       " (15, 690, 4.0),\n",
       " (15, 291, 3.0),\n",
       " (15, 285, 4.0),\n",
       " (15, 935, 3.0),\n",
       " (15, 925, 2.0),\n",
       " (15, 931, 1.0),\n",
       " (15, 328, 3.0),\n",
       " (15, 111, 4.0),\n",
       " (15, 934, 4.0),\n",
       " (15, 220, 4.0),\n",
       " (15, 237, 3.0),\n",
       " (15, 275, 4.0),\n",
       " (15, 125, 5.0),\n",
       " (15, 121, 3.0),\n",
       " (15, 249, 1.0),\n",
       " (15, 283, 4.0),\n",
       " (15, 748, 3.0),\n",
       " (15, 297, 3.0),\n",
       " (15, 258, 3.0),\n",
       " (15, 823, 2.0),\n",
       " (15, 472, 3.0),\n",
       " (15, 938, 3.0),\n",
       " (15, 322, 3.0),\n",
       " (15, 845, 2.0),\n",
       " (15, 225, 3.0)]"
      ]
     },
     "execution_count": 32,
     "metadata": {},
     "output_type": "execute_result"
    }
   ],
   "source": [
    "M.filter(lambda x: x[0]==15).collect()"
   ]
  },
  {
   "cell_type": "code",
   "execution_count": 33,
   "id": "k1HZatzk-A8E",
   "metadata": {
    "colab": {
     "base_uri": "https://localhost:8080/"
    },
    "id": "k1HZatzk-A8E",
    "outputId": "e3971c6b-df1e-41eb-ea25-a0e049a6f124"
   },
   "outputs": [
    {
     "data": {
      "text/plain": [
       "array([[0.842 , 0.785 , 0.225 , 0.2095, 0.489 , 0.579 , 0.983 , 0.8164,\n",
       "        0.405 , 0.738 ]], dtype=float16)"
      ]
     },
     "execution_count": 33,
     "metadata": {},
     "output_type": "execute_result"
    }
   ],
   "source": [
    "W.filter(lambda x: x[0]==186).map(lambda x: x[1][1]).collect()[0]"
   ]
  },
  {
   "cell_type": "code",
   "execution_count": 34,
   "id": "ngsaaCAPgRQB",
   "metadata": {
    "colab": {
     "base_uri": "https://localhost:8080/",
     "height": 235
    },
    "id": "ngsaaCAPgRQB",
    "outputId": "cce35927-8dae-4070-dfb3-eeb2f50fd659"
   },
   "outputs": [
    {
     "data": {
      "text/plain": [
       "array([[2.908]], dtype=float16)"
      ]
     },
     "execution_count": 34,
     "metadata": {},
     "output_type": "execute_result"
    }
   ],
   "source": [
    "w_i = np.array(W.filter(lambda x: x[0]==15).map(lambda x: x[1][1]).collect()[0])\n",
    "w_j = np.array(W.filter(lambda x: x[0]==222).map(lambda x: x[1][1]).collect()[0])\n",
    "np.dot(w_i, w_j.T)"
   ]
  }
 ],
 "metadata": {
  "colab": {
   "provenance": []
  },
  "kernelspec": {
   "display_name": "Python 3 (ipykernel)",
   "language": "python",
   "name": "python3"
  },
  "language_info": {
   "codemirror_mode": {
    "name": "ipython",
    "version": 3
   },
   "file_extension": ".py",
   "mimetype": "text/x-python",
   "name": "python",
   "nbconvert_exporter": "python",
   "pygments_lexer": "ipython3",
   "version": "3.10.6"
  },
  "vscode": {
   "interpreter": {
    "hash": "e7370f93d1d0cde622a1f8e1c04877d8463912d04d973331ad4851f04de6915a"
   }
  }
 },
 "nbformat": 4,
 "nbformat_minor": 5
}
