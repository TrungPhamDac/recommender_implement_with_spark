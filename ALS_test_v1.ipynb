{
  "cells": [
    {
      "cell_type": "code",
      "execution_count": 32,
      "metadata": {
        "colab": {
          "base_uri": "https://localhost:8080/"
        },
        "id": "aZZ3WA9Mq-Sn",
        "outputId": "7a62e7a9-4edd-4318-ffdc-025b2077aafb"
      },
      "outputs": [
        {
          "name": "stdout",
          "output_type": "stream",
          "text": [
            "Defaulting to user installation because normal site-packages is not writeable\n",
            "Requirement already satisfied: pyspark in /home/noing/.local/lib/python3.10/site-packages (3.3.1)\n",
            "Requirement already satisfied: py4j==0.10.9.5 in /home/noing/.local/lib/python3.10/site-packages (from pyspark) (0.10.9.5)\n"
          ]
        }
      ],
      "source": [
        "!pip install pyspark"
      ]
    },
    {
      "cell_type": "code",
      "execution_count": 33,
      "metadata": {
        "id": "zWe5RecTp6Pq"
      },
      "outputs": [],
      "source": [
        "import numpy as np\n",
        "from numpy.linalg import inv\n",
        "from pyspark.sql import SparkSession"
      ]
    },
    {
      "cell_type": "code",
      "execution_count": 34,
      "metadata": {
        "id": "3avNlruPrDvS"
      },
      "outputs": [],
      "source": [
        "spark = SparkSession\\\n",
        "  .builder\\\n",
        "  .appName('scratch-ALS')\\\n",
        "  .getOrCreate()\n",
        "sc = spark.sparkContext"
      ]
    },
    {
      "cell_type": "code",
      "execution_count": 35,
      "metadata": {
        "colab": {
          "base_uri": "https://localhost:8080/"
        },
        "id": "1O4ANAXMxB8U",
        "outputId": "5bd06755-0e67-44f4-b412-d34e2c88f6dd"
      },
      "outputs": [
        {
          "data": {
            "text/plain": [
              "4"
            ]
          },
          "execution_count": 35,
          "metadata": {},
          "output_type": "execute_result"
        }
      ],
      "source": [
        "numWorkers = sc.defaultParallelism\n",
        "numWorkers"
      ]
    },
    {
      "cell_type": "code",
      "execution_count": 36,
      "metadata": {
        "id": "MpUJHkynX61W"
      },
      "outputs": [],
      "source": [
        "def getRelativeIndex(value, index_list):\n",
        "  return index_list[value]"
      ]
    },
    {
      "cell_type": "code",
      "execution_count": 37,
      "metadata": {
        "id": "nzm612lqYZYt"
      },
      "outputs": [],
      "source": [
        "def sortByRelativeIndex(user_or_item, input):\n",
        "  if user_or_item == 'user':\n",
        "    return input\\\n",
        "      .map(lambda x: x[1])\\\n",
        "      .distinct()\\\n",
        "      .sortBy(lambda x: x, ascending=True)\\\n",
        "      .zipWithIndex().collect()\n",
        "  else: return input\\\n",
        "      .map(lambda x: x[2][1])\\\n",
        "      .distinct()\\\n",
        "      .sortBy(lambda x: x, ascending=True)\\\n",
        "      .zipWithIndex().collect()\n"
      ]
    },
    {
      "cell_type": "code",
      "execution_count": 38,
      "metadata": {
        "id": "3CIC0lWiZKWw"
      },
      "outputs": [],
      "source": [
        "def getBlock(user_or_item, ratings, sorted_users, sorted_items):\n",
        "  if user_or_item == 'user':\n",
        "    return ratings\\\n",
        "      .map(lambda x: (getRelativeIndex(x[0], sorted_users), getRelativeIndex(x[1][0], sorted_items)))\\\n",
        "      .groupByKey()\n",
        "  else:\n",
        "    return ratings\\\n",
        "      .map(lambda x: (getRelativeIndex(x[1][0], sorted_items), getRelativeIndex(x[0], sorted_users)))\\\n",
        "      .groupByKey()\n"
      ]
    },
    {
      "cell_type": "code",
      "execution_count": 83,
      "metadata": {
        "id": "i1D3RLgCmboi"
      },
      "outputs": [],
      "source": [
        "data = sc.textFile(\"ml-100k/u.data\")\n",
        "raw_data = data.map(\n",
        "  lambda l: l.split('\\t')\n",
        ").map(lambda l: (int(l[0]), int(l[1]), float(l[2])))"
      ]
    },
    {
      "cell_type": "code",
      "execution_count": 84,
      "metadata": {
        "id": "k_MmJ__Ij97i"
      },
      "outputs": [],
      "source": [
        "sorted_users = dict(raw_data.map(lambda x: x[0]).distinct().sortBy(lambda idx: idx, ascending = True)\\\n",
        "  .zipWithIndex().collect())\n",
        "\n",
        "sorted_items = dict(raw_data.map(lambda x: x[1]).distinct().sortBy(lambda idx: idx, ascending = True)\\\n",
        "  .zipWithIndex().collect())\n",
        "\n",
        "item_count = len(sorted_items)\n",
        "user_count = len(sorted_users)"
      ]
    },
    {
      "cell_type": "code",
      "execution_count": 85,
      "metadata": {
        "id": "ZdHYJ6CgmiNB"
      },
      "outputs": [],
      "source": [
        "M = raw_data.map(lambda x: (getRelativeIndex(x[0], sorted_users), getRelativeIndex(x[1], sorted_items), x[2]))"
      ]
    },
    {
      "cell_type": "code",
      "execution_count": 86,
      "metadata": {
        "id": "_djcbI3PmURw"
      },
      "outputs": [],
      "source": [
        "numFactors = 10\n",
        "num_factors = 10\n",
        "W = M.map(lambda x: tuple([int(x[0]),1])).reduceByKey(lambda x,y : x+y).map(lambda x: tuple([x[0], np.random.rand(1,numFactors).astype('float16')])).persist()\n",
        "H = M.map(lambda x: tuple([int(x[1]),1])).reduceByKey(lambda x,y : x+y).map(lambda x: tuple([x[0], np.random.rand(1,numFactors).astype('float16')])).persist()"
      ]
    },
    {
      "cell_type": "code",
      "execution_count": 87,
      "metadata": {
        "id": "AwteWGGjY3Gu"
      },
      "outputs": [],
      "source": [
        "R_u = M.map(lambda x: (x[0], (x[1], x[2]))).groupByKey().cache()\n",
        "R_i = M.map(lambda x: (x[1], (x[0], x[2]))).groupByKey().cache()"
      ]
    },
    {
      "cell_type": "code",
      "execution_count": 88,
      "metadata": {},
      "outputs": [
        {
          "data": {
            "text/plain": [
              "(943, 10)"
            ]
          },
          "execution_count": 88,
          "metadata": {},
          "output_type": "execute_result"
        }
      ],
      "source": [
        "np.array(W.sortByKey().map(lambda x: x[1][0]).collect()).shape"
      ]
    },
    {
      "cell_type": "code",
      "execution_count": 100,
      "metadata": {
        "id": "fylgWbMcZZci"
      },
      "outputs": [
        {
          "name": "stderr",
          "output_type": "stream",
          "text": [
            "                                                                                \r"
          ]
        }
      ],
      "source": [
        "w_broadcast = sc.broadcast(np.array(W.sortByKey().map(lambda x: x[1][0]).collect()))\n",
        "h_broadcast = sc.broadcast(np.array(H.sortByKey().map(lambda x: x[1][0]).collect()))"
      ]
    },
    {
      "cell_type": "code",
      "execution_count": 104,
      "metadata": {
        "id": "weOFOnoEJ9ct"
      },
      "outputs": [],
      "source": [
        "def computeOptimizeMatrix(iterables, constant_matrix_broadcast, lamb):\n",
        "  fixed_matrix = constant_matrix_broadcast.value\n",
        "  iter_dict = dict(iterables)\n",
        "  #X = np.array([fixed_matrix[k] for k in iter_dict.keys()])\n",
        "  X = fixed_matrix[list(iter_dict.keys()), :]\n",
        "  R = np.matrix(list(iter_dict.values()))\n",
        "  XtX = X.T.dot(X)\n",
        "  XtR = X.T.dot(R.T)\n",
        "  return np.linalg.solve(XtX + lamb.value * np.eye(num_factors), XtR)"
      ]
    },
    {
      "cell_type": "code",
      "execution_count": null,
      "metadata": {
        "id": "HPVV01vVxweH"
      },
      "outputs": [],
      "source": [
        "# random_user = R_u.groupByKey().collect()[6]\n",
        "# iterables = list(random_user[1])\n",
        "# constant_matrix_broadcast = h_broadcast\n",
        "\n",
        "# fixed_matrix = constant_matrix_broadcast.value\n",
        "# num_factors = fixed_matrix.shape[0]\n",
        "\n",
        "# iter_dict = dict(iterables)\n",
        "# XtX = np.zeros((num_factors, num_factors))\n",
        "# XXt = fixed_matrix.dot(fixed_matrix.T)\n",
        "# XtX = np.zeros((numFactors, numFactors))\n",
        "# RX = np.zeros((numFactors, 1))\n",
        "# for i in iter_dict.items():\n",
        "#   index = sorted_items[i[0]]\n",
        "#   rating = i[1]\n",
        "#   C = H[:, [index]]\n",
        "#   RX += rating * C\n",
        "#   XtX += (C.dot(C.T))\n",
        "# np.linalg.solve(XtX, RX)"
      ]
    },
    {
      "cell_type": "code",
      "execution_count": 68,
      "metadata": {
        "id": "NyeByxnz1bCZ"
      },
      "outputs": [],
      "source": [
        "LAMBDA = 0.01   # regularization\n",
        "np.random.seed(42)\n",
        "\n",
        "\n",
        "def get_rmse(R, ms: np.ndarray, us: np.ndarray) -> np.float64:\n",
        "    diff = R - ms * us.T\n",
        "    return np.sqrt(np.sum(np.power(diff, 2)) / (M_count * U_count))\n",
        "\n",
        "\n",
        "def update(i: int, mat: np.ndarray, ratings: np.ndarray) -> np.ndarray:\n",
        "    uu = mat.shape[0]\n",
        "    ff = mat.shape[1]\n",
        "\n",
        "    XtX = mat.T * mat\n",
        "    Xty = mat.T * ratings[i, :].T\n",
        "\n",
        "    for j in range(ff):\n",
        "        XtX[j, j] += LAMBDA * uu\n",
        "\n",
        "    return np.linalg.solve(XtX, Xty)\n"
      ]
    },
    {
      "cell_type": "code",
      "execution_count": 91,
      "metadata": {
        "id": "SblrvL_paHvq"
      },
      "outputs": [],
      "source": [
        "lamb = sc.broadcast(0.01)"
      ]
    },
    {
      "cell_type": "code",
      "execution_count": null,
      "metadata": {
        "id": "xAt77btm8wt3"
      },
      "outputs": [],
      "source": [
        "def get_error_square(rating, i, j):\n",
        "  pred = w_broadcast.value[i].dot(h_broadcast.value[j].T)\n",
        "  return (rating - pred)**2"
      ]
    },
    {
      "cell_type": "code",
      "execution_count": 75,
      "metadata": {
        "colab": {
          "base_uri": "https://localhost:8080/"
        },
        "id": "dMKBUGRbwI7u",
        "outputId": "0fb19b8b-669f-48c5-e230-e599ce8929f6"
      },
      "outputs": [
        {
          "data": {
            "text/plain": [
              "PythonRDD[1377] at RDD at PythonRDD.scala:53"
            ]
          },
          "execution_count": 75,
          "metadata": {},
          "output_type": "execute_result"
        }
      ],
      "source": [
        "R_i.groupByKey()"
      ]
    },
    {
      "cell_type": "code",
      "execution_count": null,
      "metadata": {},
      "outputs": [],
      "source": [
        "R_u.groupWith()"
      ]
    },
    {
      "cell_type": "code",
      "execution_count": 109,
      "metadata": {},
      "outputs": [
        {
          "data": {
            "text/plain": [
              "array([[ 0.87903601,  0.33789654,  0.85999694, ...,  0.79700616,\n",
              "         0.89964003,  0.53204307],\n",
              "       [ 0.62626005,  0.67105382,  1.06663227, ...,  0.56396863,\n",
              "         0.71561498, -0.0546765 ],\n",
              "       [-0.19668581,  1.04795343,  0.36372988, ...,  0.34568758,\n",
              "         0.69381249, -0.60824673],\n",
              "       ...,\n",
              "       [-0.0269491 ,  1.73624279,  1.28529887, ...,  1.58294335,\n",
              "         0.65567751,  0.99572395],\n",
              "       [ 1.03905764,  0.40092323,  0.03545471, ...,  1.75437576,\n",
              "         0.33064409,  1.03950409],\n",
              "       [ 0.51109285,  0.81673427,  0.24543816, ...,  0.70225582,\n",
              "         0.63196032,  0.64909968]])"
            ]
          },
          "execution_count": 109,
          "metadata": {},
          "output_type": "execute_result"
        }
      ],
      "source": [
        "np.array(R_u\\\n",
        "    .mapValues(lambda row:computeOptimizeMatrix(row,h_broadcast,lamb))\\\n",
        "    .sortByKey()\\\n",
        "    .mapValues(lambda m: np.array(m.T))\\\n",
        "    .map(lambda x: x[1][0])\\\n",
        "    .collect())"
      ]
    },
    {
      "cell_type": "code",
      "execution_count": null,
      "metadata": {
        "colab": {
          "base_uri": "https://localhost:8080/"
        },
        "id": "9Tjb10p1CGaq",
        "outputId": "a61248ac-27b8-412f-bc24-04b476c9e6d0"
      },
      "outputs": [
        {
          "name": "stderr",
          "output_type": "stream",
          "text": [
            "                                                                                \r"
          ]
        },
        {
          "name": "stdout",
          "output_type": "stream",
          "text": [
            "Iteration 0:\n",
            "\n",
            "RMSE: 0.8367\n",
            "\n"
          ]
        },
        {
          "name": "stderr",
          "output_type": "stream",
          "text": [
            "                                                                                \r"
          ]
        },
        {
          "name": "stdout",
          "output_type": "stream",
          "text": [
            "Iteration 1:\n",
            "\n",
            "RMSE: 0.7730\n",
            "\n"
          ]
        },
        {
          "name": "stderr",
          "output_type": "stream",
          "text": [
            "                                                                                \r"
          ]
        },
        {
          "name": "stdout",
          "output_type": "stream",
          "text": [
            "Iteration 2:\n",
            "\n",
            "RMSE: 0.7472\n",
            "\n"
          ]
        },
        {
          "name": "stderr",
          "output_type": "stream",
          "text": [
            "                                                                                \r"
          ]
        },
        {
          "name": "stdout",
          "output_type": "stream",
          "text": [
            "Iteration 3:\n",
            "\n",
            "RMSE: 0.7327\n",
            "\n"
          ]
        },
        {
          "name": "stderr",
          "output_type": "stream",
          "text": [
            "                                                                                \r"
          ]
        },
        {
          "name": "stdout",
          "output_type": "stream",
          "text": [
            "Iteration 4:\n",
            "\n",
            "RMSE: 0.7237\n",
            "\n"
          ]
        },
        {
          "name": "stderr",
          "output_type": "stream",
          "text": [
            "                                                                                \r"
          ]
        },
        {
          "name": "stdout",
          "output_type": "stream",
          "text": [
            "Iteration 5:\n",
            "\n",
            "RMSE: 0.7174\n",
            "\n"
          ]
        },
        {
          "name": "stderr",
          "output_type": "stream",
          "text": [
            "                                                                                \r"
          ]
        },
        {
          "name": "stdout",
          "output_type": "stream",
          "text": [
            "Iteration 6:\n",
            "\n",
            "RMSE: 0.7127\n",
            "\n"
          ]
        },
        {
          "name": "stderr",
          "output_type": "stream",
          "text": [
            "                                                                                \r"
          ]
        },
        {
          "name": "stdout",
          "output_type": "stream",
          "text": [
            "Iteration 7:\n",
            "\n",
            "RMSE: 0.7091\n",
            "\n"
          ]
        },
        {
          "name": "stderr",
          "output_type": "stream",
          "text": [
            "                                                                                \r"
          ]
        },
        {
          "name": "stdout",
          "output_type": "stream",
          "text": [
            "Iteration 8:\n",
            "\n",
            "RMSE: 0.7062\n",
            "\n"
          ]
        },
        {
          "name": "stderr",
          "output_type": "stream",
          "text": [
            "                                                                                \r"
          ]
        },
        {
          "name": "stdout",
          "output_type": "stream",
          "text": [
            "Iteration 9:\n",
            "\n",
            "RMSE: 0.7039\n",
            "\n"
          ]
        },
        {
          "name": "stderr",
          "output_type": "stream",
          "text": [
            "                                                                                \r"
          ]
        },
        {
          "name": "stdout",
          "output_type": "stream",
          "text": [
            "Iteration 10:\n",
            "\n",
            "RMSE: 0.7019\n",
            "\n"
          ]
        },
        {
          "name": "stderr",
          "output_type": "stream",
          "text": [
            "                                                                                \r"
          ]
        },
        {
          "name": "stdout",
          "output_type": "stream",
          "text": [
            "Iteration 11:\n",
            "\n",
            "RMSE: 0.7001\n",
            "\n"
          ]
        },
        {
          "name": "stderr",
          "output_type": "stream",
          "text": [
            "                                                                                \r"
          ]
        },
        {
          "name": "stdout",
          "output_type": "stream",
          "text": [
            "Iteration 12:\n",
            "\n",
            "RMSE: 0.6986\n",
            "\n"
          ]
        },
        {
          "name": "stderr",
          "output_type": "stream",
          "text": [
            "                                                                                \r"
          ]
        },
        {
          "name": "stdout",
          "output_type": "stream",
          "text": [
            "Iteration 13:\n",
            "\n",
            "RMSE: 0.6973\n",
            "\n"
          ]
        },
        {
          "name": "stderr",
          "output_type": "stream",
          "text": [
            "                                                                                \r"
          ]
        },
        {
          "name": "stdout",
          "output_type": "stream",
          "text": [
            "Iteration 14:\n",
            "\n",
            "RMSE: 0.6961\n",
            "\n"
          ]
        },
        {
          "name": "stderr",
          "output_type": "stream",
          "text": [
            "                                                                                \r"
          ]
        },
        {
          "name": "stdout",
          "output_type": "stream",
          "text": [
            "Iteration 15:\n",
            "\n",
            "RMSE: 0.6950\n",
            "\n"
          ]
        },
        {
          "name": "stderr",
          "output_type": "stream",
          "text": [
            "                                                                                \r"
          ]
        },
        {
          "name": "stdout",
          "output_type": "stream",
          "text": [
            "Iteration 16:\n",
            "\n",
            "RMSE: 0.6940\n",
            "\n"
          ]
        },
        {
          "name": "stderr",
          "output_type": "stream",
          "text": [
            "                                                                                \r"
          ]
        },
        {
          "name": "stdout",
          "output_type": "stream",
          "text": [
            "Iteration 17:\n",
            "\n",
            "RMSE: 0.6931\n",
            "\n"
          ]
        },
        {
          "name": "stderr",
          "output_type": "stream",
          "text": [
            "                                                                                \r"
          ]
        },
        {
          "name": "stdout",
          "output_type": "stream",
          "text": [
            "Iteration 18:\n",
            "\n",
            "RMSE: 0.6923\n",
            "\n"
          ]
        },
        {
          "name": "stderr",
          "output_type": "stream",
          "text": [
            "                                                                                \r"
          ]
        },
        {
          "name": "stdout",
          "output_type": "stream",
          "text": [
            "Iteration 19:\n",
            "\n",
            "RMSE: 0.6916\n",
            "\n"
          ]
        },
        {
          "name": "stderr",
          "output_type": "stream",
          "text": [
            "                                                                                \r"
          ]
        },
        {
          "name": "stdout",
          "output_type": "stream",
          "text": [
            "Iteration 20:\n",
            "\n",
            "RMSE: 0.6909\n",
            "\n"
          ]
        },
        {
          "name": "stderr",
          "output_type": "stream",
          "text": [
            "                                                                                \r"
          ]
        },
        {
          "name": "stdout",
          "output_type": "stream",
          "text": [
            "Iteration 21:\n",
            "\n",
            "RMSE: 0.6903\n",
            "\n"
          ]
        },
        {
          "name": "stderr",
          "output_type": "stream",
          "text": [
            "                                                                                \r"
          ]
        },
        {
          "name": "stdout",
          "output_type": "stream",
          "text": [
            "Iteration 22:\n",
            "\n",
            "RMSE: 0.6897\n",
            "\n"
          ]
        },
        {
          "name": "stderr",
          "output_type": "stream",
          "text": [
            "                                                                                \r"
          ]
        },
        {
          "name": "stdout",
          "output_type": "stream",
          "text": [
            "Iteration 23:\n",
            "\n",
            "RMSE: 0.6892\n",
            "\n"
          ]
        },
        {
          "name": "stderr",
          "output_type": "stream",
          "text": [
            "                                                                                \r"
          ]
        },
        {
          "name": "stdout",
          "output_type": "stream",
          "text": [
            "Iteration 24:\n",
            "\n",
            "RMSE: 0.6887\n",
            "\n"
          ]
        },
        {
          "name": "stderr",
          "output_type": "stream",
          "text": [
            "                                                                                \r"
          ]
        },
        {
          "name": "stdout",
          "output_type": "stream",
          "text": [
            "Iteration 25:\n",
            "\n",
            "RMSE: 0.6882\n",
            "\n"
          ]
        },
        {
          "name": "stderr",
          "output_type": "stream",
          "text": [
            "                                                                                \r"
          ]
        },
        {
          "name": "stdout",
          "output_type": "stream",
          "text": [
            "Iteration 26:\n",
            "\n",
            "RMSE: 0.6878\n",
            "\n"
          ]
        },
        {
          "name": "stderr",
          "output_type": "stream",
          "text": [
            "                                                                                \r"
          ]
        },
        {
          "name": "stdout",
          "output_type": "stream",
          "text": [
            "Iteration 27:\n",
            "\n",
            "RMSE: 0.6874\n",
            "\n"
          ]
        },
        {
          "name": "stderr",
          "output_type": "stream",
          "text": [
            "                                                                                \r"
          ]
        },
        {
          "name": "stdout",
          "output_type": "stream",
          "text": [
            "Iteration 28:\n",
            "\n",
            "RMSE: 0.6870\n",
            "\n"
          ]
        },
        {
          "name": "stderr",
          "output_type": "stream",
          "text": [
            "                                                                                \r"
          ]
        },
        {
          "name": "stdout",
          "output_type": "stream",
          "text": [
            "Iteration 29:\n",
            "\n",
            "RMSE: 0.6866\n",
            "\n"
          ]
        },
        {
          "name": "stderr",
          "output_type": "stream",
          "text": [
            "                                                                                \r"
          ]
        },
        {
          "name": "stdout",
          "output_type": "stream",
          "text": [
            "Iteration 30:\n",
            "\n",
            "RMSE: 0.6863\n",
            "\n"
          ]
        },
        {
          "name": "stderr",
          "output_type": "stream",
          "text": [
            "                                                                                \r"
          ]
        },
        {
          "name": "stdout",
          "output_type": "stream",
          "text": [
            "Iteration 31:\n",
            "\n",
            "RMSE: 0.6860\n",
            "\n"
          ]
        },
        {
          "name": "stderr",
          "output_type": "stream",
          "text": [
            "                                                                                \r"
          ]
        },
        {
          "name": "stdout",
          "output_type": "stream",
          "text": [
            "Iteration 32:\n",
            "\n",
            "RMSE: 0.6858\n",
            "\n"
          ]
        },
        {
          "name": "stderr",
          "output_type": "stream",
          "text": [
            "                                                                                \r"
          ]
        },
        {
          "name": "stdout",
          "output_type": "stream",
          "text": [
            "Iteration 33:\n",
            "\n",
            "RMSE: 0.6855\n",
            "\n"
          ]
        },
        {
          "name": "stderr",
          "output_type": "stream",
          "text": [
            "                                                                                \r"
          ]
        },
        {
          "name": "stdout",
          "output_type": "stream",
          "text": [
            "Iteration 34:\n",
            "\n",
            "RMSE: 0.6853\n",
            "\n"
          ]
        },
        {
          "name": "stderr",
          "output_type": "stream",
          "text": [
            "                                                                                \r"
          ]
        },
        {
          "name": "stdout",
          "output_type": "stream",
          "text": [
            "Iteration 35:\n",
            "\n",
            "RMSE: 0.6850\n",
            "\n"
          ]
        },
        {
          "name": "stderr",
          "output_type": "stream",
          "text": [
            "                                                                                \r"
          ]
        },
        {
          "name": "stdout",
          "output_type": "stream",
          "text": [
            "Iteration 36:\n",
            "\n",
            "RMSE: 0.6848\n",
            "\n"
          ]
        },
        {
          "name": "stderr",
          "output_type": "stream",
          "text": [
            "                                                                                \r"
          ]
        },
        {
          "name": "stdout",
          "output_type": "stream",
          "text": [
            "Iteration 37:\n",
            "\n",
            "RMSE: 0.6847\n",
            "\n"
          ]
        },
        {
          "name": "stderr",
          "output_type": "stream",
          "text": [
            "                                                                                \r"
          ]
        },
        {
          "name": "stdout",
          "output_type": "stream",
          "text": [
            "Iteration 38:\n",
            "\n",
            "RMSE: 0.6845\n",
            "\n"
          ]
        },
        {
          "name": "stderr",
          "output_type": "stream",
          "text": [
            "                                                                                \r"
          ]
        },
        {
          "name": "stdout",
          "output_type": "stream",
          "text": [
            "Iteration 39:\n",
            "\n",
            "RMSE: 0.6843\n",
            "\n"
          ]
        },
        {
          "name": "stderr",
          "output_type": "stream",
          "text": [
            "                                                                                \r"
          ]
        },
        {
          "name": "stdout",
          "output_type": "stream",
          "text": [
            "Iteration 40:\n",
            "\n",
            "RMSE: 0.6841\n",
            "\n"
          ]
        },
        {
          "name": "stderr",
          "output_type": "stream",
          "text": [
            "                                                                                \r"
          ]
        },
        {
          "name": "stdout",
          "output_type": "stream",
          "text": [
            "Iteration 41:\n",
            "\n",
            "RMSE: 0.6840\n",
            "\n"
          ]
        },
        {
          "name": "stderr",
          "output_type": "stream",
          "text": [
            "                                                                                \r"
          ]
        },
        {
          "name": "stdout",
          "output_type": "stream",
          "text": [
            "Iteration 42:\n",
            "\n",
            "RMSE: 0.6838\n",
            "\n"
          ]
        },
        {
          "name": "stderr",
          "output_type": "stream",
          "text": [
            "                                                                                \r"
          ]
        },
        {
          "name": "stdout",
          "output_type": "stream",
          "text": [
            "Iteration 43:\n",
            "\n",
            "RMSE: 0.6837\n",
            "\n"
          ]
        },
        {
          "name": "stderr",
          "output_type": "stream",
          "text": [
            "                                                                                \r"
          ]
        },
        {
          "name": "stdout",
          "output_type": "stream",
          "text": [
            "Iteration 44:\n",
            "\n",
            "RMSE: 0.6836\n",
            "\n"
          ]
        },
        {
          "name": "stderr",
          "output_type": "stream",
          "text": [
            "                                                                                \r"
          ]
        },
        {
          "name": "stdout",
          "output_type": "stream",
          "text": [
            "Iteration 45:\n",
            "\n",
            "RMSE: 0.6834\n",
            "\n"
          ]
        },
        {
          "name": "stderr",
          "output_type": "stream",
          "text": [
            "                                                                                \r"
          ]
        },
        {
          "name": "stdout",
          "output_type": "stream",
          "text": [
            "Iteration 46:\n",
            "\n",
            "RMSE: 0.6833\n",
            "\n"
          ]
        },
        {
          "name": "stderr",
          "output_type": "stream",
          "text": [
            "                                                                                \r"
          ]
        },
        {
          "name": "stdout",
          "output_type": "stream",
          "text": [
            "Iteration 47:\n",
            "\n",
            "RMSE: 0.6832\n",
            "\n"
          ]
        },
        {
          "name": "stderr",
          "output_type": "stream",
          "text": [
            "                                                                                \r"
          ]
        },
        {
          "name": "stdout",
          "output_type": "stream",
          "text": [
            "Iteration 48:\n",
            "\n",
            "RMSE: 0.6831\n",
            "\n"
          ]
        },
        {
          "name": "stderr",
          "output_type": "stream",
          "text": [
            "                                                                                \r"
          ]
        },
        {
          "name": "stdout",
          "output_type": "stream",
          "text": [
            "Iteration 49:\n",
            "\n",
            "RMSE: 0.6830\n",
            "\n"
          ]
        }
      ],
      "source": [
        "ITERATIONS = 50\n",
        "for i in range(ITERATIONS):\n",
        "  newW = R_u\\\n",
        "    .mapValues(lambda row:computeOptimizeMatrix(row,h_broadcast,lamb))\\\n",
        "    .sortByKey()\\\n",
        "    .collect()\n",
        "  W = np.array(list(map(lambda x: x, newW))).T\n",
        "  w_broadcast.destroy()\n",
        "  w_broadcast = sc.broadcast(dict(W.collect()))\n",
        "  newH = R_i\\\n",
        "    .mapValues(lambda row:computeOptimizeMatrix(row,w_broadcast,lamb))\\\n",
        "    .sortByKey()\\\n",
        "    .collect()\n",
        "  H = np.array(list(map(lambda x: np.array(x.flatten())[0], newH))).T\n",
        "  h_broadcast.destroy()\n",
        "  h_broadcast = sc.broadcast(dict(H.collect()))\n",
        "  sse = M.map(lambda x: get_error_square(x[2], x[0], x[1])).reduce(lambda x,y: x+y)[0,0]\n",
        "  count = M.count()\n",
        "  mse = pow((sse/count), 0.5)\n",
        "  print(\"Iteration %d:\" % i)\n",
        "  print(\"\\nRMSE: %5.4f\\n\" % mse)\n"
      ]
    },
    {
      "cell_type": "code",
      "execution_count": null,
      "metadata": {
        "colab": {
          "base_uri": "https://localhost:8080/"
        },
        "id": "UpEQtsaCyycS",
        "outputId": "087b0adc-c21e-460c-9ce4-200ba6d3f04b"
      },
      "outputs": [
        {
          "data": {
            "text/plain": [
              "array([0.67517169, 1.46851969, 0.35888359, 0.40483493, 0.74416579,\n",
              "       0.52722992, 0.43725883, 0.96443489, 1.07526524, 0.57850029])"
            ]
          },
          "execution_count": 26,
          "metadata": {},
          "output_type": "execute_result"
        }
      ],
      "source": [
        "np.array(newW[0].flatten())[0]"
      ]
    },
    {
      "cell_type": "code",
      "execution_count": null,
      "metadata": {
        "colab": {
          "base_uri": "https://localhost:8080/"
        },
        "id": "HmKe5d4aRfia",
        "outputId": "38570b71-3808-4c1c-9ee0-ad55b4b3eda9"
      },
      "outputs": [
        {
          "data": {
            "text/plain": [
              "(10, 1, 943)"
            ]
          },
          "execution_count": 27,
          "metadata": {},
          "output_type": "execute_result"
        }
      ],
      "source": [
        "np.array(list(map(lambda x: x.flatten(), newW))).T.shape"
      ]
    },
    {
      "cell_type": "code",
      "execution_count": null,
      "metadata": {
        "id": "RyYyvceP1gNk"
      },
      "outputs": [],
      "source": [
        "M_count = len(sorted_items)\n",
        "U_count = len(sorted_users)\n",
        "F = numFactors\n",
        "partitions = numWorkers\n",
        "ITERATIONS = 2"
      ]
    },
    {
      "cell_type": "code",
      "execution_count": null,
      "metadata": {
        "id": "z1JjM9idpURY"
      },
      "outputs": [],
      "source": [
        "R = np.zeros((M_count, U_count))\n",
        "rating_rdd = M.map(lambda x: (x[0], x[1][0], x[1][1])).collect()\n"
      ]
    },
    {
      "cell_type": "code",
      "execution_count": null,
      "metadata": {
        "id": "NVFs66691vOG"
      },
      "outputs": [],
      "source": [
        "ms = np.matrix(np.random.rand(M_count, F))\n",
        "us = np.matrix(np.random.rand(U_count, F))\n",
        "\n",
        "Rb = sc.broadcast(R)\n",
        "msb = sc.broadcast(ms)\n",
        "usb = sc.broadcast(us)\n",
        "\n"
      ]
    },
    {
      "cell_type": "markdown",
      "metadata": {
        "id": "MoPhS0qU50Li"
      },
      "source": [
        "for i in range(ITERATIONS):\n",
        "    ms_ = sc.parallelize(range(M), partitions) \\\n",
        "        .map(lambda x: update(x, usb.value, Rb.value)) \\\n",
        "        .collect()\n",
        "    # collect() returns a list, so array ends up being\n",
        "    # a 3-d array, we take the first 2 dims for the matrix\n",
        "    ms = np.matrix(np.array(ms_)[:, :, 0])\n",
        "    msb = sc.broadcast(ms)\n",
        "\n",
        "    us_ = sc.parallelize(range(U), partitions) \\\n",
        "        .map(lambda x: update(x, msb.value, Rb.value.T)) \\\n",
        "        .collect()\n",
        "    us = np.matrix(np.array(us_)[:, :, 0])\n",
        "    usb = sc.broadcast(us)\n",
        "\n",
        "    error = rmse(R, ms, us)\n",
        "    print(\"Iteration %d:\" % i)\n",
        "    print(\"\\nRMSE: %5.4f\\n\" % error)\n"
      ]
    },
    {
      "cell_type": "code",
      "execution_count": null,
      "metadata": {
        "id": "Q2CJahtiGbL0"
      },
      "outputs": [
        {
          "name": "stdout",
          "output_type": "stream",
          "text": [
            "22/12/11 11:31:56 ERROR Executor: Exception in task 1.0 in stage 829.0 (TID 1239)\n",
            "org.apache.spark.api.python.PythonException: Traceback (most recent call last):\n",
            "  File \"/home/noing/data_framework/spark-3.3.0-bin-hadoop3/python/lib/pyspark.zip/pyspark/worker.py\", line 686, in main\n",
            "    process()\n",
            "  File \"/home/noing/data_framework/spark-3.3.0-bin-hadoop3/python/lib/pyspark.zip/pyspark/worker.py\", line 678, in process\n",
            "    serializer.dump_stream(out_iter, outfile)\n",
            "  File \"/home/noing/data_framework/spark-3.3.0-bin-hadoop3/python/lib/pyspark.zip/pyspark/serializers.py\", line 273, in dump_stream\n",
            "    vs = list(itertools.islice(iterator, batch))\n",
            "  File \"/home/noing/data_framework/spark-3.3.0-bin-hadoop3/python/lib/pyspark.zip/pyspark/util.py\", line 81, in wrapper\n",
            "    return f(*args, **kwargs)\n",
            "  File \"/tmp/ipykernel_54366/243499966.py\", line 8, in <lambda>\n",
            "  File \"/tmp/ipykernel_54366/4186574233.py\", line 15, in update\n",
            "  File \"/usr/lib/python3/dist-packages/numpy/matrixlib/defmatrix.py\", line 218, in __mul__\n",
            "    return N.dot(self, asmatrix(other))\n",
            "  File \"<__array_function__ internals>\", line 5, in dot\n",
            "ValueError: shapes (10,943) and (1,943) not aligned: 943 (dim 1) != 1 (dim 0)\n",
            "\n",
            "\tat org.apache.spark.api.python.BasePythonRunner$ReaderIterator.handlePythonException(PythonRunner.scala:559)\n",
            "\tat org.apache.spark.api.python.PythonRunner$$anon$3.read(PythonRunner.scala:765)\n",
            "\tat org.apache.spark.api.python.PythonRunner$$anon$3.read(PythonRunner.scala:747)\n",
            "\tat org.apache.spark.api.python.BasePythonRunner$ReaderIterator.hasNext(PythonRunner.scala:512)\n",
            "\tat org.apache.spark.InterruptibleIterator.hasNext(InterruptibleIterator.scala:37)\n",
            "\tat scala.collection.Iterator.foreach(Iterator.scala:943)\n",
            "\tat scala.collection.Iterator.foreach$(Iterator.scala:943)\n",
            "\tat org.apache.spark.InterruptibleIterator.foreach(InterruptibleIterator.scala:28)\n",
            "\tat scala.collection.generic.Growable.$plus$plus$eq(Growable.scala:62)\n",
            "\tat scala.collection.generic.Growable.$plus$plus$eq$(Growable.scala:53)\n",
            "\tat scala.collection.mutable.ArrayBuffer.$plus$plus$eq(ArrayBuffer.scala:105)\n",
            "\tat scala.collection.mutable.ArrayBuffer.$plus$plus$eq(ArrayBuffer.scala:49)\n",
            "\tat scala.collection.TraversableOnce.to(TraversableOnce.scala:366)\n",
            "\tat scala.collection.TraversableOnce.to$(TraversableOnce.scala:364)\n",
            "\tat org.apache.spark.InterruptibleIterator.to(InterruptibleIterator.scala:28)\n",
            "\tat scala.collection.TraversableOnce.toBuffer(TraversableOnce.scala:358)\n",
            "\tat scala.collection.TraversableOnce.toBuffer$(TraversableOnce.scala:358)\n",
            "\tat org.apache.spark.InterruptibleIterator.toBuffer(InterruptibleIterator.scala:28)\n",
            "\tat scala.collection.TraversableOnce.toArray(TraversableOnce.scala:345)\n",
            "\tat scala.collection.TraversableOnce.toArray$(TraversableOnce.scala:339)\n",
            "\tat org.apache.spark.InterruptibleIterator.toArray(InterruptibleIterator.scala:28)\n",
            "\tat org.apache.spark.rdd.RDD.$anonfun$collect$2(RDD.scala:1021)\n",
            "\tat org.apache.spark.SparkContext.$anonfun$runJob$5(SparkContext.scala:2268)\n",
            "\tat org.apache.spark.scheduler.ResultTask.runTask(ResultTask.scala:90)\n",
            "\tat org.apache.spark.scheduler.Task.run(Task.scala:136)\n",
            "\tat org.apache.spark.executor.Executor$TaskRunner.$anonfun$run$3(Executor.scala:548)\n",
            "\tat org.apache.spark.util.Utils$.tryWithSafeFinally(Utils.scala:1504)\n",
            "\tat org.apache.spark.executor.Executor$TaskRunner.run(Executor.scala:551)\n",
            "\tat java.util.concurrent.ThreadPoolExecutor.runWorker(ThreadPoolExecutor.java:1149)\n",
            "\tat java.util.concurrent.ThreadPoolExecutor$Worker.run(ThreadPoolExecutor.java:624)\n",
            "\tat java.lang.Thread.run(Thread.java:750)\n",
            "22/12/11 11:31:56 ERROR Executor: Exception in task 2.0 in stage 829.0 (TID 1240)\n",
            "org.apache.spark.api.python.PythonException: Traceback (most recent call last):\n",
            "  File \"/home/noing/data_framework/spark-3.3.0-bin-hadoop3/python/lib/pyspark.zip/pyspark/worker.py\", line 686, in main\n",
            "    process()\n",
            "  File \"/home/noing/data_framework/spark-3.3.0-bin-hadoop3/python/lib/pyspark.zip/pyspark/worker.py\", line 678, in process\n",
            "    serializer.dump_stream(out_iter, outfile)\n",
            "  File \"/home/noing/data_framework/spark-3.3.0-bin-hadoop3/python/lib/pyspark.zip/pyspark/serializers.py\", line 273, in dump_stream\n",
            "    vs = list(itertools.islice(iterator, batch))\n",
            "  File \"/home/noing/data_framework/spark-3.3.0-bin-hadoop3/python/lib/pyspark.zip/pyspark/util.py\", line 81, in wrapper\n",
            "    return f(*args, **kwargs)\n",
            "  File \"/tmp/ipykernel_54366/243499966.py\", line 8, in <lambda>\n",
            "  File \"/tmp/ipykernel_54366/4186574233.py\", line 15, in update\n",
            "  File \"/usr/lib/python3/dist-packages/numpy/matrixlib/defmatrix.py\", line 218, in __mul__\n",
            "    return N.dot(self, asmatrix(other))\n",
            "  File \"<__array_function__ internals>\", line 5, in dot\n",
            "ValueError: shapes (10,943) and (1,943) not aligned: 943 (dim 1) != 1 (dim 0)\n",
            "\n",
            "\tat org.apache.spark.api.python.BasePythonRunner$ReaderIterator.handlePythonException(PythonRunner.scala:559)\n",
            "\tat org.apache.spark.api.python.PythonRunner$$anon$3.read(PythonRunner.scala:765)\n",
            "\tat org.apache.spark.api.python.PythonRunner$$anon$3.read(PythonRunner.scala:747)\n",
            "\tat org.apache.spark.api.python.BasePythonRunner$ReaderIterator.hasNext(PythonRunner.scala:512)\n",
            "\tat org.apache.spark.InterruptibleIterator.hasNext(InterruptibleIterator.scala:37)\n",
            "\tat scala.collection.Iterator.foreach(Iterator.scala:943)\n",
            "\tat scala.collection.Iterator.foreach$(Iterator.scala:943)\n",
            "\tat org.apache.spark.InterruptibleIterator.foreach(InterruptibleIterator.scala:28)\n",
            "\tat scala.collection.generic.Growable.$plus$plus$eq(Growable.scala:62)\n",
            "\tat scala.collection.generic.Growable.$plus$plus$eq$(Growable.scala:53)\n",
            "\tat scala.collection.mutable.ArrayBuffer.$plus$plus$eq(ArrayBuffer.scala:105)\n",
            "\tat scala.collection.mutable.ArrayBuffer.$plus$plus$eq(ArrayBuffer.scala:49)\n",
            "\tat scala.collection.TraversableOnce.to(TraversableOnce.scala:366)\n",
            "\tat scala.collection.TraversableOnce.to$(TraversableOnce.scala:364)\n",
            "\tat org.apache.spark.InterruptibleIterator.to(InterruptibleIterator.scala:28)\n",
            "\tat scala.collection.TraversableOnce.toBuffer(TraversableOnce.scala:358)\n",
            "\tat scala.collection.TraversableOnce.toBuffer$(TraversableOnce.scala:358)\n",
            "\tat org.apache.spark.InterruptibleIterator.toBuffer(InterruptibleIterator.scala:28)\n",
            "\tat scala.collection.TraversableOnce.toArray(TraversableOnce.scala:345)\n",
            "\tat scala.collection.TraversableOnce.toArray$(TraversableOnce.scala:339)\n",
            "\tat org.apache.spark.InterruptibleIterator.toArray(InterruptibleIterator.scala:28)\n",
            "\tat org.apache.spark.rdd.RDD.$anonfun$collect$2(RDD.scala:1021)\n",
            "\tat org.apache.spark.SparkContext.$anonfun$runJob$5(SparkContext.scala:2268)\n",
            "\tat org.apache.spark.scheduler.ResultTask.runTask(ResultTask.scala:90)\n",
            "\tat org.apache.spark.scheduler.Task.run(Task.scala:136)\n",
            "\tat org.apache.spark.executor.Executor$TaskRunner.$anonfun$run$3(Executor.scala:548)\n",
            "\tat org.apache.spark.util.Utils$.tryWithSafeFinally(Utils.scala:1504)\n",
            "\tat org.apache.spark.executor.Executor$TaskRunner.run(Executor.scala:551)\n",
            "\tat java.util.concurrent.ThreadPoolExecutor.runWorker(ThreadPoolExecutor.java:1149)\n",
            "\tat java.util.concurrent.ThreadPoolExecutor$Worker.run(ThreadPoolExecutor.java:624)\n",
            "\tat java.lang.Thread.run(Thread.java:750)\n",
            "22/12/11 11:31:56 ERROR Executor: Exception in task 3.0 in stage 829.0 (TID 1241)\n",
            "org.apache.spark.api.python.PythonException: Traceback (most recent call last):\n",
            "  File \"/home/noing/data_framework/spark-3.3.0-bin-hadoop3/python/lib/pyspark.zip/pyspark/worker.py\", line 686, in main\n",
            "    process()\n",
            "  File \"/home/noing/data_framework/spark-3.3.0-bin-hadoop3/python/lib/pyspark.zip/pyspark/worker.py\", line 678, in process\n",
            "    serializer.dump_stream(out_iter, outfile)\n",
            "  File \"/home/noing/data_framework/spark-3.3.0-bin-hadoop3/python/lib/pyspark.zip/pyspark/serializers.py\", line 273, in dump_stream\n",
            "    vs = list(itertools.islice(iterator, batch))\n",
            "  File \"/home/noing/data_framework/spark-3.3.0-bin-hadoop3/python/lib/pyspark.zip/pyspark/util.py\", line 81, in wrapper\n",
            "    return f(*args, **kwargs)\n",
            "  File \"/tmp/ipykernel_54366/243499966.py\", line 8, in <lambda>\n",
            "  File \"/tmp/ipykernel_54366/4186574233.py\", line 15, in update\n",
            "  File \"/usr/lib/python3/dist-packages/numpy/matrixlib/defmatrix.py\", line 218, in __mul__\n",
            "    return N.dot(self, asmatrix(other))\n",
            "  File \"<__array_function__ internals>\", line 5, in dot\n",
            "ValueError: shapes (10,943) and (1,943) not aligned: 943 (dim 1) != 1 (dim 0)\n",
            "\n",
            "\tat org.apache.spark.api.python.BasePythonRunner$ReaderIterator.handlePythonException(PythonRunner.scala:559)\n",
            "\tat org.apache.spark.api.python.PythonRunner$$anon$3.read(PythonRunner.scala:765)\n",
            "\tat org.apache.spark.api.python.PythonRunner$$anon$3.read(PythonRunner.scala:747)\n",
            "\tat org.apache.spark.api.python.BasePythonRunner$ReaderIterator.hasNext(PythonRunner.scala:512)\n",
            "\tat org.apache.spark.InterruptibleIterator.hasNext(InterruptibleIterator.scala:37)\n",
            "\tat scala.collection.Iterator.foreach(Iterator.scala:943)\n",
            "\tat scala.collection.Iterator.foreach$(Iterator.scala:943)\n",
            "\tat org.apache.spark.InterruptibleIterator.foreach(InterruptibleIterator.scala:28)\n",
            "\tat scala.collection.generic.Growable.$plus$plus$eq(Growable.scala:62)\n",
            "\tat scala.collection.generic.Growable.$plus$plus$eq$(Growable.scala:53)\n",
            "\tat scala.collection.mutable.ArrayBuffer.$plus$plus$eq(ArrayBuffer.scala:105)\n",
            "\tat scala.collection.mutable.ArrayBuffer.$plus$plus$eq(ArrayBuffer.scala:49)\n",
            "\tat scala.collection.TraversableOnce.to(TraversableOnce.scala:366)\n",
            "\tat scala.collection.TraversableOnce.to$(TraversableOnce.scala:364)\n",
            "\tat org.apache.spark.InterruptibleIterator.to(InterruptibleIterator.scala:28)\n",
            "\tat scala.collection.TraversableOnce.toBuffer(TraversableOnce.scala:358)\n",
            "\tat scala.collection.TraversableOnce.toBuffer$(TraversableOnce.scala:358)\n",
            "\tat org.apache.spark.InterruptibleIterator.toBuffer(InterruptibleIterator.scala:28)\n",
            "\tat scala.collection.TraversableOnce.toArray(TraversableOnce.scala:345)\n",
            "\tat scala.collection.TraversableOnce.toArray$(TraversableOnce.scala:339)\n",
            "\tat org.apache.spark.InterruptibleIterator.toArray(InterruptibleIterator.scala:28)\n",
            "\tat org.apache.spark.rdd.RDD.$anonfun$collect$2(RDD.scala:1021)\n",
            "\tat org.apache.spark.SparkContext.$anonfun$runJob$5(SparkContext.scala:2268)\n",
            "\tat org.apache.spark.scheduler.ResultTask.runTask(ResultTask.scala:90)\n",
            "\tat org.apache.spark.scheduler.Task.run(Task.scala:136)\n",
            "\tat org.apache.spark.executor.Executor$TaskRunner.$anonfun$run$3(Executor.scala:548)\n",
            "\tat org.apache.spark.util.Utils$.tryWithSafeFinally(Utils.scala:1504)\n",
            "\tat org.apache.spark.executor.Executor$TaskRunner.run(Executor.scala:551)\n",
            "\tat java.util.concurrent.ThreadPoolExecutor.runWorker(ThreadPoolExecutor.java:1149)\n",
            "\tat java.util.concurrent.ThreadPoolExecutor$Worker.run(ThreadPoolExecutor.java:624)\n",
            "\tat java.lang.Thread.run(Thread.java:750)\n",
            "22/12/11 11:31:56 ERROR Executor: Exception in task 0.0 in stage 829.0 (TID 1238)\n",
            "org.apache.spark.api.python.PythonException: Traceback (most recent call last):\n",
            "  File \"/home/noing/data_framework/spark-3.3.0-bin-hadoop3/python/lib/pyspark.zip/pyspark/worker.py\", line 686, in main\n",
            "    process()\n",
            "  File \"/home/noing/data_framework/spark-3.3.0-bin-hadoop3/python/lib/pyspark.zip/pyspark/worker.py\", line 678, in process\n",
            "    serializer.dump_stream(out_iter, outfile)\n",
            "  File \"/home/noing/data_framework/spark-3.3.0-bin-hadoop3/python/lib/pyspark.zip/pyspark/serializers.py\", line 273, in dump_stream\n",
            "    vs = list(itertools.islice(iterator, batch))\n",
            "  File \"/home/noing/data_framework/spark-3.3.0-bin-hadoop3/python/lib/pyspark.zip/pyspark/util.py\", line 81, in wrapper\n",
            "    return f(*args, **kwargs)\n",
            "  File \"/tmp/ipykernel_54366/243499966.py\", line 8, in <lambda>\n",
            "  File \"/tmp/ipykernel_54366/4186574233.py\", line 15, in update\n",
            "  File \"/usr/lib/python3/dist-packages/numpy/matrixlib/defmatrix.py\", line 218, in __mul__\n",
            "    return N.dot(self, asmatrix(other))\n",
            "  File \"<__array_function__ internals>\", line 5, in dot\n",
            "ValueError: shapes (10,943) and (1,943) not aligned: 943 (dim 1) != 1 (dim 0)\n",
            "\n",
            "\tat org.apache.spark.api.python.BasePythonRunner$ReaderIterator.handlePythonException(PythonRunner.scala:559)\n",
            "\tat org.apache.spark.api.python.PythonRunner$$anon$3.read(PythonRunner.scala:765)\n",
            "\tat org.apache.spark.api.python.PythonRunner$$anon$3.read(PythonRunner.scala:747)\n",
            "\tat org.apache.spark.api.python.BasePythonRunner$ReaderIterator.hasNext(PythonRunner.scala:512)\n",
            "\tat org.apache.spark.InterruptibleIterator.hasNext(InterruptibleIterator.scala:37)\n",
            "\tat scala.collection.Iterator.foreach(Iterator.scala:943)\n",
            "\tat scala.collection.Iterator.foreach$(Iterator.scala:943)\n",
            "\tat org.apache.spark.InterruptibleIterator.foreach(InterruptibleIterator.scala:28)\n",
            "\tat scala.collection.generic.Growable.$plus$plus$eq(Growable.scala:62)\n",
            "\tat scala.collection.generic.Growable.$plus$plus$eq$(Growable.scala:53)\n",
            "\tat scala.collection.mutable.ArrayBuffer.$plus$plus$eq(ArrayBuffer.scala:105)\n",
            "\tat scala.collection.mutable.ArrayBuffer.$plus$plus$eq(ArrayBuffer.scala:49)\n",
            "\tat scala.collection.TraversableOnce.to(TraversableOnce.scala:366)\n",
            "\tat scala.collection.TraversableOnce.to$(TraversableOnce.scala:364)\n",
            "\tat org.apache.spark.InterruptibleIterator.to(InterruptibleIterator.scala:28)\n",
            "\tat scala.collection.TraversableOnce.toBuffer(TraversableOnce.scala:358)\n",
            "\tat scala.collection.TraversableOnce.toBuffer$(TraversableOnce.scala:358)\n",
            "\tat org.apache.spark.InterruptibleIterator.toBuffer(InterruptibleIterator.scala:28)\n",
            "\tat scala.collection.TraversableOnce.toArray(TraversableOnce.scala:345)\n",
            "\tat scala.collection.TraversableOnce.toArray$(TraversableOnce.scala:339)\n",
            "\tat org.apache.spark.InterruptibleIterator.toArray(InterruptibleIterator.scala:28)\n",
            "\tat org.apache.spark.rdd.RDD.$anonfun$collect$2(RDD.scala:1021)\n",
            "\tat org.apache.spark.SparkContext.$anonfun$runJob$5(SparkContext.scala:2268)\n",
            "\tat org.apache.spark.scheduler.ResultTask.runTask(ResultTask.scala:90)\n",
            "\tat org.apache.spark.scheduler.Task.run(Task.scala:136)\n",
            "\tat org.apache.spark.executor.Executor$TaskRunner.$anonfun$run$3(Executor.scala:548)\n",
            "\tat org.apache.spark.util.Utils$.tryWithSafeFinally(Utils.scala:1504)\n",
            "\tat org.apache.spark.executor.Executor$TaskRunner.run(Executor.scala:551)\n",
            "\tat java.util.concurrent.ThreadPoolExecutor.runWorker(ThreadPoolExecutor.java:1149)\n",
            "\tat java.util.concurrent.ThreadPoolExecutor$Worker.run(ThreadPoolExecutor.java:624)\n",
            "\tat java.lang.Thread.run(Thread.java:750)\n",
            "22/12/11 11:31:56 WARN TaskSetManager: Lost task 2.0 in stage 829.0 (TID 1240) (192.168.1.16 executor driver): org.apache.spark.api.python.PythonException: Traceback (most recent call last):\n",
            "  File \"/home/noing/data_framework/spark-3.3.0-bin-hadoop3/python/lib/pyspark.zip/pyspark/worker.py\", line 686, in main\n",
            "    process()\n",
            "  File \"/home/noing/data_framework/spark-3.3.0-bin-hadoop3/python/lib/pyspark.zip/pyspark/worker.py\", line 678, in process\n",
            "    serializer.dump_stream(out_iter, outfile)\n",
            "  File \"/home/noing/data_framework/spark-3.3.0-bin-hadoop3/python/lib/pyspark.zip/pyspark/serializers.py\", line 273, in dump_stream\n",
            "    vs = list(itertools.islice(iterator, batch))\n",
            "  File \"/home/noing/data_framework/spark-3.3.0-bin-hadoop3/python/lib/pyspark.zip/pyspark/util.py\", line 81, in wrapper\n",
            "    return f(*args, **kwargs)\n",
            "  File \"/tmp/ipykernel_54366/243499966.py\", line 8, in <lambda>\n",
            "  File \"/tmp/ipykernel_54366/4186574233.py\", line 15, in update\n",
            "  File \"/usr/lib/python3/dist-packages/numpy/matrixlib/defmatrix.py\", line 218, in __mul__\n",
            "    return N.dot(self, asmatrix(other))\n",
            "  File \"<__array_function__ internals>\", line 5, in dot\n",
            "ValueError: shapes (10,943) and (1,943) not aligned: 943 (dim 1) != 1 (dim 0)\n",
            "\n",
            "\tat org.apache.spark.api.python.BasePythonRunner$ReaderIterator.handlePythonException(PythonRunner.scala:559)\n",
            "\tat org.apache.spark.api.python.PythonRunner$$anon$3.read(PythonRunner.scala:765)\n",
            "\tat org.apache.spark.api.python.PythonRunner$$anon$3.read(PythonRunner.scala:747)\n",
            "\tat org.apache.spark.api.python.BasePythonRunner$ReaderIterator.hasNext(PythonRunner.scala:512)\n",
            "\tat org.apache.spark.InterruptibleIterator.hasNext(InterruptibleIterator.scala:37)\n",
            "\tat scala.collection.Iterator.foreach(Iterator.scala:943)\n",
            "\tat scala.collection.Iterator.foreach$(Iterator.scala:943)\n",
            "\tat org.apache.spark.InterruptibleIterator.foreach(InterruptibleIterator.scala:28)\n",
            "\tat scala.collection.generic.Growable.$plus$plus$eq(Growable.scala:62)\n",
            "\tat scala.collection.generic.Growable.$plus$plus$eq$(Growable.scala:53)\n",
            "\tat scala.collection.mutable.ArrayBuffer.$plus$plus$eq(ArrayBuffer.scala:105)\n",
            "\tat scala.collection.mutable.ArrayBuffer.$plus$plus$eq(ArrayBuffer.scala:49)\n",
            "\tat scala.collection.TraversableOnce.to(TraversableOnce.scala:366)\n",
            "\tat scala.collection.TraversableOnce.to$(TraversableOnce.scala:364)\n",
            "\tat org.apache.spark.InterruptibleIterator.to(InterruptibleIterator.scala:28)\n",
            "\tat scala.collection.TraversableOnce.toBuffer(TraversableOnce.scala:358)\n",
            "\tat scala.collection.TraversableOnce.toBuffer$(TraversableOnce.scala:358)\n",
            "\tat org.apache.spark.InterruptibleIterator.toBuffer(InterruptibleIterator.scala:28)\n",
            "\tat scala.collection.TraversableOnce.toArray(TraversableOnce.scala:345)\n",
            "\tat scala.collection.TraversableOnce.toArray$(TraversableOnce.scala:339)\n",
            "\tat org.apache.spark.InterruptibleIterator.toArray(InterruptibleIterator.scala:28)\n",
            "\tat org.apache.spark.rdd.RDD.$anonfun$collect$2(RDD.scala:1021)\n",
            "\tat org.apache.spark.SparkContext.$anonfun$runJob$5(SparkContext.scala:2268)\n",
            "\tat org.apache.spark.scheduler.ResultTask.runTask(ResultTask.scala:90)\n",
            "\tat org.apache.spark.scheduler.Task.run(Task.scala:136)\n",
            "\tat org.apache.spark.executor.Executor$TaskRunner.$anonfun$run$3(Executor.scala:548)\n",
            "\tat org.apache.spark.util.Utils$.tryWithSafeFinally(Utils.scala:1504)\n",
            "\tat org.apache.spark.executor.Executor$TaskRunner.run(Executor.scala:551)\n",
            "\tat java.util.concurrent.ThreadPoolExecutor.runWorker(ThreadPoolExecutor.java:1149)\n",
            "\tat java.util.concurrent.ThreadPoolExecutor$Worker.run(ThreadPoolExecutor.java:624)\n",
            "\tat java.lang.Thread.run(Thread.java:750)\n",
            "\n",
            "22/12/11 11:31:56 ERROR TaskSetManager: Task 2 in stage 829.0 failed 1 times; aborting job\n"
          ]
        },
        {
          "ename": "Py4JJavaError",
          "evalue": "An error occurred while calling z:org.apache.spark.api.python.PythonRDD.collectAndServe.\n: org.apache.spark.SparkException: Job aborted due to stage failure: Task 2 in stage 829.0 failed 1 times, most recent failure: Lost task 2.0 in stage 829.0 (TID 1240) (192.168.1.16 executor driver): org.apache.spark.api.python.PythonException: Traceback (most recent call last):\n  File \"/home/noing/data_framework/spark-3.3.0-bin-hadoop3/python/lib/pyspark.zip/pyspark/worker.py\", line 686, in main\n    process()\n  File \"/home/noing/data_framework/spark-3.3.0-bin-hadoop3/python/lib/pyspark.zip/pyspark/worker.py\", line 678, in process\n    serializer.dump_stream(out_iter, outfile)\n  File \"/home/noing/data_framework/spark-3.3.0-bin-hadoop3/python/lib/pyspark.zip/pyspark/serializers.py\", line 273, in dump_stream\n    vs = list(itertools.islice(iterator, batch))\n  File \"/home/noing/data_framework/spark-3.3.0-bin-hadoop3/python/lib/pyspark.zip/pyspark/util.py\", line 81, in wrapper\n    return f(*args, **kwargs)\n  File \"/tmp/ipykernel_54366/243499966.py\", line 8, in <lambda>\n  File \"/tmp/ipykernel_54366/4186574233.py\", line 15, in update\n  File \"/usr/lib/python3/dist-packages/numpy/matrixlib/defmatrix.py\", line 218, in __mul__\n    return N.dot(self, asmatrix(other))\n  File \"<__array_function__ internals>\", line 5, in dot\nValueError: shapes (10,943) and (1,943) not aligned: 943 (dim 1) != 1 (dim 0)\n\n\tat org.apache.spark.api.python.BasePythonRunner$ReaderIterator.handlePythonException(PythonRunner.scala:559)\n\tat org.apache.spark.api.python.PythonRunner$$anon$3.read(PythonRunner.scala:765)\n\tat org.apache.spark.api.python.PythonRunner$$anon$3.read(PythonRunner.scala:747)\n\tat org.apache.spark.api.python.BasePythonRunner$ReaderIterator.hasNext(PythonRunner.scala:512)\n\tat org.apache.spark.InterruptibleIterator.hasNext(InterruptibleIterator.scala:37)\n\tat scala.collection.Iterator.foreach(Iterator.scala:943)\n\tat scala.collection.Iterator.foreach$(Iterator.scala:943)\n\tat org.apache.spark.InterruptibleIterator.foreach(InterruptibleIterator.scala:28)\n\tat scala.collection.generic.Growable.$plus$plus$eq(Growable.scala:62)\n\tat scala.collection.generic.Growable.$plus$plus$eq$(Growable.scala:53)\n\tat scala.collection.mutable.ArrayBuffer.$plus$plus$eq(ArrayBuffer.scala:105)\n\tat scala.collection.mutable.ArrayBuffer.$plus$plus$eq(ArrayBuffer.scala:49)\n\tat scala.collection.TraversableOnce.to(TraversableOnce.scala:366)\n\tat scala.collection.TraversableOnce.to$(TraversableOnce.scala:364)\n\tat org.apache.spark.InterruptibleIterator.to(InterruptibleIterator.scala:28)\n\tat scala.collection.TraversableOnce.toBuffer(TraversableOnce.scala:358)\n\tat scala.collection.TraversableOnce.toBuffer$(TraversableOnce.scala:358)\n\tat org.apache.spark.InterruptibleIterator.toBuffer(InterruptibleIterator.scala:28)\n\tat scala.collection.TraversableOnce.toArray(TraversableOnce.scala:345)\n\tat scala.collection.TraversableOnce.toArray$(TraversableOnce.scala:339)\n\tat org.apache.spark.InterruptibleIterator.toArray(InterruptibleIterator.scala:28)\n\tat org.apache.spark.rdd.RDD.$anonfun$collect$2(RDD.scala:1021)\n\tat org.apache.spark.SparkContext.$anonfun$runJob$5(SparkContext.scala:2268)\n\tat org.apache.spark.scheduler.ResultTask.runTask(ResultTask.scala:90)\n\tat org.apache.spark.scheduler.Task.run(Task.scala:136)\n\tat org.apache.spark.executor.Executor$TaskRunner.$anonfun$run$3(Executor.scala:548)\n\tat org.apache.spark.util.Utils$.tryWithSafeFinally(Utils.scala:1504)\n\tat org.apache.spark.executor.Executor$TaskRunner.run(Executor.scala:551)\n\tat java.util.concurrent.ThreadPoolExecutor.runWorker(ThreadPoolExecutor.java:1149)\n\tat java.util.concurrent.ThreadPoolExecutor$Worker.run(ThreadPoolExecutor.java:624)\n\tat java.lang.Thread.run(Thread.java:750)\n\nDriver stacktrace:\n\tat org.apache.spark.scheduler.DAGScheduler.failJobAndIndependentStages(DAGScheduler.scala:2672)\n\tat org.apache.spark.scheduler.DAGScheduler.$anonfun$abortStage$2(DAGScheduler.scala:2608)\n\tat org.apache.spark.scheduler.DAGScheduler.$anonfun$abortStage$2$adapted(DAGScheduler.scala:2607)\n\tat scala.collection.mutable.ResizableArray.foreach(ResizableArray.scala:62)\n\tat scala.collection.mutable.ResizableArray.foreach$(ResizableArray.scala:55)\n\tat scala.collection.mutable.ArrayBuffer.foreach(ArrayBuffer.scala:49)\n\tat org.apache.spark.scheduler.DAGScheduler.abortStage(DAGScheduler.scala:2607)\n\tat org.apache.spark.scheduler.DAGScheduler.$anonfun$handleTaskSetFailed$1(DAGScheduler.scala:1182)\n\tat org.apache.spark.scheduler.DAGScheduler.$anonfun$handleTaskSetFailed$1$adapted(DAGScheduler.scala:1182)\n\tat scala.Option.foreach(Option.scala:407)\n\tat org.apache.spark.scheduler.DAGScheduler.handleTaskSetFailed(DAGScheduler.scala:1182)\n\tat org.apache.spark.scheduler.DAGSchedulerEventProcessLoop.doOnReceive(DAGScheduler.scala:2860)\n\tat org.apache.spark.scheduler.DAGSchedulerEventProcessLoop.onReceive(DAGScheduler.scala:2802)\n\tat org.apache.spark.scheduler.DAGSchedulerEventProcessLoop.onReceive(DAGScheduler.scala:2791)\n\tat org.apache.spark.util.EventLoop$$anon$1.run(EventLoop.scala:49)\n\tat org.apache.spark.scheduler.DAGScheduler.runJob(DAGScheduler.scala:952)\n\tat org.apache.spark.SparkContext.runJob(SparkContext.scala:2228)\n\tat org.apache.spark.SparkContext.runJob(SparkContext.scala:2249)\n\tat org.apache.spark.SparkContext.runJob(SparkContext.scala:2268)\n\tat org.apache.spark.SparkContext.runJob(SparkContext.scala:2293)\n\tat org.apache.spark.rdd.RDD.$anonfun$collect$1(RDD.scala:1021)\n\tat org.apache.spark.rdd.RDDOperationScope$.withScope(RDDOperationScope.scala:151)\n\tat org.apache.spark.rdd.RDDOperationScope$.withScope(RDDOperationScope.scala:112)\n\tat org.apache.spark.rdd.RDD.withScope(RDD.scala:406)\n\tat org.apache.spark.rdd.RDD.collect(RDD.scala:1020)\n\tat org.apache.spark.api.python.PythonRDD$.collectAndServe(PythonRDD.scala:180)\n\tat org.apache.spark.api.python.PythonRDD.collectAndServe(PythonRDD.scala)\n\tat sun.reflect.GeneratedMethodAccessor51.invoke(Unknown Source)\n\tat sun.reflect.DelegatingMethodAccessorImpl.invoke(DelegatingMethodAccessorImpl.java:43)\n\tat java.lang.reflect.Method.invoke(Method.java:498)\n\tat py4j.reflection.MethodInvoker.invoke(MethodInvoker.java:244)\n\tat py4j.reflection.ReflectionEngine.invoke(ReflectionEngine.java:357)\n\tat py4j.Gateway.invoke(Gateway.java:282)\n\tat py4j.commands.AbstractCommand.invokeMethod(AbstractCommand.java:132)\n\tat py4j.commands.CallCommand.execute(CallCommand.java:79)\n\tat py4j.ClientServerConnection.waitForCommands(ClientServerConnection.java:182)\n\tat py4j.ClientServerConnection.run(ClientServerConnection.java:106)\n\tat java.lang.Thread.run(Thread.java:750)\nCaused by: org.apache.spark.api.python.PythonException: Traceback (most recent call last):\n  File \"/home/noing/data_framework/spark-3.3.0-bin-hadoop3/python/lib/pyspark.zip/pyspark/worker.py\", line 686, in main\n    process()\n  File \"/home/noing/data_framework/spark-3.3.0-bin-hadoop3/python/lib/pyspark.zip/pyspark/worker.py\", line 678, in process\n    serializer.dump_stream(out_iter, outfile)\n  File \"/home/noing/data_framework/spark-3.3.0-bin-hadoop3/python/lib/pyspark.zip/pyspark/serializers.py\", line 273, in dump_stream\n    vs = list(itertools.islice(iterator, batch))\n  File \"/home/noing/data_framework/spark-3.3.0-bin-hadoop3/python/lib/pyspark.zip/pyspark/util.py\", line 81, in wrapper\n    return f(*args, **kwargs)\n  File \"/tmp/ipykernel_54366/243499966.py\", line 8, in <lambda>\n  File \"/tmp/ipykernel_54366/4186574233.py\", line 15, in update\n  File \"/usr/lib/python3/dist-packages/numpy/matrixlib/defmatrix.py\", line 218, in __mul__\n    return N.dot(self, asmatrix(other))\n  File \"<__array_function__ internals>\", line 5, in dot\nValueError: shapes (10,943) and (1,943) not aligned: 943 (dim 1) != 1 (dim 0)\n\n\tat org.apache.spark.api.python.BasePythonRunner$ReaderIterator.handlePythonException(PythonRunner.scala:559)\n\tat org.apache.spark.api.python.PythonRunner$$anon$3.read(PythonRunner.scala:765)\n\tat org.apache.spark.api.python.PythonRunner$$anon$3.read(PythonRunner.scala:747)\n\tat org.apache.spark.api.python.BasePythonRunner$ReaderIterator.hasNext(PythonRunner.scala:512)\n\tat org.apache.spark.InterruptibleIterator.hasNext(InterruptibleIterator.scala:37)\n\tat scala.collection.Iterator.foreach(Iterator.scala:943)\n\tat scala.collection.Iterator.foreach$(Iterator.scala:943)\n\tat org.apache.spark.InterruptibleIterator.foreach(InterruptibleIterator.scala:28)\n\tat scala.collection.generic.Growable.$plus$plus$eq(Growable.scala:62)\n\tat scala.collection.generic.Growable.$plus$plus$eq$(Growable.scala:53)\n\tat scala.collection.mutable.ArrayBuffer.$plus$plus$eq(ArrayBuffer.scala:105)\n\tat scala.collection.mutable.ArrayBuffer.$plus$plus$eq(ArrayBuffer.scala:49)\n\tat scala.collection.TraversableOnce.to(TraversableOnce.scala:366)\n\tat scala.collection.TraversableOnce.to$(TraversableOnce.scala:364)\n\tat org.apache.spark.InterruptibleIterator.to(InterruptibleIterator.scala:28)\n\tat scala.collection.TraversableOnce.toBuffer(TraversableOnce.scala:358)\n\tat scala.collection.TraversableOnce.toBuffer$(TraversableOnce.scala:358)\n\tat org.apache.spark.InterruptibleIterator.toBuffer(InterruptibleIterator.scala:28)\n\tat scala.collection.TraversableOnce.toArray(TraversableOnce.scala:345)\n\tat scala.collection.TraversableOnce.toArray$(TraversableOnce.scala:339)\n\tat org.apache.spark.InterruptibleIterator.toArray(InterruptibleIterator.scala:28)\n\tat org.apache.spark.rdd.RDD.$anonfun$collect$2(RDD.scala:1021)\n\tat org.apache.spark.SparkContext.$anonfun$runJob$5(SparkContext.scala:2268)\n\tat org.apache.spark.scheduler.ResultTask.runTask(ResultTask.scala:90)\n\tat org.apache.spark.scheduler.Task.run(Task.scala:136)\n\tat org.apache.spark.executor.Executor$TaskRunner.$anonfun$run$3(Executor.scala:548)\n\tat org.apache.spark.util.Utils$.tryWithSafeFinally(Utils.scala:1504)\n\tat org.apache.spark.executor.Executor$TaskRunner.run(Executor.scala:551)\n\tat java.util.concurrent.ThreadPoolExecutor.runWorker(ThreadPoolExecutor.java:1149)\n\tat java.util.concurrent.ThreadPoolExecutor$Worker.run(ThreadPoolExecutor.java:624)\n\t... 1 more\n",
          "output_type": "error",
          "traceback": [
            "\u001b[0;31m---------------------------------------------------------------------------\u001b[0m",
            "\u001b[0;31mPy4JJavaError\u001b[0m                             Traceback (most recent call last)",
            "Cell \u001b[0;32mIn [31], line 9\u001b[0m\n\u001b[1;32m      5\u001b[0m ITERATIONS \u001b[39m=\u001b[39m \u001b[39m100\u001b[39m\n\u001b[1;32m      6\u001b[0m \u001b[39mfor\u001b[39;00m i \u001b[39min\u001b[39;00m \u001b[39mrange\u001b[39m(ITERATIONS):\n\u001b[1;32m      7\u001b[0m     ms_ \u001b[39m=\u001b[39m sc\u001b[39m.\u001b[39;49mparallelize(\u001b[39mrange\u001b[39;49m(M_count), partitions) \\\n\u001b[1;32m      8\u001b[0m         \u001b[39m.\u001b[39;49mmap(\u001b[39mlambda\u001b[39;49;00m x: update(x, usb\u001b[39m.\u001b[39;49mvalue, Rb\u001b[39m.\u001b[39;49mvalue)) \\\n\u001b[0;32m----> 9\u001b[0m         \u001b[39m.\u001b[39;49mcollect()\n\u001b[1;32m     10\u001b[0m     \u001b[39m# collect() returns a list, so array ends up being\u001b[39;00m\n\u001b[1;32m     11\u001b[0m     \u001b[39m# a 3-d array, we take the first 2 dims for the matrix\u001b[39;00m\n\u001b[1;32m     12\u001b[0m     ms \u001b[39m=\u001b[39m np\u001b[39m.\u001b[39mmatrix(np\u001b[39m.\u001b[39marray(ms_)[:, :, \u001b[39m0\u001b[39m])\n",
            "File \u001b[0;32m~/.local/lib/python3.10/site-packages/pyspark/rdd.py:1197\u001b[0m, in \u001b[0;36mRDD.collect\u001b[0;34m(self)\u001b[0m\n\u001b[1;32m   1195\u001b[0m \u001b[39mwith\u001b[39;00m SCCallSiteSync(\u001b[39mself\u001b[39m\u001b[39m.\u001b[39mcontext):\n\u001b[1;32m   1196\u001b[0m     \u001b[39massert\u001b[39;00m \u001b[39mself\u001b[39m\u001b[39m.\u001b[39mctx\u001b[39m.\u001b[39m_jvm \u001b[39mis\u001b[39;00m \u001b[39mnot\u001b[39;00m \u001b[39mNone\u001b[39;00m\n\u001b[0;32m-> 1197\u001b[0m     sock_info \u001b[39m=\u001b[39m \u001b[39mself\u001b[39;49m\u001b[39m.\u001b[39;49mctx\u001b[39m.\u001b[39;49m_jvm\u001b[39m.\u001b[39;49mPythonRDD\u001b[39m.\u001b[39;49mcollectAndServe(\u001b[39mself\u001b[39;49m\u001b[39m.\u001b[39;49m_jrdd\u001b[39m.\u001b[39;49mrdd())\n\u001b[1;32m   1198\u001b[0m \u001b[39mreturn\u001b[39;00m \u001b[39mlist\u001b[39m(_load_from_socket(sock_info, \u001b[39mself\u001b[39m\u001b[39m.\u001b[39m_jrdd_deserializer))\n",
            "File \u001b[0;32m~/.local/lib/python3.10/site-packages/py4j/java_gateway.py:1321\u001b[0m, in \u001b[0;36mJavaMember.__call__\u001b[0;34m(self, *args)\u001b[0m\n\u001b[1;32m   1315\u001b[0m command \u001b[39m=\u001b[39m proto\u001b[39m.\u001b[39mCALL_COMMAND_NAME \u001b[39m+\u001b[39m\\\n\u001b[1;32m   1316\u001b[0m     \u001b[39mself\u001b[39m\u001b[39m.\u001b[39mcommand_header \u001b[39m+\u001b[39m\\\n\u001b[1;32m   1317\u001b[0m     args_command \u001b[39m+\u001b[39m\\\n\u001b[1;32m   1318\u001b[0m     proto\u001b[39m.\u001b[39mEND_COMMAND_PART\n\u001b[1;32m   1320\u001b[0m answer \u001b[39m=\u001b[39m \u001b[39mself\u001b[39m\u001b[39m.\u001b[39mgateway_client\u001b[39m.\u001b[39msend_command(command)\n\u001b[0;32m-> 1321\u001b[0m return_value \u001b[39m=\u001b[39m get_return_value(\n\u001b[1;32m   1322\u001b[0m     answer, \u001b[39mself\u001b[39;49m\u001b[39m.\u001b[39;49mgateway_client, \u001b[39mself\u001b[39;49m\u001b[39m.\u001b[39;49mtarget_id, \u001b[39mself\u001b[39;49m\u001b[39m.\u001b[39;49mname)\n\u001b[1;32m   1324\u001b[0m \u001b[39mfor\u001b[39;00m temp_arg \u001b[39min\u001b[39;00m temp_args:\n\u001b[1;32m   1325\u001b[0m     temp_arg\u001b[39m.\u001b[39m_detach()\n",
            "File \u001b[0;32m~/.local/lib/python3.10/site-packages/pyspark/sql/utils.py:190\u001b[0m, in \u001b[0;36mcapture_sql_exception.<locals>.deco\u001b[0;34m(*a, **kw)\u001b[0m\n\u001b[1;32m    188\u001b[0m \u001b[39mdef\u001b[39;00m \u001b[39mdeco\u001b[39m(\u001b[39m*\u001b[39ma: Any, \u001b[39m*\u001b[39m\u001b[39m*\u001b[39mkw: Any) \u001b[39m-\u001b[39m\u001b[39m>\u001b[39m Any:\n\u001b[1;32m    189\u001b[0m     \u001b[39mtry\u001b[39;00m:\n\u001b[0;32m--> 190\u001b[0m         \u001b[39mreturn\u001b[39;00m f(\u001b[39m*\u001b[39;49ma, \u001b[39m*\u001b[39;49m\u001b[39m*\u001b[39;49mkw)\n\u001b[1;32m    191\u001b[0m     \u001b[39mexcept\u001b[39;00m Py4JJavaError \u001b[39mas\u001b[39;00m e:\n\u001b[1;32m    192\u001b[0m         converted \u001b[39m=\u001b[39m convert_exception(e\u001b[39m.\u001b[39mjava_exception)\n",
            "File \u001b[0;32m~/.local/lib/python3.10/site-packages/py4j/protocol.py:326\u001b[0m, in \u001b[0;36mget_return_value\u001b[0;34m(answer, gateway_client, target_id, name)\u001b[0m\n\u001b[1;32m    324\u001b[0m value \u001b[39m=\u001b[39m OUTPUT_CONVERTER[\u001b[39mtype\u001b[39m](answer[\u001b[39m2\u001b[39m:], gateway_client)\n\u001b[1;32m    325\u001b[0m \u001b[39mif\u001b[39;00m answer[\u001b[39m1\u001b[39m] \u001b[39m==\u001b[39m REFERENCE_TYPE:\n\u001b[0;32m--> 326\u001b[0m     \u001b[39mraise\u001b[39;00m Py4JJavaError(\n\u001b[1;32m    327\u001b[0m         \u001b[39m\"\u001b[39m\u001b[39mAn error occurred while calling \u001b[39m\u001b[39m{0}\u001b[39;00m\u001b[39m{1}\u001b[39;00m\u001b[39m{2}\u001b[39;00m\u001b[39m.\u001b[39m\u001b[39m\\n\u001b[39;00m\u001b[39m\"\u001b[39m\u001b[39m.\u001b[39m\n\u001b[1;32m    328\u001b[0m         \u001b[39mformat\u001b[39m(target_id, \u001b[39m\"\u001b[39m\u001b[39m.\u001b[39m\u001b[39m\"\u001b[39m, name), value)\n\u001b[1;32m    329\u001b[0m \u001b[39melse\u001b[39;00m:\n\u001b[1;32m    330\u001b[0m     \u001b[39mraise\u001b[39;00m Py4JError(\n\u001b[1;32m    331\u001b[0m         \u001b[39m\"\u001b[39m\u001b[39mAn error occurred while calling \u001b[39m\u001b[39m{0}\u001b[39;00m\u001b[39m{1}\u001b[39;00m\u001b[39m{2}\u001b[39;00m\u001b[39m. Trace:\u001b[39m\u001b[39m\\n\u001b[39;00m\u001b[39m{3}\u001b[39;00m\u001b[39m\\n\u001b[39;00m\u001b[39m\"\u001b[39m\u001b[39m.\u001b[39m\n\u001b[1;32m    332\u001b[0m         \u001b[39mformat\u001b[39m(target_id, \u001b[39m\"\u001b[39m\u001b[39m.\u001b[39m\u001b[39m\"\u001b[39m, name, value))\n",
            "\u001b[0;31mPy4JJavaError\u001b[0m: An error occurred while calling z:org.apache.spark.api.python.PythonRDD.collectAndServe.\n: org.apache.spark.SparkException: Job aborted due to stage failure: Task 2 in stage 829.0 failed 1 times, most recent failure: Lost task 2.0 in stage 829.0 (TID 1240) (192.168.1.16 executor driver): org.apache.spark.api.python.PythonException: Traceback (most recent call last):\n  File \"/home/noing/data_framework/spark-3.3.0-bin-hadoop3/python/lib/pyspark.zip/pyspark/worker.py\", line 686, in main\n    process()\n  File \"/home/noing/data_framework/spark-3.3.0-bin-hadoop3/python/lib/pyspark.zip/pyspark/worker.py\", line 678, in process\n    serializer.dump_stream(out_iter, outfile)\n  File \"/home/noing/data_framework/spark-3.3.0-bin-hadoop3/python/lib/pyspark.zip/pyspark/serializers.py\", line 273, in dump_stream\n    vs = list(itertools.islice(iterator, batch))\n  File \"/home/noing/data_framework/spark-3.3.0-bin-hadoop3/python/lib/pyspark.zip/pyspark/util.py\", line 81, in wrapper\n    return f(*args, **kwargs)\n  File \"/tmp/ipykernel_54366/243499966.py\", line 8, in <lambda>\n  File \"/tmp/ipykernel_54366/4186574233.py\", line 15, in update\n  File \"/usr/lib/python3/dist-packages/numpy/matrixlib/defmatrix.py\", line 218, in __mul__\n    return N.dot(self, asmatrix(other))\n  File \"<__array_function__ internals>\", line 5, in dot\nValueError: shapes (10,943) and (1,943) not aligned: 943 (dim 1) != 1 (dim 0)\n\n\tat org.apache.spark.api.python.BasePythonRunner$ReaderIterator.handlePythonException(PythonRunner.scala:559)\n\tat org.apache.spark.api.python.PythonRunner$$anon$3.read(PythonRunner.scala:765)\n\tat org.apache.spark.api.python.PythonRunner$$anon$3.read(PythonRunner.scala:747)\n\tat org.apache.spark.api.python.BasePythonRunner$ReaderIterator.hasNext(PythonRunner.scala:512)\n\tat org.apache.spark.InterruptibleIterator.hasNext(InterruptibleIterator.scala:37)\n\tat scala.collection.Iterator.foreach(Iterator.scala:943)\n\tat scala.collection.Iterator.foreach$(Iterator.scala:943)\n\tat org.apache.spark.InterruptibleIterator.foreach(InterruptibleIterator.scala:28)\n\tat scala.collection.generic.Growable.$plus$plus$eq(Growable.scala:62)\n\tat scala.collection.generic.Growable.$plus$plus$eq$(Growable.scala:53)\n\tat scala.collection.mutable.ArrayBuffer.$plus$plus$eq(ArrayBuffer.scala:105)\n\tat scala.collection.mutable.ArrayBuffer.$plus$plus$eq(ArrayBuffer.scala:49)\n\tat scala.collection.TraversableOnce.to(TraversableOnce.scala:366)\n\tat scala.collection.TraversableOnce.to$(TraversableOnce.scala:364)\n\tat org.apache.spark.InterruptibleIterator.to(InterruptibleIterator.scala:28)\n\tat scala.collection.TraversableOnce.toBuffer(TraversableOnce.scala:358)\n\tat scala.collection.TraversableOnce.toBuffer$(TraversableOnce.scala:358)\n\tat org.apache.spark.InterruptibleIterator.toBuffer(InterruptibleIterator.scala:28)\n\tat scala.collection.TraversableOnce.toArray(TraversableOnce.scala:345)\n\tat scala.collection.TraversableOnce.toArray$(TraversableOnce.scala:339)\n\tat org.apache.spark.InterruptibleIterator.toArray(InterruptibleIterator.scala:28)\n\tat org.apache.spark.rdd.RDD.$anonfun$collect$2(RDD.scala:1021)\n\tat org.apache.spark.SparkContext.$anonfun$runJob$5(SparkContext.scala:2268)\n\tat org.apache.spark.scheduler.ResultTask.runTask(ResultTask.scala:90)\n\tat org.apache.spark.scheduler.Task.run(Task.scala:136)\n\tat org.apache.spark.executor.Executor$TaskRunner.$anonfun$run$3(Executor.scala:548)\n\tat org.apache.spark.util.Utils$.tryWithSafeFinally(Utils.scala:1504)\n\tat org.apache.spark.executor.Executor$TaskRunner.run(Executor.scala:551)\n\tat java.util.concurrent.ThreadPoolExecutor.runWorker(ThreadPoolExecutor.java:1149)\n\tat java.util.concurrent.ThreadPoolExecutor$Worker.run(ThreadPoolExecutor.java:624)\n\tat java.lang.Thread.run(Thread.java:750)\n\nDriver stacktrace:\n\tat org.apache.spark.scheduler.DAGScheduler.failJobAndIndependentStages(DAGScheduler.scala:2672)\n\tat org.apache.spark.scheduler.DAGScheduler.$anonfun$abortStage$2(DAGScheduler.scala:2608)\n\tat org.apache.spark.scheduler.DAGScheduler.$anonfun$abortStage$2$adapted(DAGScheduler.scala:2607)\n\tat scala.collection.mutable.ResizableArray.foreach(ResizableArray.scala:62)\n\tat scala.collection.mutable.ResizableArray.foreach$(ResizableArray.scala:55)\n\tat scala.collection.mutable.ArrayBuffer.foreach(ArrayBuffer.scala:49)\n\tat org.apache.spark.scheduler.DAGScheduler.abortStage(DAGScheduler.scala:2607)\n\tat org.apache.spark.scheduler.DAGScheduler.$anonfun$handleTaskSetFailed$1(DAGScheduler.scala:1182)\n\tat org.apache.spark.scheduler.DAGScheduler.$anonfun$handleTaskSetFailed$1$adapted(DAGScheduler.scala:1182)\n\tat scala.Option.foreach(Option.scala:407)\n\tat org.apache.spark.scheduler.DAGScheduler.handleTaskSetFailed(DAGScheduler.scala:1182)\n\tat org.apache.spark.scheduler.DAGSchedulerEventProcessLoop.doOnReceive(DAGScheduler.scala:2860)\n\tat org.apache.spark.scheduler.DAGSchedulerEventProcessLoop.onReceive(DAGScheduler.scala:2802)\n\tat org.apache.spark.scheduler.DAGSchedulerEventProcessLoop.onReceive(DAGScheduler.scala:2791)\n\tat org.apache.spark.util.EventLoop$$anon$1.run(EventLoop.scala:49)\n\tat org.apache.spark.scheduler.DAGScheduler.runJob(DAGScheduler.scala:952)\n\tat org.apache.spark.SparkContext.runJob(SparkContext.scala:2228)\n\tat org.apache.spark.SparkContext.runJob(SparkContext.scala:2249)\n\tat org.apache.spark.SparkContext.runJob(SparkContext.scala:2268)\n\tat org.apache.spark.SparkContext.runJob(SparkContext.scala:2293)\n\tat org.apache.spark.rdd.RDD.$anonfun$collect$1(RDD.scala:1021)\n\tat org.apache.spark.rdd.RDDOperationScope$.withScope(RDDOperationScope.scala:151)\n\tat org.apache.spark.rdd.RDDOperationScope$.withScope(RDDOperationScope.scala:112)\n\tat org.apache.spark.rdd.RDD.withScope(RDD.scala:406)\n\tat org.apache.spark.rdd.RDD.collect(RDD.scala:1020)\n\tat org.apache.spark.api.python.PythonRDD$.collectAndServe(PythonRDD.scala:180)\n\tat org.apache.spark.api.python.PythonRDD.collectAndServe(PythonRDD.scala)\n\tat sun.reflect.GeneratedMethodAccessor51.invoke(Unknown Source)\n\tat sun.reflect.DelegatingMethodAccessorImpl.invoke(DelegatingMethodAccessorImpl.java:43)\n\tat java.lang.reflect.Method.invoke(Method.java:498)\n\tat py4j.reflection.MethodInvoker.invoke(MethodInvoker.java:244)\n\tat py4j.reflection.ReflectionEngine.invoke(ReflectionEngine.java:357)\n\tat py4j.Gateway.invoke(Gateway.java:282)\n\tat py4j.commands.AbstractCommand.invokeMethod(AbstractCommand.java:132)\n\tat py4j.commands.CallCommand.execute(CallCommand.java:79)\n\tat py4j.ClientServerConnection.waitForCommands(ClientServerConnection.java:182)\n\tat py4j.ClientServerConnection.run(ClientServerConnection.java:106)\n\tat java.lang.Thread.run(Thread.java:750)\nCaused by: org.apache.spark.api.python.PythonException: Traceback (most recent call last):\n  File \"/home/noing/data_framework/spark-3.3.0-bin-hadoop3/python/lib/pyspark.zip/pyspark/worker.py\", line 686, in main\n    process()\n  File \"/home/noing/data_framework/spark-3.3.0-bin-hadoop3/python/lib/pyspark.zip/pyspark/worker.py\", line 678, in process\n    serializer.dump_stream(out_iter, outfile)\n  File \"/home/noing/data_framework/spark-3.3.0-bin-hadoop3/python/lib/pyspark.zip/pyspark/serializers.py\", line 273, in dump_stream\n    vs = list(itertools.islice(iterator, batch))\n  File \"/home/noing/data_framework/spark-3.3.0-bin-hadoop3/python/lib/pyspark.zip/pyspark/util.py\", line 81, in wrapper\n    return f(*args, **kwargs)\n  File \"/tmp/ipykernel_54366/243499966.py\", line 8, in <lambda>\n  File \"/tmp/ipykernel_54366/4186574233.py\", line 15, in update\n  File \"/usr/lib/python3/dist-packages/numpy/matrixlib/defmatrix.py\", line 218, in __mul__\n    return N.dot(self, asmatrix(other))\n  File \"<__array_function__ internals>\", line 5, in dot\nValueError: shapes (10,943) and (1,943) not aligned: 943 (dim 1) != 1 (dim 0)\n\n\tat org.apache.spark.api.python.BasePythonRunner$ReaderIterator.handlePythonException(PythonRunner.scala:559)\n\tat org.apache.spark.api.python.PythonRunner$$anon$3.read(PythonRunner.scala:765)\n\tat org.apache.spark.api.python.PythonRunner$$anon$3.read(PythonRunner.scala:747)\n\tat org.apache.spark.api.python.BasePythonRunner$ReaderIterator.hasNext(PythonRunner.scala:512)\n\tat org.apache.spark.InterruptibleIterator.hasNext(InterruptibleIterator.scala:37)\n\tat scala.collection.Iterator.foreach(Iterator.scala:943)\n\tat scala.collection.Iterator.foreach$(Iterator.scala:943)\n\tat org.apache.spark.InterruptibleIterator.foreach(InterruptibleIterator.scala:28)\n\tat scala.collection.generic.Growable.$plus$plus$eq(Growable.scala:62)\n\tat scala.collection.generic.Growable.$plus$plus$eq$(Growable.scala:53)\n\tat scala.collection.mutable.ArrayBuffer.$plus$plus$eq(ArrayBuffer.scala:105)\n\tat scala.collection.mutable.ArrayBuffer.$plus$plus$eq(ArrayBuffer.scala:49)\n\tat scala.collection.TraversableOnce.to(TraversableOnce.scala:366)\n\tat scala.collection.TraversableOnce.to$(TraversableOnce.scala:364)\n\tat org.apache.spark.InterruptibleIterator.to(InterruptibleIterator.scala:28)\n\tat scala.collection.TraversableOnce.toBuffer(TraversableOnce.scala:358)\n\tat scala.collection.TraversableOnce.toBuffer$(TraversableOnce.scala:358)\n\tat org.apache.spark.InterruptibleIterator.toBuffer(InterruptibleIterator.scala:28)\n\tat scala.collection.TraversableOnce.toArray(TraversableOnce.scala:345)\n\tat scala.collection.TraversableOnce.toArray$(TraversableOnce.scala:339)\n\tat org.apache.spark.InterruptibleIterator.toArray(InterruptibleIterator.scala:28)\n\tat org.apache.spark.rdd.RDD.$anonfun$collect$2(RDD.scala:1021)\n\tat org.apache.spark.SparkContext.$anonfun$runJob$5(SparkContext.scala:2268)\n\tat org.apache.spark.scheduler.ResultTask.runTask(ResultTask.scala:90)\n\tat org.apache.spark.scheduler.Task.run(Task.scala:136)\n\tat org.apache.spark.executor.Executor$TaskRunner.$anonfun$run$3(Executor.scala:548)\n\tat org.apache.spark.util.Utils$.tryWithSafeFinally(Utils.scala:1504)\n\tat org.apache.spark.executor.Executor$TaskRunner.run(Executor.scala:551)\n\tat java.util.concurrent.ThreadPoolExecutor.runWorker(ThreadPoolExecutor.java:1149)\n\tat java.util.concurrent.ThreadPoolExecutor$Worker.run(ThreadPoolExecutor.java:624)\n\t... 1 more\n"
          ]
        }
      ],
      "source": [
        "def get_error_square(rating, i, j):\n",
        "  pred = us[[i], :].dot(ms[[j], :].T)[0][0]\n",
        "  return (rating - pred)**2\n",
        "\n",
        "ITERATIONS = 100\n",
        "for i in range(ITERATIONS):\n",
        "    ms_ = sc.parallelize(range(M_count), partitions) \\\n",
        "        .map(lambda x: update(x, usb.value, Rb.value)) \\\n",
        "        .collect()\n",
        "    # collect() returns a list, so array ends up being\n",
        "    # a 3-d array, we take the first 2 dims for the matrix\n",
        "    ms = np.matrix(np.array(ms_)[:, :, 0])\n",
        "    msb = sc.broadcast(ms)\n",
        "\n",
        "    us_ = sc.parallelize(range(U_count), partitions) \\\n",
        "        .map(lambda x: update(x, msb.value, Rb.value.T)) \\\n",
        "        .collect()\n",
        "    us = np.matrix(np.array(us_)[:, :, 0])\n",
        "    usb = sc.broadcast(us)\n",
        "\n",
        "    \n",
        "    sse = M.map(lambda x: get_error_square(x[1][1], sorted_users[x[0]], sorted_items[x[1][0]])).reduce(lambda x,y: x+y)[0, 0]\n",
        "    count = M.count()\n",
        "    rmse = pow(sse/count, 0.5)\n",
        "    error = get_rmse(R, ms, us)\n",
        "    print(\"Iteration %d:\" % i)\n",
        "    print(\"\\nRMSE: %5.4f\" % error)\n",
        "    print(\"\\nGlobal RMSE: %5.4f\\n\" % rmse)\n"
      ]
    },
    {
      "cell_type": "code",
      "execution_count": null,
      "metadata": {
        "id": "ssuCVOgBCS9D"
      },
      "outputs": [],
      "source": [
        "usb.value.shape[1]"
      ]
    },
    {
      "cell_type": "code",
      "execution_count": null,
      "metadata": {
        "id": "YnlzJ7_e7DPp"
      },
      "outputs": [],
      "source": [
        "def get_error_square(rating, i, j):\n",
        "  pred = us[:, [i]].T.dot(ms[:, [j]])[0][0]\n",
        "  return (rating - pred)**2"
      ]
    },
    {
      "cell_type": "code",
      "execution_count": null,
      "metadata": {
        "id": "vAu4ZcuA49xq"
      },
      "outputs": [],
      "source": [
        "ms_ = sc.parallelize(range(M_count), partitions) \\\n",
        "    .map(lambda x: update(x, usb.value, Rb.value)) \\\n",
        "    .collect()\n",
        "# collect() returns a list, so array ends up being\n",
        "# a 3-d array, we take the first 2 dims for the matrix\n",
        "ms = np.matrix(np.array(ms_)[:, :, 0])\n",
        "msb = sc.broadcast(ms)\n",
        "\n",
        "us_ = sc.parallelize(range(U_count), partitions) \\\n",
        "    .map(lambda x: update(x, msb.value, Rb.value.T)) \\\n",
        "    .collect()\n",
        "us = np.matrix(np.array(us_)[:, :, 0])\n",
        "usb = sc.broadcast(us)\n",
        "mse = get_rmse(M, ms, us)\n",
        "error = rmse(R, ms, us)\n",
        "print(\"Iteration %d:\" % i)\n",
        "print(\"\\nErr: %5.4f\\n\" % error)\n",
        "print(\"\\nRMSE: %5.4f\\n\" % rmse)\n"
      ]
    },
    {
      "cell_type": "code",
      "execution_count": null,
      "metadata": {
        "id": "R-__-yetAKwv"
      },
      "outputs": [],
      "source": [
        "R"
      ]
    },
    {
      "cell_type": "code",
      "execution_count": null,
      "metadata": {
        "id": "FysLDDfR4nFK"
      },
      "outputs": [],
      "source": [
        "XtX = usb.value.T * usb.value\n",
        "inv(XtX + 0.01 * np.eye(F)) * Xty"
      ]
    },
    {
      "cell_type": "code",
      "execution_count": null,
      "metadata": {
        "id": "TdvauBmX4R2o"
      },
      "outputs": [],
      "source": [
        "Xty = usb.value.T * Rb.value[6, :].T\n",
        "Xty"
      ]
    }
  ],
  "metadata": {
    "colab": {
      "provenance": []
    },
    "kernelspec": {
      "display_name": "Python 3",
      "language": "python",
      "name": "python3"
    },
    "language_info": {
      "codemirror_mode": {
        "name": "ipython",
        "version": 3
      },
      "file_extension": ".py",
      "mimetype": "text/x-python",
      "name": "python",
      "nbconvert_exporter": "python",
      "pygments_lexer": "ipython3",
      "version": "3.10.6"
    },
    "vscode": {
      "interpreter": {
        "hash": "e7370f93d1d0cde622a1f8e1c04877d8463912d04d973331ad4851f04de6915a"
      }
    }
  },
  "nbformat": 4,
  "nbformat_minor": 0
}
